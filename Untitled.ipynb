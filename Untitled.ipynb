{
 "cells": [
  {
   "cell_type": "code",
   "execution_count": 1,
   "id": "45a79e0d",
   "metadata": {},
   "outputs": [
    {
     "data": {
      "text/latex": [
       "$\\displaystyle \\frac{\\sigma v_{s} \\left(v_{s} t{\\left(\\lambda \\right)} - x{\\left(\\lambda \\right)}\\right) \\left(\\tanh^{2}{\\left(\\sigma \\left(R - \\sqrt{\\left(v_{s} t{\\left(\\lambda \\right)} - x{\\left(\\lambda \\right)}\\right)^{2} + y^{2}{\\left(\\lambda \\right)} + z^{2}{\\left(\\lambda \\right)}}\\right) \\right)} - \\tanh^{2}{\\left(\\sigma \\left(R + \\sqrt{\\left(v_{s} t{\\left(\\lambda \\right)} - x{\\left(\\lambda \\right)}\\right)^{2} + y^{2}{\\left(\\lambda \\right)} + z^{2}{\\left(\\lambda \\right)}}\\right) \\right)}\\right) \\left(0.25 v_{s}^{3} \\tanh^{2}{\\left(\\sigma \\left(R - \\sqrt{v_{s}^{2} t^{2}{\\left(\\lambda \\right)} - 2 v_{s} t{\\left(\\lambda \\right)} x{\\left(\\lambda \\right)} + x^{2}{\\left(\\lambda \\right)} + y^{2}{\\left(\\lambda \\right)} + z^{2}{\\left(\\lambda \\right)}}\\right) \\right)} \\frac{d}{d \\lambda} t{\\left(\\lambda \\right)} + 0.5 v_{s}^{3} \\tanh^{2}{\\left(\\sigma \\left(R - \\sqrt{v_{s}^{2} t^{2}{\\left(\\lambda \\right)} - 2 v_{s} t{\\left(\\lambda \\right)} x{\\left(\\lambda \\right)} + x^{2}{\\left(\\lambda \\right)} + y^{2}{\\left(\\lambda \\right)} + z^{2}{\\left(\\lambda \\right)}}\\right) \\right)} \\frac{d}{d \\lambda} x{\\left(\\lambda \\right)} + 0.5 v_{s}^{3} \\tanh{\\left(\\sigma \\left(R - \\sqrt{v_{s}^{2} t^{2}{\\left(\\lambda \\right)} - 2 v_{s} t{\\left(\\lambda \\right)} x{\\left(\\lambda \\right)} + x^{2}{\\left(\\lambda \\right)} + y^{2}{\\left(\\lambda \\right)} + z^{2}{\\left(\\lambda \\right)}}\\right) \\right)} \\tanh{\\left(\\sigma \\left(R + \\sqrt{v_{s}^{2} t^{2}{\\left(\\lambda \\right)} - 2 v_{s} t{\\left(\\lambda \\right)} x{\\left(\\lambda \\right)} + x^{2}{\\left(\\lambda \\right)} + y^{2}{\\left(\\lambda \\right)} + z^{2}{\\left(\\lambda \\right)}}\\right) \\right)} \\frac{d}{d \\lambda} t{\\left(\\lambda \\right)} + 1.0 v_{s}^{3} \\tanh{\\left(\\sigma \\left(R - \\sqrt{v_{s}^{2} t^{2}{\\left(\\lambda \\right)} - 2 v_{s} t{\\left(\\lambda \\right)} x{\\left(\\lambda \\right)} + x^{2}{\\left(\\lambda \\right)} + y^{2}{\\left(\\lambda \\right)} + z^{2}{\\left(\\lambda \\right)}}\\right) \\right)} \\tanh{\\left(\\sigma \\left(R + \\sqrt{v_{s}^{2} t^{2}{\\left(\\lambda \\right)} - 2 v_{s} t{\\left(\\lambda \\right)} x{\\left(\\lambda \\right)} + x^{2}{\\left(\\lambda \\right)} + y^{2}{\\left(\\lambda \\right)} + z^{2}{\\left(\\lambda \\right)}}\\right) \\right)} \\frac{d}{d \\lambda} x{\\left(\\lambda \\right)} + 0.25 v_{s}^{3} \\tanh^{2}{\\left(\\sigma \\left(R + \\sqrt{v_{s}^{2} t^{2}{\\left(\\lambda \\right)} - 2 v_{s} t{\\left(\\lambda \\right)} x{\\left(\\lambda \\right)} + x^{2}{\\left(\\lambda \\right)} + y^{2}{\\left(\\lambda \\right)} + z^{2}{\\left(\\lambda \\right)}}\\right) \\right)} \\frac{d}{d \\lambda} t{\\left(\\lambda \\right)} + 0.5 v_{s}^{3} \\tanh^{2}{\\left(\\sigma \\left(R + \\sqrt{v_{s}^{2} t^{2}{\\left(\\lambda \\right)} - 2 v_{s} t{\\left(\\lambda \\right)} x{\\left(\\lambda \\right)} + x^{2}{\\left(\\lambda \\right)} + y^{2}{\\left(\\lambda \\right)} + z^{2}{\\left(\\lambda \\right)}}\\right) \\right)} \\frac{d}{d \\lambda} x{\\left(\\lambda \\right)} + 0.5 v_{s}^{2} \\tanh^{2}{\\left(\\sigma \\left(R - \\sqrt{v_{s}^{2} t^{2}{\\left(\\lambda \\right)} - 2 v_{s} t{\\left(\\lambda \\right)} x{\\left(\\lambda \\right)} + x^{2}{\\left(\\lambda \\right)} + y^{2}{\\left(\\lambda \\right)} + z^{2}{\\left(\\lambda \\right)}}\\right) \\right)} \\frac{d}{d \\lambda} t{\\left(\\lambda \\right)} + 0.25 v_{s}^{2} \\tanh^{2}{\\left(\\sigma \\left(R - \\sqrt{v_{s}^{2} t^{2}{\\left(\\lambda \\right)} - 2 v_{s} t{\\left(\\lambda \\right)} x{\\left(\\lambda \\right)} + x^{2}{\\left(\\lambda \\right)} + y^{2}{\\left(\\lambda \\right)} + z^{2}{\\left(\\lambda \\right)}}\\right) \\right)} \\frac{d}{d \\lambda} x{\\left(\\lambda \\right)} + 1.0 v_{s}^{2} \\tanh{\\left(\\sigma \\left(R - \\sqrt{v_{s}^{2} t^{2}{\\left(\\lambda \\right)} - 2 v_{s} t{\\left(\\lambda \\right)} x{\\left(\\lambda \\right)} + x^{2}{\\left(\\lambda \\right)} + y^{2}{\\left(\\lambda \\right)} + z^{2}{\\left(\\lambda \\right)}}\\right) \\right)} \\tanh{\\left(\\sigma \\left(R + \\sqrt{v_{s}^{2} t^{2}{\\left(\\lambda \\right)} - 2 v_{s} t{\\left(\\lambda \\right)} x{\\left(\\lambda \\right)} + x^{2}{\\left(\\lambda \\right)} + y^{2}{\\left(\\lambda \\right)} + z^{2}{\\left(\\lambda \\right)}}\\right) \\right)} \\frac{d}{d \\lambda} t{\\left(\\lambda \\right)} + 0.5 v_{s}^{2} \\tanh{\\left(\\sigma \\left(R - \\sqrt{v_{s}^{2} t^{2}{\\left(\\lambda \\right)} - 2 v_{s} t{\\left(\\lambda \\right)} x{\\left(\\lambda \\right)} + x^{2}{\\left(\\lambda \\right)} + y^{2}{\\left(\\lambda \\right)} + z^{2}{\\left(\\lambda \\right)}}\\right) \\right)} \\tanh{\\left(\\sigma \\left(R + \\sqrt{v_{s}^{2} t^{2}{\\left(\\lambda \\right)} - 2 v_{s} t{\\left(\\lambda \\right)} x{\\left(\\lambda \\right)} + x^{2}{\\left(\\lambda \\right)} + y^{2}{\\left(\\lambda \\right)} + z^{2}{\\left(\\lambda \\right)}}\\right) \\right)} \\frac{d}{d \\lambda} x{\\left(\\lambda \\right)} + 0.5 v_{s}^{2} \\tanh^{2}{\\left(\\sigma \\left(R + \\sqrt{v_{s}^{2} t^{2}{\\left(\\lambda \\right)} - 2 v_{s} t{\\left(\\lambda \\right)} x{\\left(\\lambda \\right)} + x^{2}{\\left(\\lambda \\right)} + y^{2}{\\left(\\lambda \\right)} + z^{2}{\\left(\\lambda \\right)}}\\right) \\right)} \\frac{d}{d \\lambda} t{\\left(\\lambda \\right)} + 0.25 v_{s}^{2} \\tanh^{2}{\\left(\\sigma \\left(R + \\sqrt{v_{s}^{2} t^{2}{\\left(\\lambda \\right)} - 2 v_{s} t{\\left(\\lambda \\right)} x{\\left(\\lambda \\right)} + x^{2}{\\left(\\lambda \\right)} + y^{2}{\\left(\\lambda \\right)} + z^{2}{\\left(\\lambda \\right)}}\\right) \\right)} \\frac{d}{d \\lambda} x{\\left(\\lambda \\right)} - 2.0 v_{s} \\tanh^{2}{\\left(R \\sigma \\right)} \\frac{d}{d \\lambda} x{\\left(\\lambda \\right)} - 1.0 \\tanh^{2}{\\left(R \\sigma \\right)} \\frac{d}{d \\lambda} x{\\left(\\lambda \\right)}\\right) \\frac{d}{d \\lambda} t{\\left(\\lambda \\right)}}{\\sqrt{\\left(v_{s} t{\\left(\\lambda \\right)} - x{\\left(\\lambda \\right)}\\right)^{2} + y^{2}{\\left(\\lambda \\right)} + z^{2}{\\left(\\lambda \\right)}} \\tanh^{3}{\\left(R \\sigma \\right)}}$"
      ],
      "text/plain": [
       "sigma*v_s*(v_s*t(lambda) - x(lambda))*(tanh(sigma*(R - sqrt((v_s*t(lambda) - x(lambda))**2 + y(lambda)**2 + z(lambda)**2)))**2 - tanh(sigma*(R + sqrt((v_s*t(lambda) - x(lambda))**2 + y(lambda)**2 + z(lambda)**2)))**2)*(0.25*v_s**3*tanh(sigma*(R - sqrt(v_s**2*t(lambda)**2 - 2*v_s*t(lambda)*x(lambda) + x(lambda)**2 + y(lambda)**2 + z(lambda)**2)))**2*Derivative(t(lambda), lambda) + 0.5*v_s**3*tanh(sigma*(R - sqrt(v_s**2*t(lambda)**2 - 2*v_s*t(lambda)*x(lambda) + x(lambda)**2 + y(lambda)**2 + z(lambda)**2)))**2*Derivative(x(lambda), lambda) + 0.5*v_s**3*tanh(sigma*(R - sqrt(v_s**2*t(lambda)**2 - 2*v_s*t(lambda)*x(lambda) + x(lambda)**2 + y(lambda)**2 + z(lambda)**2)))*tanh(sigma*(R + sqrt(v_s**2*t(lambda)**2 - 2*v_s*t(lambda)*x(lambda) + x(lambda)**2 + y(lambda)**2 + z(lambda)**2)))*Derivative(t(lambda), lambda) + 1.0*v_s**3*tanh(sigma*(R - sqrt(v_s**2*t(lambda)**2 - 2*v_s*t(lambda)*x(lambda) + x(lambda)**2 + y(lambda)**2 + z(lambda)**2)))*tanh(sigma*(R + sqrt(v_s**2*t(lambda)**2 - 2*v_s*t(lambda)*x(lambda) + x(lambda)**2 + y(lambda)**2 + z(lambda)**2)))*Derivative(x(lambda), lambda) + 0.25*v_s**3*tanh(sigma*(R + sqrt(v_s**2*t(lambda)**2 - 2*v_s*t(lambda)*x(lambda) + x(lambda)**2 + y(lambda)**2 + z(lambda)**2)))**2*Derivative(t(lambda), lambda) + 0.5*v_s**3*tanh(sigma*(R + sqrt(v_s**2*t(lambda)**2 - 2*v_s*t(lambda)*x(lambda) + x(lambda)**2 + y(lambda)**2 + z(lambda)**2)))**2*Derivative(x(lambda), lambda) + 0.5*v_s**2*tanh(sigma*(R - sqrt(v_s**2*t(lambda)**2 - 2*v_s*t(lambda)*x(lambda) + x(lambda)**2 + y(lambda)**2 + z(lambda)**2)))**2*Derivative(t(lambda), lambda) + 0.25*v_s**2*tanh(sigma*(R - sqrt(v_s**2*t(lambda)**2 - 2*v_s*t(lambda)*x(lambda) + x(lambda)**2 + y(lambda)**2 + z(lambda)**2)))**2*Derivative(x(lambda), lambda) + 1.0*v_s**2*tanh(sigma*(R - sqrt(v_s**2*t(lambda)**2 - 2*v_s*t(lambda)*x(lambda) + x(lambda)**2 + y(lambda)**2 + z(lambda)**2)))*tanh(sigma*(R + sqrt(v_s**2*t(lambda)**2 - 2*v_s*t(lambda)*x(lambda) + x(lambda)**2 + y(lambda)**2 + z(lambda)**2)))*Derivative(t(lambda), lambda) + 0.5*v_s**2*tanh(sigma*(R - sqrt(v_s**2*t(lambda)**2 - 2*v_s*t(lambda)*x(lambda) + x(lambda)**2 + y(lambda)**2 + z(lambda)**2)))*tanh(sigma*(R + sqrt(v_s**2*t(lambda)**2 - 2*v_s*t(lambda)*x(lambda) + x(lambda)**2 + y(lambda)**2 + z(lambda)**2)))*Derivative(x(lambda), lambda) + 0.5*v_s**2*tanh(sigma*(R + sqrt(v_s**2*t(lambda)**2 - 2*v_s*t(lambda)*x(lambda) + x(lambda)**2 + y(lambda)**2 + z(lambda)**2)))**2*Derivative(t(lambda), lambda) + 0.25*v_s**2*tanh(sigma*(R + sqrt(v_s**2*t(lambda)**2 - 2*v_s*t(lambda)*x(lambda) + x(lambda)**2 + y(lambda)**2 + z(lambda)**2)))**2*Derivative(x(lambda), lambda) - 2.0*v_s*tanh(R*sigma)**2*Derivative(x(lambda), lambda) - 1.0*tanh(R*sigma)**2*Derivative(x(lambda), lambda))*Derivative(t(lambda), lambda)/(sqrt((v_s*t(lambda) - x(lambda))**2 + y(lambda)**2 + z(lambda)**2)*tanh(R*sigma)**3)"
      ]
     },
     "execution_count": 1,
     "metadata": {},
     "output_type": "execute_result"
    }
   ],
   "source": [
    "import sympy as sp\n",
    "\n",
    "# Define the variables and functions\n",
    "sigma, v_s, R, lambda_ = sp.symbols('sigma v_s R lambda', real=True)\n",
    "t = sp.Function('t')(lambda_)\n",
    "x = sp.Function('x')(lambda_)\n",
    "y = sp.Function('y')(lambda_)\n",
    "z = sp.Function('z')(lambda_)\n",
    "\n",
    "# Define the expressions\n",
    "expr1 = sigma*v_s*(v_s*t - x)*(0.0625*v_s*(sp.tanh(sigma*(R - sp.sqrt((v_s*t - x)**2 + y**2 + z**2))) + sp.tanh(sigma*(R + sp.sqrt((v_s*t - x)**2 + y**2 + z**2))))*sp.diff(t, lambda_) + 0.125*sp.tanh(R*sigma)*sp.diff(x, lambda_))*(2*v_s*(v_s + 2)*(sp.tanh(sigma*(R - sp.sqrt(v_s**2*t**2 - 2*v_s*t*x + x**2 + y**2 + z**2))) + sp.tanh(sigma*(R + sp.sqrt(v_s**2*t**2 - 2*v_s*t*x + x**2 + y**2 + z**2))))*sp.tanh(R*sigma) + (2*v_s + 1)*(v_s**2*sp.tanh(sigma*(R - sp.sqrt(v_s**2*t**2 - 2*v_s*t*x + x**2 + y**2 + z**2)))**2 + 2*v_s**2*sp.tanh(sigma*(R - sp.sqrt(v_s**2*t**2 - 2*v_s*t*x + x**2 + y**2 + z**2)))*sp.tanh(sigma*(R + sp.sqrt(v_s**2*t**2 - 2*v_s*t*x + x**2 + y**2 + z**2))) + v_s**2*sp.tanh(sigma*(R + sp.sqrt(v_s**2*t**2 - 2*v_s*t*x + x**2 + y**2 + z**2)))**2 - 4*sp.tanh(R*sigma)**2))*(sp.tanh(sigma*(R - sp.sqrt((v_s*t - x)**2 + y**2 + z**2)))**2 - sp.tanh(sigma*(R + sp.sqrt((v_s*t - x)**2 + y**2 + z**2)))**2)*sp.diff(t, lambda_)/(sp.sqrt((v_s*t - x)**2 + y**2 + z**2)*sp.tanh(R*sigma)**4)\n",
    "\n",
    "expr2 = -sigma*v_s*(v_s*t - x)*(0.0625*v_s*(2*v_s*(v_s + 2)*(sp.tanh(sigma*(R - sp.sqrt(v_s**2*t**2 - 2*v_s*t*x + x**2 + y**2 + z**2))) + sp.tanh(sigma*(R + sp.sqrt(v_s**2*t**2 - 2*v_s*t*x + x**2 + y**2 + z**2))))**2*sp.tanh(R*sigma) - (2*v_s + 1)*(sp.tanh(sigma*(R - sp.sqrt((v_s*t - x)**2 + y**2 + z**2))) + sp.tanh(sigma*(R + sp.sqrt((v_s*t - x)**2 + y**2 + z**2))))*(v_s**2*sp.tanh(sigma*(R - sp.sqrt(v_s**2*t**2 - 2*v_s*t*x + x**2 + y**2 + z**2)))**2 + 2*v_s**2*sp.tanh(sigma*(R - sp.sqrt(v_s**2*t**2 - 2*v_s*t*x + x**2 + y**2 + z**2)))*sp.tanh(sigma*(R + sp.sqrt(v_s**2*t**2 - 2*v_s*t*x + x**2 + y**2 + z**2))) + v_s**2*sp.tanh(sigma*(R + sp.sqrt(v_s**2*t**2 - 2*v_s*t*x + x**2 + y**2 + z**2)))**2 - 4*sp.tanh(R*sigma)**2))*sp.diff(t, lambda_) - 0.125*(2*v_s*(v_s + 2)*(sp.tanh(sigma*(R - sp.sqrt(v_s**2*t**2 - 2*v_s*t*x + x**2 + y**2 + z**2))) + sp.tanh(sigma*(R + sp.sqrt(v_s**2*t**2 - 2*v_s*t*x + x**2 + y**2 + z**2))))*sp.tanh(R*sigma) - (2*v_s + 1)*(v_s**2*sp.tanh(sigma*(R - sp.sqrt(v_s**2*t**2 - 2*v_s*t*x + x**2 + y**2 + z**2)))**2 + 2*v_s**2*sp.tanh(sigma*(R - sp.sqrt(v_s**2*t**2 - 2*v_s*t*x + x**2 + y**2 + z**2)))*sp.tanh(sigma*(R + sp.sqrt(v_s**2*t**2 - 2*v_s*t*x + x**2 + y**2 + z**2))) + v_s**2*sp.tanh(sigma*(R + sp.sqrt(v_s**2*t**2 - 2*v_s*t*x + x**2 + y**2 + z**2)))**2 - 4*sp.tanh(R*sigma)**2))*sp.tanh(R*sigma)*sp.diff(x, lambda_))*(sp.tanh(sigma*(R - sp.sqrt((v_s*t - x)**2 + y**2 + z**2)))**2 - sp.tanh(sigma*(R + sp.sqrt((v_s*t - x)**2 + y**2 + z**2)))**2)*sp.diff(t, lambda_)/(sp.sqrt((v_s*t - x)**2 + y**2 + z**2)*sp.tanh(R*sigma)**4)\n",
    "\n",
    "# Simplify the difference of the expressions\n",
    "difference = sp.simplify(expr1 - expr2)\n",
    "\n",
    "# Output the result\n",
    "difference\n"
   ]
  }
 ],
 "metadata": {
  "kernelspec": {
   "display_name": "Python 3 (ipykernel)",
   "language": "python",
   "name": "python3"
  },
  "language_info": {
   "codemirror_mode": {
    "name": "ipython",
    "version": 3
   },
   "file_extension": ".py",
   "mimetype": "text/x-python",
   "name": "python",
   "nbconvert_exporter": "python",
   "pygments_lexer": "ipython3",
   "version": "3.11.3"
  }
 },
 "nbformat": 4,
 "nbformat_minor": 5
}
