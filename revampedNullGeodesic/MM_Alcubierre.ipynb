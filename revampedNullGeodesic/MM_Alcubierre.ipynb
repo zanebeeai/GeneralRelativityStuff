{
 "cells": [
  {
   "cell_type": "code",
   "execution_count": 11,
   "id": "e226e2c9",
   "metadata": {},
   "outputs": [],
   "source": [
    "import sympy as sp\n",
    "def getMetric(lineElement, coordSystem=\"Cartesian\", subs=None, overrideConst = False): #the override lets the code run faster if you know for sure your line element will work out\n",
    "    if coordSystem not in [\"Cartesian\", \"PlanePolar\", \"SphericalPolar\", \"CylindricalPolar\"]:\n",
    "        raise ValueError(\"Unknown coordinate system\")\n",
    "\n",
    "    lineElement=sp.expand(lineElement)\n",
    "    coords = (t, x, y, z)\n",
    "\n",
    "    dim = len(coords)\n",
    "    g = sp.zeros(dim)\n",
    "\n",
    "    for mu in range(dim):\n",
    "        for nu in range(dim):\n",
    "            coeff = lineElement.coeff(sp.diff(coords[mu]) * sp.diff(coords[nu]))\n",
    "            if mu != nu and coeff != 0:\n",
    "                g[mu, nu] = coeff.subs(subs) / 2\n",
    "            else:\n",
    "                g[mu, nu] = coeff.subs(subs)\n",
    "                \n",
    "    # Check for unexpected terms in the line element\n",
    "    if not overrideConst:\n",
    "        reconstructed_line_element = sum(g[i, j] * sp.diff(coords[i]) * sp.diff(coords[j]) for i in range(dim) for j in range(dim))\n",
    "        if sp.simplify(lineElement.subs(subs) - reconstructed_line_element) != 0:\n",
    "            raise ValueError(\"Line element contains terms that are not pure differentials of the coordinates used\")\n",
    "    return g"
   ]
  },
  {
   "cell_type": "code",
   "execution_count": 12,
   "id": "3ce571e2",
   "metadata": {},
   "outputs": [
    {
     "data": {
      "text/latex": [
       "$\\displaystyle \\left(- f_{r} v_{s} \\frac{d}{d \\lambda} t{\\left(\\lambda \\right)} + \\frac{d}{d \\lambda} x{\\left(\\lambda \\right)}\\right)^{2} - \\left(\\frac{d}{d \\lambda} t{\\left(\\lambda \\right)}\\right)^{2} + \\left(\\frac{d}{d \\lambda} y{\\left(\\lambda \\right)}\\right)^{2} + \\left(\\frac{d}{d \\lambda} z{\\left(\\lambda \\right)}\\right)^{2}$"
      ],
      "text/plain": [
       "(-f_r*v_s*Derivative(t(lambda), lambda) + Derivative(x(lambda), lambda))**2 - Derivative(t(lambda), lambda)**2 + Derivative(y(lambda), lambda)**2 + Derivative(z(lambda), lambda)**2"
      ]
     },
     "metadata": {},
     "output_type": "display_data"
    },
    {
     "data": {
      "text/latex": [
       "$\\displaystyle \\left[\\begin{matrix}\\frac{v_{s}^{2} \\left(- \\tanh{\\left(\\sigma \\left(- R + \\sqrt{\\left(- x_{s} + x{\\left(\\lambda \\right)}\\right)^{2} + y^{2}{\\left(\\lambda \\right)} + z^{2}{\\left(\\lambda \\right)}}\\right) \\right)} + \\tanh{\\left(\\sigma \\left(R + \\sqrt{\\left(- x_{s} + x{\\left(\\lambda \\right)}\\right)^{2} + y^{2}{\\left(\\lambda \\right)} + z^{2}{\\left(\\lambda \\right)}}\\right) \\right)}\\right)^{2}}{4 \\tanh^{2}{\\left(R \\sigma \\right)}} - 1 & - \\frac{v_{s} \\left(- \\tanh{\\left(\\sigma \\left(- R + \\sqrt{\\left(- x_{s} + x{\\left(\\lambda \\right)}\\right)^{2} + y^{2}{\\left(\\lambda \\right)} + z^{2}{\\left(\\lambda \\right)}}\\right) \\right)} + \\tanh{\\left(\\sigma \\left(R + \\sqrt{\\left(- x_{s} + x{\\left(\\lambda \\right)}\\right)^{2} + y^{2}{\\left(\\lambda \\right)} + z^{2}{\\left(\\lambda \\right)}}\\right) \\right)}\\right)}{2 \\tanh{\\left(R \\sigma \\right)}} & 0 & 0\\\\- \\frac{v_{s} \\left(- \\tanh{\\left(\\sigma \\left(- R + \\sqrt{\\left(- x_{s} + x{\\left(\\lambda \\right)}\\right)^{2} + y^{2}{\\left(\\lambda \\right)} + z^{2}{\\left(\\lambda \\right)}}\\right) \\right)} + \\tanh{\\left(\\sigma \\left(R + \\sqrt{\\left(- x_{s} + x{\\left(\\lambda \\right)}\\right)^{2} + y^{2}{\\left(\\lambda \\right)} + z^{2}{\\left(\\lambda \\right)}}\\right) \\right)}\\right)}{2 \\tanh{\\left(R \\sigma \\right)}} & 1 & 0 & 0\\\\0 & 0 & 1 & 0\\\\0 & 0 & 0 & 1\\end{matrix}\\right]$"
      ],
      "text/plain": [
       "Matrix([\n",
       "[v_s**2*(-tanh(sigma*(-R + sqrt((-x_s + x(lambda))**2 + y(lambda)**2 + z(lambda)**2))) + tanh(sigma*(R + sqrt((-x_s + x(lambda))**2 + y(lambda)**2 + z(lambda)**2))))**2/(4*tanh(R*sigma)**2) - 1, -v_s*(-tanh(sigma*(-R + sqrt((-x_s + x(lambda))**2 + y(lambda)**2 + z(lambda)**2))) + tanh(sigma*(R + sqrt((-x_s + x(lambda))**2 + y(lambda)**2 + z(lambda)**2))))/(2*tanh(R*sigma)), 0, 0],\n",
       "[            -v_s*(-tanh(sigma*(-R + sqrt((-x_s + x(lambda))**2 + y(lambda)**2 + z(lambda)**2))) + tanh(sigma*(R + sqrt((-x_s + x(lambda))**2 + y(lambda)**2 + z(lambda)**2))))/(2*tanh(R*sigma)),                                                                                                                                                                                    1, 0, 0],\n",
       "[                                                                                                                                                                                               0,                                                                                                                                                                                    0, 1, 0],\n",
       "[                                                                                                                                                                                               0,                                                                                                                                                                                    0, 0, 1]])"
      ]
     },
     "execution_count": 12,
     "metadata": {},
     "output_type": "execute_result"
    }
   ],
   "source": [
    "vs, sigma, R, lam = sp.symbols('v_s sigma R lambda')\n",
    "t = sp.Function('t')(lam)\n",
    "x = sp.Function('x')(lam)\n",
    "y = sp.Function('y')(lam)\n",
    "z = sp.Function('z')(lam)\n",
    "\n",
    "dt=sp.diff(t)\n",
    "dx=sp.diff(x)\n",
    "dy=sp.diff(y)\n",
    "dz=sp.diff(z)\n",
    "\n",
    "# for now, define constants as symbols\n",
    "xs, r, f_r = sp.symbols(\"x_s r f_r\")\n",
    "\n",
    "lineElement = -dt**2 + (dx - vs*f_r*dt)**2 + dy**2 + dz**2\n",
    "display(lineElement)\n",
    "\n",
    "# order of substitutions matter!!!\n",
    "subs= [\n",
    "    (xs, vs*t), # since its steady state\n",
    "    (f_r, (sp.tanh(sigma * (r + R)) - sp.tanh(sigma * (r - R))) / (2 * sp.tanh(sigma * R))),\n",
    "    (r, sp.sqrt((x - xs)**2 + y**2 + z**2)),\n",
    "]\n",
    "\n",
    "metric=getMetric(lineElement, \"Cartesian\", subs, True)\n",
    "metric"
   ]
  },
  {
   "cell_type": "markdown",
   "id": "a361a494",
   "metadata": {},
   "source": [
    "## computation connection coeffecients (christoffel)"
   ]
  },
  {
   "cell_type": "code",
   "execution_count": 13,
   "id": "9efbbd89",
   "metadata": {},
   "outputs": [
    {
     "name": "stdout",
     "output_type": "stream",
     "text": [
      "start computation\n",
      "done connection j: 0 k: 0 l: 0\n",
      "done connection j: 0 k: 0 l: 1\n",
      "done connection j: 0 k: 0 l: 2\n",
      "done connection j: 0 k: 0 l: 3\n",
      "done connection j: 0 k: 1 l: 0\n",
      "done connection j: 0 k: 1 l: 1\n",
      "done connection j: 0 k: 1 l: 2\n",
      "done connection j: 0 k: 1 l: 3\n",
      "done connection j: 0 k: 2 l: 0\n",
      "done connection j: 0 k: 2 l: 1\n",
      "done connection j: 0 k: 2 l: 2\n",
      "done connection j: 0 k: 2 l: 3\n",
      "done connection j: 0 k: 3 l: 0\n",
      "done connection j: 0 k: 3 l: 1\n",
      "done connection j: 0 k: 3 l: 2\n",
      "done connection j: 0 k: 3 l: 3\n",
      "done connection j: 1 k: 0 l: 0\n",
      "done connection j: 1 k: 0 l: 1\n",
      "done connection j: 1 k: 0 l: 2\n",
      "done connection j: 1 k: 0 l: 3\n",
      "done connection j: 1 k: 1 l: 0\n",
      "done connection j: 1 k: 1 l: 1\n",
      "done connection j: 1 k: 1 l: 2\n",
      "done connection j: 1 k: 1 l: 3\n",
      "done connection j: 1 k: 2 l: 0\n",
      "done connection j: 1 k: 2 l: 1\n",
      "done connection j: 1 k: 2 l: 2\n",
      "done connection j: 1 k: 2 l: 3\n",
      "done connection j: 1 k: 3 l: 0\n",
      "done connection j: 1 k: 3 l: 1\n",
      "done connection j: 1 k: 3 l: 2\n",
      "done connection j: 1 k: 3 l: 3\n",
      "done connection j: 2 k: 0 l: 0\n",
      "done connection j: 2 k: 0 l: 1\n",
      "done connection j: 2 k: 0 l: 2\n",
      "done connection j: 2 k: 0 l: 3\n",
      "done connection j: 2 k: 1 l: 0\n",
      "done connection j: 2 k: 1 l: 1\n",
      "done connection j: 2 k: 1 l: 2\n",
      "done connection j: 2 k: 1 l: 3\n",
      "done connection j: 2 k: 2 l: 0\n",
      "done connection j: 2 k: 2 l: 1\n",
      "done connection j: 2 k: 2 l: 2\n",
      "done connection j: 2 k: 2 l: 3\n",
      "done connection j: 2 k: 3 l: 0\n",
      "done connection j: 2 k: 3 l: 1\n",
      "done connection j: 2 k: 3 l: 2\n",
      "done connection j: 2 k: 3 l: 3\n",
      "done connection j: 3 k: 0 l: 0\n",
      "done connection j: 3 k: 0 l: 1\n",
      "done connection j: 3 k: 0 l: 2\n",
      "done connection j: 3 k: 0 l: 3\n",
      "done connection j: 3 k: 1 l: 0\n",
      "done connection j: 3 k: 1 l: 1\n",
      "done connection j: 3 k: 1 l: 2\n",
      "done connection j: 3 k: 1 l: 3\n",
      "done connection j: 3 k: 2 l: 0\n",
      "done connection j: 3 k: 2 l: 1\n",
      "done connection j: 3 k: 2 l: 2\n",
      "done connection j: 3 k: 2 l: 3\n",
      "done connection j: 3 k: 3 l: 0\n",
      "done connection j: 3 k: 3 l: 1\n",
      "done connection j: 3 k: 3 l: 2\n",
      "done connection j: 3 k: 3 l: 3\n",
      "done connection j: 0 k: 0 l: 0\n",
      "done connection j: 0 k: 0 l: 1\n",
      "done connection j: 0 k: 0 l: 2\n",
      "done connection j: 0 k: 0 l: 3\n",
      "done connection j: 0 k: 1 l: 0\n",
      "done connection j: 0 k: 1 l: 1\n",
      "done connection j: 0 k: 1 l: 2\n",
      "done connection j: 0 k: 1 l: 3\n",
      "done connection j: 0 k: 2 l: 0\n",
      "done connection j: 0 k: 2 l: 1\n",
      "done connection j: 0 k: 2 l: 2\n",
      "done connection j: 0 k: 2 l: 3\n",
      "done connection j: 0 k: 3 l: 0\n",
      "done connection j: 0 k: 3 l: 1\n",
      "done connection j: 0 k: 3 l: 2\n",
      "done connection j: 0 k: 3 l: 3\n",
      "done connection j: 1 k: 0 l: 0\n",
      "done connection j: 1 k: 0 l: 1\n",
      "done connection j: 1 k: 0 l: 2\n",
      "done connection j: 1 k: 0 l: 3\n",
      "done connection j: 1 k: 1 l: 0\n",
      "done connection j: 1 k: 1 l: 1\n",
      "done connection j: 1 k: 1 l: 2\n",
      "done connection j: 1 k: 1 l: 3\n",
      "done connection j: 1 k: 2 l: 0\n",
      "done connection j: 1 k: 2 l: 1\n",
      "done connection j: 1 k: 2 l: 2\n",
      "done connection j: 1 k: 2 l: 3\n",
      "done connection j: 1 k: 3 l: 0\n",
      "done connection j: 1 k: 3 l: 1\n",
      "done connection j: 1 k: 3 l: 2\n",
      "done connection j: 1 k: 3 l: 3\n",
      "done connection j: 2 k: 0 l: 0\n",
      "done connection j: 2 k: 0 l: 1\n",
      "done connection j: 2 k: 0 l: 2\n",
      "done connection j: 2 k: 0 l: 3\n",
      "done connection j: 2 k: 1 l: 0\n",
      "done connection j: 2 k: 1 l: 1\n",
      "done connection j: 2 k: 1 l: 2\n",
      "done connection j: 2 k: 1 l: 3\n",
      "done connection j: 2 k: 2 l: 0\n",
      "done connection j: 2 k: 2 l: 1\n",
      "done connection j: 2 k: 2 l: 2\n",
      "done connection j: 2 k: 2 l: 3\n",
      "done connection j: 2 k: 3 l: 0\n",
      "done connection j: 2 k: 3 l: 1\n",
      "done connection j: 2 k: 3 l: 2\n",
      "done connection j: 2 k: 3 l: 3\n",
      "done connection j: 3 k: 0 l: 0\n",
      "done connection j: 3 k: 0 l: 1\n",
      "done connection j: 3 k: 0 l: 2\n",
      "done connection j: 3 k: 0 l: 3\n",
      "done connection j: 3 k: 1 l: 0\n",
      "done connection j: 3 k: 1 l: 1\n",
      "done connection j: 3 k: 1 l: 2\n",
      "done connection j: 3 k: 1 l: 3\n",
      "done connection j: 3 k: 2 l: 0\n",
      "done connection j: 3 k: 2 l: 1\n",
      "done connection j: 3 k: 2 l: 2\n",
      "done connection j: 3 k: 2 l: 3\n",
      "done connection j: 3 k: 3 l: 0\n",
      "done connection j: 3 k: 3 l: 1\n",
      "done connection j: 3 k: 3 l: 2\n",
      "done connection j: 3 k: 3 l: 3\n",
      "done connection j: 0 k: 0 l: 0\n",
      "done connection j: 0 k: 0 l: 1\n",
      "done connection j: 0 k: 0 l: 2\n",
      "done connection j: 0 k: 0 l: 3\n",
      "done connection j: 0 k: 1 l: 0\n",
      "done connection j: 0 k: 1 l: 1\n",
      "done connection j: 0 k: 1 l: 2\n",
      "done connection j: 0 k: 1 l: 3\n",
      "done connection j: 0 k: 2 l: 0\n",
      "done connection j: 0 k: 2 l: 1\n",
      "done connection j: 0 k: 2 l: 2\n",
      "done connection j: 0 k: 2 l: 3\n",
      "done connection j: 0 k: 3 l: 0\n",
      "done connection j: 0 k: 3 l: 1\n",
      "done connection j: 0 k: 3 l: 2\n",
      "done connection j: 0 k: 3 l: 3\n",
      "done connection j: 1 k: 0 l: 0\n",
      "done connection j: 1 k: 0 l: 1\n",
      "done connection j: 1 k: 0 l: 2\n",
      "done connection j: 1 k: 0 l: 3\n",
      "done connection j: 1 k: 1 l: 0\n",
      "done connection j: 1 k: 1 l: 1\n",
      "done connection j: 1 k: 1 l: 2\n",
      "done connection j: 1 k: 1 l: 3\n",
      "done connection j: 1 k: 2 l: 0\n",
      "done connection j: 1 k: 2 l: 1\n",
      "done connection j: 1 k: 2 l: 2\n",
      "done connection j: 1 k: 2 l: 3\n",
      "done connection j: 1 k: 3 l: 0\n",
      "done connection j: 1 k: 3 l: 1\n",
      "done connection j: 1 k: 3 l: 2\n",
      "done connection j: 1 k: 3 l: 3\n",
      "done connection j: 2 k: 0 l: 0\n",
      "done connection j: 2 k: 0 l: 1\n",
      "done connection j: 2 k: 0 l: 2\n",
      "done connection j: 2 k: 0 l: 3\n",
      "done connection j: 2 k: 1 l: 0\n",
      "done connection j: 2 k: 1 l: 1\n",
      "done connection j: 2 k: 1 l: 2\n",
      "done connection j: 2 k: 1 l: 3\n",
      "done connection j: 2 k: 2 l: 0\n",
      "done connection j: 2 k: 2 l: 1\n",
      "done connection j: 2 k: 2 l: 2\n",
      "done connection j: 2 k: 2 l: 3\n",
      "done connection j: 2 k: 3 l: 0\n",
      "done connection j: 2 k: 3 l: 1\n",
      "done connection j: 2 k: 3 l: 2\n",
      "done connection j: 2 k: 3 l: 3\n",
      "done connection j: 3 k: 0 l: 0\n",
      "done connection j: 3 k: 0 l: 1\n",
      "done connection j: 3 k: 0 l: 2\n",
      "done connection j: 3 k: 0 l: 3\n",
      "done connection j: 3 k: 1 l: 0\n",
      "done connection j: 3 k: 1 l: 1\n",
      "done connection j: 3 k: 1 l: 2\n",
      "done connection j: 3 k: 1 l: 3\n",
      "done connection j: 3 k: 2 l: 0\n",
      "done connection j: 3 k: 2 l: 1\n",
      "done connection j: 3 k: 2 l: 2\n",
      "done connection j: 3 k: 2 l: 3\n",
      "done connection j: 3 k: 3 l: 0\n",
      "done connection j: 3 k: 3 l: 1\n",
      "done connection j: 3 k: 3 l: 2\n",
      "done connection j: 3 k: 3 l: 3\n",
      "done connection j: 0 k: 0 l: 0\n",
      "done connection j: 0 k: 0 l: 1\n",
      "done connection j: 0 k: 0 l: 2\n",
      "done connection j: 0 k: 0 l: 3\n",
      "done connection j: 0 k: 1 l: 0\n",
      "done connection j: 0 k: 1 l: 1\n",
      "done connection j: 0 k: 1 l: 2\n",
      "done connection j: 0 k: 1 l: 3\n",
      "done connection j: 0 k: 2 l: 0\n",
      "done connection j: 0 k: 2 l: 1\n",
      "done connection j: 0 k: 2 l: 2\n",
      "done connection j: 0 k: 2 l: 3\n",
      "done connection j: 0 k: 3 l: 0\n",
      "done connection j: 0 k: 3 l: 1\n",
      "done connection j: 0 k: 3 l: 2\n",
      "done connection j: 0 k: 3 l: 3\n",
      "done connection j: 1 k: 0 l: 0\n",
      "done connection j: 1 k: 0 l: 1\n",
      "done connection j: 1 k: 0 l: 2\n",
      "done connection j: 1 k: 0 l: 3\n",
      "done connection j: 1 k: 1 l: 0\n",
      "done connection j: 1 k: 1 l: 1\n",
      "done connection j: 1 k: 1 l: 2\n",
      "done connection j: 1 k: 1 l: 3\n",
      "done connection j: 1 k: 2 l: 0\n",
      "done connection j: 1 k: 2 l: 1\n",
      "done connection j: 1 k: 2 l: 2\n",
      "done connection j: 1 k: 2 l: 3\n",
      "done connection j: 1 k: 3 l: 0\n",
      "done connection j: 1 k: 3 l: 1\n",
      "done connection j: 1 k: 3 l: 2\n",
      "done connection j: 1 k: 3 l: 3\n",
      "done connection j: 2 k: 0 l: 0\n",
      "done connection j: 2 k: 0 l: 1\n",
      "done connection j: 2 k: 0 l: 2\n",
      "done connection j: 2 k: 0 l: 3\n",
      "done connection j: 2 k: 1 l: 0\n",
      "done connection j: 2 k: 1 l: 1\n",
      "done connection j: 2 k: 1 l: 2\n",
      "done connection j: 2 k: 1 l: 3\n",
      "done connection j: 2 k: 2 l: 0\n",
      "done connection j: 2 k: 2 l: 1\n",
      "done connection j: 2 k: 2 l: 2\n",
      "done connection j: 2 k: 2 l: 3\n",
      "done connection j: 2 k: 3 l: 0\n",
      "done connection j: 2 k: 3 l: 1\n",
      "done connection j: 2 k: 3 l: 2\n",
      "done connection j: 2 k: 3 l: 3\n",
      "done connection j: 3 k: 0 l: 0\n",
      "done connection j: 3 k: 0 l: 1\n",
      "done connection j: 3 k: 0 l: 2\n",
      "done connection j: 3 k: 0 l: 3\n",
      "done connection j: 3 k: 1 l: 0\n",
      "done connection j: 3 k: 1 l: 1\n",
      "done connection j: 3 k: 1 l: 2\n",
      "done connection j: 3 k: 1 l: 3\n",
      "done connection j: 3 k: 2 l: 0\n",
      "done connection j: 3 k: 2 l: 1\n",
      "done connection j: 3 k: 2 l: 2\n",
      "done connection j: 3 k: 2 l: 3\n",
      "done connection j: 3 k: 3 l: 0\n",
      "done connection j: 3 k: 3 l: 1\n",
      "done connection j: 3 k: 3 l: 2\n",
      "done connection j: 3 k: 3 l: 3\n"
     ]
    }
   ],
   "source": [
    "import numpy as np\n",
    "from itertools import product\n",
    "\n",
    "metric_inv = metric.inv()\n",
    "print(\"start computation\")\n",
    "n=4\n",
    "X = [t, x, y, z]\n",
    "# computing the symbols using the metric equation\n",
    "# Create array to store the computed christoffel symbols.\n",
    "christoffel_symbols = np.zeros(shape=n, dtype='object')\n",
    "simple = False\n",
    "for i in range(n):\n",
    "    dummy_matrix = sp.Matrix.zeros(n,n)\n",
    "    for (j,k,l) in product(range(n), repeat=3):\n",
    "        dummy_matrix[j,k] += (\n",
    "            sp.Rational(1/2)*metric_inv[i,l] * (sp.diff(metric[l,j],X[k]) \n",
    "            +sp.diff(metric[l,k],X[j]) - sp.diff(metric[j,k],X[l]))\n",
    "        )\n",
    "        print(f\"done connection j: {j} k: {k} l: {l}\")\n",
    "    christoffel_symbols[i] = sp.simplify(dummy_matrix) if simple else dummy_matrix"
   ]
  },
  {
   "cell_type": "code",
   "execution_count": 14,
   "id": "0bf4e6b5",
   "metadata": {},
   "outputs": [
    {
     "data": {
      "text/latex": [
       "$\\displaystyle \\left[\\begin{matrix}- \\frac{v_{s}^{2} \\left(- v_{s} \\tanh{\\left(R \\sigma - \\sigma \\sqrt{x_{s}^{2} - 2 x_{s} x{\\left(\\lambda \\right)} + x^{2}{\\left(\\lambda \\right)} + y^{2}{\\left(\\lambda \\right)} + z^{2}{\\left(\\lambda \\right)}} \\right)} - v_{s} \\tanh{\\left(R \\sigma + \\sigma \\sqrt{x_{s}^{2} - 2 x_{s} x{\\left(\\lambda \\right)} + x^{2}{\\left(\\lambda \\right)} + y^{2}{\\left(\\lambda \\right)} + z^{2}{\\left(\\lambda \\right)}} \\right)}\\right) \\left(- \\frac{2 \\sigma \\left(1 - \\tanh^{2}{\\left(\\sigma \\left(- R + \\sqrt{\\left(- x_{s} + x{\\left(\\lambda \\right)}\\right)^{2} + y^{2}{\\left(\\lambda \\right)} + z^{2}{\\left(\\lambda \\right)}}\\right) \\right)}\\right) \\left(- x_{s} + x{\\left(\\lambda \\right)}\\right)}{\\sqrt{\\left(- x_{s} + x{\\left(\\lambda \\right)}\\right)^{2} + y^{2}{\\left(\\lambda \\right)} + z^{2}{\\left(\\lambda \\right)}}} + \\frac{2 \\sigma \\left(1 - \\tanh^{2}{\\left(\\sigma \\left(R + \\sqrt{\\left(- x_{s} + x{\\left(\\lambda \\right)}\\right)^{2} + y^{2}{\\left(\\lambda \\right)} + z^{2}{\\left(\\lambda \\right)}}\\right) \\right)}\\right) \\left(- x_{s} + x{\\left(\\lambda \\right)}\\right)}{\\sqrt{\\left(- x_{s} + x{\\left(\\lambda \\right)}\\right)^{2} + y^{2}{\\left(\\lambda \\right)} + z^{2}{\\left(\\lambda \\right)}}}\\right) \\left(- \\tanh{\\left(\\sigma \\left(- R + \\sqrt{\\left(- x_{s} + x{\\left(\\lambda \\right)}\\right)^{2} + y^{2}{\\left(\\lambda \\right)} + z^{2}{\\left(\\lambda \\right)}}\\right) \\right)} + \\tanh{\\left(\\sigma \\left(R + \\sqrt{\\left(- x_{s} + x{\\left(\\lambda \\right)}\\right)^{2} + y^{2}{\\left(\\lambda \\right)} + z^{2}{\\left(\\lambda \\right)}}\\right) \\right)}\\right)}{16 \\tanh^{3}{\\left(R \\sigma \\right)}} & - \\frac{v_{s}^{2} \\left(- \\frac{2 \\sigma \\left(1 - \\tanh^{2}{\\left(\\sigma \\left(- R + \\sqrt{\\left(- x_{s} + x{\\left(\\lambda \\right)}\\right)^{2} + y^{2}{\\left(\\lambda \\right)} + z^{2}{\\left(\\lambda \\right)}}\\right) \\right)}\\right) \\left(- x_{s} + x{\\left(\\lambda \\right)}\\right)}{\\sqrt{\\left(- x_{s} + x{\\left(\\lambda \\right)}\\right)^{2} + y^{2}{\\left(\\lambda \\right)} + z^{2}{\\left(\\lambda \\right)}}} + \\frac{2 \\sigma \\left(1 - \\tanh^{2}{\\left(\\sigma \\left(R + \\sqrt{\\left(- x_{s} + x{\\left(\\lambda \\right)}\\right)^{2} + y^{2}{\\left(\\lambda \\right)} + z^{2}{\\left(\\lambda \\right)}}\\right) \\right)}\\right) \\left(- x_{s} + x{\\left(\\lambda \\right)}\\right)}{\\sqrt{\\left(- x_{s} + x{\\left(\\lambda \\right)}\\right)^{2} + y^{2}{\\left(\\lambda \\right)} + z^{2}{\\left(\\lambda \\right)}}}\\right) \\left(- \\tanh{\\left(\\sigma \\left(- R + \\sqrt{\\left(- x_{s} + x{\\left(\\lambda \\right)}\\right)^{2} + y^{2}{\\left(\\lambda \\right)} + z^{2}{\\left(\\lambda \\right)}}\\right) \\right)} + \\tanh{\\left(\\sigma \\left(R + \\sqrt{\\left(- x_{s} + x{\\left(\\lambda \\right)}\\right)^{2} + y^{2}{\\left(\\lambda \\right)} + z^{2}{\\left(\\lambda \\right)}}\\right) \\right)}\\right)}{8 \\tanh^{2}{\\left(R \\sigma \\right)}} & - \\frac{v_{s}^{2} \\left(- \\frac{2 \\sigma \\left(1 - \\tanh^{2}{\\left(\\sigma \\left(- R + \\sqrt{\\left(- x_{s} + x{\\left(\\lambda \\right)}\\right)^{2} + y^{2}{\\left(\\lambda \\right)} + z^{2}{\\left(\\lambda \\right)}}\\right) \\right)}\\right) y{\\left(\\lambda \\right)}}{\\sqrt{\\left(- x_{s} + x{\\left(\\lambda \\right)}\\right)^{2} + y^{2}{\\left(\\lambda \\right)} + z^{2}{\\left(\\lambda \\right)}}} + \\frac{2 \\sigma \\left(1 - \\tanh^{2}{\\left(\\sigma \\left(R + \\sqrt{\\left(- x_{s} + x{\\left(\\lambda \\right)}\\right)^{2} + y^{2}{\\left(\\lambda \\right)} + z^{2}{\\left(\\lambda \\right)}}\\right) \\right)}\\right) y{\\left(\\lambda \\right)}}{\\sqrt{\\left(- x_{s} + x{\\left(\\lambda \\right)}\\right)^{2} + y^{2}{\\left(\\lambda \\right)} + z^{2}{\\left(\\lambda \\right)}}}\\right) \\left(- \\tanh{\\left(\\sigma \\left(- R + \\sqrt{\\left(- x_{s} + x{\\left(\\lambda \\right)}\\right)^{2} + y^{2}{\\left(\\lambda \\right)} + z^{2}{\\left(\\lambda \\right)}}\\right) \\right)} + \\tanh{\\left(\\sigma \\left(R + \\sqrt{\\left(- x_{s} + x{\\left(\\lambda \\right)}\\right)^{2} + y^{2}{\\left(\\lambda \\right)} + z^{2}{\\left(\\lambda \\right)}}\\right) \\right)}\\right)}{8 \\tanh^{2}{\\left(R \\sigma \\right)}} - \\frac{v_{s} \\left(- v_{s} \\tanh{\\left(R \\sigma - \\sigma \\sqrt{x_{s}^{2} - 2 x_{s} x{\\left(\\lambda \\right)} + x^{2}{\\left(\\lambda \\right)} + y^{2}{\\left(\\lambda \\right)} + z^{2}{\\left(\\lambda \\right)}} \\right)} - v_{s} \\tanh{\\left(R \\sigma + \\sigma \\sqrt{x_{s}^{2} - 2 x_{s} x{\\left(\\lambda \\right)} + x^{2}{\\left(\\lambda \\right)} + y^{2}{\\left(\\lambda \\right)} + z^{2}{\\left(\\lambda \\right)}} \\right)}\\right) \\left(- \\frac{\\sigma \\left(1 - \\tanh^{2}{\\left(\\sigma \\left(- R + \\sqrt{\\left(- x_{s} + x{\\left(\\lambda \\right)}\\right)^{2} + y^{2}{\\left(\\lambda \\right)} + z^{2}{\\left(\\lambda \\right)}}\\right) \\right)}\\right) y{\\left(\\lambda \\right)}}{\\sqrt{\\left(- x_{s} + x{\\left(\\lambda \\right)}\\right)^{2} + y^{2}{\\left(\\lambda \\right)} + z^{2}{\\left(\\lambda \\right)}}} + \\frac{\\sigma \\left(1 - \\tanh^{2}{\\left(\\sigma \\left(R + \\sqrt{\\left(- x_{s} + x{\\left(\\lambda \\right)}\\right)^{2} + y^{2}{\\left(\\lambda \\right)} + z^{2}{\\left(\\lambda \\right)}}\\right) \\right)}\\right) y{\\left(\\lambda \\right)}}{\\sqrt{\\left(- x_{s} + x{\\left(\\lambda \\right)}\\right)^{2} + y^{2}{\\left(\\lambda \\right)} + z^{2}{\\left(\\lambda \\right)}}}\\right)}{8 \\tanh^{2}{\\left(R \\sigma \\right)}} & - \\frac{v_{s}^{2} \\left(- \\frac{2 \\sigma \\left(1 - \\tanh^{2}{\\left(\\sigma \\left(- R + \\sqrt{\\left(- x_{s} + x{\\left(\\lambda \\right)}\\right)^{2} + y^{2}{\\left(\\lambda \\right)} + z^{2}{\\left(\\lambda \\right)}}\\right) \\right)}\\right) z{\\left(\\lambda \\right)}}{\\sqrt{\\left(- x_{s} + x{\\left(\\lambda \\right)}\\right)^{2} + y^{2}{\\left(\\lambda \\right)} + z^{2}{\\left(\\lambda \\right)}}} + \\frac{2 \\sigma \\left(1 - \\tanh^{2}{\\left(\\sigma \\left(R + \\sqrt{\\left(- x_{s} + x{\\left(\\lambda \\right)}\\right)^{2} + y^{2}{\\left(\\lambda \\right)} + z^{2}{\\left(\\lambda \\right)}}\\right) \\right)}\\right) z{\\left(\\lambda \\right)}}{\\sqrt{\\left(- x_{s} + x{\\left(\\lambda \\right)}\\right)^{2} + y^{2}{\\left(\\lambda \\right)} + z^{2}{\\left(\\lambda \\right)}}}\\right) \\left(- \\tanh{\\left(\\sigma \\left(- R + \\sqrt{\\left(- x_{s} + x{\\left(\\lambda \\right)}\\right)^{2} + y^{2}{\\left(\\lambda \\right)} + z^{2}{\\left(\\lambda \\right)}}\\right) \\right)} + \\tanh{\\left(\\sigma \\left(R + \\sqrt{\\left(- x_{s} + x{\\left(\\lambda \\right)}\\right)^{2} + y^{2}{\\left(\\lambda \\right)} + z^{2}{\\left(\\lambda \\right)}}\\right) \\right)}\\right)}{8 \\tanh^{2}{\\left(R \\sigma \\right)}} - \\frac{v_{s} \\left(- v_{s} \\tanh{\\left(R \\sigma - \\sigma \\sqrt{x_{s}^{2} - 2 x_{s} x{\\left(\\lambda \\right)} + x^{2}{\\left(\\lambda \\right)} + y^{2}{\\left(\\lambda \\right)} + z^{2}{\\left(\\lambda \\right)}} \\right)} - v_{s} \\tanh{\\left(R \\sigma + \\sigma \\sqrt{x_{s}^{2} - 2 x_{s} x{\\left(\\lambda \\right)} + x^{2}{\\left(\\lambda \\right)} + y^{2}{\\left(\\lambda \\right)} + z^{2}{\\left(\\lambda \\right)}} \\right)}\\right) \\left(- \\frac{\\sigma \\left(1 - \\tanh^{2}{\\left(\\sigma \\left(- R + \\sqrt{\\left(- x_{s} + x{\\left(\\lambda \\right)}\\right)^{2} + y^{2}{\\left(\\lambda \\right)} + z^{2}{\\left(\\lambda \\right)}}\\right) \\right)}\\right) z{\\left(\\lambda \\right)}}{\\sqrt{\\left(- x_{s} + x{\\left(\\lambda \\right)}\\right)^{2} + y^{2}{\\left(\\lambda \\right)} + z^{2}{\\left(\\lambda \\right)}}} + \\frac{\\sigma \\left(1 - \\tanh^{2}{\\left(\\sigma \\left(R + \\sqrt{\\left(- x_{s} + x{\\left(\\lambda \\right)}\\right)^{2} + y^{2}{\\left(\\lambda \\right)} + z^{2}{\\left(\\lambda \\right)}}\\right) \\right)}\\right) z{\\left(\\lambda \\right)}}{\\sqrt{\\left(- x_{s} + x{\\left(\\lambda \\right)}\\right)^{2} + y^{2}{\\left(\\lambda \\right)} + z^{2}{\\left(\\lambda \\right)}}}\\right)}{8 \\tanh^{2}{\\left(R \\sigma \\right)}}\\\\- \\frac{v_{s}^{2} \\left(- \\frac{2 \\sigma \\left(1 - \\tanh^{2}{\\left(\\sigma \\left(- R + \\sqrt{\\left(- x_{s} + x{\\left(\\lambda \\right)}\\right)^{2} + y^{2}{\\left(\\lambda \\right)} + z^{2}{\\left(\\lambda \\right)}}\\right) \\right)}\\right) \\left(- x_{s} + x{\\left(\\lambda \\right)}\\right)}{\\sqrt{\\left(- x_{s} + x{\\left(\\lambda \\right)}\\right)^{2} + y^{2}{\\left(\\lambda \\right)} + z^{2}{\\left(\\lambda \\right)}}} + \\frac{2 \\sigma \\left(1 - \\tanh^{2}{\\left(\\sigma \\left(R + \\sqrt{\\left(- x_{s} + x{\\left(\\lambda \\right)}\\right)^{2} + y^{2}{\\left(\\lambda \\right)} + z^{2}{\\left(\\lambda \\right)}}\\right) \\right)}\\right) \\left(- x_{s} + x{\\left(\\lambda \\right)}\\right)}{\\sqrt{\\left(- x_{s} + x{\\left(\\lambda \\right)}\\right)^{2} + y^{2}{\\left(\\lambda \\right)} + z^{2}{\\left(\\lambda \\right)}}}\\right) \\left(- \\tanh{\\left(\\sigma \\left(- R + \\sqrt{\\left(- x_{s} + x{\\left(\\lambda \\right)}\\right)^{2} + y^{2}{\\left(\\lambda \\right)} + z^{2}{\\left(\\lambda \\right)}}\\right) \\right)} + \\tanh{\\left(\\sigma \\left(R + \\sqrt{\\left(- x_{s} + x{\\left(\\lambda \\right)}\\right)^{2} + y^{2}{\\left(\\lambda \\right)} + z^{2}{\\left(\\lambda \\right)}}\\right) \\right)}\\right)}{8 \\tanh^{2}{\\left(R \\sigma \\right)}} & \\frac{v_{s} \\left(- \\frac{\\sigma \\left(1 - \\tanh^{2}{\\left(\\sigma \\left(- R + \\sqrt{\\left(- x_{s} + x{\\left(\\lambda \\right)}\\right)^{2} + y^{2}{\\left(\\lambda \\right)} + z^{2}{\\left(\\lambda \\right)}}\\right) \\right)}\\right) \\left(- x_{s} + x{\\left(\\lambda \\right)}\\right)}{\\sqrt{\\left(- x_{s} + x{\\left(\\lambda \\right)}\\right)^{2} + y^{2}{\\left(\\lambda \\right)} + z^{2}{\\left(\\lambda \\right)}}} + \\frac{\\sigma \\left(1 - \\tanh^{2}{\\left(\\sigma \\left(R + \\sqrt{\\left(- x_{s} + x{\\left(\\lambda \\right)}\\right)^{2} + y^{2}{\\left(\\lambda \\right)} + z^{2}{\\left(\\lambda \\right)}}\\right) \\right)}\\right) \\left(- x_{s} + x{\\left(\\lambda \\right)}\\right)}{\\sqrt{\\left(- x_{s} + x{\\left(\\lambda \\right)}\\right)^{2} + y^{2}{\\left(\\lambda \\right)} + z^{2}{\\left(\\lambda \\right)}}}\\right)}{2 \\tanh{\\left(R \\sigma \\right)}} & \\frac{v_{s} \\left(- \\frac{\\sigma \\left(1 - \\tanh^{2}{\\left(\\sigma \\left(- R + \\sqrt{\\left(- x_{s} + x{\\left(\\lambda \\right)}\\right)^{2} + y^{2}{\\left(\\lambda \\right)} + z^{2}{\\left(\\lambda \\right)}}\\right) \\right)}\\right) y{\\left(\\lambda \\right)}}{\\sqrt{\\left(- x_{s} + x{\\left(\\lambda \\right)}\\right)^{2} + y^{2}{\\left(\\lambda \\right)} + z^{2}{\\left(\\lambda \\right)}}} + \\frac{\\sigma \\left(1 - \\tanh^{2}{\\left(\\sigma \\left(R + \\sqrt{\\left(- x_{s} + x{\\left(\\lambda \\right)}\\right)^{2} + y^{2}{\\left(\\lambda \\right)} + z^{2}{\\left(\\lambda \\right)}}\\right) \\right)}\\right) y{\\left(\\lambda \\right)}}{\\sqrt{\\left(- x_{s} + x{\\left(\\lambda \\right)}\\right)^{2} + y^{2}{\\left(\\lambda \\right)} + z^{2}{\\left(\\lambda \\right)}}}\\right)}{4 \\tanh{\\left(R \\sigma \\right)}} & \\frac{v_{s} \\left(- \\frac{\\sigma \\left(1 - \\tanh^{2}{\\left(\\sigma \\left(- R + \\sqrt{\\left(- x_{s} + x{\\left(\\lambda \\right)}\\right)^{2} + y^{2}{\\left(\\lambda \\right)} + z^{2}{\\left(\\lambda \\right)}}\\right) \\right)}\\right) z{\\left(\\lambda \\right)}}{\\sqrt{\\left(- x_{s} + x{\\left(\\lambda \\right)}\\right)^{2} + y^{2}{\\left(\\lambda \\right)} + z^{2}{\\left(\\lambda \\right)}}} + \\frac{\\sigma \\left(1 - \\tanh^{2}{\\left(\\sigma \\left(R + \\sqrt{\\left(- x_{s} + x{\\left(\\lambda \\right)}\\right)^{2} + y^{2}{\\left(\\lambda \\right)} + z^{2}{\\left(\\lambda \\right)}}\\right) \\right)}\\right) z{\\left(\\lambda \\right)}}{\\sqrt{\\left(- x_{s} + x{\\left(\\lambda \\right)}\\right)^{2} + y^{2}{\\left(\\lambda \\right)} + z^{2}{\\left(\\lambda \\right)}}}\\right)}{4 \\tanh{\\left(R \\sigma \\right)}}\\\\- \\frac{v_{s}^{2} \\left(- \\frac{2 \\sigma \\left(1 - \\tanh^{2}{\\left(\\sigma \\left(- R + \\sqrt{\\left(- x_{s} + x{\\left(\\lambda \\right)}\\right)^{2} + y^{2}{\\left(\\lambda \\right)} + z^{2}{\\left(\\lambda \\right)}}\\right) \\right)}\\right) y{\\left(\\lambda \\right)}}{\\sqrt{\\left(- x_{s} + x{\\left(\\lambda \\right)}\\right)^{2} + y^{2}{\\left(\\lambda \\right)} + z^{2}{\\left(\\lambda \\right)}}} + \\frac{2 \\sigma \\left(1 - \\tanh^{2}{\\left(\\sigma \\left(R + \\sqrt{\\left(- x_{s} + x{\\left(\\lambda \\right)}\\right)^{2} + y^{2}{\\left(\\lambda \\right)} + z^{2}{\\left(\\lambda \\right)}}\\right) \\right)}\\right) y{\\left(\\lambda \\right)}}{\\sqrt{\\left(- x_{s} + x{\\left(\\lambda \\right)}\\right)^{2} + y^{2}{\\left(\\lambda \\right)} + z^{2}{\\left(\\lambda \\right)}}}\\right) \\left(- \\tanh{\\left(\\sigma \\left(- R + \\sqrt{\\left(- x_{s} + x{\\left(\\lambda \\right)}\\right)^{2} + y^{2}{\\left(\\lambda \\right)} + z^{2}{\\left(\\lambda \\right)}}\\right) \\right)} + \\tanh{\\left(\\sigma \\left(R + \\sqrt{\\left(- x_{s} + x{\\left(\\lambda \\right)}\\right)^{2} + y^{2}{\\left(\\lambda \\right)} + z^{2}{\\left(\\lambda \\right)}}\\right) \\right)}\\right)}{8 \\tanh^{2}{\\left(R \\sigma \\right)}} - \\frac{v_{s} \\left(- v_{s} \\tanh{\\left(R \\sigma - \\sigma \\sqrt{x_{s}^{2} - 2 x_{s} x{\\left(\\lambda \\right)} + x^{2}{\\left(\\lambda \\right)} + y^{2}{\\left(\\lambda \\right)} + z^{2}{\\left(\\lambda \\right)}} \\right)} - v_{s} \\tanh{\\left(R \\sigma + \\sigma \\sqrt{x_{s}^{2} - 2 x_{s} x{\\left(\\lambda \\right)} + x^{2}{\\left(\\lambda \\right)} + y^{2}{\\left(\\lambda \\right)} + z^{2}{\\left(\\lambda \\right)}} \\right)}\\right) \\left(- \\frac{\\sigma \\left(1 - \\tanh^{2}{\\left(\\sigma \\left(- R + \\sqrt{\\left(- x_{s} + x{\\left(\\lambda \\right)}\\right)^{2} + y^{2}{\\left(\\lambda \\right)} + z^{2}{\\left(\\lambda \\right)}}\\right) \\right)}\\right) y{\\left(\\lambda \\right)}}{\\sqrt{\\left(- x_{s} + x{\\left(\\lambda \\right)}\\right)^{2} + y^{2}{\\left(\\lambda \\right)} + z^{2}{\\left(\\lambda \\right)}}} + \\frac{\\sigma \\left(1 - \\tanh^{2}{\\left(\\sigma \\left(R + \\sqrt{\\left(- x_{s} + x{\\left(\\lambda \\right)}\\right)^{2} + y^{2}{\\left(\\lambda \\right)} + z^{2}{\\left(\\lambda \\right)}}\\right) \\right)}\\right) y{\\left(\\lambda \\right)}}{\\sqrt{\\left(- x_{s} + x{\\left(\\lambda \\right)}\\right)^{2} + y^{2}{\\left(\\lambda \\right)} + z^{2}{\\left(\\lambda \\right)}}}\\right)}{8 \\tanh^{2}{\\left(R \\sigma \\right)}} & \\frac{v_{s} \\left(- \\frac{\\sigma \\left(1 - \\tanh^{2}{\\left(\\sigma \\left(- R + \\sqrt{\\left(- x_{s} + x{\\left(\\lambda \\right)}\\right)^{2} + y^{2}{\\left(\\lambda \\right)} + z^{2}{\\left(\\lambda \\right)}}\\right) \\right)}\\right) y{\\left(\\lambda \\right)}}{\\sqrt{\\left(- x_{s} + x{\\left(\\lambda \\right)}\\right)^{2} + y^{2}{\\left(\\lambda \\right)} + z^{2}{\\left(\\lambda \\right)}}} + \\frac{\\sigma \\left(1 - \\tanh^{2}{\\left(\\sigma \\left(R + \\sqrt{\\left(- x_{s} + x{\\left(\\lambda \\right)}\\right)^{2} + y^{2}{\\left(\\lambda \\right)} + z^{2}{\\left(\\lambda \\right)}}\\right) \\right)}\\right) y{\\left(\\lambda \\right)}}{\\sqrt{\\left(- x_{s} + x{\\left(\\lambda \\right)}\\right)^{2} + y^{2}{\\left(\\lambda \\right)} + z^{2}{\\left(\\lambda \\right)}}}\\right)}{4 \\tanh{\\left(R \\sigma \\right)}} & 0 & 0\\\\- \\frac{v_{s}^{2} \\left(- \\frac{2 \\sigma \\left(1 - \\tanh^{2}{\\left(\\sigma \\left(- R + \\sqrt{\\left(- x_{s} + x{\\left(\\lambda \\right)}\\right)^{2} + y^{2}{\\left(\\lambda \\right)} + z^{2}{\\left(\\lambda \\right)}}\\right) \\right)}\\right) z{\\left(\\lambda \\right)}}{\\sqrt{\\left(- x_{s} + x{\\left(\\lambda \\right)}\\right)^{2} + y^{2}{\\left(\\lambda \\right)} + z^{2}{\\left(\\lambda \\right)}}} + \\frac{2 \\sigma \\left(1 - \\tanh^{2}{\\left(\\sigma \\left(R + \\sqrt{\\left(- x_{s} + x{\\left(\\lambda \\right)}\\right)^{2} + y^{2}{\\left(\\lambda \\right)} + z^{2}{\\left(\\lambda \\right)}}\\right) \\right)}\\right) z{\\left(\\lambda \\right)}}{\\sqrt{\\left(- x_{s} + x{\\left(\\lambda \\right)}\\right)^{2} + y^{2}{\\left(\\lambda \\right)} + z^{2}{\\left(\\lambda \\right)}}}\\right) \\left(- \\tanh{\\left(\\sigma \\left(- R + \\sqrt{\\left(- x_{s} + x{\\left(\\lambda \\right)}\\right)^{2} + y^{2}{\\left(\\lambda \\right)} + z^{2}{\\left(\\lambda \\right)}}\\right) \\right)} + \\tanh{\\left(\\sigma \\left(R + \\sqrt{\\left(- x_{s} + x{\\left(\\lambda \\right)}\\right)^{2} + y^{2}{\\left(\\lambda \\right)} + z^{2}{\\left(\\lambda \\right)}}\\right) \\right)}\\right)}{8 \\tanh^{2}{\\left(R \\sigma \\right)}} - \\frac{v_{s} \\left(- v_{s} \\tanh{\\left(R \\sigma - \\sigma \\sqrt{x_{s}^{2} - 2 x_{s} x{\\left(\\lambda \\right)} + x^{2}{\\left(\\lambda \\right)} + y^{2}{\\left(\\lambda \\right)} + z^{2}{\\left(\\lambda \\right)}} \\right)} - v_{s} \\tanh{\\left(R \\sigma + \\sigma \\sqrt{x_{s}^{2} - 2 x_{s} x{\\left(\\lambda \\right)} + x^{2}{\\left(\\lambda \\right)} + y^{2}{\\left(\\lambda \\right)} + z^{2}{\\left(\\lambda \\right)}} \\right)}\\right) \\left(- \\frac{\\sigma \\left(1 - \\tanh^{2}{\\left(\\sigma \\left(- R + \\sqrt{\\left(- x_{s} + x{\\left(\\lambda \\right)}\\right)^{2} + y^{2}{\\left(\\lambda \\right)} + z^{2}{\\left(\\lambda \\right)}}\\right) \\right)}\\right) z{\\left(\\lambda \\right)}}{\\sqrt{\\left(- x_{s} + x{\\left(\\lambda \\right)}\\right)^{2} + y^{2}{\\left(\\lambda \\right)} + z^{2}{\\left(\\lambda \\right)}}} + \\frac{\\sigma \\left(1 - \\tanh^{2}{\\left(\\sigma \\left(R + \\sqrt{\\left(- x_{s} + x{\\left(\\lambda \\right)}\\right)^{2} + y^{2}{\\left(\\lambda \\right)} + z^{2}{\\left(\\lambda \\right)}}\\right) \\right)}\\right) z{\\left(\\lambda \\right)}}{\\sqrt{\\left(- x_{s} + x{\\left(\\lambda \\right)}\\right)^{2} + y^{2}{\\left(\\lambda \\right)} + z^{2}{\\left(\\lambda \\right)}}}\\right)}{8 \\tanh^{2}{\\left(R \\sigma \\right)}} & \\frac{v_{s} \\left(- \\frac{\\sigma \\left(1 - \\tanh^{2}{\\left(\\sigma \\left(- R + \\sqrt{\\left(- x_{s} + x{\\left(\\lambda \\right)}\\right)^{2} + y^{2}{\\left(\\lambda \\right)} + z^{2}{\\left(\\lambda \\right)}}\\right) \\right)}\\right) z{\\left(\\lambda \\right)}}{\\sqrt{\\left(- x_{s} + x{\\left(\\lambda \\right)}\\right)^{2} + y^{2}{\\left(\\lambda \\right)} + z^{2}{\\left(\\lambda \\right)}}} + \\frac{\\sigma \\left(1 - \\tanh^{2}{\\left(\\sigma \\left(R + \\sqrt{\\left(- x_{s} + x{\\left(\\lambda \\right)}\\right)^{2} + y^{2}{\\left(\\lambda \\right)} + z^{2}{\\left(\\lambda \\right)}}\\right) \\right)}\\right) z{\\left(\\lambda \\right)}}{\\sqrt{\\left(- x_{s} + x{\\left(\\lambda \\right)}\\right)^{2} + y^{2}{\\left(\\lambda \\right)} + z^{2}{\\left(\\lambda \\right)}}}\\right)}{4 \\tanh{\\left(R \\sigma \\right)}} & 0 & 0\\end{matrix}\\right]$"
      ],
      "text/plain": [
       "Matrix([\n",
       "[                                                                                                                                                                                                                                                                                                                                            -v_s**2*(-v_s*tanh(R*sigma - sigma*sqrt(x_s**2 - 2*x_s*x(lambda) + x(lambda)**2 + y(lambda)**2 + z(lambda)**2)) - v_s*tanh(R*sigma + sigma*sqrt(x_s**2 - 2*x_s*x(lambda) + x(lambda)**2 + y(lambda)**2 + z(lambda)**2)))*(-2*sigma*(1 - tanh(sigma*(-R + sqrt((-x_s + x(lambda))**2 + y(lambda)**2 + z(lambda)**2)))**2)*(-x_s + x(lambda))/sqrt((-x_s + x(lambda))**2 + y(lambda)**2 + z(lambda)**2) + 2*sigma*(1 - tanh(sigma*(R + sqrt((-x_s + x(lambda))**2 + y(lambda)**2 + z(lambda)**2)))**2)*(-x_s + x(lambda))/sqrt((-x_s + x(lambda))**2 + y(lambda)**2 + z(lambda)**2))*(-tanh(sigma*(-R + sqrt((-x_s + x(lambda))**2 + y(lambda)**2 + z(lambda)**2))) + tanh(sigma*(R + sqrt((-x_s + x(lambda))**2 + y(lambda)**2 + z(lambda)**2))))/(16*tanh(R*sigma)**3), -v_s**2*(-2*sigma*(1 - tanh(sigma*(-R + sqrt((-x_s + x(lambda))**2 + y(lambda)**2 + z(lambda)**2)))**2)*(-x_s + x(lambda))/sqrt((-x_s + x(lambda))**2 + y(lambda)**2 + z(lambda)**2) + 2*sigma*(1 - tanh(sigma*(R + sqrt((-x_s + x(lambda))**2 + y(lambda)**2 + z(lambda)**2)))**2)*(-x_s + x(lambda))/sqrt((-x_s + x(lambda))**2 + y(lambda)**2 + z(lambda)**2))*(-tanh(sigma*(-R + sqrt((-x_s + x(lambda))**2 + y(lambda)**2 + z(lambda)**2))) + tanh(sigma*(R + sqrt((-x_s + x(lambda))**2 + y(lambda)**2 + z(lambda)**2))))/(8*tanh(R*sigma)**2), -v_s**2*(-2*sigma*(1 - tanh(sigma*(-R + sqrt((-x_s + x(lambda))**2 + y(lambda)**2 + z(lambda)**2)))**2)*y(lambda)/sqrt((-x_s + x(lambda))**2 + y(lambda)**2 + z(lambda)**2) + 2*sigma*(1 - tanh(sigma*(R + sqrt((-x_s + x(lambda))**2 + y(lambda)**2 + z(lambda)**2)))**2)*y(lambda)/sqrt((-x_s + x(lambda))**2 + y(lambda)**2 + z(lambda)**2))*(-tanh(sigma*(-R + sqrt((-x_s + x(lambda))**2 + y(lambda)**2 + z(lambda)**2))) + tanh(sigma*(R + sqrt((-x_s + x(lambda))**2 + y(lambda)**2 + z(lambda)**2))))/(8*tanh(R*sigma)**2) - v_s*(-v_s*tanh(R*sigma - sigma*sqrt(x_s**2 - 2*x_s*x(lambda) + x(lambda)**2 + y(lambda)**2 + z(lambda)**2)) - v_s*tanh(R*sigma + sigma*sqrt(x_s**2 - 2*x_s*x(lambda) + x(lambda)**2 + y(lambda)**2 + z(lambda)**2)))*(-sigma*(1 - tanh(sigma*(-R + sqrt((-x_s + x(lambda))**2 + y(lambda)**2 + z(lambda)**2)))**2)*y(lambda)/sqrt((-x_s + x(lambda))**2 + y(lambda)**2 + z(lambda)**2) + sigma*(1 - tanh(sigma*(R + sqrt((-x_s + x(lambda))**2 + y(lambda)**2 + z(lambda)**2)))**2)*y(lambda)/sqrt((-x_s + x(lambda))**2 + y(lambda)**2 + z(lambda)**2))/(8*tanh(R*sigma)**2), -v_s**2*(-2*sigma*(1 - tanh(sigma*(-R + sqrt((-x_s + x(lambda))**2 + y(lambda)**2 + z(lambda)**2)))**2)*z(lambda)/sqrt((-x_s + x(lambda))**2 + y(lambda)**2 + z(lambda)**2) + 2*sigma*(1 - tanh(sigma*(R + sqrt((-x_s + x(lambda))**2 + y(lambda)**2 + z(lambda)**2)))**2)*z(lambda)/sqrt((-x_s + x(lambda))**2 + y(lambda)**2 + z(lambda)**2))*(-tanh(sigma*(-R + sqrt((-x_s + x(lambda))**2 + y(lambda)**2 + z(lambda)**2))) + tanh(sigma*(R + sqrt((-x_s + x(lambda))**2 + y(lambda)**2 + z(lambda)**2))))/(8*tanh(R*sigma)**2) - v_s*(-v_s*tanh(R*sigma - sigma*sqrt(x_s**2 - 2*x_s*x(lambda) + x(lambda)**2 + y(lambda)**2 + z(lambda)**2)) - v_s*tanh(R*sigma + sigma*sqrt(x_s**2 - 2*x_s*x(lambda) + x(lambda)**2 + y(lambda)**2 + z(lambda)**2)))*(-sigma*(1 - tanh(sigma*(-R + sqrt((-x_s + x(lambda))**2 + y(lambda)**2 + z(lambda)**2)))**2)*z(lambda)/sqrt((-x_s + x(lambda))**2 + y(lambda)**2 + z(lambda)**2) + sigma*(1 - tanh(sigma*(R + sqrt((-x_s + x(lambda))**2 + y(lambda)**2 + z(lambda)**2)))**2)*z(lambda)/sqrt((-x_s + x(lambda))**2 + y(lambda)**2 + z(lambda)**2))/(8*tanh(R*sigma)**2)],\n",
       "[                                                                                                                                                                                                                                                                                                                                                                                                                                                                                                                                                              -v_s**2*(-2*sigma*(1 - tanh(sigma*(-R + sqrt((-x_s + x(lambda))**2 + y(lambda)**2 + z(lambda)**2)))**2)*(-x_s + x(lambda))/sqrt((-x_s + x(lambda))**2 + y(lambda)**2 + z(lambda)**2) + 2*sigma*(1 - tanh(sigma*(R + sqrt((-x_s + x(lambda))**2 + y(lambda)**2 + z(lambda)**2)))**2)*(-x_s + x(lambda))/sqrt((-x_s + x(lambda))**2 + y(lambda)**2 + z(lambda)**2))*(-tanh(sigma*(-R + sqrt((-x_s + x(lambda))**2 + y(lambda)**2 + z(lambda)**2))) + tanh(sigma*(R + sqrt((-x_s + x(lambda))**2 + y(lambda)**2 + z(lambda)**2))))/(8*tanh(R*sigma)**2),                                                                                                                                                                          v_s*(-sigma*(1 - tanh(sigma*(-R + sqrt((-x_s + x(lambda))**2 + y(lambda)**2 + z(lambda)**2)))**2)*(-x_s + x(lambda))/sqrt((-x_s + x(lambda))**2 + y(lambda)**2 + z(lambda)**2) + sigma*(1 - tanh(sigma*(R + sqrt((-x_s + x(lambda))**2 + y(lambda)**2 + z(lambda)**2)))**2)*(-x_s + x(lambda))/sqrt((-x_s + x(lambda))**2 + y(lambda)**2 + z(lambda)**2))/(2*tanh(R*sigma)),                                                                                                                                                                                                                                                                                                                                                                                                                                                                                                                                                                                                                                                                                                                                                          v_s*(-sigma*(1 - tanh(sigma*(-R + sqrt((-x_s + x(lambda))**2 + y(lambda)**2 + z(lambda)**2)))**2)*y(lambda)/sqrt((-x_s + x(lambda))**2 + y(lambda)**2 + z(lambda)**2) + sigma*(1 - tanh(sigma*(R + sqrt((-x_s + x(lambda))**2 + y(lambda)**2 + z(lambda)**2)))**2)*y(lambda)/sqrt((-x_s + x(lambda))**2 + y(lambda)**2 + z(lambda)**2))/(4*tanh(R*sigma)),                                                                                                                                                                                                                                                                                                                                                                                                                                                                                                                                                                                                                                                                                                                                                          v_s*(-sigma*(1 - tanh(sigma*(-R + sqrt((-x_s + x(lambda))**2 + y(lambda)**2 + z(lambda)**2)))**2)*z(lambda)/sqrt((-x_s + x(lambda))**2 + y(lambda)**2 + z(lambda)**2) + sigma*(1 - tanh(sigma*(R + sqrt((-x_s + x(lambda))**2 + y(lambda)**2 + z(lambda)**2)))**2)*z(lambda)/sqrt((-x_s + x(lambda))**2 + y(lambda)**2 + z(lambda)**2))/(4*tanh(R*sigma))],\n",
       "[-v_s**2*(-2*sigma*(1 - tanh(sigma*(-R + sqrt((-x_s + x(lambda))**2 + y(lambda)**2 + z(lambda)**2)))**2)*y(lambda)/sqrt((-x_s + x(lambda))**2 + y(lambda)**2 + z(lambda)**2) + 2*sigma*(1 - tanh(sigma*(R + sqrt((-x_s + x(lambda))**2 + y(lambda)**2 + z(lambda)**2)))**2)*y(lambda)/sqrt((-x_s + x(lambda))**2 + y(lambda)**2 + z(lambda)**2))*(-tanh(sigma*(-R + sqrt((-x_s + x(lambda))**2 + y(lambda)**2 + z(lambda)**2))) + tanh(sigma*(R + sqrt((-x_s + x(lambda))**2 + y(lambda)**2 + z(lambda)**2))))/(8*tanh(R*sigma)**2) - v_s*(-v_s*tanh(R*sigma - sigma*sqrt(x_s**2 - 2*x_s*x(lambda) + x(lambda)**2 + y(lambda)**2 + z(lambda)**2)) - v_s*tanh(R*sigma + sigma*sqrt(x_s**2 - 2*x_s*x(lambda) + x(lambda)**2 + y(lambda)**2 + z(lambda)**2)))*(-sigma*(1 - tanh(sigma*(-R + sqrt((-x_s + x(lambda))**2 + y(lambda)**2 + z(lambda)**2)))**2)*y(lambda)/sqrt((-x_s + x(lambda))**2 + y(lambda)**2 + z(lambda)**2) + sigma*(1 - tanh(sigma*(R + sqrt((-x_s + x(lambda))**2 + y(lambda)**2 + z(lambda)**2)))**2)*y(lambda)/sqrt((-x_s + x(lambda))**2 + y(lambda)**2 + z(lambda)**2))/(8*tanh(R*sigma)**2),                                                                                                                                                                                            v_s*(-sigma*(1 - tanh(sigma*(-R + sqrt((-x_s + x(lambda))**2 + y(lambda)**2 + z(lambda)**2)))**2)*y(lambda)/sqrt((-x_s + x(lambda))**2 + y(lambda)**2 + z(lambda)**2) + sigma*(1 - tanh(sigma*(R + sqrt((-x_s + x(lambda))**2 + y(lambda)**2 + z(lambda)**2)))**2)*y(lambda)/sqrt((-x_s + x(lambda))**2 + y(lambda)**2 + z(lambda)**2))/(4*tanh(R*sigma)),                                                                                                                                                                                                                                                                                                                                                                                                                                                                                                                                                                                                                                                                                                                                                                                                                                                                                                                                                                                                                                                                                                                  0,                                                                                                                                                                                                                                                                                                                                                                                                                                                                                                                                                                                                                                                                                                                                                                                                                                                                                                                                                                                                                                                                                                                  0],\n",
       "[-v_s**2*(-2*sigma*(1 - tanh(sigma*(-R + sqrt((-x_s + x(lambda))**2 + y(lambda)**2 + z(lambda)**2)))**2)*z(lambda)/sqrt((-x_s + x(lambda))**2 + y(lambda)**2 + z(lambda)**2) + 2*sigma*(1 - tanh(sigma*(R + sqrt((-x_s + x(lambda))**2 + y(lambda)**2 + z(lambda)**2)))**2)*z(lambda)/sqrt((-x_s + x(lambda))**2 + y(lambda)**2 + z(lambda)**2))*(-tanh(sigma*(-R + sqrt((-x_s + x(lambda))**2 + y(lambda)**2 + z(lambda)**2))) + tanh(sigma*(R + sqrt((-x_s + x(lambda))**2 + y(lambda)**2 + z(lambda)**2))))/(8*tanh(R*sigma)**2) - v_s*(-v_s*tanh(R*sigma - sigma*sqrt(x_s**2 - 2*x_s*x(lambda) + x(lambda)**2 + y(lambda)**2 + z(lambda)**2)) - v_s*tanh(R*sigma + sigma*sqrt(x_s**2 - 2*x_s*x(lambda) + x(lambda)**2 + y(lambda)**2 + z(lambda)**2)))*(-sigma*(1 - tanh(sigma*(-R + sqrt((-x_s + x(lambda))**2 + y(lambda)**2 + z(lambda)**2)))**2)*z(lambda)/sqrt((-x_s + x(lambda))**2 + y(lambda)**2 + z(lambda)**2) + sigma*(1 - tanh(sigma*(R + sqrt((-x_s + x(lambda))**2 + y(lambda)**2 + z(lambda)**2)))**2)*z(lambda)/sqrt((-x_s + x(lambda))**2 + y(lambda)**2 + z(lambda)**2))/(8*tanh(R*sigma)**2),                                                                                                                                                                                            v_s*(-sigma*(1 - tanh(sigma*(-R + sqrt((-x_s + x(lambda))**2 + y(lambda)**2 + z(lambda)**2)))**2)*z(lambda)/sqrt((-x_s + x(lambda))**2 + y(lambda)**2 + z(lambda)**2) + sigma*(1 - tanh(sigma*(R + sqrt((-x_s + x(lambda))**2 + y(lambda)**2 + z(lambda)**2)))**2)*z(lambda)/sqrt((-x_s + x(lambda))**2 + y(lambda)**2 + z(lambda)**2))/(4*tanh(R*sigma)),                                                                                                                                                                                                                                                                                                                                                                                                                                                                                                                                                                                                                                                                                                                                                                                                                                                                                                                                                                                                                                                                                                                  0,                                                                                                                                                                                                                                                                                                                                                                                                                                                                                                                                                                                                                                                                                                                                                                                                                                                                                                                                                                                                                                                                                                                  0]])"
      ]
     },
     "metadata": {},
     "output_type": "display_data"
    },
    {
     "data": {
      "text/latex": [
       "$\\displaystyle \\left[\\begin{matrix}- \\frac{v_{s}^{2} \\left(- \\frac{2 \\sigma \\left(1 - \\tanh^{2}{\\left(\\sigma \\left(- R + \\sqrt{\\left(- x_{s} + x{\\left(\\lambda \\right)}\\right)^{2} + y^{2}{\\left(\\lambda \\right)} + z^{2}{\\left(\\lambda \\right)}}\\right) \\right)}\\right) \\left(- x_{s} + x{\\left(\\lambda \\right)}\\right)}{\\sqrt{\\left(- x_{s} + x{\\left(\\lambda \\right)}\\right)^{2} + y^{2}{\\left(\\lambda \\right)} + z^{2}{\\left(\\lambda \\right)}}} + \\frac{2 \\sigma \\left(1 - \\tanh^{2}{\\left(\\sigma \\left(R + \\sqrt{\\left(- x_{s} + x{\\left(\\lambda \\right)}\\right)^{2} + y^{2}{\\left(\\lambda \\right)} + z^{2}{\\left(\\lambda \\right)}}\\right) \\right)}\\right) \\left(- x_{s} + x{\\left(\\lambda \\right)}\\right)}{\\sqrt{\\left(- x_{s} + x{\\left(\\lambda \\right)}\\right)^{2} + y^{2}{\\left(\\lambda \\right)} + z^{2}{\\left(\\lambda \\right)}}}\\right) \\left(- \\tanh{\\left(\\sigma \\left(- R + \\sqrt{\\left(- x_{s} + x{\\left(\\lambda \\right)}\\right)^{2} + y^{2}{\\left(\\lambda \\right)} + z^{2}{\\left(\\lambda \\right)}}\\right) \\right)} + \\tanh{\\left(\\sigma \\left(R + \\sqrt{\\left(- x_{s} + x{\\left(\\lambda \\right)}\\right)^{2} + y^{2}{\\left(\\lambda \\right)} + z^{2}{\\left(\\lambda \\right)}}\\right) \\right)}\\right) \\left(- v_{s}^{2} \\tanh^{2}{\\left(R \\sigma - \\sigma \\sqrt{x_{s}^{2} - 2 x_{s} x{\\left(\\lambda \\right)} + x^{2}{\\left(\\lambda \\right)} + y^{2}{\\left(\\lambda \\right)} + z^{2}{\\left(\\lambda \\right)}} \\right)} - 2 v_{s}^{2} \\tanh{\\left(R \\sigma - \\sigma \\sqrt{x_{s}^{2} - 2 x_{s} x{\\left(\\lambda \\right)} + x^{2}{\\left(\\lambda \\right)} + y^{2}{\\left(\\lambda \\right)} + z^{2}{\\left(\\lambda \\right)}} \\right)} \\tanh{\\left(R \\sigma + \\sigma \\sqrt{x_{s}^{2} - 2 x_{s} x{\\left(\\lambda \\right)} + x^{2}{\\left(\\lambda \\right)} + y^{2}{\\left(\\lambda \\right)} + z^{2}{\\left(\\lambda \\right)}} \\right)} - v_{s}^{2} \\tanh^{2}{\\left(R \\sigma + \\sigma \\sqrt{x_{s}^{2} - 2 x_{s} x{\\left(\\lambda \\right)} + x^{2}{\\left(\\lambda \\right)} + y^{2}{\\left(\\lambda \\right)} + z^{2}{\\left(\\lambda \\right)}} \\right)} + 4 \\tanh^{2}{\\left(R \\sigma \\right)}\\right)}{32 \\tanh^{4}{\\left(R \\sigma \\right)}} & \\frac{v_{s}^{2} \\left(- v_{s} \\tanh{\\left(R \\sigma - \\sigma \\sqrt{x_{s}^{2} - 2 x_{s} x{\\left(\\lambda \\right)} + x^{2}{\\left(\\lambda \\right)} + y^{2}{\\left(\\lambda \\right)} + z^{2}{\\left(\\lambda \\right)}} \\right)} - v_{s} \\tanh{\\left(R \\sigma + \\sigma \\sqrt{x_{s}^{2} - 2 x_{s} x{\\left(\\lambda \\right)} + x^{2}{\\left(\\lambda \\right)} + y^{2}{\\left(\\lambda \\right)} + z^{2}{\\left(\\lambda \\right)}} \\right)}\\right) \\left(- \\frac{2 \\sigma \\left(1 - \\tanh^{2}{\\left(\\sigma \\left(- R + \\sqrt{\\left(- x_{s} + x{\\left(\\lambda \\right)}\\right)^{2} + y^{2}{\\left(\\lambda \\right)} + z^{2}{\\left(\\lambda \\right)}}\\right) \\right)}\\right) \\left(- x_{s} + x{\\left(\\lambda \\right)}\\right)}{\\sqrt{\\left(- x_{s} + x{\\left(\\lambda \\right)}\\right)^{2} + y^{2}{\\left(\\lambda \\right)} + z^{2}{\\left(\\lambda \\right)}}} + \\frac{2 \\sigma \\left(1 - \\tanh^{2}{\\left(\\sigma \\left(R + \\sqrt{\\left(- x_{s} + x{\\left(\\lambda \\right)}\\right)^{2} + y^{2}{\\left(\\lambda \\right)} + z^{2}{\\left(\\lambda \\right)}}\\right) \\right)}\\right) \\left(- x_{s} + x{\\left(\\lambda \\right)}\\right)}{\\sqrt{\\left(- x_{s} + x{\\left(\\lambda \\right)}\\right)^{2} + y^{2}{\\left(\\lambda \\right)} + z^{2}{\\left(\\lambda \\right)}}}\\right) \\left(- \\tanh{\\left(\\sigma \\left(- R + \\sqrt{\\left(- x_{s} + x{\\left(\\lambda \\right)}\\right)^{2} + y^{2}{\\left(\\lambda \\right)} + z^{2}{\\left(\\lambda \\right)}}\\right) \\right)} + \\tanh{\\left(\\sigma \\left(R + \\sqrt{\\left(- x_{s} + x{\\left(\\lambda \\right)}\\right)^{2} + y^{2}{\\left(\\lambda \\right)} + z^{2}{\\left(\\lambda \\right)}}\\right) \\right)}\\right)}{16 \\tanh^{3}{\\left(R \\sigma \\right)}} & \\frac{v_{s}^{2} \\left(- v_{s} \\tanh{\\left(R \\sigma - \\sigma \\sqrt{x_{s}^{2} - 2 x_{s} x{\\left(\\lambda \\right)} + x^{2}{\\left(\\lambda \\right)} + y^{2}{\\left(\\lambda \\right)} + z^{2}{\\left(\\lambda \\right)}} \\right)} - v_{s} \\tanh{\\left(R \\sigma + \\sigma \\sqrt{x_{s}^{2} - 2 x_{s} x{\\left(\\lambda \\right)} + x^{2}{\\left(\\lambda \\right)} + y^{2}{\\left(\\lambda \\right)} + z^{2}{\\left(\\lambda \\right)}} \\right)}\\right) \\left(- \\frac{2 \\sigma \\left(1 - \\tanh^{2}{\\left(\\sigma \\left(- R + \\sqrt{\\left(- x_{s} + x{\\left(\\lambda \\right)}\\right)^{2} + y^{2}{\\left(\\lambda \\right)} + z^{2}{\\left(\\lambda \\right)}}\\right) \\right)}\\right) y{\\left(\\lambda \\right)}}{\\sqrt{\\left(- x_{s} + x{\\left(\\lambda \\right)}\\right)^{2} + y^{2}{\\left(\\lambda \\right)} + z^{2}{\\left(\\lambda \\right)}}} + \\frac{2 \\sigma \\left(1 - \\tanh^{2}{\\left(\\sigma \\left(R + \\sqrt{\\left(- x_{s} + x{\\left(\\lambda \\right)}\\right)^{2} + y^{2}{\\left(\\lambda \\right)} + z^{2}{\\left(\\lambda \\right)}}\\right) \\right)}\\right) y{\\left(\\lambda \\right)}}{\\sqrt{\\left(- x_{s} + x{\\left(\\lambda \\right)}\\right)^{2} + y^{2}{\\left(\\lambda \\right)} + z^{2}{\\left(\\lambda \\right)}}}\\right) \\left(- \\tanh{\\left(\\sigma \\left(- R + \\sqrt{\\left(- x_{s} + x{\\left(\\lambda \\right)}\\right)^{2} + y^{2}{\\left(\\lambda \\right)} + z^{2}{\\left(\\lambda \\right)}}\\right) \\right)} + \\tanh{\\left(\\sigma \\left(R + \\sqrt{\\left(- x_{s} + x{\\left(\\lambda \\right)}\\right)^{2} + y^{2}{\\left(\\lambda \\right)} + z^{2}{\\left(\\lambda \\right)}}\\right) \\right)}\\right)}{16 \\tanh^{3}{\\left(R \\sigma \\right)}} - \\frac{v_{s} \\left(- \\frac{\\sigma \\left(1 - \\tanh^{2}{\\left(\\sigma \\left(- R + \\sqrt{\\left(- x_{s} + x{\\left(\\lambda \\right)}\\right)^{2} + y^{2}{\\left(\\lambda \\right)} + z^{2}{\\left(\\lambda \\right)}}\\right) \\right)}\\right) y{\\left(\\lambda \\right)}}{\\sqrt{\\left(- x_{s} + x{\\left(\\lambda \\right)}\\right)^{2} + y^{2}{\\left(\\lambda \\right)} + z^{2}{\\left(\\lambda \\right)}}} + \\frac{\\sigma \\left(1 - \\tanh^{2}{\\left(\\sigma \\left(R + \\sqrt{\\left(- x_{s} + x{\\left(\\lambda \\right)}\\right)^{2} + y^{2}{\\left(\\lambda \\right)} + z^{2}{\\left(\\lambda \\right)}}\\right) \\right)}\\right) y{\\left(\\lambda \\right)}}{\\sqrt{\\left(- x_{s} + x{\\left(\\lambda \\right)}\\right)^{2} + y^{2}{\\left(\\lambda \\right)} + z^{2}{\\left(\\lambda \\right)}}}\\right) \\left(- v_{s}^{2} \\tanh^{2}{\\left(R \\sigma - \\sigma \\sqrt{x_{s}^{2} - 2 x_{s} x{\\left(\\lambda \\right)} + x^{2}{\\left(\\lambda \\right)} + y^{2}{\\left(\\lambda \\right)} + z^{2}{\\left(\\lambda \\right)}} \\right)} - 2 v_{s}^{2} \\tanh{\\left(R \\sigma - \\sigma \\sqrt{x_{s}^{2} - 2 x_{s} x{\\left(\\lambda \\right)} + x^{2}{\\left(\\lambda \\right)} + y^{2}{\\left(\\lambda \\right)} + z^{2}{\\left(\\lambda \\right)}} \\right)} \\tanh{\\left(R \\sigma + \\sigma \\sqrt{x_{s}^{2} - 2 x_{s} x{\\left(\\lambda \\right)} + x^{2}{\\left(\\lambda \\right)} + y^{2}{\\left(\\lambda \\right)} + z^{2}{\\left(\\lambda \\right)}} \\right)} - v_{s}^{2} \\tanh^{2}{\\left(R \\sigma + \\sigma \\sqrt{x_{s}^{2} - 2 x_{s} x{\\left(\\lambda \\right)} + x^{2}{\\left(\\lambda \\right)} + y^{2}{\\left(\\lambda \\right)} + z^{2}{\\left(\\lambda \\right)}} \\right)} + 4 \\tanh^{2}{\\left(R \\sigma \\right)}\\right)}{16 \\tanh^{3}{\\left(R \\sigma \\right)}} & \\frac{v_{s}^{2} \\left(- v_{s} \\tanh{\\left(R \\sigma - \\sigma \\sqrt{x_{s}^{2} - 2 x_{s} x{\\left(\\lambda \\right)} + x^{2}{\\left(\\lambda \\right)} + y^{2}{\\left(\\lambda \\right)} + z^{2}{\\left(\\lambda \\right)}} \\right)} - v_{s} \\tanh{\\left(R \\sigma + \\sigma \\sqrt{x_{s}^{2} - 2 x_{s} x{\\left(\\lambda \\right)} + x^{2}{\\left(\\lambda \\right)} + y^{2}{\\left(\\lambda \\right)} + z^{2}{\\left(\\lambda \\right)}} \\right)}\\right) \\left(- \\frac{2 \\sigma \\left(1 - \\tanh^{2}{\\left(\\sigma \\left(- R + \\sqrt{\\left(- x_{s} + x{\\left(\\lambda \\right)}\\right)^{2} + y^{2}{\\left(\\lambda \\right)} + z^{2}{\\left(\\lambda \\right)}}\\right) \\right)}\\right) z{\\left(\\lambda \\right)}}{\\sqrt{\\left(- x_{s} + x{\\left(\\lambda \\right)}\\right)^{2} + y^{2}{\\left(\\lambda \\right)} + z^{2}{\\left(\\lambda \\right)}}} + \\frac{2 \\sigma \\left(1 - \\tanh^{2}{\\left(\\sigma \\left(R + \\sqrt{\\left(- x_{s} + x{\\left(\\lambda \\right)}\\right)^{2} + y^{2}{\\left(\\lambda \\right)} + z^{2}{\\left(\\lambda \\right)}}\\right) \\right)}\\right) z{\\left(\\lambda \\right)}}{\\sqrt{\\left(- x_{s} + x{\\left(\\lambda \\right)}\\right)^{2} + y^{2}{\\left(\\lambda \\right)} + z^{2}{\\left(\\lambda \\right)}}}\\right) \\left(- \\tanh{\\left(\\sigma \\left(- R + \\sqrt{\\left(- x_{s} + x{\\left(\\lambda \\right)}\\right)^{2} + y^{2}{\\left(\\lambda \\right)} + z^{2}{\\left(\\lambda \\right)}}\\right) \\right)} + \\tanh{\\left(\\sigma \\left(R + \\sqrt{\\left(- x_{s} + x{\\left(\\lambda \\right)}\\right)^{2} + y^{2}{\\left(\\lambda \\right)} + z^{2}{\\left(\\lambda \\right)}}\\right) \\right)}\\right)}{16 \\tanh^{3}{\\left(R \\sigma \\right)}} - \\frac{v_{s} \\left(- \\frac{\\sigma \\left(1 - \\tanh^{2}{\\left(\\sigma \\left(- R + \\sqrt{\\left(- x_{s} + x{\\left(\\lambda \\right)}\\right)^{2} + y^{2}{\\left(\\lambda \\right)} + z^{2}{\\left(\\lambda \\right)}}\\right) \\right)}\\right) z{\\left(\\lambda \\right)}}{\\sqrt{\\left(- x_{s} + x{\\left(\\lambda \\right)}\\right)^{2} + y^{2}{\\left(\\lambda \\right)} + z^{2}{\\left(\\lambda \\right)}}} + \\frac{\\sigma \\left(1 - \\tanh^{2}{\\left(\\sigma \\left(R + \\sqrt{\\left(- x_{s} + x{\\left(\\lambda \\right)}\\right)^{2} + y^{2}{\\left(\\lambda \\right)} + z^{2}{\\left(\\lambda \\right)}}\\right) \\right)}\\right) z{\\left(\\lambda \\right)}}{\\sqrt{\\left(- x_{s} + x{\\left(\\lambda \\right)}\\right)^{2} + y^{2}{\\left(\\lambda \\right)} + z^{2}{\\left(\\lambda \\right)}}}\\right) \\left(- v_{s}^{2} \\tanh^{2}{\\left(R \\sigma - \\sigma \\sqrt{x_{s}^{2} - 2 x_{s} x{\\left(\\lambda \\right)} + x^{2}{\\left(\\lambda \\right)} + y^{2}{\\left(\\lambda \\right)} + z^{2}{\\left(\\lambda \\right)}} \\right)} - 2 v_{s}^{2} \\tanh{\\left(R \\sigma - \\sigma \\sqrt{x_{s}^{2} - 2 x_{s} x{\\left(\\lambda \\right)} + x^{2}{\\left(\\lambda \\right)} + y^{2}{\\left(\\lambda \\right)} + z^{2}{\\left(\\lambda \\right)}} \\right)} \\tanh{\\left(R \\sigma + \\sigma \\sqrt{x_{s}^{2} - 2 x_{s} x{\\left(\\lambda \\right)} + x^{2}{\\left(\\lambda \\right)} + y^{2}{\\left(\\lambda \\right)} + z^{2}{\\left(\\lambda \\right)}} \\right)} - v_{s}^{2} \\tanh^{2}{\\left(R \\sigma + \\sigma \\sqrt{x_{s}^{2} - 2 x_{s} x{\\left(\\lambda \\right)} + x^{2}{\\left(\\lambda \\right)} + y^{2}{\\left(\\lambda \\right)} + z^{2}{\\left(\\lambda \\right)}} \\right)} + 4 \\tanh^{2}{\\left(R \\sigma \\right)}\\right)}{16 \\tanh^{3}{\\left(R \\sigma \\right)}}\\\\\\frac{v_{s}^{2} \\left(- v_{s} \\tanh{\\left(R \\sigma - \\sigma \\sqrt{x_{s}^{2} - 2 x_{s} x{\\left(\\lambda \\right)} + x^{2}{\\left(\\lambda \\right)} + y^{2}{\\left(\\lambda \\right)} + z^{2}{\\left(\\lambda \\right)}} \\right)} - v_{s} \\tanh{\\left(R \\sigma + \\sigma \\sqrt{x_{s}^{2} - 2 x_{s} x{\\left(\\lambda \\right)} + x^{2}{\\left(\\lambda \\right)} + y^{2}{\\left(\\lambda \\right)} + z^{2}{\\left(\\lambda \\right)}} \\right)}\\right) \\left(- \\frac{2 \\sigma \\left(1 - \\tanh^{2}{\\left(\\sigma \\left(- R + \\sqrt{\\left(- x_{s} + x{\\left(\\lambda \\right)}\\right)^{2} + y^{2}{\\left(\\lambda \\right)} + z^{2}{\\left(\\lambda \\right)}}\\right) \\right)}\\right) \\left(- x_{s} + x{\\left(\\lambda \\right)}\\right)}{\\sqrt{\\left(- x_{s} + x{\\left(\\lambda \\right)}\\right)^{2} + y^{2}{\\left(\\lambda \\right)} + z^{2}{\\left(\\lambda \\right)}}} + \\frac{2 \\sigma \\left(1 - \\tanh^{2}{\\left(\\sigma \\left(R + \\sqrt{\\left(- x_{s} + x{\\left(\\lambda \\right)}\\right)^{2} + y^{2}{\\left(\\lambda \\right)} + z^{2}{\\left(\\lambda \\right)}}\\right) \\right)}\\right) \\left(- x_{s} + x{\\left(\\lambda \\right)}\\right)}{\\sqrt{\\left(- x_{s} + x{\\left(\\lambda \\right)}\\right)^{2} + y^{2}{\\left(\\lambda \\right)} + z^{2}{\\left(\\lambda \\right)}}}\\right) \\left(- \\tanh{\\left(\\sigma \\left(- R + \\sqrt{\\left(- x_{s} + x{\\left(\\lambda \\right)}\\right)^{2} + y^{2}{\\left(\\lambda \\right)} + z^{2}{\\left(\\lambda \\right)}}\\right) \\right)} + \\tanh{\\left(\\sigma \\left(R + \\sqrt{\\left(- x_{s} + x{\\left(\\lambda \\right)}\\right)^{2} + y^{2}{\\left(\\lambda \\right)} + z^{2}{\\left(\\lambda \\right)}}\\right) \\right)}\\right)}{16 \\tanh^{3}{\\left(R \\sigma \\right)}} & - \\frac{v_{s} \\left(- v_{s} \\tanh{\\left(R \\sigma - \\sigma \\sqrt{x_{s}^{2} - 2 x_{s} x{\\left(\\lambda \\right)} + x^{2}{\\left(\\lambda \\right)} + y^{2}{\\left(\\lambda \\right)} + z^{2}{\\left(\\lambda \\right)}} \\right)} - v_{s} \\tanh{\\left(R \\sigma + \\sigma \\sqrt{x_{s}^{2} - 2 x_{s} x{\\left(\\lambda \\right)} + x^{2}{\\left(\\lambda \\right)} + y^{2}{\\left(\\lambda \\right)} + z^{2}{\\left(\\lambda \\right)}} \\right)}\\right) \\left(- \\frac{\\sigma \\left(1 - \\tanh^{2}{\\left(\\sigma \\left(- R + \\sqrt{\\left(- x_{s} + x{\\left(\\lambda \\right)}\\right)^{2} + y^{2}{\\left(\\lambda \\right)} + z^{2}{\\left(\\lambda \\right)}}\\right) \\right)}\\right) \\left(- x_{s} + x{\\left(\\lambda \\right)}\\right)}{\\sqrt{\\left(- x_{s} + x{\\left(\\lambda \\right)}\\right)^{2} + y^{2}{\\left(\\lambda \\right)} + z^{2}{\\left(\\lambda \\right)}}} + \\frac{\\sigma \\left(1 - \\tanh^{2}{\\left(\\sigma \\left(R + \\sqrt{\\left(- x_{s} + x{\\left(\\lambda \\right)}\\right)^{2} + y^{2}{\\left(\\lambda \\right)} + z^{2}{\\left(\\lambda \\right)}}\\right) \\right)}\\right) \\left(- x_{s} + x{\\left(\\lambda \\right)}\\right)}{\\sqrt{\\left(- x_{s} + x{\\left(\\lambda \\right)}\\right)^{2} + y^{2}{\\left(\\lambda \\right)} + z^{2}{\\left(\\lambda \\right)}}}\\right)}{4 \\tanh^{2}{\\left(R \\sigma \\right)}} & - \\frac{v_{s} \\left(- v_{s} \\tanh{\\left(R \\sigma - \\sigma \\sqrt{x_{s}^{2} - 2 x_{s} x{\\left(\\lambda \\right)} + x^{2}{\\left(\\lambda \\right)} + y^{2}{\\left(\\lambda \\right)} + z^{2}{\\left(\\lambda \\right)}} \\right)} - v_{s} \\tanh{\\left(R \\sigma + \\sigma \\sqrt{x_{s}^{2} - 2 x_{s} x{\\left(\\lambda \\right)} + x^{2}{\\left(\\lambda \\right)} + y^{2}{\\left(\\lambda \\right)} + z^{2}{\\left(\\lambda \\right)}} \\right)}\\right) \\left(- \\frac{\\sigma \\left(1 - \\tanh^{2}{\\left(\\sigma \\left(- R + \\sqrt{\\left(- x_{s} + x{\\left(\\lambda \\right)}\\right)^{2} + y^{2}{\\left(\\lambda \\right)} + z^{2}{\\left(\\lambda \\right)}}\\right) \\right)}\\right) y{\\left(\\lambda \\right)}}{\\sqrt{\\left(- x_{s} + x{\\left(\\lambda \\right)}\\right)^{2} + y^{2}{\\left(\\lambda \\right)} + z^{2}{\\left(\\lambda \\right)}}} + \\frac{\\sigma \\left(1 - \\tanh^{2}{\\left(\\sigma \\left(R + \\sqrt{\\left(- x_{s} + x{\\left(\\lambda \\right)}\\right)^{2} + y^{2}{\\left(\\lambda \\right)} + z^{2}{\\left(\\lambda \\right)}}\\right) \\right)}\\right) y{\\left(\\lambda \\right)}}{\\sqrt{\\left(- x_{s} + x{\\left(\\lambda \\right)}\\right)^{2} + y^{2}{\\left(\\lambda \\right)} + z^{2}{\\left(\\lambda \\right)}}}\\right)}{8 \\tanh^{2}{\\left(R \\sigma \\right)}} & - \\frac{v_{s} \\left(- v_{s} \\tanh{\\left(R \\sigma - \\sigma \\sqrt{x_{s}^{2} - 2 x_{s} x{\\left(\\lambda \\right)} + x^{2}{\\left(\\lambda \\right)} + y^{2}{\\left(\\lambda \\right)} + z^{2}{\\left(\\lambda \\right)}} \\right)} - v_{s} \\tanh{\\left(R \\sigma + \\sigma \\sqrt{x_{s}^{2} - 2 x_{s} x{\\left(\\lambda \\right)} + x^{2}{\\left(\\lambda \\right)} + y^{2}{\\left(\\lambda \\right)} + z^{2}{\\left(\\lambda \\right)}} \\right)}\\right) \\left(- \\frac{\\sigma \\left(1 - \\tanh^{2}{\\left(\\sigma \\left(- R + \\sqrt{\\left(- x_{s} + x{\\left(\\lambda \\right)}\\right)^{2} + y^{2}{\\left(\\lambda \\right)} + z^{2}{\\left(\\lambda \\right)}}\\right) \\right)}\\right) z{\\left(\\lambda \\right)}}{\\sqrt{\\left(- x_{s} + x{\\left(\\lambda \\right)}\\right)^{2} + y^{2}{\\left(\\lambda \\right)} + z^{2}{\\left(\\lambda \\right)}}} + \\frac{\\sigma \\left(1 - \\tanh^{2}{\\left(\\sigma \\left(R + \\sqrt{\\left(- x_{s} + x{\\left(\\lambda \\right)}\\right)^{2} + y^{2}{\\left(\\lambda \\right)} + z^{2}{\\left(\\lambda \\right)}}\\right) \\right)}\\right) z{\\left(\\lambda \\right)}}{\\sqrt{\\left(- x_{s} + x{\\left(\\lambda \\right)}\\right)^{2} + y^{2}{\\left(\\lambda \\right)} + z^{2}{\\left(\\lambda \\right)}}}\\right)}{8 \\tanh^{2}{\\left(R \\sigma \\right)}}\\\\\\frac{v_{s}^{2} \\left(- v_{s} \\tanh{\\left(R \\sigma - \\sigma \\sqrt{x_{s}^{2} - 2 x_{s} x{\\left(\\lambda \\right)} + x^{2}{\\left(\\lambda \\right)} + y^{2}{\\left(\\lambda \\right)} + z^{2}{\\left(\\lambda \\right)}} \\right)} - v_{s} \\tanh{\\left(R \\sigma + \\sigma \\sqrt{x_{s}^{2} - 2 x_{s} x{\\left(\\lambda \\right)} + x^{2}{\\left(\\lambda \\right)} + y^{2}{\\left(\\lambda \\right)} + z^{2}{\\left(\\lambda \\right)}} \\right)}\\right) \\left(- \\frac{2 \\sigma \\left(1 - \\tanh^{2}{\\left(\\sigma \\left(- R + \\sqrt{\\left(- x_{s} + x{\\left(\\lambda \\right)}\\right)^{2} + y^{2}{\\left(\\lambda \\right)} + z^{2}{\\left(\\lambda \\right)}}\\right) \\right)}\\right) y{\\left(\\lambda \\right)}}{\\sqrt{\\left(- x_{s} + x{\\left(\\lambda \\right)}\\right)^{2} + y^{2}{\\left(\\lambda \\right)} + z^{2}{\\left(\\lambda \\right)}}} + \\frac{2 \\sigma \\left(1 - \\tanh^{2}{\\left(\\sigma \\left(R + \\sqrt{\\left(- x_{s} + x{\\left(\\lambda \\right)}\\right)^{2} + y^{2}{\\left(\\lambda \\right)} + z^{2}{\\left(\\lambda \\right)}}\\right) \\right)}\\right) y{\\left(\\lambda \\right)}}{\\sqrt{\\left(- x_{s} + x{\\left(\\lambda \\right)}\\right)^{2} + y^{2}{\\left(\\lambda \\right)} + z^{2}{\\left(\\lambda \\right)}}}\\right) \\left(- \\tanh{\\left(\\sigma \\left(- R + \\sqrt{\\left(- x_{s} + x{\\left(\\lambda \\right)}\\right)^{2} + y^{2}{\\left(\\lambda \\right)} + z^{2}{\\left(\\lambda \\right)}}\\right) \\right)} + \\tanh{\\left(\\sigma \\left(R + \\sqrt{\\left(- x_{s} + x{\\left(\\lambda \\right)}\\right)^{2} + y^{2}{\\left(\\lambda \\right)} + z^{2}{\\left(\\lambda \\right)}}\\right) \\right)}\\right)}{16 \\tanh^{3}{\\left(R \\sigma \\right)}} - \\frac{v_{s} \\left(- \\frac{\\sigma \\left(1 - \\tanh^{2}{\\left(\\sigma \\left(- R + \\sqrt{\\left(- x_{s} + x{\\left(\\lambda \\right)}\\right)^{2} + y^{2}{\\left(\\lambda \\right)} + z^{2}{\\left(\\lambda \\right)}}\\right) \\right)}\\right) y{\\left(\\lambda \\right)}}{\\sqrt{\\left(- x_{s} + x{\\left(\\lambda \\right)}\\right)^{2} + y^{2}{\\left(\\lambda \\right)} + z^{2}{\\left(\\lambda \\right)}}} + \\frac{\\sigma \\left(1 - \\tanh^{2}{\\left(\\sigma \\left(R + \\sqrt{\\left(- x_{s} + x{\\left(\\lambda \\right)}\\right)^{2} + y^{2}{\\left(\\lambda \\right)} + z^{2}{\\left(\\lambda \\right)}}\\right) \\right)}\\right) y{\\left(\\lambda \\right)}}{\\sqrt{\\left(- x_{s} + x{\\left(\\lambda \\right)}\\right)^{2} + y^{2}{\\left(\\lambda \\right)} + z^{2}{\\left(\\lambda \\right)}}}\\right) \\left(- v_{s}^{2} \\tanh^{2}{\\left(R \\sigma - \\sigma \\sqrt{x_{s}^{2} - 2 x_{s} x{\\left(\\lambda \\right)} + x^{2}{\\left(\\lambda \\right)} + y^{2}{\\left(\\lambda \\right)} + z^{2}{\\left(\\lambda \\right)}} \\right)} - 2 v_{s}^{2} \\tanh{\\left(R \\sigma - \\sigma \\sqrt{x_{s}^{2} - 2 x_{s} x{\\left(\\lambda \\right)} + x^{2}{\\left(\\lambda \\right)} + y^{2}{\\left(\\lambda \\right)} + z^{2}{\\left(\\lambda \\right)}} \\right)} \\tanh{\\left(R \\sigma + \\sigma \\sqrt{x_{s}^{2} - 2 x_{s} x{\\left(\\lambda \\right)} + x^{2}{\\left(\\lambda \\right)} + y^{2}{\\left(\\lambda \\right)} + z^{2}{\\left(\\lambda \\right)}} \\right)} - v_{s}^{2} \\tanh^{2}{\\left(R \\sigma + \\sigma \\sqrt{x_{s}^{2} - 2 x_{s} x{\\left(\\lambda \\right)} + x^{2}{\\left(\\lambda \\right)} + y^{2}{\\left(\\lambda \\right)} + z^{2}{\\left(\\lambda \\right)}} \\right)} + 4 \\tanh^{2}{\\left(R \\sigma \\right)}\\right)}{16 \\tanh^{3}{\\left(R \\sigma \\right)}} & - \\frac{v_{s} \\left(- v_{s} \\tanh{\\left(R \\sigma - \\sigma \\sqrt{x_{s}^{2} - 2 x_{s} x{\\left(\\lambda \\right)} + x^{2}{\\left(\\lambda \\right)} + y^{2}{\\left(\\lambda \\right)} + z^{2}{\\left(\\lambda \\right)}} \\right)} - v_{s} \\tanh{\\left(R \\sigma + \\sigma \\sqrt{x_{s}^{2} - 2 x_{s} x{\\left(\\lambda \\right)} + x^{2}{\\left(\\lambda \\right)} + y^{2}{\\left(\\lambda \\right)} + z^{2}{\\left(\\lambda \\right)}} \\right)}\\right) \\left(- \\frac{\\sigma \\left(1 - \\tanh^{2}{\\left(\\sigma \\left(- R + \\sqrt{\\left(- x_{s} + x{\\left(\\lambda \\right)}\\right)^{2} + y^{2}{\\left(\\lambda \\right)} + z^{2}{\\left(\\lambda \\right)}}\\right) \\right)}\\right) y{\\left(\\lambda \\right)}}{\\sqrt{\\left(- x_{s} + x{\\left(\\lambda \\right)}\\right)^{2} + y^{2}{\\left(\\lambda \\right)} + z^{2}{\\left(\\lambda \\right)}}} + \\frac{\\sigma \\left(1 - \\tanh^{2}{\\left(\\sigma \\left(R + \\sqrt{\\left(- x_{s} + x{\\left(\\lambda \\right)}\\right)^{2} + y^{2}{\\left(\\lambda \\right)} + z^{2}{\\left(\\lambda \\right)}}\\right) \\right)}\\right) y{\\left(\\lambda \\right)}}{\\sqrt{\\left(- x_{s} + x{\\left(\\lambda \\right)}\\right)^{2} + y^{2}{\\left(\\lambda \\right)} + z^{2}{\\left(\\lambda \\right)}}}\\right)}{8 \\tanh^{2}{\\left(R \\sigma \\right)}} & 0 & 0\\\\\\frac{v_{s}^{2} \\left(- v_{s} \\tanh{\\left(R \\sigma - \\sigma \\sqrt{x_{s}^{2} - 2 x_{s} x{\\left(\\lambda \\right)} + x^{2}{\\left(\\lambda \\right)} + y^{2}{\\left(\\lambda \\right)} + z^{2}{\\left(\\lambda \\right)}} \\right)} - v_{s} \\tanh{\\left(R \\sigma + \\sigma \\sqrt{x_{s}^{2} - 2 x_{s} x{\\left(\\lambda \\right)} + x^{2}{\\left(\\lambda \\right)} + y^{2}{\\left(\\lambda \\right)} + z^{2}{\\left(\\lambda \\right)}} \\right)}\\right) \\left(- \\frac{2 \\sigma \\left(1 - \\tanh^{2}{\\left(\\sigma \\left(- R + \\sqrt{\\left(- x_{s} + x{\\left(\\lambda \\right)}\\right)^{2} + y^{2}{\\left(\\lambda \\right)} + z^{2}{\\left(\\lambda \\right)}}\\right) \\right)}\\right) z{\\left(\\lambda \\right)}}{\\sqrt{\\left(- x_{s} + x{\\left(\\lambda \\right)}\\right)^{2} + y^{2}{\\left(\\lambda \\right)} + z^{2}{\\left(\\lambda \\right)}}} + \\frac{2 \\sigma \\left(1 - \\tanh^{2}{\\left(\\sigma \\left(R + \\sqrt{\\left(- x_{s} + x{\\left(\\lambda \\right)}\\right)^{2} + y^{2}{\\left(\\lambda \\right)} + z^{2}{\\left(\\lambda \\right)}}\\right) \\right)}\\right) z{\\left(\\lambda \\right)}}{\\sqrt{\\left(- x_{s} + x{\\left(\\lambda \\right)}\\right)^{2} + y^{2}{\\left(\\lambda \\right)} + z^{2}{\\left(\\lambda \\right)}}}\\right) \\left(- \\tanh{\\left(\\sigma \\left(- R + \\sqrt{\\left(- x_{s} + x{\\left(\\lambda \\right)}\\right)^{2} + y^{2}{\\left(\\lambda \\right)} + z^{2}{\\left(\\lambda \\right)}}\\right) \\right)} + \\tanh{\\left(\\sigma \\left(R + \\sqrt{\\left(- x_{s} + x{\\left(\\lambda \\right)}\\right)^{2} + y^{2}{\\left(\\lambda \\right)} + z^{2}{\\left(\\lambda \\right)}}\\right) \\right)}\\right)}{16 \\tanh^{3}{\\left(R \\sigma \\right)}} - \\frac{v_{s} \\left(- \\frac{\\sigma \\left(1 - \\tanh^{2}{\\left(\\sigma \\left(- R + \\sqrt{\\left(- x_{s} + x{\\left(\\lambda \\right)}\\right)^{2} + y^{2}{\\left(\\lambda \\right)} + z^{2}{\\left(\\lambda \\right)}}\\right) \\right)}\\right) z{\\left(\\lambda \\right)}}{\\sqrt{\\left(- x_{s} + x{\\left(\\lambda \\right)}\\right)^{2} + y^{2}{\\left(\\lambda \\right)} + z^{2}{\\left(\\lambda \\right)}}} + \\frac{\\sigma \\left(1 - \\tanh^{2}{\\left(\\sigma \\left(R + \\sqrt{\\left(- x_{s} + x{\\left(\\lambda \\right)}\\right)^{2} + y^{2}{\\left(\\lambda \\right)} + z^{2}{\\left(\\lambda \\right)}}\\right) \\right)}\\right) z{\\left(\\lambda \\right)}}{\\sqrt{\\left(- x_{s} + x{\\left(\\lambda \\right)}\\right)^{2} + y^{2}{\\left(\\lambda \\right)} + z^{2}{\\left(\\lambda \\right)}}}\\right) \\left(- v_{s}^{2} \\tanh^{2}{\\left(R \\sigma - \\sigma \\sqrt{x_{s}^{2} - 2 x_{s} x{\\left(\\lambda \\right)} + x^{2}{\\left(\\lambda \\right)} + y^{2}{\\left(\\lambda \\right)} + z^{2}{\\left(\\lambda \\right)}} \\right)} - 2 v_{s}^{2} \\tanh{\\left(R \\sigma - \\sigma \\sqrt{x_{s}^{2} - 2 x_{s} x{\\left(\\lambda \\right)} + x^{2}{\\left(\\lambda \\right)} + y^{2}{\\left(\\lambda \\right)} + z^{2}{\\left(\\lambda \\right)}} \\right)} \\tanh{\\left(R \\sigma + \\sigma \\sqrt{x_{s}^{2} - 2 x_{s} x{\\left(\\lambda \\right)} + x^{2}{\\left(\\lambda \\right)} + y^{2}{\\left(\\lambda \\right)} + z^{2}{\\left(\\lambda \\right)}} \\right)} - v_{s}^{2} \\tanh^{2}{\\left(R \\sigma + \\sigma \\sqrt{x_{s}^{2} - 2 x_{s} x{\\left(\\lambda \\right)} + x^{2}{\\left(\\lambda \\right)} + y^{2}{\\left(\\lambda \\right)} + z^{2}{\\left(\\lambda \\right)}} \\right)} + 4 \\tanh^{2}{\\left(R \\sigma \\right)}\\right)}{16 \\tanh^{3}{\\left(R \\sigma \\right)}} & - \\frac{v_{s} \\left(- v_{s} \\tanh{\\left(R \\sigma - \\sigma \\sqrt{x_{s}^{2} - 2 x_{s} x{\\left(\\lambda \\right)} + x^{2}{\\left(\\lambda \\right)} + y^{2}{\\left(\\lambda \\right)} + z^{2}{\\left(\\lambda \\right)}} \\right)} - v_{s} \\tanh{\\left(R \\sigma + \\sigma \\sqrt{x_{s}^{2} - 2 x_{s} x{\\left(\\lambda \\right)} + x^{2}{\\left(\\lambda \\right)} + y^{2}{\\left(\\lambda \\right)} + z^{2}{\\left(\\lambda \\right)}} \\right)}\\right) \\left(- \\frac{\\sigma \\left(1 - \\tanh^{2}{\\left(\\sigma \\left(- R + \\sqrt{\\left(- x_{s} + x{\\left(\\lambda \\right)}\\right)^{2} + y^{2}{\\left(\\lambda \\right)} + z^{2}{\\left(\\lambda \\right)}}\\right) \\right)}\\right) z{\\left(\\lambda \\right)}}{\\sqrt{\\left(- x_{s} + x{\\left(\\lambda \\right)}\\right)^{2} + y^{2}{\\left(\\lambda \\right)} + z^{2}{\\left(\\lambda \\right)}}} + \\frac{\\sigma \\left(1 - \\tanh^{2}{\\left(\\sigma \\left(R + \\sqrt{\\left(- x_{s} + x{\\left(\\lambda \\right)}\\right)^{2} + y^{2}{\\left(\\lambda \\right)} + z^{2}{\\left(\\lambda \\right)}}\\right) \\right)}\\right) z{\\left(\\lambda \\right)}}{\\sqrt{\\left(- x_{s} + x{\\left(\\lambda \\right)}\\right)^{2} + y^{2}{\\left(\\lambda \\right)} + z^{2}{\\left(\\lambda \\right)}}}\\right)}{8 \\tanh^{2}{\\left(R \\sigma \\right)}} & 0 & 0\\end{matrix}\\right]$"
      ],
      "text/plain": [
       "Matrix([\n",
       "[                                                                                                                                                                                                                                                                                                                                                                                                                                                                                                                                                              -v_s**2*(-2*sigma*(1 - tanh(sigma*(-R + sqrt((-x_s + x(lambda))**2 + y(lambda)**2 + z(lambda)**2)))**2)*(-x_s + x(lambda))/sqrt((-x_s + x(lambda))**2 + y(lambda)**2 + z(lambda)**2) + 2*sigma*(1 - tanh(sigma*(R + sqrt((-x_s + x(lambda))**2 + y(lambda)**2 + z(lambda)**2)))**2)*(-x_s + x(lambda))/sqrt((-x_s + x(lambda))**2 + y(lambda)**2 + z(lambda)**2))*(-tanh(sigma*(-R + sqrt((-x_s + x(lambda))**2 + y(lambda)**2 + z(lambda)**2))) + tanh(sigma*(R + sqrt((-x_s + x(lambda))**2 + y(lambda)**2 + z(lambda)**2))))*(-v_s**2*tanh(R*sigma - sigma*sqrt(x_s**2 - 2*x_s*x(lambda) + x(lambda)**2 + y(lambda)**2 + z(lambda)**2))**2 - 2*v_s**2*tanh(R*sigma - sigma*sqrt(x_s**2 - 2*x_s*x(lambda) + x(lambda)**2 + y(lambda)**2 + z(lambda)**2))*tanh(R*sigma + sigma*sqrt(x_s**2 - 2*x_s*x(lambda) + x(lambda)**2 + y(lambda)**2 + z(lambda)**2)) - v_s**2*tanh(R*sigma + sigma*sqrt(x_s**2 - 2*x_s*x(lambda) + x(lambda)**2 + y(lambda)**2 + z(lambda)**2))**2 + 4*tanh(R*sigma)**2)/(32*tanh(R*sigma)**4), v_s**2*(-v_s*tanh(R*sigma - sigma*sqrt(x_s**2 - 2*x_s*x(lambda) + x(lambda)**2 + y(lambda)**2 + z(lambda)**2)) - v_s*tanh(R*sigma + sigma*sqrt(x_s**2 - 2*x_s*x(lambda) + x(lambda)**2 + y(lambda)**2 + z(lambda)**2)))*(-2*sigma*(1 - tanh(sigma*(-R + sqrt((-x_s + x(lambda))**2 + y(lambda)**2 + z(lambda)**2)))**2)*(-x_s + x(lambda))/sqrt((-x_s + x(lambda))**2 + y(lambda)**2 + z(lambda)**2) + 2*sigma*(1 - tanh(sigma*(R + sqrt((-x_s + x(lambda))**2 + y(lambda)**2 + z(lambda)**2)))**2)*(-x_s + x(lambda))/sqrt((-x_s + x(lambda))**2 + y(lambda)**2 + z(lambda)**2))*(-tanh(sigma*(-R + sqrt((-x_s + x(lambda))**2 + y(lambda)**2 + z(lambda)**2))) + tanh(sigma*(R + sqrt((-x_s + x(lambda))**2 + y(lambda)**2 + z(lambda)**2))))/(16*tanh(R*sigma)**3), v_s**2*(-v_s*tanh(R*sigma - sigma*sqrt(x_s**2 - 2*x_s*x(lambda) + x(lambda)**2 + y(lambda)**2 + z(lambda)**2)) - v_s*tanh(R*sigma + sigma*sqrt(x_s**2 - 2*x_s*x(lambda) + x(lambda)**2 + y(lambda)**2 + z(lambda)**2)))*(-2*sigma*(1 - tanh(sigma*(-R + sqrt((-x_s + x(lambda))**2 + y(lambda)**2 + z(lambda)**2)))**2)*y(lambda)/sqrt((-x_s + x(lambda))**2 + y(lambda)**2 + z(lambda)**2) + 2*sigma*(1 - tanh(sigma*(R + sqrt((-x_s + x(lambda))**2 + y(lambda)**2 + z(lambda)**2)))**2)*y(lambda)/sqrt((-x_s + x(lambda))**2 + y(lambda)**2 + z(lambda)**2))*(-tanh(sigma*(-R + sqrt((-x_s + x(lambda))**2 + y(lambda)**2 + z(lambda)**2))) + tanh(sigma*(R + sqrt((-x_s + x(lambda))**2 + y(lambda)**2 + z(lambda)**2))))/(16*tanh(R*sigma)**3) - v_s*(-sigma*(1 - tanh(sigma*(-R + sqrt((-x_s + x(lambda))**2 + y(lambda)**2 + z(lambda)**2)))**2)*y(lambda)/sqrt((-x_s + x(lambda))**2 + y(lambda)**2 + z(lambda)**2) + sigma*(1 - tanh(sigma*(R + sqrt((-x_s + x(lambda))**2 + y(lambda)**2 + z(lambda)**2)))**2)*y(lambda)/sqrt((-x_s + x(lambda))**2 + y(lambda)**2 + z(lambda)**2))*(-v_s**2*tanh(R*sigma - sigma*sqrt(x_s**2 - 2*x_s*x(lambda) + x(lambda)**2 + y(lambda)**2 + z(lambda)**2))**2 - 2*v_s**2*tanh(R*sigma - sigma*sqrt(x_s**2 - 2*x_s*x(lambda) + x(lambda)**2 + y(lambda)**2 + z(lambda)**2))*tanh(R*sigma + sigma*sqrt(x_s**2 - 2*x_s*x(lambda) + x(lambda)**2 + y(lambda)**2 + z(lambda)**2)) - v_s**2*tanh(R*sigma + sigma*sqrt(x_s**2 - 2*x_s*x(lambda) + x(lambda)**2 + y(lambda)**2 + z(lambda)**2))**2 + 4*tanh(R*sigma)**2)/(16*tanh(R*sigma)**3), v_s**2*(-v_s*tanh(R*sigma - sigma*sqrt(x_s**2 - 2*x_s*x(lambda) + x(lambda)**2 + y(lambda)**2 + z(lambda)**2)) - v_s*tanh(R*sigma + sigma*sqrt(x_s**2 - 2*x_s*x(lambda) + x(lambda)**2 + y(lambda)**2 + z(lambda)**2)))*(-2*sigma*(1 - tanh(sigma*(-R + sqrt((-x_s + x(lambda))**2 + y(lambda)**2 + z(lambda)**2)))**2)*z(lambda)/sqrt((-x_s + x(lambda))**2 + y(lambda)**2 + z(lambda)**2) + 2*sigma*(1 - tanh(sigma*(R + sqrt((-x_s + x(lambda))**2 + y(lambda)**2 + z(lambda)**2)))**2)*z(lambda)/sqrt((-x_s + x(lambda))**2 + y(lambda)**2 + z(lambda)**2))*(-tanh(sigma*(-R + sqrt((-x_s + x(lambda))**2 + y(lambda)**2 + z(lambda)**2))) + tanh(sigma*(R + sqrt((-x_s + x(lambda))**2 + y(lambda)**2 + z(lambda)**2))))/(16*tanh(R*sigma)**3) - v_s*(-sigma*(1 - tanh(sigma*(-R + sqrt((-x_s + x(lambda))**2 + y(lambda)**2 + z(lambda)**2)))**2)*z(lambda)/sqrt((-x_s + x(lambda))**2 + y(lambda)**2 + z(lambda)**2) + sigma*(1 - tanh(sigma*(R + sqrt((-x_s + x(lambda))**2 + y(lambda)**2 + z(lambda)**2)))**2)*z(lambda)/sqrt((-x_s + x(lambda))**2 + y(lambda)**2 + z(lambda)**2))*(-v_s**2*tanh(R*sigma - sigma*sqrt(x_s**2 - 2*x_s*x(lambda) + x(lambda)**2 + y(lambda)**2 + z(lambda)**2))**2 - 2*v_s**2*tanh(R*sigma - sigma*sqrt(x_s**2 - 2*x_s*x(lambda) + x(lambda)**2 + y(lambda)**2 + z(lambda)**2))*tanh(R*sigma + sigma*sqrt(x_s**2 - 2*x_s*x(lambda) + x(lambda)**2 + y(lambda)**2 + z(lambda)**2)) - v_s**2*tanh(R*sigma + sigma*sqrt(x_s**2 - 2*x_s*x(lambda) + x(lambda)**2 + y(lambda)**2 + z(lambda)**2))**2 + 4*tanh(R*sigma)**2)/(16*tanh(R*sigma)**3)],\n",
       "[                                                                                                                                                                                                                                                                                                                                                                                                                                                                                                                                                                                                                                                                                                                                                                                                               v_s**2*(-v_s*tanh(R*sigma - sigma*sqrt(x_s**2 - 2*x_s*x(lambda) + x(lambda)**2 + y(lambda)**2 + z(lambda)**2)) - v_s*tanh(R*sigma + sigma*sqrt(x_s**2 - 2*x_s*x(lambda) + x(lambda)**2 + y(lambda)**2 + z(lambda)**2)))*(-2*sigma*(1 - tanh(sigma*(-R + sqrt((-x_s + x(lambda))**2 + y(lambda)**2 + z(lambda)**2)))**2)*(-x_s + x(lambda))/sqrt((-x_s + x(lambda))**2 + y(lambda)**2 + z(lambda)**2) + 2*sigma*(1 - tanh(sigma*(R + sqrt((-x_s + x(lambda))**2 + y(lambda)**2 + z(lambda)**2)))**2)*(-x_s + x(lambda))/sqrt((-x_s + x(lambda))**2 + y(lambda)**2 + z(lambda)**2))*(-tanh(sigma*(-R + sqrt((-x_s + x(lambda))**2 + y(lambda)**2 + z(lambda)**2))) + tanh(sigma*(R + sqrt((-x_s + x(lambda))**2 + y(lambda)**2 + z(lambda)**2))))/(16*tanh(R*sigma)**3),                                                                                                                                                                      -v_s*(-v_s*tanh(R*sigma - sigma*sqrt(x_s**2 - 2*x_s*x(lambda) + x(lambda)**2 + y(lambda)**2 + z(lambda)**2)) - v_s*tanh(R*sigma + sigma*sqrt(x_s**2 - 2*x_s*x(lambda) + x(lambda)**2 + y(lambda)**2 + z(lambda)**2)))*(-sigma*(1 - tanh(sigma*(-R + sqrt((-x_s + x(lambda))**2 + y(lambda)**2 + z(lambda)**2)))**2)*(-x_s + x(lambda))/sqrt((-x_s + x(lambda))**2 + y(lambda)**2 + z(lambda)**2) + sigma*(1 - tanh(sigma*(R + sqrt((-x_s + x(lambda))**2 + y(lambda)**2 + z(lambda)**2)))**2)*(-x_s + x(lambda))/sqrt((-x_s + x(lambda))**2 + y(lambda)**2 + z(lambda)**2))/(4*tanh(R*sigma)**2),                                                                                                                                                                                                                                                                                                                                                                                                                                                                                                                                                                                                                                                                                                                                                                                                                                                                                                                                                                                                       -v_s*(-v_s*tanh(R*sigma - sigma*sqrt(x_s**2 - 2*x_s*x(lambda) + x(lambda)**2 + y(lambda)**2 + z(lambda)**2)) - v_s*tanh(R*sigma + sigma*sqrt(x_s**2 - 2*x_s*x(lambda) + x(lambda)**2 + y(lambda)**2 + z(lambda)**2)))*(-sigma*(1 - tanh(sigma*(-R + sqrt((-x_s + x(lambda))**2 + y(lambda)**2 + z(lambda)**2)))**2)*y(lambda)/sqrt((-x_s + x(lambda))**2 + y(lambda)**2 + z(lambda)**2) + sigma*(1 - tanh(sigma*(R + sqrt((-x_s + x(lambda))**2 + y(lambda)**2 + z(lambda)**2)))**2)*y(lambda)/sqrt((-x_s + x(lambda))**2 + y(lambda)**2 + z(lambda)**2))/(8*tanh(R*sigma)**2),                                                                                                                                                                                                                                                                                                                                                                                                                                                                                                                                                                                                                                                                                                                                                                                                                                                                                                                                                                                                       -v_s*(-v_s*tanh(R*sigma - sigma*sqrt(x_s**2 - 2*x_s*x(lambda) + x(lambda)**2 + y(lambda)**2 + z(lambda)**2)) - v_s*tanh(R*sigma + sigma*sqrt(x_s**2 - 2*x_s*x(lambda) + x(lambda)**2 + y(lambda)**2 + z(lambda)**2)))*(-sigma*(1 - tanh(sigma*(-R + sqrt((-x_s + x(lambda))**2 + y(lambda)**2 + z(lambda)**2)))**2)*z(lambda)/sqrt((-x_s + x(lambda))**2 + y(lambda)**2 + z(lambda)**2) + sigma*(1 - tanh(sigma*(R + sqrt((-x_s + x(lambda))**2 + y(lambda)**2 + z(lambda)**2)))**2)*z(lambda)/sqrt((-x_s + x(lambda))**2 + y(lambda)**2 + z(lambda)**2))/(8*tanh(R*sigma)**2)],\n",
       "[v_s**2*(-v_s*tanh(R*sigma - sigma*sqrt(x_s**2 - 2*x_s*x(lambda) + x(lambda)**2 + y(lambda)**2 + z(lambda)**2)) - v_s*tanh(R*sigma + sigma*sqrt(x_s**2 - 2*x_s*x(lambda) + x(lambda)**2 + y(lambda)**2 + z(lambda)**2)))*(-2*sigma*(1 - tanh(sigma*(-R + sqrt((-x_s + x(lambda))**2 + y(lambda)**2 + z(lambda)**2)))**2)*y(lambda)/sqrt((-x_s + x(lambda))**2 + y(lambda)**2 + z(lambda)**2) + 2*sigma*(1 - tanh(sigma*(R + sqrt((-x_s + x(lambda))**2 + y(lambda)**2 + z(lambda)**2)))**2)*y(lambda)/sqrt((-x_s + x(lambda))**2 + y(lambda)**2 + z(lambda)**2))*(-tanh(sigma*(-R + sqrt((-x_s + x(lambda))**2 + y(lambda)**2 + z(lambda)**2))) + tanh(sigma*(R + sqrt((-x_s + x(lambda))**2 + y(lambda)**2 + z(lambda)**2))))/(16*tanh(R*sigma)**3) - v_s*(-sigma*(1 - tanh(sigma*(-R + sqrt((-x_s + x(lambda))**2 + y(lambda)**2 + z(lambda)**2)))**2)*y(lambda)/sqrt((-x_s + x(lambda))**2 + y(lambda)**2 + z(lambda)**2) + sigma*(1 - tanh(sigma*(R + sqrt((-x_s + x(lambda))**2 + y(lambda)**2 + z(lambda)**2)))**2)*y(lambda)/sqrt((-x_s + x(lambda))**2 + y(lambda)**2 + z(lambda)**2))*(-v_s**2*tanh(R*sigma - sigma*sqrt(x_s**2 - 2*x_s*x(lambda) + x(lambda)**2 + y(lambda)**2 + z(lambda)**2))**2 - 2*v_s**2*tanh(R*sigma - sigma*sqrt(x_s**2 - 2*x_s*x(lambda) + x(lambda)**2 + y(lambda)**2 + z(lambda)**2))*tanh(R*sigma + sigma*sqrt(x_s**2 - 2*x_s*x(lambda) + x(lambda)**2 + y(lambda)**2 + z(lambda)**2)) - v_s**2*tanh(R*sigma + sigma*sqrt(x_s**2 - 2*x_s*x(lambda) + x(lambda)**2 + y(lambda)**2 + z(lambda)**2))**2 + 4*tanh(R*sigma)**2)/(16*tanh(R*sigma)**3),                                                                                                                                                                                        -v_s*(-v_s*tanh(R*sigma - sigma*sqrt(x_s**2 - 2*x_s*x(lambda) + x(lambda)**2 + y(lambda)**2 + z(lambda)**2)) - v_s*tanh(R*sigma + sigma*sqrt(x_s**2 - 2*x_s*x(lambda) + x(lambda)**2 + y(lambda)**2 + z(lambda)**2)))*(-sigma*(1 - tanh(sigma*(-R + sqrt((-x_s + x(lambda))**2 + y(lambda)**2 + z(lambda)**2)))**2)*y(lambda)/sqrt((-x_s + x(lambda))**2 + y(lambda)**2 + z(lambda)**2) + sigma*(1 - tanh(sigma*(R + sqrt((-x_s + x(lambda))**2 + y(lambda)**2 + z(lambda)**2)))**2)*y(lambda)/sqrt((-x_s + x(lambda))**2 + y(lambda)**2 + z(lambda)**2))/(8*tanh(R*sigma)**2),                                                                                                                                                                                                                                                                                                                                                                                                                                                                                                                                                                                                                                                                                                                                                                                                                                                                                                                                                                                                                                                                                                                                                                                                                                                                                                                                                                                                                                                                                                                                                                                    0,                                                                                                                                                                                                                                                                                                                                                                                                                                                                                                                                                                                                                                                                                                                                                                                                                                                                                                                                                                                                                                                                                                                                                                                                                                                                                                                                                                                                                                                                                                                                                                                    0],\n",
       "[v_s**2*(-v_s*tanh(R*sigma - sigma*sqrt(x_s**2 - 2*x_s*x(lambda) + x(lambda)**2 + y(lambda)**2 + z(lambda)**2)) - v_s*tanh(R*sigma + sigma*sqrt(x_s**2 - 2*x_s*x(lambda) + x(lambda)**2 + y(lambda)**2 + z(lambda)**2)))*(-2*sigma*(1 - tanh(sigma*(-R + sqrt((-x_s + x(lambda))**2 + y(lambda)**2 + z(lambda)**2)))**2)*z(lambda)/sqrt((-x_s + x(lambda))**2 + y(lambda)**2 + z(lambda)**2) + 2*sigma*(1 - tanh(sigma*(R + sqrt((-x_s + x(lambda))**2 + y(lambda)**2 + z(lambda)**2)))**2)*z(lambda)/sqrt((-x_s + x(lambda))**2 + y(lambda)**2 + z(lambda)**2))*(-tanh(sigma*(-R + sqrt((-x_s + x(lambda))**2 + y(lambda)**2 + z(lambda)**2))) + tanh(sigma*(R + sqrt((-x_s + x(lambda))**2 + y(lambda)**2 + z(lambda)**2))))/(16*tanh(R*sigma)**3) - v_s*(-sigma*(1 - tanh(sigma*(-R + sqrt((-x_s + x(lambda))**2 + y(lambda)**2 + z(lambda)**2)))**2)*z(lambda)/sqrt((-x_s + x(lambda))**2 + y(lambda)**2 + z(lambda)**2) + sigma*(1 - tanh(sigma*(R + sqrt((-x_s + x(lambda))**2 + y(lambda)**2 + z(lambda)**2)))**2)*z(lambda)/sqrt((-x_s + x(lambda))**2 + y(lambda)**2 + z(lambda)**2))*(-v_s**2*tanh(R*sigma - sigma*sqrt(x_s**2 - 2*x_s*x(lambda) + x(lambda)**2 + y(lambda)**2 + z(lambda)**2))**2 - 2*v_s**2*tanh(R*sigma - sigma*sqrt(x_s**2 - 2*x_s*x(lambda) + x(lambda)**2 + y(lambda)**2 + z(lambda)**2))*tanh(R*sigma + sigma*sqrt(x_s**2 - 2*x_s*x(lambda) + x(lambda)**2 + y(lambda)**2 + z(lambda)**2)) - v_s**2*tanh(R*sigma + sigma*sqrt(x_s**2 - 2*x_s*x(lambda) + x(lambda)**2 + y(lambda)**2 + z(lambda)**2))**2 + 4*tanh(R*sigma)**2)/(16*tanh(R*sigma)**3),                                                                                                                                                                                        -v_s*(-v_s*tanh(R*sigma - sigma*sqrt(x_s**2 - 2*x_s*x(lambda) + x(lambda)**2 + y(lambda)**2 + z(lambda)**2)) - v_s*tanh(R*sigma + sigma*sqrt(x_s**2 - 2*x_s*x(lambda) + x(lambda)**2 + y(lambda)**2 + z(lambda)**2)))*(-sigma*(1 - tanh(sigma*(-R + sqrt((-x_s + x(lambda))**2 + y(lambda)**2 + z(lambda)**2)))**2)*z(lambda)/sqrt((-x_s + x(lambda))**2 + y(lambda)**2 + z(lambda)**2) + sigma*(1 - tanh(sigma*(R + sqrt((-x_s + x(lambda))**2 + y(lambda)**2 + z(lambda)**2)))**2)*z(lambda)/sqrt((-x_s + x(lambda))**2 + y(lambda)**2 + z(lambda)**2))/(8*tanh(R*sigma)**2),                                                                                                                                                                                                                                                                                                                                                                                                                                                                                                                                                                                                                                                                                                                                                                                                                                                                                                                                                                                                                                                                                                                                                                                                                                                                                                                                                                                                                                                                                                                                                                                    0,                                                                                                                                                                                                                                                                                                                                                                                                                                                                                                                                                                                                                                                                                                                                                                                                                                                                                                                                                                                                                                                                                                                                                                                                                                                                                                                                                                                                                                                                                                                                                                                    0]])"
      ]
     },
     "metadata": {},
     "output_type": "display_data"
    },
    {
     "data": {
      "text/latex": [
       "$\\displaystyle \\left[\\begin{matrix}- \\frac{v_{s}^{2} \\left(- \\frac{2 \\sigma \\left(1 - \\tanh^{2}{\\left(\\sigma \\left(- R + \\sqrt{\\left(- x_{s} + x{\\left(\\lambda \\right)}\\right)^{2} + y^{2}{\\left(\\lambda \\right)} + z^{2}{\\left(\\lambda \\right)}}\\right) \\right)}\\right) y{\\left(\\lambda \\right)}}{\\sqrt{\\left(- x_{s} + x{\\left(\\lambda \\right)}\\right)^{2} + y^{2}{\\left(\\lambda \\right)} + z^{2}{\\left(\\lambda \\right)}}} + \\frac{2 \\sigma \\left(1 - \\tanh^{2}{\\left(\\sigma \\left(R + \\sqrt{\\left(- x_{s} + x{\\left(\\lambda \\right)}\\right)^{2} + y^{2}{\\left(\\lambda \\right)} + z^{2}{\\left(\\lambda \\right)}}\\right) \\right)}\\right) y{\\left(\\lambda \\right)}}{\\sqrt{\\left(- x_{s} + x{\\left(\\lambda \\right)}\\right)^{2} + y^{2}{\\left(\\lambda \\right)} + z^{2}{\\left(\\lambda \\right)}}}\\right) \\left(- \\tanh{\\left(\\sigma \\left(- R + \\sqrt{\\left(- x_{s} + x{\\left(\\lambda \\right)}\\right)^{2} + y^{2}{\\left(\\lambda \\right)} + z^{2}{\\left(\\lambda \\right)}}\\right) \\right)} + \\tanh{\\left(\\sigma \\left(R + \\sqrt{\\left(- x_{s} + x{\\left(\\lambda \\right)}\\right)^{2} + y^{2}{\\left(\\lambda \\right)} + z^{2}{\\left(\\lambda \\right)}}\\right) \\right)}\\right)}{8 \\tanh^{2}{\\left(R \\sigma \\right)}} & \\frac{v_{s} \\left(- \\frac{\\sigma \\left(1 - \\tanh^{2}{\\left(\\sigma \\left(- R + \\sqrt{\\left(- x_{s} + x{\\left(\\lambda \\right)}\\right)^{2} + y^{2}{\\left(\\lambda \\right)} + z^{2}{\\left(\\lambda \\right)}}\\right) \\right)}\\right) y{\\left(\\lambda \\right)}}{\\sqrt{\\left(- x_{s} + x{\\left(\\lambda \\right)}\\right)^{2} + y^{2}{\\left(\\lambda \\right)} + z^{2}{\\left(\\lambda \\right)}}} + \\frac{\\sigma \\left(1 - \\tanh^{2}{\\left(\\sigma \\left(R + \\sqrt{\\left(- x_{s} + x{\\left(\\lambda \\right)}\\right)^{2} + y^{2}{\\left(\\lambda \\right)} + z^{2}{\\left(\\lambda \\right)}}\\right) \\right)}\\right) y{\\left(\\lambda \\right)}}{\\sqrt{\\left(- x_{s} + x{\\left(\\lambda \\right)}\\right)^{2} + y^{2}{\\left(\\lambda \\right)} + z^{2}{\\left(\\lambda \\right)}}}\\right)}{4 \\tanh{\\left(R \\sigma \\right)}} & 0 & 0\\\\\\frac{v_{s} \\left(- \\frac{\\sigma \\left(1 - \\tanh^{2}{\\left(\\sigma \\left(- R + \\sqrt{\\left(- x_{s} + x{\\left(\\lambda \\right)}\\right)^{2} + y^{2}{\\left(\\lambda \\right)} + z^{2}{\\left(\\lambda \\right)}}\\right) \\right)}\\right) y{\\left(\\lambda \\right)}}{\\sqrt{\\left(- x_{s} + x{\\left(\\lambda \\right)}\\right)^{2} + y^{2}{\\left(\\lambda \\right)} + z^{2}{\\left(\\lambda \\right)}}} + \\frac{\\sigma \\left(1 - \\tanh^{2}{\\left(\\sigma \\left(R + \\sqrt{\\left(- x_{s} + x{\\left(\\lambda \\right)}\\right)^{2} + y^{2}{\\left(\\lambda \\right)} + z^{2}{\\left(\\lambda \\right)}}\\right) \\right)}\\right) y{\\left(\\lambda \\right)}}{\\sqrt{\\left(- x_{s} + x{\\left(\\lambda \\right)}\\right)^{2} + y^{2}{\\left(\\lambda \\right)} + z^{2}{\\left(\\lambda \\right)}}}\\right)}{4 \\tanh{\\left(R \\sigma \\right)}} & 0 & 0 & 0\\\\0 & 0 & 0 & 0\\\\0 & 0 & 0 & 0\\end{matrix}\\right]$"
      ],
      "text/plain": [
       "Matrix([\n",
       "[-v_s**2*(-2*sigma*(1 - tanh(sigma*(-R + sqrt((-x_s + x(lambda))**2 + y(lambda)**2 + z(lambda)**2)))**2)*y(lambda)/sqrt((-x_s + x(lambda))**2 + y(lambda)**2 + z(lambda)**2) + 2*sigma*(1 - tanh(sigma*(R + sqrt((-x_s + x(lambda))**2 + y(lambda)**2 + z(lambda)**2)))**2)*y(lambda)/sqrt((-x_s + x(lambda))**2 + y(lambda)**2 + z(lambda)**2))*(-tanh(sigma*(-R + sqrt((-x_s + x(lambda))**2 + y(lambda)**2 + z(lambda)**2))) + tanh(sigma*(R + sqrt((-x_s + x(lambda))**2 + y(lambda)**2 + z(lambda)**2))))/(8*tanh(R*sigma)**2), v_s*(-sigma*(1 - tanh(sigma*(-R + sqrt((-x_s + x(lambda))**2 + y(lambda)**2 + z(lambda)**2)))**2)*y(lambda)/sqrt((-x_s + x(lambda))**2 + y(lambda)**2 + z(lambda)**2) + sigma*(1 - tanh(sigma*(R + sqrt((-x_s + x(lambda))**2 + y(lambda)**2 + z(lambda)**2)))**2)*y(lambda)/sqrt((-x_s + x(lambda))**2 + y(lambda)**2 + z(lambda)**2))/(4*tanh(R*sigma)), 0, 0],\n",
       "[                                                                                                                                                                         v_s*(-sigma*(1 - tanh(sigma*(-R + sqrt((-x_s + x(lambda))**2 + y(lambda)**2 + z(lambda)**2)))**2)*y(lambda)/sqrt((-x_s + x(lambda))**2 + y(lambda)**2 + z(lambda)**2) + sigma*(1 - tanh(sigma*(R + sqrt((-x_s + x(lambda))**2 + y(lambda)**2 + z(lambda)**2)))**2)*y(lambda)/sqrt((-x_s + x(lambda))**2 + y(lambda)**2 + z(lambda)**2))/(4*tanh(R*sigma)),                                                                                                                                                                                                                                                                                                                                                         0, 0, 0],\n",
       "[                                                                                                                                                                                                                                                                                                                                                                                                                                                                                                                                 0,                                                                                                                                                                                                                                                                                                                                                         0, 0, 0],\n",
       "[                                                                                                                                                                                                                                                                                                                                                                                                                                                                                                                                 0,                                                                                                                                                                                                                                                                                                                                                         0, 0, 0]])"
      ]
     },
     "metadata": {},
     "output_type": "display_data"
    },
    {
     "data": {
      "text/latex": [
       "$\\displaystyle \\left[\\begin{matrix}- \\frac{v_{s}^{2} \\left(- \\frac{2 \\sigma \\left(1 - \\tanh^{2}{\\left(\\sigma \\left(- R + \\sqrt{\\left(- x_{s} + x{\\left(\\lambda \\right)}\\right)^{2} + y^{2}{\\left(\\lambda \\right)} + z^{2}{\\left(\\lambda \\right)}}\\right) \\right)}\\right) z{\\left(\\lambda \\right)}}{\\sqrt{\\left(- x_{s} + x{\\left(\\lambda \\right)}\\right)^{2} + y^{2}{\\left(\\lambda \\right)} + z^{2}{\\left(\\lambda \\right)}}} + \\frac{2 \\sigma \\left(1 - \\tanh^{2}{\\left(\\sigma \\left(R + \\sqrt{\\left(- x_{s} + x{\\left(\\lambda \\right)}\\right)^{2} + y^{2}{\\left(\\lambda \\right)} + z^{2}{\\left(\\lambda \\right)}}\\right) \\right)}\\right) z{\\left(\\lambda \\right)}}{\\sqrt{\\left(- x_{s} + x{\\left(\\lambda \\right)}\\right)^{2} + y^{2}{\\left(\\lambda \\right)} + z^{2}{\\left(\\lambda \\right)}}}\\right) \\left(- \\tanh{\\left(\\sigma \\left(- R + \\sqrt{\\left(- x_{s} + x{\\left(\\lambda \\right)}\\right)^{2} + y^{2}{\\left(\\lambda \\right)} + z^{2}{\\left(\\lambda \\right)}}\\right) \\right)} + \\tanh{\\left(\\sigma \\left(R + \\sqrt{\\left(- x_{s} + x{\\left(\\lambda \\right)}\\right)^{2} + y^{2}{\\left(\\lambda \\right)} + z^{2}{\\left(\\lambda \\right)}}\\right) \\right)}\\right)}{8 \\tanh^{2}{\\left(R \\sigma \\right)}} & \\frac{v_{s} \\left(- \\frac{\\sigma \\left(1 - \\tanh^{2}{\\left(\\sigma \\left(- R + \\sqrt{\\left(- x_{s} + x{\\left(\\lambda \\right)}\\right)^{2} + y^{2}{\\left(\\lambda \\right)} + z^{2}{\\left(\\lambda \\right)}}\\right) \\right)}\\right) z{\\left(\\lambda \\right)}}{\\sqrt{\\left(- x_{s} + x{\\left(\\lambda \\right)}\\right)^{2} + y^{2}{\\left(\\lambda \\right)} + z^{2}{\\left(\\lambda \\right)}}} + \\frac{\\sigma \\left(1 - \\tanh^{2}{\\left(\\sigma \\left(R + \\sqrt{\\left(- x_{s} + x{\\left(\\lambda \\right)}\\right)^{2} + y^{2}{\\left(\\lambda \\right)} + z^{2}{\\left(\\lambda \\right)}}\\right) \\right)}\\right) z{\\left(\\lambda \\right)}}{\\sqrt{\\left(- x_{s} + x{\\left(\\lambda \\right)}\\right)^{2} + y^{2}{\\left(\\lambda \\right)} + z^{2}{\\left(\\lambda \\right)}}}\\right)}{4 \\tanh{\\left(R \\sigma \\right)}} & 0 & 0\\\\\\frac{v_{s} \\left(- \\frac{\\sigma \\left(1 - \\tanh^{2}{\\left(\\sigma \\left(- R + \\sqrt{\\left(- x_{s} + x{\\left(\\lambda \\right)}\\right)^{2} + y^{2}{\\left(\\lambda \\right)} + z^{2}{\\left(\\lambda \\right)}}\\right) \\right)}\\right) z{\\left(\\lambda \\right)}}{\\sqrt{\\left(- x_{s} + x{\\left(\\lambda \\right)}\\right)^{2} + y^{2}{\\left(\\lambda \\right)} + z^{2}{\\left(\\lambda \\right)}}} + \\frac{\\sigma \\left(1 - \\tanh^{2}{\\left(\\sigma \\left(R + \\sqrt{\\left(- x_{s} + x{\\left(\\lambda \\right)}\\right)^{2} + y^{2}{\\left(\\lambda \\right)} + z^{2}{\\left(\\lambda \\right)}}\\right) \\right)}\\right) z{\\left(\\lambda \\right)}}{\\sqrt{\\left(- x_{s} + x{\\left(\\lambda \\right)}\\right)^{2} + y^{2}{\\left(\\lambda \\right)} + z^{2}{\\left(\\lambda \\right)}}}\\right)}{4 \\tanh{\\left(R \\sigma \\right)}} & 0 & 0 & 0\\\\0 & 0 & 0 & 0\\\\0 & 0 & 0 & 0\\end{matrix}\\right]$"
      ],
      "text/plain": [
       "Matrix([\n",
       "[-v_s**2*(-2*sigma*(1 - tanh(sigma*(-R + sqrt((-x_s + x(lambda))**2 + y(lambda)**2 + z(lambda)**2)))**2)*z(lambda)/sqrt((-x_s + x(lambda))**2 + y(lambda)**2 + z(lambda)**2) + 2*sigma*(1 - tanh(sigma*(R + sqrt((-x_s + x(lambda))**2 + y(lambda)**2 + z(lambda)**2)))**2)*z(lambda)/sqrt((-x_s + x(lambda))**2 + y(lambda)**2 + z(lambda)**2))*(-tanh(sigma*(-R + sqrt((-x_s + x(lambda))**2 + y(lambda)**2 + z(lambda)**2))) + tanh(sigma*(R + sqrt((-x_s + x(lambda))**2 + y(lambda)**2 + z(lambda)**2))))/(8*tanh(R*sigma)**2), v_s*(-sigma*(1 - tanh(sigma*(-R + sqrt((-x_s + x(lambda))**2 + y(lambda)**2 + z(lambda)**2)))**2)*z(lambda)/sqrt((-x_s + x(lambda))**2 + y(lambda)**2 + z(lambda)**2) + sigma*(1 - tanh(sigma*(R + sqrt((-x_s + x(lambda))**2 + y(lambda)**2 + z(lambda)**2)))**2)*z(lambda)/sqrt((-x_s + x(lambda))**2 + y(lambda)**2 + z(lambda)**2))/(4*tanh(R*sigma)), 0, 0],\n",
       "[                                                                                                                                                                         v_s*(-sigma*(1 - tanh(sigma*(-R + sqrt((-x_s + x(lambda))**2 + y(lambda)**2 + z(lambda)**2)))**2)*z(lambda)/sqrt((-x_s + x(lambda))**2 + y(lambda)**2 + z(lambda)**2) + sigma*(1 - tanh(sigma*(R + sqrt((-x_s + x(lambda))**2 + y(lambda)**2 + z(lambda)**2)))**2)*z(lambda)/sqrt((-x_s + x(lambda))**2 + y(lambda)**2 + z(lambda)**2))/(4*tanh(R*sigma)),                                                                                                                                                                                                                                                                                                                                                         0, 0, 0],\n",
       "[                                                                                                                                                                                                                                                                                                                                                                                                                                                                                                                                 0,                                                                                                                                                                                                                                                                                                                                                         0, 0, 0],\n",
       "[                                                                                                                                                                                                                                                                                                                                                                                                                                                                                                                                 0,                                                                                                                                                                                                                                                                                                                                                         0, 0, 0]])"
      ]
     },
     "metadata": {},
     "output_type": "display_data"
    }
   ],
   "source": [
    "for i in range(n):\n",
    "    display(christoffel_symbols[i])"
   ]
  },
  {
   "cell_type": "code",
   "execution_count": 15,
   "id": "01d4e4f0",
   "metadata": {},
   "outputs": [],
   "source": [
    "C = christoffel_symbols"
   ]
  },
  {
   "cell_type": "markdown",
   "id": "3062dc18",
   "metadata": {},
   "source": [
    "Definitions of momenta using trajectory of photon:\n",
    "\n",
    "$$\n",
    "\\frac{dt}{d\\lambda}-p^t=0\n",
    "$$\n",
    "$$\n",
    "\\frac{dx}{d\\lambda}-p^x=0\n",
    "$$\n",
    "$$\n",
    "\\frac{dy}{d\\lambda}-p^y=0\n",
    "$$"
   ]
  },
  {
   "cell_type": "code",
   "execution_count": 16,
   "id": "9f7392b3",
   "metadata": {},
   "outputs": [],
   "source": [
    "pt = sp.diff(t, lam)\n",
    "px = sp.diff(x, lam)\n",
    "py = sp.diff(y, lam)\n",
    "pz = sp.diff(y, lam)"
   ]
  },
  {
   "cell_type": "markdown",
   "id": "339a74e2",
   "metadata": {},
   "source": [
    "## THE FOLLOWING STILL NEEDS TO BE EDITED FOR MODULARITY\n",
    "$$\n",
    "\\frac{dp^t}{d\\lambda}+\\Gamma^t_{tt}(p^t)^2+\\Gamma^t_{xx}(p^x)^2+2\\Gamma^t_{tx}p^tp^x+2\\Gamma^t_{ty}p^tp^y+2\\Gamma^t_{xy}p^xp^y=0\n",
    "$$\n",
    "$$\n",
    "\\frac{dp^x}{d\\lambda}+\\Gamma^x_{tt}(p^t)^2+\\Gamma^x_{xx}(p^x)^2+2\\Gamma^x_{tx}p^tp^x+2\\Gamma^x_{ty}p^tp^y+2\\Gamma^x_{xy}p^xp^y=0\n",
    "$$\n",
    "$$\n",
    "\\frac{dp^y}{d\\lambda}+\\Gamma^y_{tt}(p^t)^2+2\\Gamma^y_{tx}p^tp^x=0\n",
    "$$"
   ]
  },
  {
   "cell_type": "markdown",
   "id": "2b36d4ba",
   "metadata": {},
   "source": [
    "### Model assumes symmetry\n",
    "[0, 1, 2, 3]=[t,x,y,z]"
   ]
  },
  {
   "cell_type": "code",
   "execution_count": 17,
   "id": "1c596f09",
   "metadata": {},
   "outputs": [],
   "source": [
    "Ct, Cx, Cy, Cz = C[0], C[1], C[2], C[3]\n",
    "dptdl = -1 * (Ct[0,0] * pt**2 + Ct[1,1] * px**2 + Ct[2,2] * py**2 + Ct[3,3] * pz**2 + 2 * (Ct[0,1] * pt * px + Ct[0,2] * pt * py + Ct[0,3] * pt * pz + Ct[1,2] * px * py + Ct[1,3] * px * pz + Ct[2,3] * py * pz))\n",
    "dpxdl = -1 * (Cx[0,0] * pt**2 + Cx[1,1] * px**2 + Cx[2,2] * py**2 + Cx[3,3] * pz**2 + 2 * (Cx[0,1] * pt * px + Cx[0,2] * pt * py + Cx[0,3] * pt * pz + Cx[1,2] * px * py + Cx[1,3] * px * pz + Cx[2,3] * py * pz))\n",
    "dpydl = -1 * (Cy[0,0] * pt**2 + Cy[1,1] * px**2 + Cy[2,2] * py**2 + Cy[3,3] * pz**2 + 2 * (Cy[0,1] * pt * px + Cy[0,2] * pt * py + Cy[0,3] * pt * pz + Cy[1,2] * px * py + Cy[1,3] * px * pz + Cy[2,3] * py * pz))\n",
    "dpzdl = -1 * (Cz[0,0] * pt**2 + Cz[1,1] * px**2 + Cz[2,2] * py**2 + Cz[3,3] * pz**2 + 2 * (Cz[0,1] * pt * px + Cz[0,2] * pt * py + Cz[0,3] * pt * pz + Cz[1,2] * px * py + Cz[1,3] * px * pz + Cz[2,3] * py * pz))\n",
    "\n",
    "# dptdl = dptdl.simplify()\n",
    "# dpxdl = dpxdl.simplify()\n",
    "# dpydl = dpydl.simplify()\n",
    "# dpzdl = dpzdl.simplify()"
   ]
  },
  {
   "cell_type": "markdown",
   "id": "fd7c802f",
   "metadata": {},
   "source": [
    "## Recursive system"
   ]
  },
  {
   "cell_type": "code",
   "execution_count": 18,
   "id": "28cbd376",
   "metadata": {},
   "outputs": [],
   "source": [
    "import numpy as np\n",
    "import time\n",
    "\n",
    "# dLambda\n",
    "dL=0.001\n",
    "meters = 25\n",
    "count = 0\n",
    "angles_len = 10\n",
    "angles = np.linspace(0, 2*np.pi, 1)\n",
    "\n",
    "values = np.zeros((1, 8))\n",
    "values[:,0] = 0   \n",
    "values[:, 1] = 4\n",
    "values[:, 2] = 4\n",
    "values[:, 3] = 4\n",
    "values[:, 5] = 10 # x'\n",
    "values[:, 6] = 30 #y'\n",
    "values[:, 7] = 0 # z'"
   ]
  },
  {
   "cell_type": "markdown",
   "id": "b0012372",
   "metadata": {},
   "source": [
    "## Initial conditions must be fixed to satisfy:\n",
    "\\begin{align*}\n",
    "B &= 2g_{tx}p^x + 2g_{ty}p^y + 2g_{tz}p^z, \\\\\n",
    "C &= g_{xx}(p^x)^2 + 2g_{xy}p^x p^y + 2g_{xz}p^x p^z + g_{yy}(p^y)^2 + 2g_{yz}p^y p^z + g_{zz}(p^z)^2, \\\\\n",
    "p^t &= \\frac{-B \\pm \\sqrt{B^2 - 4g_{tt}C}}{2g_{tt}}.\n",
    "\\end{align*}"
   ]
  },
  {
   "cell_type": "code",
   "execution_count": 24,
   "id": "0552f775",
   "metadata": {
    "scrolled": false
   },
   "outputs": [],
   "source": [
    "Bquad=2*(metric[0, 1]*px+metric[0, 2]*py+metric[0, 3]*pz)\n",
    "Cquad=metric[1, 1]*px**2+metric[2, 2]*py**2+metric[3, 3]*pz**2+2*(\n",
    "      metric[1, 2]*px*py+metric[1, 3]*px*pz+metric[2, 3]*py*pz\n",
    ")\n",
    "\n",
    "\n",
    "pt1 = (-Bquad+sp.sqrt(Bquad**2-4*metric[0,0]*Cquad))/(2*metric[0,0])\n",
    "pt2 = ((-Bquad - sp.sqrt(Bquad**2 - 4 * metric[0, 0] * Cquad)) / (2 * metric[0, 0]))\n",
    "\n",
    "\n",
    "pt1_lambda = sp.lambdify((t,x,y,z,vs,R,sigma,px,py,pz), pt1, \"numpy\")\n",
    "pt2_lambda = sp.lambdify((t,x,y,z,vs,R,sigma,px,py,pz), pt2, \"numpy\")"
   ]
  },
  {
   "cell_type": "code",
   "execution_count": 22,
   "id": "b543b579",
   "metadata": {},
   "outputs": [
    {
     "data": {
      "text/latex": [
       "$\\displaystyle - \\frac{v_{s} \\left(- \\tanh{\\left(\\sigma \\left(- R + \\sqrt{\\left(- x_{s} + x{\\left(\\lambda \\right)}\\right)^{2} + y^{2}{\\left(\\lambda \\right)} + z^{2}{\\left(\\lambda \\right)}}\\right) \\right)} + \\tanh{\\left(\\sigma \\left(R + \\sqrt{\\left(- x_{s} + x{\\left(\\lambda \\right)}\\right)^{2} + y^{2}{\\left(\\lambda \\right)} + z^{2}{\\left(\\lambda \\right)}}\\right) \\right)}\\right) \\frac{d}{d \\lambda} x{\\left(\\lambda \\right)}}{\\tanh{\\left(R \\sigma \\right)}}$"
      ],
      "text/plain": [
       "-v_s*(-tanh(sigma*(-R + sqrt((-x_s + x(lambda))**2 + y(lambda)**2 + z(lambda)**2))) + tanh(sigma*(R + sqrt((-x_s + x(lambda))**2 + y(lambda)**2 + z(lambda)**2))))*Derivative(x(lambda), lambda)/tanh(R*sigma)"
      ]
     },
     "execution_count": 22,
     "metadata": {},
     "output_type": "execute_result"
    }
   ],
   "source": [
    "Bquad"
   ]
  },
  {
   "cell_type": "markdown",
   "id": "3f0586f5",
   "metadata": {},
   "source": [
    "## Following code assumes continuity with pt1 solution (plus)"
   ]
  },
  {
   "cell_type": "code",
   "execution_count": 25,
   "id": "d4f7e9c5",
   "metadata": {},
   "outputs": [
    {
     "ename": "TypeError",
     "evalue": "loop of ufunc does not support argument 0 of type Add which has no callable sqrt method",
     "output_type": "error",
     "traceback": [
      "\u001b[1;31m---------------------------------------------------------------------------\u001b[0m",
      "\u001b[1;31mAttributeError\u001b[0m                            Traceback (most recent call last)",
      "\u001b[1;31mAttributeError\u001b[0m: 'Add' object has no attribute 'sqrt'",
      "\nThe above exception was the direct cause of the following exception:\n",
      "\u001b[1;31mTypeError\u001b[0m                                 Traceback (most recent call last)",
      "Cell \u001b[1;32mIn[25], line 2\u001b[0m\n\u001b[0;32m      1\u001b[0m args \u001b[38;5;241m=\u001b[39m (values[:, \u001b[38;5;241m0\u001b[39m], values[:, \u001b[38;5;241m1\u001b[39m], values[:, \u001b[38;5;241m2\u001b[39m], values[:, \u001b[38;5;241m3\u001b[39m], \u001b[38;5;241m1\u001b[39m , \u001b[38;5;241m2\u001b[39m, \u001b[38;5;241m1\u001b[39m, values[:, \u001b[38;5;241m5\u001b[39m], values[:, \u001b[38;5;241m6\u001b[39m], values[:, \u001b[38;5;241m7\u001b[39m])\n\u001b[1;32m----> 2\u001b[0m \u001b[38;5;28mprint\u001b[39m(pt1_lambda(\u001b[38;5;241m*\u001b[39margs))\n\u001b[0;32m      3\u001b[0m \u001b[38;5;28mprint\u001b[39m(pt2_lambda(\u001b[38;5;241m*\u001b[39margs))\n\u001b[0;32m      4\u001b[0m values[:,\u001b[38;5;241m4\u001b[39m]\u001b[38;5;241m=\u001b[39mpt1_lambda(\u001b[38;5;241m*\u001b[39margs)\n",
      "File \u001b[1;32m<lambdifygenerated-6>:2\u001b[0m, in \u001b[0;36m_lambdifygenerated\u001b[1;34m(_Dummy_163225, _Dummy_162864, _Dummy_162563, _Dummy_162262, v_s, R, sigma, _Dummy_162261, _Dummy_162260, _Dummy_162259)\u001b[0m\n\u001b[0;32m      1\u001b[0m \u001b[38;5;28;01mdef\u001b[39;00m \u001b[38;5;21m_lambdifygenerated\u001b[39m(_Dummy_163225, _Dummy_162864, _Dummy_162563, _Dummy_162262, v_s, R, sigma, _Dummy_162261, _Dummy_162260, _Dummy_162259):\n\u001b[1;32m----> 2\u001b[0m     \u001b[38;5;28;01mreturn\u001b[39;00m (_Dummy_162261\u001b[38;5;241m*\u001b[39mv_s\u001b[38;5;241m*\u001b[39m(\u001b[38;5;241m-\u001b[39mtanh(sigma\u001b[38;5;241m*\u001b[39m(\u001b[38;5;241m-\u001b[39mR \u001b[38;5;241m+\u001b[39m sqrt(_Dummy_162262\u001b[38;5;241m*\u001b[39m\u001b[38;5;241m*\u001b[39m\u001b[38;5;241m2\u001b[39m \u001b[38;5;241m+\u001b[39m _Dummy_162563\u001b[38;5;241m*\u001b[39m\u001b[38;5;241m*\u001b[39m\u001b[38;5;241m2\u001b[39m \u001b[38;5;241m+\u001b[39m (_Dummy_162864 \u001b[38;5;241m-\u001b[39m x_s)\u001b[38;5;241m*\u001b[39m\u001b[38;5;241m*\u001b[39m\u001b[38;5;241m2\u001b[39m))) \u001b[38;5;241m+\u001b[39m tanh(sigma\u001b[38;5;241m*\u001b[39m(R \u001b[38;5;241m+\u001b[39m sqrt(_Dummy_162262\u001b[38;5;241m*\u001b[39m\u001b[38;5;241m*\u001b[39m\u001b[38;5;241m2\u001b[39m \u001b[38;5;241m+\u001b[39m _Dummy_162563\u001b[38;5;241m*\u001b[39m\u001b[38;5;241m*\u001b[39m\u001b[38;5;241m2\u001b[39m \u001b[38;5;241m+\u001b[39m (_Dummy_162864 \u001b[38;5;241m-\u001b[39m x_s)\u001b[38;5;241m*\u001b[39m\u001b[38;5;241m*\u001b[39m\u001b[38;5;241m2\u001b[39m))))\u001b[38;5;241m/\u001b[39mtanh(R\u001b[38;5;241m*\u001b[39msigma) \u001b[38;5;241m+\u001b[39m sqrt(_Dummy_162261\u001b[38;5;241m*\u001b[39m\u001b[38;5;241m*\u001b[39m\u001b[38;5;241m2\u001b[39m\u001b[38;5;241m*\u001b[39mv_s\u001b[38;5;241m*\u001b[39m\u001b[38;5;241m*\u001b[39m\u001b[38;5;241m2\u001b[39m\u001b[38;5;241m*\u001b[39m(\u001b[38;5;241m-\u001b[39mtanh(sigma\u001b[38;5;241m*\u001b[39m(\u001b[38;5;241m-\u001b[39mR \u001b[38;5;241m+\u001b[39m sqrt(_Dummy_162262\u001b[38;5;241m*\u001b[39m\u001b[38;5;241m*\u001b[39m\u001b[38;5;241m2\u001b[39m \u001b[38;5;241m+\u001b[39m _Dummy_162563\u001b[38;5;241m*\u001b[39m\u001b[38;5;241m*\u001b[39m\u001b[38;5;241m2\u001b[39m \u001b[38;5;241m+\u001b[39m (_Dummy_162864 \u001b[38;5;241m-\u001b[39m x_s)\u001b[38;5;241m*\u001b[39m\u001b[38;5;241m*\u001b[39m\u001b[38;5;241m2\u001b[39m))) \u001b[38;5;241m+\u001b[39m tanh(sigma\u001b[38;5;241m*\u001b[39m(R \u001b[38;5;241m+\u001b[39m sqrt(_Dummy_162262\u001b[38;5;241m*\u001b[39m\u001b[38;5;241m*\u001b[39m\u001b[38;5;241m2\u001b[39m \u001b[38;5;241m+\u001b[39m _Dummy_162563\u001b[38;5;241m*\u001b[39m\u001b[38;5;241m*\u001b[39m\u001b[38;5;241m2\u001b[39m \u001b[38;5;241m+\u001b[39m (_Dummy_162864 \u001b[38;5;241m-\u001b[39m x_s)\u001b[38;5;241m*\u001b[39m\u001b[38;5;241m*\u001b[39m\u001b[38;5;241m2\u001b[39m))))\u001b[38;5;241m*\u001b[39m\u001b[38;5;241m*\u001b[39m\u001b[38;5;241m2\u001b[39m\u001b[38;5;241m/\u001b[39mtanh(R\u001b[38;5;241m*\u001b[39msigma)\u001b[38;5;241m*\u001b[39m\u001b[38;5;241m*\u001b[39m\u001b[38;5;241m2\u001b[39m \u001b[38;5;241m-\u001b[39m (\u001b[38;5;241m2\u001b[39m\u001b[38;5;241m*\u001b[39m_Dummy_162259\u001b[38;5;241m*\u001b[39m\u001b[38;5;241m*\u001b[39m\u001b[38;5;241m2\u001b[39m \u001b[38;5;241m+\u001b[39m _Dummy_162261\u001b[38;5;241m*\u001b[39m\u001b[38;5;241m*\u001b[39m\u001b[38;5;241m2\u001b[39m)\u001b[38;5;241m*\u001b[39m(v_s\u001b[38;5;241m*\u001b[39m\u001b[38;5;241m*\u001b[39m\u001b[38;5;241m2\u001b[39m\u001b[38;5;241m*\u001b[39m(\u001b[38;5;241m-\u001b[39mtanh(sigma\u001b[38;5;241m*\u001b[39m(\u001b[38;5;241m-\u001b[39mR \u001b[38;5;241m+\u001b[39m sqrt(_Dummy_162262\u001b[38;5;241m*\u001b[39m\u001b[38;5;241m*\u001b[39m\u001b[38;5;241m2\u001b[39m \u001b[38;5;241m+\u001b[39m _Dummy_162563\u001b[38;5;241m*\u001b[39m\u001b[38;5;241m*\u001b[39m\u001b[38;5;241m2\u001b[39m \u001b[38;5;241m+\u001b[39m (_Dummy_162864 \u001b[38;5;241m-\u001b[39m x_s)\u001b[38;5;241m*\u001b[39m\u001b[38;5;241m*\u001b[39m\u001b[38;5;241m2\u001b[39m))) \u001b[38;5;241m+\u001b[39m tanh(sigma\u001b[38;5;241m*\u001b[39m(R \u001b[38;5;241m+\u001b[39m sqrt(_Dummy_162262\u001b[38;5;241m*\u001b[39m\u001b[38;5;241m*\u001b[39m\u001b[38;5;241m2\u001b[39m \u001b[38;5;241m+\u001b[39m _Dummy_162563\u001b[38;5;241m*\u001b[39m\u001b[38;5;241m*\u001b[39m\u001b[38;5;241m2\u001b[39m \u001b[38;5;241m+\u001b[39m (_Dummy_162864 \u001b[38;5;241m-\u001b[39m x_s)\u001b[38;5;241m*\u001b[39m\u001b[38;5;241m*\u001b[39m\u001b[38;5;241m2\u001b[39m))))\u001b[38;5;241m*\u001b[39m\u001b[38;5;241m*\u001b[39m\u001b[38;5;241m2\u001b[39m\u001b[38;5;241m/\u001b[39mtanh(R\u001b[38;5;241m*\u001b[39msigma)\u001b[38;5;241m*\u001b[39m\u001b[38;5;241m*\u001b[39m\u001b[38;5;241m2\u001b[39m \u001b[38;5;241m-\u001b[39m \u001b[38;5;241m4\u001b[39m)))\u001b[38;5;241m/\u001b[39m((\u001b[38;5;241m1\u001b[39m\u001b[38;5;241m/\u001b[39m\u001b[38;5;241m2\u001b[39m)\u001b[38;5;241m*\u001b[39mv_s\u001b[38;5;241m*\u001b[39m\u001b[38;5;241m*\u001b[39m\u001b[38;5;241m2\u001b[39m\u001b[38;5;241m*\u001b[39m(\u001b[38;5;241m-\u001b[39mtanh(sigma\u001b[38;5;241m*\u001b[39m(\u001b[38;5;241m-\u001b[39mR \u001b[38;5;241m+\u001b[39m sqrt(_Dummy_162262\u001b[38;5;241m*\u001b[39m\u001b[38;5;241m*\u001b[39m\u001b[38;5;241m2\u001b[39m \u001b[38;5;241m+\u001b[39m _Dummy_162563\u001b[38;5;241m*\u001b[39m\u001b[38;5;241m*\u001b[39m\u001b[38;5;241m2\u001b[39m \u001b[38;5;241m+\u001b[39m (_Dummy_162864 \u001b[38;5;241m-\u001b[39m x_s)\u001b[38;5;241m*\u001b[39m\u001b[38;5;241m*\u001b[39m\u001b[38;5;241m2\u001b[39m))) \u001b[38;5;241m+\u001b[39m tanh(sigma\u001b[38;5;241m*\u001b[39m(R \u001b[38;5;241m+\u001b[39m sqrt(_Dummy_162262\u001b[38;5;241m*\u001b[39m\u001b[38;5;241m*\u001b[39m\u001b[38;5;241m2\u001b[39m \u001b[38;5;241m+\u001b[39m _Dummy_162563\u001b[38;5;241m*\u001b[39m\u001b[38;5;241m*\u001b[39m\u001b[38;5;241m2\u001b[39m \u001b[38;5;241m+\u001b[39m (_Dummy_162864 \u001b[38;5;241m-\u001b[39m x_s)\u001b[38;5;241m*\u001b[39m\u001b[38;5;241m*\u001b[39m\u001b[38;5;241m2\u001b[39m))))\u001b[38;5;241m*\u001b[39m\u001b[38;5;241m*\u001b[39m\u001b[38;5;241m2\u001b[39m\u001b[38;5;241m/\u001b[39mtanh(R\u001b[38;5;241m*\u001b[39msigma)\u001b[38;5;241m*\u001b[39m\u001b[38;5;241m*\u001b[39m\u001b[38;5;241m2\u001b[39m \u001b[38;5;241m-\u001b[39m \u001b[38;5;241m2\u001b[39m)\n",
      "\u001b[1;31mTypeError\u001b[0m: loop of ufunc does not support argument 0 of type Add which has no callable sqrt method"
     ]
    }
   ],
   "source": [
    "args = (values[:, 0], values[:, 1], values[:, 2], values[:, 3], 1 , 2, 1, values[:, 5], values[:, 6], values[:, 7])\n",
    "print(pt1_lambda(*args))\n",
    "print(pt2_lambda(*args))\n",
    "values[:,4]=pt1_lambda(*args)"
   ]
  },
  {
   "cell_type": "code",
   "execution_count": null,
   "id": "cced2a46",
   "metadata": {},
   "outputs": [],
   "source": [
    "values"
   ]
  },
  {
   "cell_type": "code",
   "execution_count": null,
   "id": "6657acfa",
   "metadata": {},
   "outputs": [],
   "source": [
    "# define initial conditions\n",
    "\n",
    "geods=[]\n",
    "iterations = int(meters//dL)\n",
    "L = 0\n",
    "# append a numpy copy of the array to geod\n",
    "geods.append(np.copy(values))\n",
    "\n",
    "dptdl_lambda = sp.lambdify((t, x, y, z, dt, dx, dy, dz, G, M, c), dptdl, \"numpy\")\n",
    "dpxdl_lambda = sp.lambdify((t, x, y, z, dt, dx, dy, dz, G, M, c), dpxdl, \"numpy\")\n",
    "dpydl_lambda = sp.lambdify((t, x, y, z, dt, dx, dy, dz, G, M, c), dpydl, \"numpy\")\n",
    "dpzdl_lambda = sp.lambdify((t, x, y, z, dt, dx, dy, dz, G, M, c), dpzdl, \"numpy\")\n",
    "\n",
    "print(\"starting iterations\")\n",
    "start = time.time()\n",
    "\n",
    "for i in range(iterations):\n",
    "    L_=L\n",
    "    L+=dL\n",
    "\n",
    "    args = (values[:, 0], values[:, 1], values[:, 2], values[:, 3], values[:, 4], values[:, 5], values[:, 6],\n",
    "            values[:, 7], 1, 1, 1)\n",
    "\n",
    "    dp=[\n",
    "        dptdl_lambda(*args),\n",
    "        dpxdl_lambda(*args),\n",
    "        dpydl_lambda(*args),\n",
    "        dpzdl_lambda(*args)\n",
    "    ]\n",
    "\n",
    "    values[:,4:] += dL * np.array(dp).T # update the velocities\n",
    "    values[:, 0:4] += dL * values[:, 4:] # update positions\n",
    "    geods.append(np.copy(values))\n",
    "    count += 1\n",
    "    print(\"Percentage done: {:3.5f} %\".format((count/iterations)*100), end=\"\\r\")\n",
    "\n",
    "\n",
    "\n",
    "\n",
    "print(\"Elapsed time: {:3.2f} seconds\".format(time.time()-start))\n",
    "geods = np.array(geods)\n"
   ]
  },
  {
   "cell_type": "code",
   "execution_count": null,
   "id": "e14e59d5",
   "metadata": {},
   "outputs": [],
   "source": [
    "geods.shape"
   ]
  },
  {
   "cell_type": "markdown",
   "id": "f7b861dc",
   "metadata": {},
   "source": [
    "## Plotting"
   ]
  },
  {
   "cell_type": "code",
   "execution_count": null,
   "id": "0049d020",
   "metadata": {
    "scrolled": false
   },
   "outputs": [],
   "source": [
    "import plotly.graph_objects as go\n",
    "import numpy as np\n",
    "from matplotlib import cm\n",
    "from matplotlib.colors import Normalize\n",
    "\n",
    "G_val=1\n",
    "M_val=1\n",
    "c_val=1\n",
    "\n",
    "\n",
    "# Assume `trimmed_geods`, `angles` and `rs` (radius of the sphere) are defined\n",
    "rs = 2*G_val*M_val/c_val**2\n",
    "print(rs)\n",
    "\n",
    "# More refined grid for smoother sphere\n",
    "phi = np.linspace(0, np.pi, 100)\n",
    "theta = np.linspace(0, 2 * np.pi, 100)\n",
    "phi, theta = np.meshgrid(phi, theta)\n",
    "x = rs * np.sin(phi) * np.cos(theta)\n",
    "y = rs * np.sin(phi) * np.sin(theta)\n",
    "z = rs * np.cos(phi)\n",
    "\n",
    "# Define the figure\n",
    "fig = go.Figure()\n",
    "\n",
    "# Normalize and prepare colors for geodesics\n",
    "norm = Normalize(vmin=np.min(angles), vmax=np.max(angles))\n",
    "colors = cm.viridis(norm(angles))\n",
    "hex_colors = [f'rgb({int(c[0]*255)}, {int(c[1]*255)}, {int(c[2]*255)})' for c in colors]\n",
    "\n",
    "# Plotting each geodesic with its corresponding color\n",
    "angs = 1\n",
    "for i in range(angs):\n",
    "    geod = [g[i, :] for g in geods]\n",
    "    ts, xs, ys, zs = geod[:4]\n",
    "    xs = [x for x in xs]\n",
    "    ys = [float(y) for y in ys]\n",
    "    zs = [float(z) for z in zs]\n",
    "\n",
    "    # Position plot\n",
    "    fig.add_trace(go.Scatter3d(x=xs, y=ys, z=zs, mode='lines', line=dict(color=\"green\"), name='Position'))\n",
    "    dx, dy, dz = geod[1][5:]\n",
    "\n",
    "    # Adding a vector trace from the start marker\n",
    "    fig.add_trace(go.Scatter3d(\n",
    "        x=[xs[1], xs[1] + dx],\n",
    "        y=[ys[1], ys[1] + dy],\n",
    "        z=[zs[1], zs[1] + dz],\n",
    "        mode='lines+markers',\n",
    "        marker=dict(size=4, color='orange'),  # Style the endpoint marker\n",
    "        line=dict(color='orange', width=6),   # Style the line\n",
    "        name='Velocity'\n",
    "    ))\n",
    "\n",
    "# for geod, color in zip(geods, hex_colors):\n",
    "#     for ang in geod:\n",
    "#         print(ang.shape)\n",
    "#         ts, xs, ys, zs = ang[:4]\n",
    "\n",
    "#         # Convert all NumPy floats to Python floats\n",
    "#         xs = [x for x in xs]\n",
    "#         ys = [float(y) for y in ys]\n",
    "#         zs = [float(z) for z in zs]\n",
    "\n",
    "#         # Position plot\n",
    "#         fig.add_trace(go.Scatter3d(x=xs, y=ys, z=zs, mode='lines', line=dict(color=color), name='Position'))\n",
    "# Create a surface trace for the sphere with a refined grid\n",
    "fig.add_trace(go.Surface(x=x, y=y, z=z, showscale=False, opacity=0.5, colorscale=[[0, 'lightblue'], [1, 'lightblue']]))\n",
    "\n",
    "\n",
    "fig.add_trace(go.Scatter3d(\n",
    "    x=[0], y=[0], z=[0],\n",
    "    mode='markers',\n",
    "    marker=dict(size=5, color='red'),  # Adjust size and color as needed\n",
    "    name='Origin'\n",
    "))\n",
    "fig.add_trace(go.Scatter3d(\n",
    "    x=[xs[1]], y=[ys[1]], z=[zs[1]],\n",
    "    mode='markers',\n",
    "    marker=dict(size=5, color='green'),  # Adjust size and color as needed\n",
    "    name='Start'\n",
    "))\n",
    "axisLim=max(abs((min(min(xs, ys, zs)))), max(max(xs, ys, zs)), rs)\n",
    "axisLim+=2\n",
    "fig.update_layout(\n",
    "    width=800,\n",
    "    height=800,\n",
    "    scene=dict(\n",
    "        xaxis_title='X (x)',\n",
    "        yaxis_title='Y (y)',\n",
    "        zaxis_title='Z (z)',\n",
    "        aspectmode='cube',  # Ensure equal scaling\n",
    "        \n",
    "        xaxis=dict(range=[-axisLim, axisLim]), # Set axis limits to match sphere radius\n",
    "        yaxis=dict(range=[-axisLim, axisLim]),\n",
    "        zaxis=dict(range=[-axisLim, axisLim])\n",
    "    ),\n",
    "    title='Geodesic Trajectories and Spherical Object'\n",
    ")\n",
    "\n",
    "fig.show()\n"
   ]
  },
  {
   "cell_type": "code",
   "execution_count": null,
   "id": "6aca294e",
   "metadata": {},
   "outputs": [],
   "source": [
    "!pip freeze > req.txt"
   ]
  },
  {
   "cell_type": "code",
   "execution_count": null,
   "id": "238fa03c",
   "metadata": {},
   "outputs": [],
   "source": [
    "xs"
   ]
  },
  {
   "cell_type": "code",
   "execution_count": null,
   "id": "e60426b1",
   "metadata": {},
   "outputs": [],
   "source": [
    "np.array([geod[9,:] for geod in geods]).shape"
   ]
  },
  {
   "cell_type": "code",
   "execution_count": null,
   "id": "6820079a",
   "metadata": {},
   "outputs": [],
   "source": [
    "geods[0].shape"
   ]
  },
  {
   "cell_type": "code",
   "execution_count": null,
   "id": "1576e9af",
   "metadata": {},
   "outputs": [],
   "source": [
    "geods[0][0][1][1:4]"
   ]
  },
  {
   "cell_type": "code",
   "execution_count": null,
   "id": "cca710ba",
   "metadata": {},
   "outputs": [],
   "source": [
    "import matplotlib.pyplot as plt\n",
    "from mpl_toolkits.mplot3d import Axes3D\n",
    "from matplotlib import cm\n",
    "from matplotlib.colors import ListedColormap, Normalize\n",
    "from matplotlib.colorbar import ColorbarBase\n",
    "\n",
    "fig = plt.figure(figsize=(14, 7))\n",
    "\n",
    "# Create a new subplot for position\n",
    "ax = fig.add_subplot(121, projection='3d')\n",
    "ax.set_xlabel('X Position (x)')\n",
    "ax.set_ylabel('Y Position (y)')\n",
    "ax.set_zlabel('Z Position (z)')\n",
    "ax.set_title('Geodesic Trajectories in Space-Time')\n",
    "\n",
    "# Create a new subplot for velocity\n",
    "ax2 = fig.add_subplot(122, projection='3d')\n",
    "ax2.set_xlabel('Time (t)')\n",
    "ax2.set_ylabel(\"Z Velocity (z')\")\n",
    "ax2.set_zlabel(\"Y Velocity (y')\")\n",
    "ax2.set_title(\"Velocity Along the Geodesics\")\n",
    "\n",
    "# Normalize for the color map to correspond to the range of theta_0\n",
    "norm = Normalize(vmin=np.min(angles), vmax=np.max(angles))\n",
    "\n",
    "# Generate a color map ranging from 0 to 1 over the number of geodesics\n",
    "colors = cm.viridis(norm(angles))\n",
    "\n",
    "# Plotting each geodesic with its corresponding color\n",
    "for geod, color in zip(geods, colors):\n",
    "    lambdas = list(geod.keys())\n",
    "    positions = [geod[key][0] for key in lambdas]\n",
    "    velocities = [geod[key][1] for key in lambdas]\n",
    "    ts, xs, ys, zs = zip(*positions)\n",
    "    tps, xps, yps, zps = zip(*velocities)\n",
    "\n",
    "    # Position plot\n",
    "    ax.plot(xs, ys, zs, color=color)\n",
    "\n",
    "    # Velocity plot\n",
    "    ax2.plot(ts, zps, yps, color=color)\n",
    "\n",
    "# Create a sphere at the origin\n",
    "r_s = 2*G_val*M_val/c_val**2  # Set the radius of the sphere\n",
    "u, v = np.mgrid[0:2*np.pi:20j, 0:np.pi:10j]\n",
    "x = r_s*np.cos(u)*np.sin(v)\n",
    "y = r_s*np.sin(u)*np.sin(v)\n",
    "z = r_s*np.cos(v)\n",
    "\n",
    "# Plot sphere in both subplots\n",
    "ax.plot_surface(x, y, z, color='b', alpha=0.5)\n",
    "\n",
    "# Create a colorbar as a legend\n",
    "sm = cm.ScalarMappable(cmap=cm.viridis, norm=norm)\n",
    "sm.set_array([])  # Dummy array for the colorbar\n",
    "\n",
    "# Add colorbar to the figure\n",
    "cbar = fig.colorbar(sm, ax=[ax, ax2], orientation='vertical', fraction=0.015, pad=0.1)\n",
    "cbar.set_label('Initial angle $\\\\theta_0$ (radians)')\n",
    "\n",
    "plt.show()"
   ]
  },
  {
   "cell_type": "code",
   "execution_count": null,
   "id": "3a205e3a",
   "metadata": {
    "scrolled": false
   },
   "outputs": [],
   "source": [
    "# Creating 2D plots for t-x, t-y, and x-y\n",
    "fig, (ax1, ax2, ax3) = plt.subplots(1, 3, figsize=(18, 5))  # 1 row, 3 columns\n",
    "\n",
    "# t-x plot\n",
    "ax1.plot(ts, xs, 'b.-')  # 'b.-' is the style: blue line with dots\n",
    "ax1.set_xlabel('Time (t)')\n",
    "ax1.set_ylabel('X Position (x)')\n",
    "ax1.set_title('Time vs X Position')\n",
    "ax1.grid(True)\n",
    "\n",
    "# t-y plot\n",
    "ax2.plot(ts, zs, 'r.-')  # 'r.-' is the style: red line with dots\n",
    "ax2.set_xlabel('Time (t)')\n",
    "ax2.set_ylabel('z Position (z)')\n",
    "ax2.set_title('Time vs z Position')\n",
    "ax2.grid(True)\n",
    "\n",
    "# x-y plot\n",
    "ax3.plot(zs, ys, 'g.-')  # 'g.-' is the style: green line with dots\n",
    "ax3.set_xlabel('z Position (z)')\n",
    "ax3.set_ylabel('Y Position (y)')\n",
    "ax3.set_title('z Position vs Y Position')\n",
    "ax3.grid(True)\n",
    "\n",
    "# Display the plots next to each other\n",
    "plt.tight_layout()\n",
    "plt.show()"
   ]
  },
  {
   "cell_type": "code",
   "execution_count": null,
   "id": "4124b638",
   "metadata": {
    "scrolled": true
   },
   "outputs": [],
   "source": [
    "{k: v[1] for k, v in geods[0].items()}"
   ]
  },
  {
   "cell_type": "code",
   "execution_count": null,
   "id": "59ea1947",
   "metadata": {},
   "outputs": [],
   "source": [
    "geods"
   ]
  }
 ],
 "metadata": {
  "kernelspec": {
   "display_name": "Python 3 (ipykernel)",
   "language": "python",
   "name": "python3"
  },
  "language_info": {
   "codemirror_mode": {
    "name": "ipython",
    "version": 3
   },
   "file_extension": ".py",
   "mimetype": "text/x-python",
   "name": "python",
   "nbconvert_exporter": "python",
   "pygments_lexer": "ipython3",
   "version": "3.11.5"
  }
 },
 "nbformat": 4,
 "nbformat_minor": 5
}
