{
 "cells": [
  {
   "cell_type": "code",
   "execution_count": 32,
   "id": "e226e2c9",
   "metadata": {},
   "outputs": [],
   "source": [
    "import sympy as sp\n",
    "def getMetric(lineElement, coordSystem=\"Cartesian\", subs=None, overrideConst = False): #the override lets the code run faster if you know for sure your line element will work out\n",
    "    if coordSystem not in [\"Cartesian\", \"PlanePolar\", \"SphericalPolar\", \"CylindricalPolar\"]:\n",
    "        raise ValueError(\"Unknown coordinate system\")\n",
    "\n",
    "    lineElement=sp.expand(lineElement)\n",
    "    coords = (t, x, y, z)\n",
    "\n",
    "    dim = len(coords)\n",
    "    g = sp.zeros(dim)\n",
    "\n",
    "    for mu in range(dim):\n",
    "        for nu in range(dim):\n",
    "            coeff = lineElement.coeff(sp.diff(coords[mu]) * sp.diff(coords[nu]))\n",
    "            if mu != nu and coeff != 0:\n",
    "                g[mu, nu] = coeff.subs(subs) / 2\n",
    "            else:\n",
    "                g[mu, nu] = coeff.subs(subs)\n",
    "                \n",
    "    # Check for unexpected terms in the line element\n",
    "    if not overrideConst:\n",
    "        reconstructed_line_element = sum(g[i, j] * sp.diff(coords[i]) * sp.diff(coords[j]) for i in range(dim) for j in range(dim))\n",
    "        if sp.simplify(lineElement.subs(subs) - reconstructed_line_element) != 0:\n",
    "            raise ValueError(\"Line element contains terms that are not pure differentials of the coordinates used\")\n",
    "    return g"
   ]
  },
  {
   "cell_type": "code",
   "execution_count": 59,
   "id": "3ce571e2",
   "metadata": {},
   "outputs": [
    {
     "data": {
      "text/latex": [
       "$\\displaystyle - c^{2} \\left(\\frac{d}{d \\lambda} t{\\left(\\lambda \\right)}\\right)^{2} + \\left(- f_{r} v_{s} \\frac{d}{d \\lambda} t{\\left(\\lambda \\right)} + \\frac{d}{d \\lambda} x{\\left(\\lambda \\right)}\\right)^{2} + \\left(\\frac{d}{d \\lambda} y{\\left(\\lambda \\right)}\\right)^{2} + \\left(\\frac{d}{d \\lambda} z{\\left(\\lambda \\right)}\\right)^{2}$"
      ],
      "text/plain": [
       "-c**2*Derivative(t(lambda), lambda)**2 + (-f_r*v_s*Derivative(t(lambda), lambda) + Derivative(x(lambda), lambda))**2 + Derivative(y(lambda), lambda)**2 + Derivative(z(lambda), lambda)**2"
      ]
     },
     "metadata": {},
     "output_type": "display_data"
    },
    {
     "data": {
      "text/latex": [
       "$\\displaystyle \\left[\\begin{matrix}- c^{2} + \\frac{v_{s}^{2} \\left(- \\tanh{\\left(\\sigma \\left(- R + \\sqrt{\\left(- v_{s} t{\\left(\\lambda \\right)} + x{\\left(\\lambda \\right)}\\right)^{2} + y^{2}{\\left(\\lambda \\right)} + z^{2}{\\left(\\lambda \\right)}}\\right) \\right)} + \\tanh{\\left(\\sigma \\left(R + \\sqrt{\\left(- v_{s} t{\\left(\\lambda \\right)} + x{\\left(\\lambda \\right)}\\right)^{2} + y^{2}{\\left(\\lambda \\right)} + z^{2}{\\left(\\lambda \\right)}}\\right) \\right)}\\right)^{2}}{4 \\tanh^{2}{\\left(R \\sigma \\right)}} & - \\frac{v_{s} \\left(- \\tanh{\\left(\\sigma \\left(- R + \\sqrt{\\left(- v_{s} t{\\left(\\lambda \\right)} + x{\\left(\\lambda \\right)}\\right)^{2} + y^{2}{\\left(\\lambda \\right)} + z^{2}{\\left(\\lambda \\right)}}\\right) \\right)} + \\tanh{\\left(\\sigma \\left(R + \\sqrt{\\left(- v_{s} t{\\left(\\lambda \\right)} + x{\\left(\\lambda \\right)}\\right)^{2} + y^{2}{\\left(\\lambda \\right)} + z^{2}{\\left(\\lambda \\right)}}\\right) \\right)}\\right)}{2 \\tanh{\\left(R \\sigma \\right)}} & 0 & 0\\\\- \\frac{v_{s} \\left(- \\tanh{\\left(\\sigma \\left(- R + \\sqrt{\\left(- v_{s} t{\\left(\\lambda \\right)} + x{\\left(\\lambda \\right)}\\right)^{2} + y^{2}{\\left(\\lambda \\right)} + z^{2}{\\left(\\lambda \\right)}}\\right) \\right)} + \\tanh{\\left(\\sigma \\left(R + \\sqrt{\\left(- v_{s} t{\\left(\\lambda \\right)} + x{\\left(\\lambda \\right)}\\right)^{2} + y^{2}{\\left(\\lambda \\right)} + z^{2}{\\left(\\lambda \\right)}}\\right) \\right)}\\right)}{2 \\tanh{\\left(R \\sigma \\right)}} & 1 & 0 & 0\\\\0 & 0 & 1 & 0\\\\0 & 0 & 0 & 1\\end{matrix}\\right]$"
      ],
      "text/plain": [
       "Matrix([\n",
       "[-c**2 + v_s**2*(-tanh(sigma*(-R + sqrt((-v_s*t(lambda) + x(lambda))**2 + y(lambda)**2 + z(lambda)**2))) + tanh(sigma*(R + sqrt((-v_s*t(lambda) + x(lambda))**2 + y(lambda)**2 + z(lambda)**2))))**2/(4*tanh(R*sigma)**2), -v_s*(-tanh(sigma*(-R + sqrt((-v_s*t(lambda) + x(lambda))**2 + y(lambda)**2 + z(lambda)**2))) + tanh(sigma*(R + sqrt((-v_s*t(lambda) + x(lambda))**2 + y(lambda)**2 + z(lambda)**2))))/(2*tanh(R*sigma)), 0, 0],\n",
       "[                -v_s*(-tanh(sigma*(-R + sqrt((-v_s*t(lambda) + x(lambda))**2 + y(lambda)**2 + z(lambda)**2))) + tanh(sigma*(R + sqrt((-v_s*t(lambda) + x(lambda))**2 + y(lambda)**2 + z(lambda)**2))))/(2*tanh(R*sigma)),                                                                                                                                                                                                        1, 0, 0],\n",
       "[                                                                                                                                                                                                                       0,                                                                                                                                                                                                        0, 1, 0],\n",
       "[                                                                                                                                                                                                                       0,                                                                                                                                                                                                        0, 0, 1]])"
      ]
     },
     "execution_count": 59,
     "metadata": {},
     "output_type": "execute_result"
    }
   ],
   "source": [
    "vs, sigma, R, lam = sp.symbols('v_s sigma R lambda')\n",
    "t = sp.Function('t')(lam)\n",
    "x = sp.Function('x')(lam)\n",
    "y = sp.Function('y')(lam)\n",
    "z = sp.Function('z')(lam)\n",
    "\n",
    "dt=sp.diff(t)\n",
    "dx=sp.diff(x)\n",
    "dy=sp.diff(y)\n",
    "dz=sp.diff(z)\n",
    "\n",
    "# for now, define constants as symbols\n",
    "xs, r, f_r, c = sp.symbols(\"x_s r f_r c\")\n",
    "\n",
    "lineElement = -c**2*dt**2 + (dx - vs*f_r*dt)**2 + dy**2 + dz**2\n",
    "display(lineElement)\n",
    "\n",
    "# order of substitutions matter!!!\n",
    "subs= [\n",
    "    (f_r, (sp.tanh(sigma * (r + R)) - sp.tanh(sigma * (r - R))) / (2 * sp.tanh(sigma * R))),\n",
    "    (r, sp.sqrt((x - xs)**2 + y**2 + z**2)),\n",
    "    (xs, vs*t), # since its steady state\n",
    "]\n",
    "\n",
    "metric=getMetric(lineElement, \"Cartesian\", subs, True)\n",
    "metric"
   ]
  },
  {
   "cell_type": "markdown",
   "id": "a361a494",
   "metadata": {},
   "source": [
    "## computation connection coeffecients (christoffel)"
   ]
  },
  {
   "cell_type": "code",
   "execution_count": 60,
   "id": "9efbbd89",
   "metadata": {},
   "outputs": [
    {
     "name": "stdout",
     "output_type": "stream",
     "text": [
      "start computation\n",
      "done connection j: 0 k: 0 l: 0\n",
      "done connection j: 0 k: 0 l: 1\n",
      "done connection j: 0 k: 0 l: 2\n",
      "done connection j: 0 k: 0 l: 3\n",
      "done connection j: 0 k: 1 l: 0\n",
      "done connection j: 0 k: 1 l: 1\n",
      "done connection j: 0 k: 1 l: 2\n",
      "done connection j: 0 k: 1 l: 3\n",
      "done connection j: 0 k: 2 l: 0\n",
      "done connection j: 0 k: 2 l: 1\n",
      "done connection j: 0 k: 2 l: 2\n",
      "done connection j: 0 k: 2 l: 3\n",
      "done connection j: 0 k: 3 l: 0\n",
      "done connection j: 0 k: 3 l: 1\n",
      "done connection j: 0 k: 3 l: 2\n",
      "done connection j: 0 k: 3 l: 3\n",
      "done connection j: 1 k: 0 l: 0\n",
      "done connection j: 1 k: 0 l: 1\n",
      "done connection j: 1 k: 0 l: 2\n",
      "done connection j: 1 k: 0 l: 3\n",
      "done connection j: 1 k: 1 l: 0\n",
      "done connection j: 1 k: 1 l: 1\n",
      "done connection j: 1 k: 1 l: 2\n",
      "done connection j: 1 k: 1 l: 3\n",
      "done connection j: 1 k: 2 l: 0\n",
      "done connection j: 1 k: 2 l: 1\n",
      "done connection j: 1 k: 2 l: 2\n",
      "done connection j: 1 k: 2 l: 3\n",
      "done connection j: 1 k: 3 l: 0\n",
      "done connection j: 1 k: 3 l: 1\n",
      "done connection j: 1 k: 3 l: 2\n",
      "done connection j: 1 k: 3 l: 3\n",
      "done connection j: 2 k: 0 l: 0\n",
      "done connection j: 2 k: 0 l: 1\n",
      "done connection j: 2 k: 0 l: 2\n",
      "done connection j: 2 k: 0 l: 3\n",
      "done connection j: 2 k: 1 l: 0\n",
      "done connection j: 2 k: 1 l: 1\n",
      "done connection j: 2 k: 1 l: 2\n",
      "done connection j: 2 k: 1 l: 3\n",
      "done connection j: 2 k: 2 l: 0\n",
      "done connection j: 2 k: 2 l: 1\n",
      "done connection j: 2 k: 2 l: 2\n",
      "done connection j: 2 k: 2 l: 3\n",
      "done connection j: 2 k: 3 l: 0\n",
      "done connection j: 2 k: 3 l: 1\n",
      "done connection j: 2 k: 3 l: 2\n",
      "done connection j: 2 k: 3 l: 3\n",
      "done connection j: 3 k: 0 l: 0\n",
      "done connection j: 3 k: 0 l: 1\n",
      "done connection j: 3 k: 0 l: 2\n",
      "done connection j: 3 k: 0 l: 3\n",
      "done connection j: 3 k: 1 l: 0\n",
      "done connection j: 3 k: 1 l: 1\n",
      "done connection j: 3 k: 1 l: 2\n",
      "done connection j: 3 k: 1 l: 3\n",
      "done connection j: 3 k: 2 l: 0\n",
      "done connection j: 3 k: 2 l: 1\n",
      "done connection j: 3 k: 2 l: 2\n",
      "done connection j: 3 k: 2 l: 3\n",
      "done connection j: 3 k: 3 l: 0\n",
      "done connection j: 3 k: 3 l: 1\n",
      "done connection j: 3 k: 3 l: 2\n",
      "done connection j: 3 k: 3 l: 3\n",
      "done connection j: 0 k: 0 l: 0\n",
      "done connection j: 0 k: 0 l: 1\n",
      "done connection j: 0 k: 0 l: 2\n",
      "done connection j: 0 k: 0 l: 3\n",
      "done connection j: 0 k: 1 l: 0\n",
      "done connection j: 0 k: 1 l: 1\n",
      "done connection j: 0 k: 1 l: 2\n",
      "done connection j: 0 k: 1 l: 3\n",
      "done connection j: 0 k: 2 l: 0\n",
      "done connection j: 0 k: 2 l: 1\n",
      "done connection j: 0 k: 2 l: 2\n",
      "done connection j: 0 k: 2 l: 3\n",
      "done connection j: 0 k: 3 l: 0\n",
      "done connection j: 0 k: 3 l: 1\n",
      "done connection j: 0 k: 3 l: 2\n",
      "done connection j: 0 k: 3 l: 3\n",
      "done connection j: 1 k: 0 l: 0\n",
      "done connection j: 1 k: 0 l: 1\n",
      "done connection j: 1 k: 0 l: 2\n",
      "done connection j: 1 k: 0 l: 3\n",
      "done connection j: 1 k: 1 l: 0\n",
      "done connection j: 1 k: 1 l: 1\n",
      "done connection j: 1 k: 1 l: 2\n",
      "done connection j: 1 k: 1 l: 3\n",
      "done connection j: 1 k: 2 l: 0\n",
      "done connection j: 1 k: 2 l: 1\n",
      "done connection j: 1 k: 2 l: 2\n",
      "done connection j: 1 k: 2 l: 3\n",
      "done connection j: 1 k: 3 l: 0\n",
      "done connection j: 1 k: 3 l: 1\n",
      "done connection j: 1 k: 3 l: 2\n",
      "done connection j: 1 k: 3 l: 3\n",
      "done connection j: 2 k: 0 l: 0\n",
      "done connection j: 2 k: 0 l: 1\n",
      "done connection j: 2 k: 0 l: 2\n",
      "done connection j: 2 k: 0 l: 3\n",
      "done connection j: 2 k: 1 l: 0\n",
      "done connection j: 2 k: 1 l: 1\n",
      "done connection j: 2 k: 1 l: 2\n",
      "done connection j: 2 k: 1 l: 3\n",
      "done connection j: 2 k: 2 l: 0\n",
      "done connection j: 2 k: 2 l: 1\n",
      "done connection j: 2 k: 2 l: 2\n",
      "done connection j: 2 k: 2 l: 3\n",
      "done connection j: 2 k: 3 l: 0\n",
      "done connection j: 2 k: 3 l: 1\n",
      "done connection j: 2 k: 3 l: 2\n",
      "done connection j: 2 k: 3 l: 3\n",
      "done connection j: 3 k: 0 l: 0\n",
      "done connection j: 3 k: 0 l: 1\n",
      "done connection j: 3 k: 0 l: 2\n",
      "done connection j: 3 k: 0 l: 3\n",
      "done connection j: 3 k: 1 l: 0\n",
      "done connection j: 3 k: 1 l: 1\n",
      "done connection j: 3 k: 1 l: 2\n",
      "done connection j: 3 k: 1 l: 3\n",
      "done connection j: 3 k: 2 l: 0\n",
      "done connection j: 3 k: 2 l: 1\n",
      "done connection j: 3 k: 2 l: 2\n",
      "done connection j: 3 k: 2 l: 3\n",
      "done connection j: 3 k: 3 l: 0\n",
      "done connection j: 3 k: 3 l: 1\n",
      "done connection j: 3 k: 3 l: 2\n",
      "done connection j: 3 k: 3 l: 3\n",
      "done connection j: 0 k: 0 l: 0\n",
      "done connection j: 0 k: 0 l: 1\n",
      "done connection j: 0 k: 0 l: 2\n",
      "done connection j: 0 k: 0 l: 3\n",
      "done connection j: 0 k: 1 l: 0\n",
      "done connection j: 0 k: 1 l: 1\n",
      "done connection j: 0 k: 1 l: 2\n",
      "done connection j: 0 k: 1 l: 3\n",
      "done connection j: 0 k: 2 l: 0\n",
      "done connection j: 0 k: 2 l: 1\n",
      "done connection j: 0 k: 2 l: 2\n",
      "done connection j: 0 k: 2 l: 3\n",
      "done connection j: 0 k: 3 l: 0\n",
      "done connection j: 0 k: 3 l: 1\n",
      "done connection j: 0 k: 3 l: 2\n",
      "done connection j: 0 k: 3 l: 3\n",
      "done connection j: 1 k: 0 l: 0\n",
      "done connection j: 1 k: 0 l: 1\n",
      "done connection j: 1 k: 0 l: 2\n",
      "done connection j: 1 k: 0 l: 3\n",
      "done connection j: 1 k: 1 l: 0\n",
      "done connection j: 1 k: 1 l: 1\n",
      "done connection j: 1 k: 1 l: 2\n",
      "done connection j: 1 k: 1 l: 3\n",
      "done connection j: 1 k: 2 l: 0\n",
      "done connection j: 1 k: 2 l: 1\n",
      "done connection j: 1 k: 2 l: 2\n",
      "done connection j: 1 k: 2 l: 3\n",
      "done connection j: 1 k: 3 l: 0\n",
      "done connection j: 1 k: 3 l: 1\n",
      "done connection j: 1 k: 3 l: 2\n",
      "done connection j: 1 k: 3 l: 3\n",
      "done connection j: 2 k: 0 l: 0\n",
      "done connection j: 2 k: 0 l: 1\n",
      "done connection j: 2 k: 0 l: 2\n",
      "done connection j: 2 k: 0 l: 3\n",
      "done connection j: 2 k: 1 l: 0\n",
      "done connection j: 2 k: 1 l: 1\n",
      "done connection j: 2 k: 1 l: 2\n",
      "done connection j: 2 k: 1 l: 3\n",
      "done connection j: 2 k: 2 l: 0\n",
      "done connection j: 2 k: 2 l: 1\n",
      "done connection j: 2 k: 2 l: 2\n",
      "done connection j: 2 k: 2 l: 3\n",
      "done connection j: 2 k: 3 l: 0\n",
      "done connection j: 2 k: 3 l: 1\n",
      "done connection j: 2 k: 3 l: 2\n",
      "done connection j: 2 k: 3 l: 3\n",
      "done connection j: 3 k: 0 l: 0\n",
      "done connection j: 3 k: 0 l: 1\n",
      "done connection j: 3 k: 0 l: 2\n",
      "done connection j: 3 k: 0 l: 3\n",
      "done connection j: 3 k: 1 l: 0\n",
      "done connection j: 3 k: 1 l: 1\n",
      "done connection j: 3 k: 1 l: 2\n",
      "done connection j: 3 k: 1 l: 3\n",
      "done connection j: 3 k: 2 l: 0\n",
      "done connection j: 3 k: 2 l: 1\n",
      "done connection j: 3 k: 2 l: 2\n",
      "done connection j: 3 k: 2 l: 3\n",
      "done connection j: 3 k: 3 l: 0\n",
      "done connection j: 3 k: 3 l: 1\n",
      "done connection j: 3 k: 3 l: 2\n",
      "done connection j: 3 k: 3 l: 3\n",
      "done connection j: 0 k: 0 l: 0\n",
      "done connection j: 0 k: 0 l: 1\n",
      "done connection j: 0 k: 0 l: 2\n",
      "done connection j: 0 k: 0 l: 3\n",
      "done connection j: 0 k: 1 l: 0\n",
      "done connection j: 0 k: 1 l: 1\n",
      "done connection j: 0 k: 1 l: 2\n",
      "done connection j: 0 k: 1 l: 3\n",
      "done connection j: 0 k: 2 l: 0\n",
      "done connection j: 0 k: 2 l: 1\n",
      "done connection j: 0 k: 2 l: 2\n",
      "done connection j: 0 k: 2 l: 3\n",
      "done connection j: 0 k: 3 l: 0\n",
      "done connection j: 0 k: 3 l: 1\n",
      "done connection j: 0 k: 3 l: 2\n",
      "done connection j: 0 k: 3 l: 3\n",
      "done connection j: 1 k: 0 l: 0\n",
      "done connection j: 1 k: 0 l: 1\n",
      "done connection j: 1 k: 0 l: 2\n",
      "done connection j: 1 k: 0 l: 3\n",
      "done connection j: 1 k: 1 l: 0\n",
      "done connection j: 1 k: 1 l: 1\n",
      "done connection j: 1 k: 1 l: 2\n",
      "done connection j: 1 k: 1 l: 3\n",
      "done connection j: 1 k: 2 l: 0\n",
      "done connection j: 1 k: 2 l: 1\n",
      "done connection j: 1 k: 2 l: 2\n",
      "done connection j: 1 k: 2 l: 3\n",
      "done connection j: 1 k: 3 l: 0\n",
      "done connection j: 1 k: 3 l: 1\n",
      "done connection j: 1 k: 3 l: 2\n",
      "done connection j: 1 k: 3 l: 3\n",
      "done connection j: 2 k: 0 l: 0\n",
      "done connection j: 2 k: 0 l: 1\n",
      "done connection j: 2 k: 0 l: 2\n",
      "done connection j: 2 k: 0 l: 3\n",
      "done connection j: 2 k: 1 l: 0\n",
      "done connection j: 2 k: 1 l: 1\n",
      "done connection j: 2 k: 1 l: 2\n",
      "done connection j: 2 k: 1 l: 3\n",
      "done connection j: 2 k: 2 l: 0\n",
      "done connection j: 2 k: 2 l: 1\n",
      "done connection j: 2 k: 2 l: 2\n",
      "done connection j: 2 k: 2 l: 3\n",
      "done connection j: 2 k: 3 l: 0\n",
      "done connection j: 2 k: 3 l: 1\n",
      "done connection j: 2 k: 3 l: 2\n",
      "done connection j: 2 k: 3 l: 3\n",
      "done connection j: 3 k: 0 l: 0\n",
      "done connection j: 3 k: 0 l: 1\n",
      "done connection j: 3 k: 0 l: 2\n",
      "done connection j: 3 k: 0 l: 3\n",
      "done connection j: 3 k: 1 l: 0\n",
      "done connection j: 3 k: 1 l: 1\n",
      "done connection j: 3 k: 1 l: 2\n",
      "done connection j: 3 k: 1 l: 3\n",
      "done connection j: 3 k: 2 l: 0\n",
      "done connection j: 3 k: 2 l: 1\n",
      "done connection j: 3 k: 2 l: 2\n",
      "done connection j: 3 k: 2 l: 3\n",
      "done connection j: 3 k: 3 l: 0\n",
      "done connection j: 3 k: 3 l: 1\n",
      "done connection j: 3 k: 3 l: 2\n",
      "done connection j: 3 k: 3 l: 3\n"
     ]
    }
   ],
   "source": [
    "import numpy as np\n",
    "from itertools import product\n",
    "\n",
    "metric_inv = metric.inv()\n",
    "print(\"start computation\")\n",
    "n=4\n",
    "X = [t, x, y, z]\n",
    "# computing the symbols using the metric equation\n",
    "# Create array to store the computed christoffel symbols.\n",
    "christoffel_symbols = np.zeros(shape=n, dtype='object')\n",
    "simple = False\n",
    "for i in range(n):\n",
    "    dummy_matrix = sp.Matrix.zeros(n,n)\n",
    "    for (j,k,l) in product(range(n), repeat=3):\n",
    "        dummy_matrix[j,k] += (\n",
    "            sp.Rational(1/2)*metric_inv[i,l] * (sp.diff(metric[l,j],X[k]) \n",
    "            +sp.diff(metric[l,k],X[j]) - sp.diff(metric[j,k],X[l]))\n",
    "        )\n",
    "        print(f\"done connection j: {j} k: {k} l: {l}\")\n",
    "    christoffel_symbols[i] = sp.simplify(dummy_matrix) if simple else dummy_matrix"
   ]
  },
  {
   "cell_type": "code",
   "execution_count": 61,
   "id": "0bf4e6b5",
   "metadata": {},
   "outputs": [
    {
     "data": {
      "text/latex": [
       "$\\displaystyle \\left[\\begin{matrix}- \\frac{v_{s}^{2} \\cdot \\left(\\frac{2 \\sigma v_{s} \\left(1 - \\tanh^{2}{\\left(\\sigma \\left(- R + \\sqrt{\\left(- v_{s} t{\\left(\\lambda \\right)} + x{\\left(\\lambda \\right)}\\right)^{2} + y^{2}{\\left(\\lambda \\right)} + z^{2}{\\left(\\lambda \\right)}}\\right) \\right)}\\right) \\left(- v_{s} t{\\left(\\lambda \\right)} + x{\\left(\\lambda \\right)}\\right)}{\\sqrt{\\left(- v_{s} t{\\left(\\lambda \\right)} + x{\\left(\\lambda \\right)}\\right)^{2} + y^{2}{\\left(\\lambda \\right)} + z^{2}{\\left(\\lambda \\right)}}} - \\frac{2 \\sigma v_{s} \\left(1 - \\tanh^{2}{\\left(\\sigma \\left(R + \\sqrt{\\left(- v_{s} t{\\left(\\lambda \\right)} + x{\\left(\\lambda \\right)}\\right)^{2} + y^{2}{\\left(\\lambda \\right)} + z^{2}{\\left(\\lambda \\right)}}\\right) \\right)}\\right) \\left(- v_{s} t{\\left(\\lambda \\right)} + x{\\left(\\lambda \\right)}\\right)}{\\sqrt{\\left(- v_{s} t{\\left(\\lambda \\right)} + x{\\left(\\lambda \\right)}\\right)^{2} + y^{2}{\\left(\\lambda \\right)} + z^{2}{\\left(\\lambda \\right)}}}\\right) \\left(- \\tanh{\\left(\\sigma \\left(- R + \\sqrt{\\left(- v_{s} t{\\left(\\lambda \\right)} + x{\\left(\\lambda \\right)}\\right)^{2} + y^{2}{\\left(\\lambda \\right)} + z^{2}{\\left(\\lambda \\right)}}\\right) \\right)} + \\tanh{\\left(\\sigma \\left(R + \\sqrt{\\left(- v_{s} t{\\left(\\lambda \\right)} + x{\\left(\\lambda \\right)}\\right)^{2} + y^{2}{\\left(\\lambda \\right)} + z^{2}{\\left(\\lambda \\right)}}\\right) \\right)}\\right)}{8 c^{2} \\tanh^{2}{\\left(R \\sigma \\right)}} + \\frac{\\left(- v_{s} \\tanh{\\left(R \\sigma - \\sigma \\sqrt{v_{s}^{2} t^{2}{\\left(\\lambda \\right)} - 2 v_{s} t{\\left(\\lambda \\right)} x{\\left(\\lambda \\right)} + x^{2}{\\left(\\lambda \\right)} + y^{2}{\\left(\\lambda \\right)} + z^{2}{\\left(\\lambda \\right)}} \\right)} - v_{s} \\tanh{\\left(R \\sigma + \\sigma \\sqrt{v_{s}^{2} t^{2}{\\left(\\lambda \\right)} - 2 v_{s} t{\\left(\\lambda \\right)} x{\\left(\\lambda \\right)} + x^{2}{\\left(\\lambda \\right)} + y^{2}{\\left(\\lambda \\right)} + z^{2}{\\left(\\lambda \\right)}} \\right)}\\right) \\left(- \\frac{v_{s}^{2} \\left(- \\frac{2 \\sigma \\left(1 - \\tanh^{2}{\\left(\\sigma \\left(- R + \\sqrt{\\left(- v_{s} t{\\left(\\lambda \\right)} + x{\\left(\\lambda \\right)}\\right)^{2} + y^{2}{\\left(\\lambda \\right)} + z^{2}{\\left(\\lambda \\right)}}\\right) \\right)}\\right) \\left(- v_{s} t{\\left(\\lambda \\right)} + x{\\left(\\lambda \\right)}\\right)}{\\sqrt{\\left(- v_{s} t{\\left(\\lambda \\right)} + x{\\left(\\lambda \\right)}\\right)^{2} + y^{2}{\\left(\\lambda \\right)} + z^{2}{\\left(\\lambda \\right)}}} + \\frac{2 \\sigma \\left(1 - \\tanh^{2}{\\left(\\sigma \\left(R + \\sqrt{\\left(- v_{s} t{\\left(\\lambda \\right)} + x{\\left(\\lambda \\right)}\\right)^{2} + y^{2}{\\left(\\lambda \\right)} + z^{2}{\\left(\\lambda \\right)}}\\right) \\right)}\\right) \\left(- v_{s} t{\\left(\\lambda \\right)} + x{\\left(\\lambda \\right)}\\right)}{\\sqrt{\\left(- v_{s} t{\\left(\\lambda \\right)} + x{\\left(\\lambda \\right)}\\right)^{2} + y^{2}{\\left(\\lambda \\right)} + z^{2}{\\left(\\lambda \\right)}}}\\right) \\left(- \\tanh{\\left(\\sigma \\left(- R + \\sqrt{\\left(- v_{s} t{\\left(\\lambda \\right)} + x{\\left(\\lambda \\right)}\\right)^{2} + y^{2}{\\left(\\lambda \\right)} + z^{2}{\\left(\\lambda \\right)}}\\right) \\right)} + \\tanh{\\left(\\sigma \\left(R + \\sqrt{\\left(- v_{s} t{\\left(\\lambda \\right)} + x{\\left(\\lambda \\right)}\\right)^{2} + y^{2}{\\left(\\lambda \\right)} + z^{2}{\\left(\\lambda \\right)}}\\right) \\right)}\\right)}{4 \\tanh^{2}{\\left(R \\sigma \\right)}} - \\frac{v_{s} \\left(\\frac{\\sigma v_{s} \\left(1 - \\tanh^{2}{\\left(\\sigma \\left(- R + \\sqrt{\\left(- v_{s} t{\\left(\\lambda \\right)} + x{\\left(\\lambda \\right)}\\right)^{2} + y^{2}{\\left(\\lambda \\right)} + z^{2}{\\left(\\lambda \\right)}}\\right) \\right)}\\right) \\left(- v_{s} t{\\left(\\lambda \\right)} + x{\\left(\\lambda \\right)}\\right)}{\\sqrt{\\left(- v_{s} t{\\left(\\lambda \\right)} + x{\\left(\\lambda \\right)}\\right)^{2} + y^{2}{\\left(\\lambda \\right)} + z^{2}{\\left(\\lambda \\right)}}} - \\frac{\\sigma v_{s} \\left(1 - \\tanh^{2}{\\left(\\sigma \\left(R + \\sqrt{\\left(- v_{s} t{\\left(\\lambda \\right)} + x{\\left(\\lambda \\right)}\\right)^{2} + y^{2}{\\left(\\lambda \\right)} + z^{2}{\\left(\\lambda \\right)}}\\right) \\right)}\\right) \\left(- v_{s} t{\\left(\\lambda \\right)} + x{\\left(\\lambda \\right)}\\right)}{\\sqrt{\\left(- v_{s} t{\\left(\\lambda \\right)} + x{\\left(\\lambda \\right)}\\right)^{2} + y^{2}{\\left(\\lambda \\right)} + z^{2}{\\left(\\lambda \\right)}}}\\right)}{\\tanh{\\left(R \\sigma \\right)}}\\right)}{4 c^{2} \\tanh{\\left(R \\sigma \\right)}} & - \\frac{v_{s}^{2} \\left(- \\frac{2 \\sigma \\left(1 - \\tanh^{2}{\\left(\\sigma \\left(- R + \\sqrt{\\left(- v_{s} t{\\left(\\lambda \\right)} + x{\\left(\\lambda \\right)}\\right)^{2} + y^{2}{\\left(\\lambda \\right)} + z^{2}{\\left(\\lambda \\right)}}\\right) \\right)}\\right) \\left(- v_{s} t{\\left(\\lambda \\right)} + x{\\left(\\lambda \\right)}\\right)}{\\sqrt{\\left(- v_{s} t{\\left(\\lambda \\right)} + x{\\left(\\lambda \\right)}\\right)^{2} + y^{2}{\\left(\\lambda \\right)} + z^{2}{\\left(\\lambda \\right)}}} + \\frac{2 \\sigma \\left(1 - \\tanh^{2}{\\left(\\sigma \\left(R + \\sqrt{\\left(- v_{s} t{\\left(\\lambda \\right)} + x{\\left(\\lambda \\right)}\\right)^{2} + y^{2}{\\left(\\lambda \\right)} + z^{2}{\\left(\\lambda \\right)}}\\right) \\right)}\\right) \\left(- v_{s} t{\\left(\\lambda \\right)} + x{\\left(\\lambda \\right)}\\right)}{\\sqrt{\\left(- v_{s} t{\\left(\\lambda \\right)} + x{\\left(\\lambda \\right)}\\right)^{2} + y^{2}{\\left(\\lambda \\right)} + z^{2}{\\left(\\lambda \\right)}}}\\right) \\left(- \\tanh{\\left(\\sigma \\left(- R + \\sqrt{\\left(- v_{s} t{\\left(\\lambda \\right)} + x{\\left(\\lambda \\right)}\\right)^{2} + y^{2}{\\left(\\lambda \\right)} + z^{2}{\\left(\\lambda \\right)}}\\right) \\right)} + \\tanh{\\left(\\sigma \\left(R + \\sqrt{\\left(- v_{s} t{\\left(\\lambda \\right)} + x{\\left(\\lambda \\right)}\\right)^{2} + y^{2}{\\left(\\lambda \\right)} + z^{2}{\\left(\\lambda \\right)}}\\right) \\right)}\\right)}{8 c^{2} \\tanh^{2}{\\left(R \\sigma \\right)}} & - \\frac{v_{s}^{2} \\left(- \\frac{2 \\sigma \\left(1 - \\tanh^{2}{\\left(\\sigma \\left(- R + \\sqrt{\\left(- v_{s} t{\\left(\\lambda \\right)} + x{\\left(\\lambda \\right)}\\right)^{2} + y^{2}{\\left(\\lambda \\right)} + z^{2}{\\left(\\lambda \\right)}}\\right) \\right)}\\right) y{\\left(\\lambda \\right)}}{\\sqrt{\\left(- v_{s} t{\\left(\\lambda \\right)} + x{\\left(\\lambda \\right)}\\right)^{2} + y^{2}{\\left(\\lambda \\right)} + z^{2}{\\left(\\lambda \\right)}}} + \\frac{2 \\sigma \\left(1 - \\tanh^{2}{\\left(\\sigma \\left(R + \\sqrt{\\left(- v_{s} t{\\left(\\lambda \\right)} + x{\\left(\\lambda \\right)}\\right)^{2} + y^{2}{\\left(\\lambda \\right)} + z^{2}{\\left(\\lambda \\right)}}\\right) \\right)}\\right) y{\\left(\\lambda \\right)}}{\\sqrt{\\left(- v_{s} t{\\left(\\lambda \\right)} + x{\\left(\\lambda \\right)}\\right)^{2} + y^{2}{\\left(\\lambda \\right)} + z^{2}{\\left(\\lambda \\right)}}}\\right) \\left(- \\tanh{\\left(\\sigma \\left(- R + \\sqrt{\\left(- v_{s} t{\\left(\\lambda \\right)} + x{\\left(\\lambda \\right)}\\right)^{2} + y^{2}{\\left(\\lambda \\right)} + z^{2}{\\left(\\lambda \\right)}}\\right) \\right)} + \\tanh{\\left(\\sigma \\left(R + \\sqrt{\\left(- v_{s} t{\\left(\\lambda \\right)} + x{\\left(\\lambda \\right)}\\right)^{2} + y^{2}{\\left(\\lambda \\right)} + z^{2}{\\left(\\lambda \\right)}}\\right) \\right)}\\right)}{8 c^{2} \\tanh^{2}{\\left(R \\sigma \\right)}} - \\frac{v_{s} \\left(- v_{s} \\tanh{\\left(R \\sigma - \\sigma \\sqrt{v_{s}^{2} t^{2}{\\left(\\lambda \\right)} - 2 v_{s} t{\\left(\\lambda \\right)} x{\\left(\\lambda \\right)} + x^{2}{\\left(\\lambda \\right)} + y^{2}{\\left(\\lambda \\right)} + z^{2}{\\left(\\lambda \\right)}} \\right)} - v_{s} \\tanh{\\left(R \\sigma + \\sigma \\sqrt{v_{s}^{2} t^{2}{\\left(\\lambda \\right)} - 2 v_{s} t{\\left(\\lambda \\right)} x{\\left(\\lambda \\right)} + x^{2}{\\left(\\lambda \\right)} + y^{2}{\\left(\\lambda \\right)} + z^{2}{\\left(\\lambda \\right)}} \\right)}\\right) \\left(- \\frac{\\sigma \\left(1 - \\tanh^{2}{\\left(\\sigma \\left(- R + \\sqrt{\\left(- v_{s} t{\\left(\\lambda \\right)} + x{\\left(\\lambda \\right)}\\right)^{2} + y^{2}{\\left(\\lambda \\right)} + z^{2}{\\left(\\lambda \\right)}}\\right) \\right)}\\right) y{\\left(\\lambda \\right)}}{\\sqrt{\\left(- v_{s} t{\\left(\\lambda \\right)} + x{\\left(\\lambda \\right)}\\right)^{2} + y^{2}{\\left(\\lambda \\right)} + z^{2}{\\left(\\lambda \\right)}}} + \\frac{\\sigma \\left(1 - \\tanh^{2}{\\left(\\sigma \\left(R + \\sqrt{\\left(- v_{s} t{\\left(\\lambda \\right)} + x{\\left(\\lambda \\right)}\\right)^{2} + y^{2}{\\left(\\lambda \\right)} + z^{2}{\\left(\\lambda \\right)}}\\right) \\right)}\\right) y{\\left(\\lambda \\right)}}{\\sqrt{\\left(- v_{s} t{\\left(\\lambda \\right)} + x{\\left(\\lambda \\right)}\\right)^{2} + y^{2}{\\left(\\lambda \\right)} + z^{2}{\\left(\\lambda \\right)}}}\\right)}{8 c^{2} \\tanh^{2}{\\left(R \\sigma \\right)}} & - \\frac{v_{s}^{2} \\left(- \\frac{2 \\sigma \\left(1 - \\tanh^{2}{\\left(\\sigma \\left(- R + \\sqrt{\\left(- v_{s} t{\\left(\\lambda \\right)} + x{\\left(\\lambda \\right)}\\right)^{2} + y^{2}{\\left(\\lambda \\right)} + z^{2}{\\left(\\lambda \\right)}}\\right) \\right)}\\right) z{\\left(\\lambda \\right)}}{\\sqrt{\\left(- v_{s} t{\\left(\\lambda \\right)} + x{\\left(\\lambda \\right)}\\right)^{2} + y^{2}{\\left(\\lambda \\right)} + z^{2}{\\left(\\lambda \\right)}}} + \\frac{2 \\sigma \\left(1 - \\tanh^{2}{\\left(\\sigma \\left(R + \\sqrt{\\left(- v_{s} t{\\left(\\lambda \\right)} + x{\\left(\\lambda \\right)}\\right)^{2} + y^{2}{\\left(\\lambda \\right)} + z^{2}{\\left(\\lambda \\right)}}\\right) \\right)}\\right) z{\\left(\\lambda \\right)}}{\\sqrt{\\left(- v_{s} t{\\left(\\lambda \\right)} + x{\\left(\\lambda \\right)}\\right)^{2} + y^{2}{\\left(\\lambda \\right)} + z^{2}{\\left(\\lambda \\right)}}}\\right) \\left(- \\tanh{\\left(\\sigma \\left(- R + \\sqrt{\\left(- v_{s} t{\\left(\\lambda \\right)} + x{\\left(\\lambda \\right)}\\right)^{2} + y^{2}{\\left(\\lambda \\right)} + z^{2}{\\left(\\lambda \\right)}}\\right) \\right)} + \\tanh{\\left(\\sigma \\left(R + \\sqrt{\\left(- v_{s} t{\\left(\\lambda \\right)} + x{\\left(\\lambda \\right)}\\right)^{2} + y^{2}{\\left(\\lambda \\right)} + z^{2}{\\left(\\lambda \\right)}}\\right) \\right)}\\right)}{8 c^{2} \\tanh^{2}{\\left(R \\sigma \\right)}} - \\frac{v_{s} \\left(- v_{s} \\tanh{\\left(R \\sigma - \\sigma \\sqrt{v_{s}^{2} t^{2}{\\left(\\lambda \\right)} - 2 v_{s} t{\\left(\\lambda \\right)} x{\\left(\\lambda \\right)} + x^{2}{\\left(\\lambda \\right)} + y^{2}{\\left(\\lambda \\right)} + z^{2}{\\left(\\lambda \\right)}} \\right)} - v_{s} \\tanh{\\left(R \\sigma + \\sigma \\sqrt{v_{s}^{2} t^{2}{\\left(\\lambda \\right)} - 2 v_{s} t{\\left(\\lambda \\right)} x{\\left(\\lambda \\right)} + x^{2}{\\left(\\lambda \\right)} + y^{2}{\\left(\\lambda \\right)} + z^{2}{\\left(\\lambda \\right)}} \\right)}\\right) \\left(- \\frac{\\sigma \\left(1 - \\tanh^{2}{\\left(\\sigma \\left(- R + \\sqrt{\\left(- v_{s} t{\\left(\\lambda \\right)} + x{\\left(\\lambda \\right)}\\right)^{2} + y^{2}{\\left(\\lambda \\right)} + z^{2}{\\left(\\lambda \\right)}}\\right) \\right)}\\right) z{\\left(\\lambda \\right)}}{\\sqrt{\\left(- v_{s} t{\\left(\\lambda \\right)} + x{\\left(\\lambda \\right)}\\right)^{2} + y^{2}{\\left(\\lambda \\right)} + z^{2}{\\left(\\lambda \\right)}}} + \\frac{\\sigma \\left(1 - \\tanh^{2}{\\left(\\sigma \\left(R + \\sqrt{\\left(- v_{s} t{\\left(\\lambda \\right)} + x{\\left(\\lambda \\right)}\\right)^{2} + y^{2}{\\left(\\lambda \\right)} + z^{2}{\\left(\\lambda \\right)}}\\right) \\right)}\\right) z{\\left(\\lambda \\right)}}{\\sqrt{\\left(- v_{s} t{\\left(\\lambda \\right)} + x{\\left(\\lambda \\right)}\\right)^{2} + y^{2}{\\left(\\lambda \\right)} + z^{2}{\\left(\\lambda \\right)}}}\\right)}{8 c^{2} \\tanh^{2}{\\left(R \\sigma \\right)}}\\\\- \\frac{v_{s}^{2} \\left(- \\frac{2 \\sigma \\left(1 - \\tanh^{2}{\\left(\\sigma \\left(- R + \\sqrt{\\left(- v_{s} t{\\left(\\lambda \\right)} + x{\\left(\\lambda \\right)}\\right)^{2} + y^{2}{\\left(\\lambda \\right)} + z^{2}{\\left(\\lambda \\right)}}\\right) \\right)}\\right) \\left(- v_{s} t{\\left(\\lambda \\right)} + x{\\left(\\lambda \\right)}\\right)}{\\sqrt{\\left(- v_{s} t{\\left(\\lambda \\right)} + x{\\left(\\lambda \\right)}\\right)^{2} + y^{2}{\\left(\\lambda \\right)} + z^{2}{\\left(\\lambda \\right)}}} + \\frac{2 \\sigma \\left(1 - \\tanh^{2}{\\left(\\sigma \\left(R + \\sqrt{\\left(- v_{s} t{\\left(\\lambda \\right)} + x{\\left(\\lambda \\right)}\\right)^{2} + y^{2}{\\left(\\lambda \\right)} + z^{2}{\\left(\\lambda \\right)}}\\right) \\right)}\\right) \\left(- v_{s} t{\\left(\\lambda \\right)} + x{\\left(\\lambda \\right)}\\right)}{\\sqrt{\\left(- v_{s} t{\\left(\\lambda \\right)} + x{\\left(\\lambda \\right)}\\right)^{2} + y^{2}{\\left(\\lambda \\right)} + z^{2}{\\left(\\lambda \\right)}}}\\right) \\left(- \\tanh{\\left(\\sigma \\left(- R + \\sqrt{\\left(- v_{s} t{\\left(\\lambda \\right)} + x{\\left(\\lambda \\right)}\\right)^{2} + y^{2}{\\left(\\lambda \\right)} + z^{2}{\\left(\\lambda \\right)}}\\right) \\right)} + \\tanh{\\left(\\sigma \\left(R + \\sqrt{\\left(- v_{s} t{\\left(\\lambda \\right)} + x{\\left(\\lambda \\right)}\\right)^{2} + y^{2}{\\left(\\lambda \\right)} + z^{2}{\\left(\\lambda \\right)}}\\right) \\right)}\\right)}{8 c^{2} \\tanh^{2}{\\left(R \\sigma \\right)}} & \\frac{v_{s} \\left(- \\frac{\\sigma \\left(1 - \\tanh^{2}{\\left(\\sigma \\left(- R + \\sqrt{\\left(- v_{s} t{\\left(\\lambda \\right)} + x{\\left(\\lambda \\right)}\\right)^{2} + y^{2}{\\left(\\lambda \\right)} + z^{2}{\\left(\\lambda \\right)}}\\right) \\right)}\\right) \\left(- v_{s} t{\\left(\\lambda \\right)} + x{\\left(\\lambda \\right)}\\right)}{\\sqrt{\\left(- v_{s} t{\\left(\\lambda \\right)} + x{\\left(\\lambda \\right)}\\right)^{2} + y^{2}{\\left(\\lambda \\right)} + z^{2}{\\left(\\lambda \\right)}}} + \\frac{\\sigma \\left(1 - \\tanh^{2}{\\left(\\sigma \\left(R + \\sqrt{\\left(- v_{s} t{\\left(\\lambda \\right)} + x{\\left(\\lambda \\right)}\\right)^{2} + y^{2}{\\left(\\lambda \\right)} + z^{2}{\\left(\\lambda \\right)}}\\right) \\right)}\\right) \\left(- v_{s} t{\\left(\\lambda \\right)} + x{\\left(\\lambda \\right)}\\right)}{\\sqrt{\\left(- v_{s} t{\\left(\\lambda \\right)} + x{\\left(\\lambda \\right)}\\right)^{2} + y^{2}{\\left(\\lambda \\right)} + z^{2}{\\left(\\lambda \\right)}}}\\right)}{2 c^{2} \\tanh{\\left(R \\sigma \\right)}} & \\frac{v_{s} \\left(- \\frac{\\sigma \\left(1 - \\tanh^{2}{\\left(\\sigma \\left(- R + \\sqrt{\\left(- v_{s} t{\\left(\\lambda \\right)} + x{\\left(\\lambda \\right)}\\right)^{2} + y^{2}{\\left(\\lambda \\right)} + z^{2}{\\left(\\lambda \\right)}}\\right) \\right)}\\right) y{\\left(\\lambda \\right)}}{\\sqrt{\\left(- v_{s} t{\\left(\\lambda \\right)} + x{\\left(\\lambda \\right)}\\right)^{2} + y^{2}{\\left(\\lambda \\right)} + z^{2}{\\left(\\lambda \\right)}}} + \\frac{\\sigma \\left(1 - \\tanh^{2}{\\left(\\sigma \\left(R + \\sqrt{\\left(- v_{s} t{\\left(\\lambda \\right)} + x{\\left(\\lambda \\right)}\\right)^{2} + y^{2}{\\left(\\lambda \\right)} + z^{2}{\\left(\\lambda \\right)}}\\right) \\right)}\\right) y{\\left(\\lambda \\right)}}{\\sqrt{\\left(- v_{s} t{\\left(\\lambda \\right)} + x{\\left(\\lambda \\right)}\\right)^{2} + y^{2}{\\left(\\lambda \\right)} + z^{2}{\\left(\\lambda \\right)}}}\\right)}{4 c^{2} \\tanh{\\left(R \\sigma \\right)}} & \\frac{v_{s} \\left(- \\frac{\\sigma \\left(1 - \\tanh^{2}{\\left(\\sigma \\left(- R + \\sqrt{\\left(- v_{s} t{\\left(\\lambda \\right)} + x{\\left(\\lambda \\right)}\\right)^{2} + y^{2}{\\left(\\lambda \\right)} + z^{2}{\\left(\\lambda \\right)}}\\right) \\right)}\\right) z{\\left(\\lambda \\right)}}{\\sqrt{\\left(- v_{s} t{\\left(\\lambda \\right)} + x{\\left(\\lambda \\right)}\\right)^{2} + y^{2}{\\left(\\lambda \\right)} + z^{2}{\\left(\\lambda \\right)}}} + \\frac{\\sigma \\left(1 - \\tanh^{2}{\\left(\\sigma \\left(R + \\sqrt{\\left(- v_{s} t{\\left(\\lambda \\right)} + x{\\left(\\lambda \\right)}\\right)^{2} + y^{2}{\\left(\\lambda \\right)} + z^{2}{\\left(\\lambda \\right)}}\\right) \\right)}\\right) z{\\left(\\lambda \\right)}}{\\sqrt{\\left(- v_{s} t{\\left(\\lambda \\right)} + x{\\left(\\lambda \\right)}\\right)^{2} + y^{2}{\\left(\\lambda \\right)} + z^{2}{\\left(\\lambda \\right)}}}\\right)}{4 c^{2} \\tanh{\\left(R \\sigma \\right)}}\\\\- \\frac{v_{s}^{2} \\left(- \\frac{2 \\sigma \\left(1 - \\tanh^{2}{\\left(\\sigma \\left(- R + \\sqrt{\\left(- v_{s} t{\\left(\\lambda \\right)} + x{\\left(\\lambda \\right)}\\right)^{2} + y^{2}{\\left(\\lambda \\right)} + z^{2}{\\left(\\lambda \\right)}}\\right) \\right)}\\right) y{\\left(\\lambda \\right)}}{\\sqrt{\\left(- v_{s} t{\\left(\\lambda \\right)} + x{\\left(\\lambda \\right)}\\right)^{2} + y^{2}{\\left(\\lambda \\right)} + z^{2}{\\left(\\lambda \\right)}}} + \\frac{2 \\sigma \\left(1 - \\tanh^{2}{\\left(\\sigma \\left(R + \\sqrt{\\left(- v_{s} t{\\left(\\lambda \\right)} + x{\\left(\\lambda \\right)}\\right)^{2} + y^{2}{\\left(\\lambda \\right)} + z^{2}{\\left(\\lambda \\right)}}\\right) \\right)}\\right) y{\\left(\\lambda \\right)}}{\\sqrt{\\left(- v_{s} t{\\left(\\lambda \\right)} + x{\\left(\\lambda \\right)}\\right)^{2} + y^{2}{\\left(\\lambda \\right)} + z^{2}{\\left(\\lambda \\right)}}}\\right) \\left(- \\tanh{\\left(\\sigma \\left(- R + \\sqrt{\\left(- v_{s} t{\\left(\\lambda \\right)} + x{\\left(\\lambda \\right)}\\right)^{2} + y^{2}{\\left(\\lambda \\right)} + z^{2}{\\left(\\lambda \\right)}}\\right) \\right)} + \\tanh{\\left(\\sigma \\left(R + \\sqrt{\\left(- v_{s} t{\\left(\\lambda \\right)} + x{\\left(\\lambda \\right)}\\right)^{2} + y^{2}{\\left(\\lambda \\right)} + z^{2}{\\left(\\lambda \\right)}}\\right) \\right)}\\right)}{8 c^{2} \\tanh^{2}{\\left(R \\sigma \\right)}} - \\frac{v_{s} \\left(- v_{s} \\tanh{\\left(R \\sigma - \\sigma \\sqrt{v_{s}^{2} t^{2}{\\left(\\lambda \\right)} - 2 v_{s} t{\\left(\\lambda \\right)} x{\\left(\\lambda \\right)} + x^{2}{\\left(\\lambda \\right)} + y^{2}{\\left(\\lambda \\right)} + z^{2}{\\left(\\lambda \\right)}} \\right)} - v_{s} \\tanh{\\left(R \\sigma + \\sigma \\sqrt{v_{s}^{2} t^{2}{\\left(\\lambda \\right)} - 2 v_{s} t{\\left(\\lambda \\right)} x{\\left(\\lambda \\right)} + x^{2}{\\left(\\lambda \\right)} + y^{2}{\\left(\\lambda \\right)} + z^{2}{\\left(\\lambda \\right)}} \\right)}\\right) \\left(- \\frac{\\sigma \\left(1 - \\tanh^{2}{\\left(\\sigma \\left(- R + \\sqrt{\\left(- v_{s} t{\\left(\\lambda \\right)} + x{\\left(\\lambda \\right)}\\right)^{2} + y^{2}{\\left(\\lambda \\right)} + z^{2}{\\left(\\lambda \\right)}}\\right) \\right)}\\right) y{\\left(\\lambda \\right)}}{\\sqrt{\\left(- v_{s} t{\\left(\\lambda \\right)} + x{\\left(\\lambda \\right)}\\right)^{2} + y^{2}{\\left(\\lambda \\right)} + z^{2}{\\left(\\lambda \\right)}}} + \\frac{\\sigma \\left(1 - \\tanh^{2}{\\left(\\sigma \\left(R + \\sqrt{\\left(- v_{s} t{\\left(\\lambda \\right)} + x{\\left(\\lambda \\right)}\\right)^{2} + y^{2}{\\left(\\lambda \\right)} + z^{2}{\\left(\\lambda \\right)}}\\right) \\right)}\\right) y{\\left(\\lambda \\right)}}{\\sqrt{\\left(- v_{s} t{\\left(\\lambda \\right)} + x{\\left(\\lambda \\right)}\\right)^{2} + y^{2}{\\left(\\lambda \\right)} + z^{2}{\\left(\\lambda \\right)}}}\\right)}{8 c^{2} \\tanh^{2}{\\left(R \\sigma \\right)}} & \\frac{v_{s} \\left(- \\frac{\\sigma \\left(1 - \\tanh^{2}{\\left(\\sigma \\left(- R + \\sqrt{\\left(- v_{s} t{\\left(\\lambda \\right)} + x{\\left(\\lambda \\right)}\\right)^{2} + y^{2}{\\left(\\lambda \\right)} + z^{2}{\\left(\\lambda \\right)}}\\right) \\right)}\\right) y{\\left(\\lambda \\right)}}{\\sqrt{\\left(- v_{s} t{\\left(\\lambda \\right)} + x{\\left(\\lambda \\right)}\\right)^{2} + y^{2}{\\left(\\lambda \\right)} + z^{2}{\\left(\\lambda \\right)}}} + \\frac{\\sigma \\left(1 - \\tanh^{2}{\\left(\\sigma \\left(R + \\sqrt{\\left(- v_{s} t{\\left(\\lambda \\right)} + x{\\left(\\lambda \\right)}\\right)^{2} + y^{2}{\\left(\\lambda \\right)} + z^{2}{\\left(\\lambda \\right)}}\\right) \\right)}\\right) y{\\left(\\lambda \\right)}}{\\sqrt{\\left(- v_{s} t{\\left(\\lambda \\right)} + x{\\left(\\lambda \\right)}\\right)^{2} + y^{2}{\\left(\\lambda \\right)} + z^{2}{\\left(\\lambda \\right)}}}\\right)}{4 c^{2} \\tanh{\\left(R \\sigma \\right)}} & 0 & 0\\\\- \\frac{v_{s}^{2} \\left(- \\frac{2 \\sigma \\left(1 - \\tanh^{2}{\\left(\\sigma \\left(- R + \\sqrt{\\left(- v_{s} t{\\left(\\lambda \\right)} + x{\\left(\\lambda \\right)}\\right)^{2} + y^{2}{\\left(\\lambda \\right)} + z^{2}{\\left(\\lambda \\right)}}\\right) \\right)}\\right) z{\\left(\\lambda \\right)}}{\\sqrt{\\left(- v_{s} t{\\left(\\lambda \\right)} + x{\\left(\\lambda \\right)}\\right)^{2} + y^{2}{\\left(\\lambda \\right)} + z^{2}{\\left(\\lambda \\right)}}} + \\frac{2 \\sigma \\left(1 - \\tanh^{2}{\\left(\\sigma \\left(R + \\sqrt{\\left(- v_{s} t{\\left(\\lambda \\right)} + x{\\left(\\lambda \\right)}\\right)^{2} + y^{2}{\\left(\\lambda \\right)} + z^{2}{\\left(\\lambda \\right)}}\\right) \\right)}\\right) z{\\left(\\lambda \\right)}}{\\sqrt{\\left(- v_{s} t{\\left(\\lambda \\right)} + x{\\left(\\lambda \\right)}\\right)^{2} + y^{2}{\\left(\\lambda \\right)} + z^{2}{\\left(\\lambda \\right)}}}\\right) \\left(- \\tanh{\\left(\\sigma \\left(- R + \\sqrt{\\left(- v_{s} t{\\left(\\lambda \\right)} + x{\\left(\\lambda \\right)}\\right)^{2} + y^{2}{\\left(\\lambda \\right)} + z^{2}{\\left(\\lambda \\right)}}\\right) \\right)} + \\tanh{\\left(\\sigma \\left(R + \\sqrt{\\left(- v_{s} t{\\left(\\lambda \\right)} + x{\\left(\\lambda \\right)}\\right)^{2} + y^{2}{\\left(\\lambda \\right)} + z^{2}{\\left(\\lambda \\right)}}\\right) \\right)}\\right)}{8 c^{2} \\tanh^{2}{\\left(R \\sigma \\right)}} - \\frac{v_{s} \\left(- v_{s} \\tanh{\\left(R \\sigma - \\sigma \\sqrt{v_{s}^{2} t^{2}{\\left(\\lambda \\right)} - 2 v_{s} t{\\left(\\lambda \\right)} x{\\left(\\lambda \\right)} + x^{2}{\\left(\\lambda \\right)} + y^{2}{\\left(\\lambda \\right)} + z^{2}{\\left(\\lambda \\right)}} \\right)} - v_{s} \\tanh{\\left(R \\sigma + \\sigma \\sqrt{v_{s}^{2} t^{2}{\\left(\\lambda \\right)} - 2 v_{s} t{\\left(\\lambda \\right)} x{\\left(\\lambda \\right)} + x^{2}{\\left(\\lambda \\right)} + y^{2}{\\left(\\lambda \\right)} + z^{2}{\\left(\\lambda \\right)}} \\right)}\\right) \\left(- \\frac{\\sigma \\left(1 - \\tanh^{2}{\\left(\\sigma \\left(- R + \\sqrt{\\left(- v_{s} t{\\left(\\lambda \\right)} + x{\\left(\\lambda \\right)}\\right)^{2} + y^{2}{\\left(\\lambda \\right)} + z^{2}{\\left(\\lambda \\right)}}\\right) \\right)}\\right) z{\\left(\\lambda \\right)}}{\\sqrt{\\left(- v_{s} t{\\left(\\lambda \\right)} + x{\\left(\\lambda \\right)}\\right)^{2} + y^{2}{\\left(\\lambda \\right)} + z^{2}{\\left(\\lambda \\right)}}} + \\frac{\\sigma \\left(1 - \\tanh^{2}{\\left(\\sigma \\left(R + \\sqrt{\\left(- v_{s} t{\\left(\\lambda \\right)} + x{\\left(\\lambda \\right)}\\right)^{2} + y^{2}{\\left(\\lambda \\right)} + z^{2}{\\left(\\lambda \\right)}}\\right) \\right)}\\right) z{\\left(\\lambda \\right)}}{\\sqrt{\\left(- v_{s} t{\\left(\\lambda \\right)} + x{\\left(\\lambda \\right)}\\right)^{2} + y^{2}{\\left(\\lambda \\right)} + z^{2}{\\left(\\lambda \\right)}}}\\right)}{8 c^{2} \\tanh^{2}{\\left(R \\sigma \\right)}} & \\frac{v_{s} \\left(- \\frac{\\sigma \\left(1 - \\tanh^{2}{\\left(\\sigma \\left(- R + \\sqrt{\\left(- v_{s} t{\\left(\\lambda \\right)} + x{\\left(\\lambda \\right)}\\right)^{2} + y^{2}{\\left(\\lambda \\right)} + z^{2}{\\left(\\lambda \\right)}}\\right) \\right)}\\right) z{\\left(\\lambda \\right)}}{\\sqrt{\\left(- v_{s} t{\\left(\\lambda \\right)} + x{\\left(\\lambda \\right)}\\right)^{2} + y^{2}{\\left(\\lambda \\right)} + z^{2}{\\left(\\lambda \\right)}}} + \\frac{\\sigma \\left(1 - \\tanh^{2}{\\left(\\sigma \\left(R + \\sqrt{\\left(- v_{s} t{\\left(\\lambda \\right)} + x{\\left(\\lambda \\right)}\\right)^{2} + y^{2}{\\left(\\lambda \\right)} + z^{2}{\\left(\\lambda \\right)}}\\right) \\right)}\\right) z{\\left(\\lambda \\right)}}{\\sqrt{\\left(- v_{s} t{\\left(\\lambda \\right)} + x{\\left(\\lambda \\right)}\\right)^{2} + y^{2}{\\left(\\lambda \\right)} + z^{2}{\\left(\\lambda \\right)}}}\\right)}{4 c^{2} \\tanh{\\left(R \\sigma \\right)}} & 0 & 0\\end{matrix}\\right]$"
      ],
      "text/plain": [
       "Matrix([\n",
       "[-v_s**2*(2*sigma*v_s*(1 - tanh(sigma*(-R + sqrt((-v_s*t(lambda) + x(lambda))**2 + y(lambda)**2 + z(lambda)**2)))**2)*(-v_s*t(lambda) + x(lambda))/sqrt((-v_s*t(lambda) + x(lambda))**2 + y(lambda)**2 + z(lambda)**2) - 2*sigma*v_s*(1 - tanh(sigma*(R + sqrt((-v_s*t(lambda) + x(lambda))**2 + y(lambda)**2 + z(lambda)**2)))**2)*(-v_s*t(lambda) + x(lambda))/sqrt((-v_s*t(lambda) + x(lambda))**2 + y(lambda)**2 + z(lambda)**2))*(-tanh(sigma*(-R + sqrt((-v_s*t(lambda) + x(lambda))**2 + y(lambda)**2 + z(lambda)**2))) + tanh(sigma*(R + sqrt((-v_s*t(lambda) + x(lambda))**2 + y(lambda)**2 + z(lambda)**2))))/(8*c**2*tanh(R*sigma)**2) + (-v_s*tanh(R*sigma - sigma*sqrt(v_s**2*t(lambda)**2 - 2*v_s*t(lambda)*x(lambda) + x(lambda)**2 + y(lambda)**2 + z(lambda)**2)) - v_s*tanh(R*sigma + sigma*sqrt(v_s**2*t(lambda)**2 - 2*v_s*t(lambda)*x(lambda) + x(lambda)**2 + y(lambda)**2 + z(lambda)**2)))*(-v_s**2*(-2*sigma*(1 - tanh(sigma*(-R + sqrt((-v_s*t(lambda) + x(lambda))**2 + y(lambda)**2 + z(lambda)**2)))**2)*(-v_s*t(lambda) + x(lambda))/sqrt((-v_s*t(lambda) + x(lambda))**2 + y(lambda)**2 + z(lambda)**2) + 2*sigma*(1 - tanh(sigma*(R + sqrt((-v_s*t(lambda) + x(lambda))**2 + y(lambda)**2 + z(lambda)**2)))**2)*(-v_s*t(lambda) + x(lambda))/sqrt((-v_s*t(lambda) + x(lambda))**2 + y(lambda)**2 + z(lambda)**2))*(-tanh(sigma*(-R + sqrt((-v_s*t(lambda) + x(lambda))**2 + y(lambda)**2 + z(lambda)**2))) + tanh(sigma*(R + sqrt((-v_s*t(lambda) + x(lambda))**2 + y(lambda)**2 + z(lambda)**2))))/(4*tanh(R*sigma)**2) - v_s*(sigma*v_s*(1 - tanh(sigma*(-R + sqrt((-v_s*t(lambda) + x(lambda))**2 + y(lambda)**2 + z(lambda)**2)))**2)*(-v_s*t(lambda) + x(lambda))/sqrt((-v_s*t(lambda) + x(lambda))**2 + y(lambda)**2 + z(lambda)**2) - sigma*v_s*(1 - tanh(sigma*(R + sqrt((-v_s*t(lambda) + x(lambda))**2 + y(lambda)**2 + z(lambda)**2)))**2)*(-v_s*t(lambda) + x(lambda))/sqrt((-v_s*t(lambda) + x(lambda))**2 + y(lambda)**2 + z(lambda)**2))/tanh(R*sigma))/(4*c**2*tanh(R*sigma)), -v_s**2*(-2*sigma*(1 - tanh(sigma*(-R + sqrt((-v_s*t(lambda) + x(lambda))**2 + y(lambda)**2 + z(lambda)**2)))**2)*(-v_s*t(lambda) + x(lambda))/sqrt((-v_s*t(lambda) + x(lambda))**2 + y(lambda)**2 + z(lambda)**2) + 2*sigma*(1 - tanh(sigma*(R + sqrt((-v_s*t(lambda) + x(lambda))**2 + y(lambda)**2 + z(lambda)**2)))**2)*(-v_s*t(lambda) + x(lambda))/sqrt((-v_s*t(lambda) + x(lambda))**2 + y(lambda)**2 + z(lambda)**2))*(-tanh(sigma*(-R + sqrt((-v_s*t(lambda) + x(lambda))**2 + y(lambda)**2 + z(lambda)**2))) + tanh(sigma*(R + sqrt((-v_s*t(lambda) + x(lambda))**2 + y(lambda)**2 + z(lambda)**2))))/(8*c**2*tanh(R*sigma)**2), -v_s**2*(-2*sigma*(1 - tanh(sigma*(-R + sqrt((-v_s*t(lambda) + x(lambda))**2 + y(lambda)**2 + z(lambda)**2)))**2)*y(lambda)/sqrt((-v_s*t(lambda) + x(lambda))**2 + y(lambda)**2 + z(lambda)**2) + 2*sigma*(1 - tanh(sigma*(R + sqrt((-v_s*t(lambda) + x(lambda))**2 + y(lambda)**2 + z(lambda)**2)))**2)*y(lambda)/sqrt((-v_s*t(lambda) + x(lambda))**2 + y(lambda)**2 + z(lambda)**2))*(-tanh(sigma*(-R + sqrt((-v_s*t(lambda) + x(lambda))**2 + y(lambda)**2 + z(lambda)**2))) + tanh(sigma*(R + sqrt((-v_s*t(lambda) + x(lambda))**2 + y(lambda)**2 + z(lambda)**2))))/(8*c**2*tanh(R*sigma)**2) - v_s*(-v_s*tanh(R*sigma - sigma*sqrt(v_s**2*t(lambda)**2 - 2*v_s*t(lambda)*x(lambda) + x(lambda)**2 + y(lambda)**2 + z(lambda)**2)) - v_s*tanh(R*sigma + sigma*sqrt(v_s**2*t(lambda)**2 - 2*v_s*t(lambda)*x(lambda) + x(lambda)**2 + y(lambda)**2 + z(lambda)**2)))*(-sigma*(1 - tanh(sigma*(-R + sqrt((-v_s*t(lambda) + x(lambda))**2 + y(lambda)**2 + z(lambda)**2)))**2)*y(lambda)/sqrt((-v_s*t(lambda) + x(lambda))**2 + y(lambda)**2 + z(lambda)**2) + sigma*(1 - tanh(sigma*(R + sqrt((-v_s*t(lambda) + x(lambda))**2 + y(lambda)**2 + z(lambda)**2)))**2)*y(lambda)/sqrt((-v_s*t(lambda) + x(lambda))**2 + y(lambda)**2 + z(lambda)**2))/(8*c**2*tanh(R*sigma)**2), -v_s**2*(-2*sigma*(1 - tanh(sigma*(-R + sqrt((-v_s*t(lambda) + x(lambda))**2 + y(lambda)**2 + z(lambda)**2)))**2)*z(lambda)/sqrt((-v_s*t(lambda) + x(lambda))**2 + y(lambda)**2 + z(lambda)**2) + 2*sigma*(1 - tanh(sigma*(R + sqrt((-v_s*t(lambda) + x(lambda))**2 + y(lambda)**2 + z(lambda)**2)))**2)*z(lambda)/sqrt((-v_s*t(lambda) + x(lambda))**2 + y(lambda)**2 + z(lambda)**2))*(-tanh(sigma*(-R + sqrt((-v_s*t(lambda) + x(lambda))**2 + y(lambda)**2 + z(lambda)**2))) + tanh(sigma*(R + sqrt((-v_s*t(lambda) + x(lambda))**2 + y(lambda)**2 + z(lambda)**2))))/(8*c**2*tanh(R*sigma)**2) - v_s*(-v_s*tanh(R*sigma - sigma*sqrt(v_s**2*t(lambda)**2 - 2*v_s*t(lambda)*x(lambda) + x(lambda)**2 + y(lambda)**2 + z(lambda)**2)) - v_s*tanh(R*sigma + sigma*sqrt(v_s**2*t(lambda)**2 - 2*v_s*t(lambda)*x(lambda) + x(lambda)**2 + y(lambda)**2 + z(lambda)**2)))*(-sigma*(1 - tanh(sigma*(-R + sqrt((-v_s*t(lambda) + x(lambda))**2 + y(lambda)**2 + z(lambda)**2)))**2)*z(lambda)/sqrt((-v_s*t(lambda) + x(lambda))**2 + y(lambda)**2 + z(lambda)**2) + sigma*(1 - tanh(sigma*(R + sqrt((-v_s*t(lambda) + x(lambda))**2 + y(lambda)**2 + z(lambda)**2)))**2)*z(lambda)/sqrt((-v_s*t(lambda) + x(lambda))**2 + y(lambda)**2 + z(lambda)**2))/(8*c**2*tanh(R*sigma)**2)],\n",
       "[                                                                                                                                                                                                                                                                                                                                                                                                                                                                                                                                                                                                                                                                                                                                                                                                                                                                                                                                                                                                                                                                                                                                                                                                                                                                                                                                                                                   -v_s**2*(-2*sigma*(1 - tanh(sigma*(-R + sqrt((-v_s*t(lambda) + x(lambda))**2 + y(lambda)**2 + z(lambda)**2)))**2)*(-v_s*t(lambda) + x(lambda))/sqrt((-v_s*t(lambda) + x(lambda))**2 + y(lambda)**2 + z(lambda)**2) + 2*sigma*(1 - tanh(sigma*(R + sqrt((-v_s*t(lambda) + x(lambda))**2 + y(lambda)**2 + z(lambda)**2)))**2)*(-v_s*t(lambda) + x(lambda))/sqrt((-v_s*t(lambda) + x(lambda))**2 + y(lambda)**2 + z(lambda)**2))*(-tanh(sigma*(-R + sqrt((-v_s*t(lambda) + x(lambda))**2 + y(lambda)**2 + z(lambda)**2))) + tanh(sigma*(R + sqrt((-v_s*t(lambda) + x(lambda))**2 + y(lambda)**2 + z(lambda)**2))))/(8*c**2*tanh(R*sigma)**2),                                                                                                                                                                                              v_s*(-sigma*(1 - tanh(sigma*(-R + sqrt((-v_s*t(lambda) + x(lambda))**2 + y(lambda)**2 + z(lambda)**2)))**2)*(-v_s*t(lambda) + x(lambda))/sqrt((-v_s*t(lambda) + x(lambda))**2 + y(lambda)**2 + z(lambda)**2) + sigma*(1 - tanh(sigma*(R + sqrt((-v_s*t(lambda) + x(lambda))**2 + y(lambda)**2 + z(lambda)**2)))**2)*(-v_s*t(lambda) + x(lambda))/sqrt((-v_s*t(lambda) + x(lambda))**2 + y(lambda)**2 + z(lambda)**2))/(2*c**2*tanh(R*sigma)),                                                                                                                                                                                                                                                                                                                                                                                                                                                                                                                                                                                                                                                                                                                                                                                                                                                                         v_s*(-sigma*(1 - tanh(sigma*(-R + sqrt((-v_s*t(lambda) + x(lambda))**2 + y(lambda)**2 + z(lambda)**2)))**2)*y(lambda)/sqrt((-v_s*t(lambda) + x(lambda))**2 + y(lambda)**2 + z(lambda)**2) + sigma*(1 - tanh(sigma*(R + sqrt((-v_s*t(lambda) + x(lambda))**2 + y(lambda)**2 + z(lambda)**2)))**2)*y(lambda)/sqrt((-v_s*t(lambda) + x(lambda))**2 + y(lambda)**2 + z(lambda)**2))/(4*c**2*tanh(R*sigma)),                                                                                                                                                                                                                                                                                                                                                                                                                                                                                                                                                                                                                                                                                                                                                                                                                                                                         v_s*(-sigma*(1 - tanh(sigma*(-R + sqrt((-v_s*t(lambda) + x(lambda))**2 + y(lambda)**2 + z(lambda)**2)))**2)*z(lambda)/sqrt((-v_s*t(lambda) + x(lambda))**2 + y(lambda)**2 + z(lambda)**2) + sigma*(1 - tanh(sigma*(R + sqrt((-v_s*t(lambda) + x(lambda))**2 + y(lambda)**2 + z(lambda)**2)))**2)*z(lambda)/sqrt((-v_s*t(lambda) + x(lambda))**2 + y(lambda)**2 + z(lambda)**2))/(4*c**2*tanh(R*sigma))],\n",
       "[                                                                                                                                                                                                                                                                                                                                                                                                                                                                                                                                                                                                                                                                                                                                              -v_s**2*(-2*sigma*(1 - tanh(sigma*(-R + sqrt((-v_s*t(lambda) + x(lambda))**2 + y(lambda)**2 + z(lambda)**2)))**2)*y(lambda)/sqrt((-v_s*t(lambda) + x(lambda))**2 + y(lambda)**2 + z(lambda)**2) + 2*sigma*(1 - tanh(sigma*(R + sqrt((-v_s*t(lambda) + x(lambda))**2 + y(lambda)**2 + z(lambda)**2)))**2)*y(lambda)/sqrt((-v_s*t(lambda) + x(lambda))**2 + y(lambda)**2 + z(lambda)**2))*(-tanh(sigma*(-R + sqrt((-v_s*t(lambda) + x(lambda))**2 + y(lambda)**2 + z(lambda)**2))) + tanh(sigma*(R + sqrt((-v_s*t(lambda) + x(lambda))**2 + y(lambda)**2 + z(lambda)**2))))/(8*c**2*tanh(R*sigma)**2) - v_s*(-v_s*tanh(R*sigma - sigma*sqrt(v_s**2*t(lambda)**2 - 2*v_s*t(lambda)*x(lambda) + x(lambda)**2 + y(lambda)**2 + z(lambda)**2)) - v_s*tanh(R*sigma + sigma*sqrt(v_s**2*t(lambda)**2 - 2*v_s*t(lambda)*x(lambda) + x(lambda)**2 + y(lambda)**2 + z(lambda)**2)))*(-sigma*(1 - tanh(sigma*(-R + sqrt((-v_s*t(lambda) + x(lambda))**2 + y(lambda)**2 + z(lambda)**2)))**2)*y(lambda)/sqrt((-v_s*t(lambda) + x(lambda))**2 + y(lambda)**2 + z(lambda)**2) + sigma*(1 - tanh(sigma*(R + sqrt((-v_s*t(lambda) + x(lambda))**2 + y(lambda)**2 + z(lambda)**2)))**2)*y(lambda)/sqrt((-v_s*t(lambda) + x(lambda))**2 + y(lambda)**2 + z(lambda)**2))/(8*c**2*tanh(R*sigma)**2),                                                                                                                                                                                                                                    v_s*(-sigma*(1 - tanh(sigma*(-R + sqrt((-v_s*t(lambda) + x(lambda))**2 + y(lambda)**2 + z(lambda)**2)))**2)*y(lambda)/sqrt((-v_s*t(lambda) + x(lambda))**2 + y(lambda)**2 + z(lambda)**2) + sigma*(1 - tanh(sigma*(R + sqrt((-v_s*t(lambda) + x(lambda))**2 + y(lambda)**2 + z(lambda)**2)))**2)*y(lambda)/sqrt((-v_s*t(lambda) + x(lambda))**2 + y(lambda)**2 + z(lambda)**2))/(4*c**2*tanh(R*sigma)),                                                                                                                                                                                                                                                                                                                                                                                                                                                                                                                                                                                                                                                                                                                                                                                                                                                                                                                                                                                                                                                                                                                                                                                                                                                                              0,                                                                                                                                                                                                                                                                                                                                                                                                                                                                                                                                                                                                                                                                                                                                                                                                                                                                                                                                                                                                                                                                                                                                                                                                                                                                              0],\n",
       "[                                                                                                                                                                                                                                                                                                                                                                                                                                                                                                                                                                                                                                                                                                                                              -v_s**2*(-2*sigma*(1 - tanh(sigma*(-R + sqrt((-v_s*t(lambda) + x(lambda))**2 + y(lambda)**2 + z(lambda)**2)))**2)*z(lambda)/sqrt((-v_s*t(lambda) + x(lambda))**2 + y(lambda)**2 + z(lambda)**2) + 2*sigma*(1 - tanh(sigma*(R + sqrt((-v_s*t(lambda) + x(lambda))**2 + y(lambda)**2 + z(lambda)**2)))**2)*z(lambda)/sqrt((-v_s*t(lambda) + x(lambda))**2 + y(lambda)**2 + z(lambda)**2))*(-tanh(sigma*(-R + sqrt((-v_s*t(lambda) + x(lambda))**2 + y(lambda)**2 + z(lambda)**2))) + tanh(sigma*(R + sqrt((-v_s*t(lambda) + x(lambda))**2 + y(lambda)**2 + z(lambda)**2))))/(8*c**2*tanh(R*sigma)**2) - v_s*(-v_s*tanh(R*sigma - sigma*sqrt(v_s**2*t(lambda)**2 - 2*v_s*t(lambda)*x(lambda) + x(lambda)**2 + y(lambda)**2 + z(lambda)**2)) - v_s*tanh(R*sigma + sigma*sqrt(v_s**2*t(lambda)**2 - 2*v_s*t(lambda)*x(lambda) + x(lambda)**2 + y(lambda)**2 + z(lambda)**2)))*(-sigma*(1 - tanh(sigma*(-R + sqrt((-v_s*t(lambda) + x(lambda))**2 + y(lambda)**2 + z(lambda)**2)))**2)*z(lambda)/sqrt((-v_s*t(lambda) + x(lambda))**2 + y(lambda)**2 + z(lambda)**2) + sigma*(1 - tanh(sigma*(R + sqrt((-v_s*t(lambda) + x(lambda))**2 + y(lambda)**2 + z(lambda)**2)))**2)*z(lambda)/sqrt((-v_s*t(lambda) + x(lambda))**2 + y(lambda)**2 + z(lambda)**2))/(8*c**2*tanh(R*sigma)**2),                                                                                                                                                                                                                                    v_s*(-sigma*(1 - tanh(sigma*(-R + sqrt((-v_s*t(lambda) + x(lambda))**2 + y(lambda)**2 + z(lambda)**2)))**2)*z(lambda)/sqrt((-v_s*t(lambda) + x(lambda))**2 + y(lambda)**2 + z(lambda)**2) + sigma*(1 - tanh(sigma*(R + sqrt((-v_s*t(lambda) + x(lambda))**2 + y(lambda)**2 + z(lambda)**2)))**2)*z(lambda)/sqrt((-v_s*t(lambda) + x(lambda))**2 + y(lambda)**2 + z(lambda)**2))/(4*c**2*tanh(R*sigma)),                                                                                                                                                                                                                                                                                                                                                                                                                                                                                                                                                                                                                                                                                                                                                                                                                                                                                                                                                                                                                                                                                                                                                                                                                                                                              0,                                                                                                                                                                                                                                                                                                                                                                                                                                                                                                                                                                                                                                                                                                                                                                                                                                                                                                                                                                                                                                                                                                                                                                                                                                                                              0]])"
      ]
     },
     "metadata": {},
     "output_type": "display_data"
    },
    {
     "data": {
      "text/latex": [
       "$\\displaystyle \\left[\\begin{matrix}\\frac{v_{s}^{2} \\left(- v_{s} \\tanh{\\left(R \\sigma - \\sigma \\sqrt{v_{s}^{2} t^{2}{\\left(\\lambda \\right)} - 2 v_{s} t{\\left(\\lambda \\right)} x{\\left(\\lambda \\right)} + x^{2}{\\left(\\lambda \\right)} + y^{2}{\\left(\\lambda \\right)} + z^{2}{\\left(\\lambda \\right)}} \\right)} - v_{s} \\tanh{\\left(R \\sigma + \\sigma \\sqrt{v_{s}^{2} t^{2}{\\left(\\lambda \\right)} - 2 v_{s} t{\\left(\\lambda \\right)} x{\\left(\\lambda \\right)} + x^{2}{\\left(\\lambda \\right)} + y^{2}{\\left(\\lambda \\right)} + z^{2}{\\left(\\lambda \\right)}} \\right)}\\right) \\left(\\frac{2 \\sigma v_{s} \\left(1 - \\tanh^{2}{\\left(\\sigma \\left(- R + \\sqrt{\\left(- v_{s} t{\\left(\\lambda \\right)} + x{\\left(\\lambda \\right)}\\right)^{2} + y^{2}{\\left(\\lambda \\right)} + z^{2}{\\left(\\lambda \\right)}}\\right) \\right)}\\right) \\left(- v_{s} t{\\left(\\lambda \\right)} + x{\\left(\\lambda \\right)}\\right)}{\\sqrt{\\left(- v_{s} t{\\left(\\lambda \\right)} + x{\\left(\\lambda \\right)}\\right)^{2} + y^{2}{\\left(\\lambda \\right)} + z^{2}{\\left(\\lambda \\right)}}} - \\frac{2 \\sigma v_{s} \\left(1 - \\tanh^{2}{\\left(\\sigma \\left(R + \\sqrt{\\left(- v_{s} t{\\left(\\lambda \\right)} + x{\\left(\\lambda \\right)}\\right)^{2} + y^{2}{\\left(\\lambda \\right)} + z^{2}{\\left(\\lambda \\right)}}\\right) \\right)}\\right) \\left(- v_{s} t{\\left(\\lambda \\right)} + x{\\left(\\lambda \\right)}\\right)}{\\sqrt{\\left(- v_{s} t{\\left(\\lambda \\right)} + x{\\left(\\lambda \\right)}\\right)^{2} + y^{2}{\\left(\\lambda \\right)} + z^{2}{\\left(\\lambda \\right)}}}\\right) \\left(- \\tanh{\\left(\\sigma \\left(- R + \\sqrt{\\left(- v_{s} t{\\left(\\lambda \\right)} + x{\\left(\\lambda \\right)}\\right)^{2} + y^{2}{\\left(\\lambda \\right)} + z^{2}{\\left(\\lambda \\right)}}\\right) \\right)} + \\tanh{\\left(\\sigma \\left(R + \\sqrt{\\left(- v_{s} t{\\left(\\lambda \\right)} + x{\\left(\\lambda \\right)}\\right)^{2} + y^{2}{\\left(\\lambda \\right)} + z^{2}{\\left(\\lambda \\right)}}\\right) \\right)}\\right)}{16 c^{2} \\tanh^{3}{\\left(R \\sigma \\right)}} + \\frac{\\left(- \\frac{v_{s}^{2} \\left(- \\frac{2 \\sigma \\left(1 - \\tanh^{2}{\\left(\\sigma \\left(- R + \\sqrt{\\left(- v_{s} t{\\left(\\lambda \\right)} + x{\\left(\\lambda \\right)}\\right)^{2} + y^{2}{\\left(\\lambda \\right)} + z^{2}{\\left(\\lambda \\right)}}\\right) \\right)}\\right) \\left(- v_{s} t{\\left(\\lambda \\right)} + x{\\left(\\lambda \\right)}\\right)}{\\sqrt{\\left(- v_{s} t{\\left(\\lambda \\right)} + x{\\left(\\lambda \\right)}\\right)^{2} + y^{2}{\\left(\\lambda \\right)} + z^{2}{\\left(\\lambda \\right)}}} + \\frac{2 \\sigma \\left(1 - \\tanh^{2}{\\left(\\sigma \\left(R + \\sqrt{\\left(- v_{s} t{\\left(\\lambda \\right)} + x{\\left(\\lambda \\right)}\\right)^{2} + y^{2}{\\left(\\lambda \\right)} + z^{2}{\\left(\\lambda \\right)}}\\right) \\right)}\\right) \\left(- v_{s} t{\\left(\\lambda \\right)} + x{\\left(\\lambda \\right)}\\right)}{\\sqrt{\\left(- v_{s} t{\\left(\\lambda \\right)} + x{\\left(\\lambda \\right)}\\right)^{2} + y^{2}{\\left(\\lambda \\right)} + z^{2}{\\left(\\lambda \\right)}}}\\right) \\left(- \\tanh{\\left(\\sigma \\left(- R + \\sqrt{\\left(- v_{s} t{\\left(\\lambda \\right)} + x{\\left(\\lambda \\right)}\\right)^{2} + y^{2}{\\left(\\lambda \\right)} + z^{2}{\\left(\\lambda \\right)}}\\right) \\right)} + \\tanh{\\left(\\sigma \\left(R + \\sqrt{\\left(- v_{s} t{\\left(\\lambda \\right)} + x{\\left(\\lambda \\right)}\\right)^{2} + y^{2}{\\left(\\lambda \\right)} + z^{2}{\\left(\\lambda \\right)}}\\right) \\right)}\\right)}{4 \\tanh^{2}{\\left(R \\sigma \\right)}} - \\frac{v_{s} \\left(\\frac{\\sigma v_{s} \\left(1 - \\tanh^{2}{\\left(\\sigma \\left(- R + \\sqrt{\\left(- v_{s} t{\\left(\\lambda \\right)} + x{\\left(\\lambda \\right)}\\right)^{2} + y^{2}{\\left(\\lambda \\right)} + z^{2}{\\left(\\lambda \\right)}}\\right) \\right)}\\right) \\left(- v_{s} t{\\left(\\lambda \\right)} + x{\\left(\\lambda \\right)}\\right)}{\\sqrt{\\left(- v_{s} t{\\left(\\lambda \\right)} + x{\\left(\\lambda \\right)}\\right)^{2} + y^{2}{\\left(\\lambda \\right)} + z^{2}{\\left(\\lambda \\right)}}} - \\frac{\\sigma v_{s} \\left(1 - \\tanh^{2}{\\left(\\sigma \\left(R + \\sqrt{\\left(- v_{s} t{\\left(\\lambda \\right)} + x{\\left(\\lambda \\right)}\\right)^{2} + y^{2}{\\left(\\lambda \\right)} + z^{2}{\\left(\\lambda \\right)}}\\right) \\right)}\\right) \\left(- v_{s} t{\\left(\\lambda \\right)} + x{\\left(\\lambda \\right)}\\right)}{\\sqrt{\\left(- v_{s} t{\\left(\\lambda \\right)} + x{\\left(\\lambda \\right)}\\right)^{2} + y^{2}{\\left(\\lambda \\right)} + z^{2}{\\left(\\lambda \\right)}}}\\right)}{\\tanh{\\left(R \\sigma \\right)}}\\right) \\left(4 c^{2} \\tanh^{2}{\\left(R \\sigma \\right)} - v_{s}^{2} \\tanh^{2}{\\left(R \\sigma - \\sigma \\sqrt{v_{s}^{2} t^{2}{\\left(\\lambda \\right)} - 2 v_{s} t{\\left(\\lambda \\right)} x{\\left(\\lambda \\right)} + x^{2}{\\left(\\lambda \\right)} + y^{2}{\\left(\\lambda \\right)} + z^{2}{\\left(\\lambda \\right)}} \\right)} - 2 v_{s}^{2} \\tanh{\\left(R \\sigma - \\sigma \\sqrt{v_{s}^{2} t^{2}{\\left(\\lambda \\right)} - 2 v_{s} t{\\left(\\lambda \\right)} x{\\left(\\lambda \\right)} + x^{2}{\\left(\\lambda \\right)} + y^{2}{\\left(\\lambda \\right)} + z^{2}{\\left(\\lambda \\right)}} \\right)} \\tanh{\\left(R \\sigma + \\sigma \\sqrt{v_{s}^{2} t^{2}{\\left(\\lambda \\right)} - 2 v_{s} t{\\left(\\lambda \\right)} x{\\left(\\lambda \\right)} + x^{2}{\\left(\\lambda \\right)} + y^{2}{\\left(\\lambda \\right)} + z^{2}{\\left(\\lambda \\right)}} \\right)} - v_{s}^{2} \\tanh^{2}{\\left(R \\sigma + \\sigma \\sqrt{v_{s}^{2} t^{2}{\\left(\\lambda \\right)} - 2 v_{s} t{\\left(\\lambda \\right)} x{\\left(\\lambda \\right)} + x^{2}{\\left(\\lambda \\right)} + y^{2}{\\left(\\lambda \\right)} + z^{2}{\\left(\\lambda \\right)}} \\right)}\\right)}{8 c^{2} \\tanh^{2}{\\left(R \\sigma \\right)}} & \\frac{v_{s}^{2} \\left(- v_{s} \\tanh{\\left(R \\sigma - \\sigma \\sqrt{v_{s}^{2} t^{2}{\\left(\\lambda \\right)} - 2 v_{s} t{\\left(\\lambda \\right)} x{\\left(\\lambda \\right)} + x^{2}{\\left(\\lambda \\right)} + y^{2}{\\left(\\lambda \\right)} + z^{2}{\\left(\\lambda \\right)}} \\right)} - v_{s} \\tanh{\\left(R \\sigma + \\sigma \\sqrt{v_{s}^{2} t^{2}{\\left(\\lambda \\right)} - 2 v_{s} t{\\left(\\lambda \\right)} x{\\left(\\lambda \\right)} + x^{2}{\\left(\\lambda \\right)} + y^{2}{\\left(\\lambda \\right)} + z^{2}{\\left(\\lambda \\right)}} \\right)}\\right) \\left(- \\frac{2 \\sigma \\left(1 - \\tanh^{2}{\\left(\\sigma \\left(- R + \\sqrt{\\left(- v_{s} t{\\left(\\lambda \\right)} + x{\\left(\\lambda \\right)}\\right)^{2} + y^{2}{\\left(\\lambda \\right)} + z^{2}{\\left(\\lambda \\right)}}\\right) \\right)}\\right) \\left(- v_{s} t{\\left(\\lambda \\right)} + x{\\left(\\lambda \\right)}\\right)}{\\sqrt{\\left(- v_{s} t{\\left(\\lambda \\right)} + x{\\left(\\lambda \\right)}\\right)^{2} + y^{2}{\\left(\\lambda \\right)} + z^{2}{\\left(\\lambda \\right)}}} + \\frac{2 \\sigma \\left(1 - \\tanh^{2}{\\left(\\sigma \\left(R + \\sqrt{\\left(- v_{s} t{\\left(\\lambda \\right)} + x{\\left(\\lambda \\right)}\\right)^{2} + y^{2}{\\left(\\lambda \\right)} + z^{2}{\\left(\\lambda \\right)}}\\right) \\right)}\\right) \\left(- v_{s} t{\\left(\\lambda \\right)} + x{\\left(\\lambda \\right)}\\right)}{\\sqrt{\\left(- v_{s} t{\\left(\\lambda \\right)} + x{\\left(\\lambda \\right)}\\right)^{2} + y^{2}{\\left(\\lambda \\right)} + z^{2}{\\left(\\lambda \\right)}}}\\right) \\left(- \\tanh{\\left(\\sigma \\left(- R + \\sqrt{\\left(- v_{s} t{\\left(\\lambda \\right)} + x{\\left(\\lambda \\right)}\\right)^{2} + y^{2}{\\left(\\lambda \\right)} + z^{2}{\\left(\\lambda \\right)}}\\right) \\right)} + \\tanh{\\left(\\sigma \\left(R + \\sqrt{\\left(- v_{s} t{\\left(\\lambda \\right)} + x{\\left(\\lambda \\right)}\\right)^{2} + y^{2}{\\left(\\lambda \\right)} + z^{2}{\\left(\\lambda \\right)}}\\right) \\right)}\\right)}{16 c^{2} \\tanh^{3}{\\left(R \\sigma \\right)}} & \\frac{v_{s}^{2} \\left(- v_{s} \\tanh{\\left(R \\sigma - \\sigma \\sqrt{v_{s}^{2} t^{2}{\\left(\\lambda \\right)} - 2 v_{s} t{\\left(\\lambda \\right)} x{\\left(\\lambda \\right)} + x^{2}{\\left(\\lambda \\right)} + y^{2}{\\left(\\lambda \\right)} + z^{2}{\\left(\\lambda \\right)}} \\right)} - v_{s} \\tanh{\\left(R \\sigma + \\sigma \\sqrt{v_{s}^{2} t^{2}{\\left(\\lambda \\right)} - 2 v_{s} t{\\left(\\lambda \\right)} x{\\left(\\lambda \\right)} + x^{2}{\\left(\\lambda \\right)} + y^{2}{\\left(\\lambda \\right)} + z^{2}{\\left(\\lambda \\right)}} \\right)}\\right) \\left(- \\frac{2 \\sigma \\left(1 - \\tanh^{2}{\\left(\\sigma \\left(- R + \\sqrt{\\left(- v_{s} t{\\left(\\lambda \\right)} + x{\\left(\\lambda \\right)}\\right)^{2} + y^{2}{\\left(\\lambda \\right)} + z^{2}{\\left(\\lambda \\right)}}\\right) \\right)}\\right) y{\\left(\\lambda \\right)}}{\\sqrt{\\left(- v_{s} t{\\left(\\lambda \\right)} + x{\\left(\\lambda \\right)}\\right)^{2} + y^{2}{\\left(\\lambda \\right)} + z^{2}{\\left(\\lambda \\right)}}} + \\frac{2 \\sigma \\left(1 - \\tanh^{2}{\\left(\\sigma \\left(R + \\sqrt{\\left(- v_{s} t{\\left(\\lambda \\right)} + x{\\left(\\lambda \\right)}\\right)^{2} + y^{2}{\\left(\\lambda \\right)} + z^{2}{\\left(\\lambda \\right)}}\\right) \\right)}\\right) y{\\left(\\lambda \\right)}}{\\sqrt{\\left(- v_{s} t{\\left(\\lambda \\right)} + x{\\left(\\lambda \\right)}\\right)^{2} + y^{2}{\\left(\\lambda \\right)} + z^{2}{\\left(\\lambda \\right)}}}\\right) \\left(- \\tanh{\\left(\\sigma \\left(- R + \\sqrt{\\left(- v_{s} t{\\left(\\lambda \\right)} + x{\\left(\\lambda \\right)}\\right)^{2} + y^{2}{\\left(\\lambda \\right)} + z^{2}{\\left(\\lambda \\right)}}\\right) \\right)} + \\tanh{\\left(\\sigma \\left(R + \\sqrt{\\left(- v_{s} t{\\left(\\lambda \\right)} + x{\\left(\\lambda \\right)}\\right)^{2} + y^{2}{\\left(\\lambda \\right)} + z^{2}{\\left(\\lambda \\right)}}\\right) \\right)}\\right)}{16 c^{2} \\tanh^{3}{\\left(R \\sigma \\right)}} - \\frac{v_{s} \\left(- \\frac{\\sigma \\left(1 - \\tanh^{2}{\\left(\\sigma \\left(- R + \\sqrt{\\left(- v_{s} t{\\left(\\lambda \\right)} + x{\\left(\\lambda \\right)}\\right)^{2} + y^{2}{\\left(\\lambda \\right)} + z^{2}{\\left(\\lambda \\right)}}\\right) \\right)}\\right) y{\\left(\\lambda \\right)}}{\\sqrt{\\left(- v_{s} t{\\left(\\lambda \\right)} + x{\\left(\\lambda \\right)}\\right)^{2} + y^{2}{\\left(\\lambda \\right)} + z^{2}{\\left(\\lambda \\right)}}} + \\frac{\\sigma \\left(1 - \\tanh^{2}{\\left(\\sigma \\left(R + \\sqrt{\\left(- v_{s} t{\\left(\\lambda \\right)} + x{\\left(\\lambda \\right)}\\right)^{2} + y^{2}{\\left(\\lambda \\right)} + z^{2}{\\left(\\lambda \\right)}}\\right) \\right)}\\right) y{\\left(\\lambda \\right)}}{\\sqrt{\\left(- v_{s} t{\\left(\\lambda \\right)} + x{\\left(\\lambda \\right)}\\right)^{2} + y^{2}{\\left(\\lambda \\right)} + z^{2}{\\left(\\lambda \\right)}}}\\right) \\left(4 c^{2} \\tanh^{2}{\\left(R \\sigma \\right)} - v_{s}^{2} \\tanh^{2}{\\left(R \\sigma - \\sigma \\sqrt{v_{s}^{2} t^{2}{\\left(\\lambda \\right)} - 2 v_{s} t{\\left(\\lambda \\right)} x{\\left(\\lambda \\right)} + x^{2}{\\left(\\lambda \\right)} + y^{2}{\\left(\\lambda \\right)} + z^{2}{\\left(\\lambda \\right)}} \\right)} - 2 v_{s}^{2} \\tanh{\\left(R \\sigma - \\sigma \\sqrt{v_{s}^{2} t^{2}{\\left(\\lambda \\right)} - 2 v_{s} t{\\left(\\lambda \\right)} x{\\left(\\lambda \\right)} + x^{2}{\\left(\\lambda \\right)} + y^{2}{\\left(\\lambda \\right)} + z^{2}{\\left(\\lambda \\right)}} \\right)} \\tanh{\\left(R \\sigma + \\sigma \\sqrt{v_{s}^{2} t^{2}{\\left(\\lambda \\right)} - 2 v_{s} t{\\left(\\lambda \\right)} x{\\left(\\lambda \\right)} + x^{2}{\\left(\\lambda \\right)} + y^{2}{\\left(\\lambda \\right)} + z^{2}{\\left(\\lambda \\right)}} \\right)} - v_{s}^{2} \\tanh^{2}{\\left(R \\sigma + \\sigma \\sqrt{v_{s}^{2} t^{2}{\\left(\\lambda \\right)} - 2 v_{s} t{\\left(\\lambda \\right)} x{\\left(\\lambda \\right)} + x^{2}{\\left(\\lambda \\right)} + y^{2}{\\left(\\lambda \\right)} + z^{2}{\\left(\\lambda \\right)}} \\right)}\\right)}{16 c^{2} \\tanh^{3}{\\left(R \\sigma \\right)}} & \\frac{v_{s}^{2} \\left(- v_{s} \\tanh{\\left(R \\sigma - \\sigma \\sqrt{v_{s}^{2} t^{2}{\\left(\\lambda \\right)} - 2 v_{s} t{\\left(\\lambda \\right)} x{\\left(\\lambda \\right)} + x^{2}{\\left(\\lambda \\right)} + y^{2}{\\left(\\lambda \\right)} + z^{2}{\\left(\\lambda \\right)}} \\right)} - v_{s} \\tanh{\\left(R \\sigma + \\sigma \\sqrt{v_{s}^{2} t^{2}{\\left(\\lambda \\right)} - 2 v_{s} t{\\left(\\lambda \\right)} x{\\left(\\lambda \\right)} + x^{2}{\\left(\\lambda \\right)} + y^{2}{\\left(\\lambda \\right)} + z^{2}{\\left(\\lambda \\right)}} \\right)}\\right) \\left(- \\frac{2 \\sigma \\left(1 - \\tanh^{2}{\\left(\\sigma \\left(- R + \\sqrt{\\left(- v_{s} t{\\left(\\lambda \\right)} + x{\\left(\\lambda \\right)}\\right)^{2} + y^{2}{\\left(\\lambda \\right)} + z^{2}{\\left(\\lambda \\right)}}\\right) \\right)}\\right) z{\\left(\\lambda \\right)}}{\\sqrt{\\left(- v_{s} t{\\left(\\lambda \\right)} + x{\\left(\\lambda \\right)}\\right)^{2} + y^{2}{\\left(\\lambda \\right)} + z^{2}{\\left(\\lambda \\right)}}} + \\frac{2 \\sigma \\left(1 - \\tanh^{2}{\\left(\\sigma \\left(R + \\sqrt{\\left(- v_{s} t{\\left(\\lambda \\right)} + x{\\left(\\lambda \\right)}\\right)^{2} + y^{2}{\\left(\\lambda \\right)} + z^{2}{\\left(\\lambda \\right)}}\\right) \\right)}\\right) z{\\left(\\lambda \\right)}}{\\sqrt{\\left(- v_{s} t{\\left(\\lambda \\right)} + x{\\left(\\lambda \\right)}\\right)^{2} + y^{2}{\\left(\\lambda \\right)} + z^{2}{\\left(\\lambda \\right)}}}\\right) \\left(- \\tanh{\\left(\\sigma \\left(- R + \\sqrt{\\left(- v_{s} t{\\left(\\lambda \\right)} + x{\\left(\\lambda \\right)}\\right)^{2} + y^{2}{\\left(\\lambda \\right)} + z^{2}{\\left(\\lambda \\right)}}\\right) \\right)} + \\tanh{\\left(\\sigma \\left(R + \\sqrt{\\left(- v_{s} t{\\left(\\lambda \\right)} + x{\\left(\\lambda \\right)}\\right)^{2} + y^{2}{\\left(\\lambda \\right)} + z^{2}{\\left(\\lambda \\right)}}\\right) \\right)}\\right)}{16 c^{2} \\tanh^{3}{\\left(R \\sigma \\right)}} - \\frac{v_{s} \\left(- \\frac{\\sigma \\left(1 - \\tanh^{2}{\\left(\\sigma \\left(- R + \\sqrt{\\left(- v_{s} t{\\left(\\lambda \\right)} + x{\\left(\\lambda \\right)}\\right)^{2} + y^{2}{\\left(\\lambda \\right)} + z^{2}{\\left(\\lambda \\right)}}\\right) \\right)}\\right) z{\\left(\\lambda \\right)}}{\\sqrt{\\left(- v_{s} t{\\left(\\lambda \\right)} + x{\\left(\\lambda \\right)}\\right)^{2} + y^{2}{\\left(\\lambda \\right)} + z^{2}{\\left(\\lambda \\right)}}} + \\frac{\\sigma \\left(1 - \\tanh^{2}{\\left(\\sigma \\left(R + \\sqrt{\\left(- v_{s} t{\\left(\\lambda \\right)} + x{\\left(\\lambda \\right)}\\right)^{2} + y^{2}{\\left(\\lambda \\right)} + z^{2}{\\left(\\lambda \\right)}}\\right) \\right)}\\right) z{\\left(\\lambda \\right)}}{\\sqrt{\\left(- v_{s} t{\\left(\\lambda \\right)} + x{\\left(\\lambda \\right)}\\right)^{2} + y^{2}{\\left(\\lambda \\right)} + z^{2}{\\left(\\lambda \\right)}}}\\right) \\left(4 c^{2} \\tanh^{2}{\\left(R \\sigma \\right)} - v_{s}^{2} \\tanh^{2}{\\left(R \\sigma - \\sigma \\sqrt{v_{s}^{2} t^{2}{\\left(\\lambda \\right)} - 2 v_{s} t{\\left(\\lambda \\right)} x{\\left(\\lambda \\right)} + x^{2}{\\left(\\lambda \\right)} + y^{2}{\\left(\\lambda \\right)} + z^{2}{\\left(\\lambda \\right)}} \\right)} - 2 v_{s}^{2} \\tanh{\\left(R \\sigma - \\sigma \\sqrt{v_{s}^{2} t^{2}{\\left(\\lambda \\right)} - 2 v_{s} t{\\left(\\lambda \\right)} x{\\left(\\lambda \\right)} + x^{2}{\\left(\\lambda \\right)} + y^{2}{\\left(\\lambda \\right)} + z^{2}{\\left(\\lambda \\right)}} \\right)} \\tanh{\\left(R \\sigma + \\sigma \\sqrt{v_{s}^{2} t^{2}{\\left(\\lambda \\right)} - 2 v_{s} t{\\left(\\lambda \\right)} x{\\left(\\lambda \\right)} + x^{2}{\\left(\\lambda \\right)} + y^{2}{\\left(\\lambda \\right)} + z^{2}{\\left(\\lambda \\right)}} \\right)} - v_{s}^{2} \\tanh^{2}{\\left(R \\sigma + \\sigma \\sqrt{v_{s}^{2} t^{2}{\\left(\\lambda \\right)} - 2 v_{s} t{\\left(\\lambda \\right)} x{\\left(\\lambda \\right)} + x^{2}{\\left(\\lambda \\right)} + y^{2}{\\left(\\lambda \\right)} + z^{2}{\\left(\\lambda \\right)}} \\right)}\\right)}{16 c^{2} \\tanh^{3}{\\left(R \\sigma \\right)}}\\\\\\frac{v_{s}^{2} \\left(- v_{s} \\tanh{\\left(R \\sigma - \\sigma \\sqrt{v_{s}^{2} t^{2}{\\left(\\lambda \\right)} - 2 v_{s} t{\\left(\\lambda \\right)} x{\\left(\\lambda \\right)} + x^{2}{\\left(\\lambda \\right)} + y^{2}{\\left(\\lambda \\right)} + z^{2}{\\left(\\lambda \\right)}} \\right)} - v_{s} \\tanh{\\left(R \\sigma + \\sigma \\sqrt{v_{s}^{2} t^{2}{\\left(\\lambda \\right)} - 2 v_{s} t{\\left(\\lambda \\right)} x{\\left(\\lambda \\right)} + x^{2}{\\left(\\lambda \\right)} + y^{2}{\\left(\\lambda \\right)} + z^{2}{\\left(\\lambda \\right)}} \\right)}\\right) \\left(- \\frac{2 \\sigma \\left(1 - \\tanh^{2}{\\left(\\sigma \\left(- R + \\sqrt{\\left(- v_{s} t{\\left(\\lambda \\right)} + x{\\left(\\lambda \\right)}\\right)^{2} + y^{2}{\\left(\\lambda \\right)} + z^{2}{\\left(\\lambda \\right)}}\\right) \\right)}\\right) \\left(- v_{s} t{\\left(\\lambda \\right)} + x{\\left(\\lambda \\right)}\\right)}{\\sqrt{\\left(- v_{s} t{\\left(\\lambda \\right)} + x{\\left(\\lambda \\right)}\\right)^{2} + y^{2}{\\left(\\lambda \\right)} + z^{2}{\\left(\\lambda \\right)}}} + \\frac{2 \\sigma \\left(1 - \\tanh^{2}{\\left(\\sigma \\left(R + \\sqrt{\\left(- v_{s} t{\\left(\\lambda \\right)} + x{\\left(\\lambda \\right)}\\right)^{2} + y^{2}{\\left(\\lambda \\right)} + z^{2}{\\left(\\lambda \\right)}}\\right) \\right)}\\right) \\left(- v_{s} t{\\left(\\lambda \\right)} + x{\\left(\\lambda \\right)}\\right)}{\\sqrt{\\left(- v_{s} t{\\left(\\lambda \\right)} + x{\\left(\\lambda \\right)}\\right)^{2} + y^{2}{\\left(\\lambda \\right)} + z^{2}{\\left(\\lambda \\right)}}}\\right) \\left(- \\tanh{\\left(\\sigma \\left(- R + \\sqrt{\\left(- v_{s} t{\\left(\\lambda \\right)} + x{\\left(\\lambda \\right)}\\right)^{2} + y^{2}{\\left(\\lambda \\right)} + z^{2}{\\left(\\lambda \\right)}}\\right) \\right)} + \\tanh{\\left(\\sigma \\left(R + \\sqrt{\\left(- v_{s} t{\\left(\\lambda \\right)} + x{\\left(\\lambda \\right)}\\right)^{2} + y^{2}{\\left(\\lambda \\right)} + z^{2}{\\left(\\lambda \\right)}}\\right) \\right)}\\right)}{16 c^{2} \\tanh^{3}{\\left(R \\sigma \\right)}} & - \\frac{v_{s} \\left(- v_{s} \\tanh{\\left(R \\sigma - \\sigma \\sqrt{v_{s}^{2} t^{2}{\\left(\\lambda \\right)} - 2 v_{s} t{\\left(\\lambda \\right)} x{\\left(\\lambda \\right)} + x^{2}{\\left(\\lambda \\right)} + y^{2}{\\left(\\lambda \\right)} + z^{2}{\\left(\\lambda \\right)}} \\right)} - v_{s} \\tanh{\\left(R \\sigma + \\sigma \\sqrt{v_{s}^{2} t^{2}{\\left(\\lambda \\right)} - 2 v_{s} t{\\left(\\lambda \\right)} x{\\left(\\lambda \\right)} + x^{2}{\\left(\\lambda \\right)} + y^{2}{\\left(\\lambda \\right)} + z^{2}{\\left(\\lambda \\right)}} \\right)}\\right) \\left(- \\frac{\\sigma \\left(1 - \\tanh^{2}{\\left(\\sigma \\left(- R + \\sqrt{\\left(- v_{s} t{\\left(\\lambda \\right)} + x{\\left(\\lambda \\right)}\\right)^{2} + y^{2}{\\left(\\lambda \\right)} + z^{2}{\\left(\\lambda \\right)}}\\right) \\right)}\\right) \\left(- v_{s} t{\\left(\\lambda \\right)} + x{\\left(\\lambda \\right)}\\right)}{\\sqrt{\\left(- v_{s} t{\\left(\\lambda \\right)} + x{\\left(\\lambda \\right)}\\right)^{2} + y^{2}{\\left(\\lambda \\right)} + z^{2}{\\left(\\lambda \\right)}}} + \\frac{\\sigma \\left(1 - \\tanh^{2}{\\left(\\sigma \\left(R + \\sqrt{\\left(- v_{s} t{\\left(\\lambda \\right)} + x{\\left(\\lambda \\right)}\\right)^{2} + y^{2}{\\left(\\lambda \\right)} + z^{2}{\\left(\\lambda \\right)}}\\right) \\right)}\\right) \\left(- v_{s} t{\\left(\\lambda \\right)} + x{\\left(\\lambda \\right)}\\right)}{\\sqrt{\\left(- v_{s} t{\\left(\\lambda \\right)} + x{\\left(\\lambda \\right)}\\right)^{2} + y^{2}{\\left(\\lambda \\right)} + z^{2}{\\left(\\lambda \\right)}}}\\right)}{4 c^{2} \\tanh^{2}{\\left(R \\sigma \\right)}} & - \\frac{v_{s} \\left(- v_{s} \\tanh{\\left(R \\sigma - \\sigma \\sqrt{v_{s}^{2} t^{2}{\\left(\\lambda \\right)} - 2 v_{s} t{\\left(\\lambda \\right)} x{\\left(\\lambda \\right)} + x^{2}{\\left(\\lambda \\right)} + y^{2}{\\left(\\lambda \\right)} + z^{2}{\\left(\\lambda \\right)}} \\right)} - v_{s} \\tanh{\\left(R \\sigma + \\sigma \\sqrt{v_{s}^{2} t^{2}{\\left(\\lambda \\right)} - 2 v_{s} t{\\left(\\lambda \\right)} x{\\left(\\lambda \\right)} + x^{2}{\\left(\\lambda \\right)} + y^{2}{\\left(\\lambda \\right)} + z^{2}{\\left(\\lambda \\right)}} \\right)}\\right) \\left(- \\frac{\\sigma \\left(1 - \\tanh^{2}{\\left(\\sigma \\left(- R + \\sqrt{\\left(- v_{s} t{\\left(\\lambda \\right)} + x{\\left(\\lambda \\right)}\\right)^{2} + y^{2}{\\left(\\lambda \\right)} + z^{2}{\\left(\\lambda \\right)}}\\right) \\right)}\\right) y{\\left(\\lambda \\right)}}{\\sqrt{\\left(- v_{s} t{\\left(\\lambda \\right)} + x{\\left(\\lambda \\right)}\\right)^{2} + y^{2}{\\left(\\lambda \\right)} + z^{2}{\\left(\\lambda \\right)}}} + \\frac{\\sigma \\left(1 - \\tanh^{2}{\\left(\\sigma \\left(R + \\sqrt{\\left(- v_{s} t{\\left(\\lambda \\right)} + x{\\left(\\lambda \\right)}\\right)^{2} + y^{2}{\\left(\\lambda \\right)} + z^{2}{\\left(\\lambda \\right)}}\\right) \\right)}\\right) y{\\left(\\lambda \\right)}}{\\sqrt{\\left(- v_{s} t{\\left(\\lambda \\right)} + x{\\left(\\lambda \\right)}\\right)^{2} + y^{2}{\\left(\\lambda \\right)} + z^{2}{\\left(\\lambda \\right)}}}\\right)}{8 c^{2} \\tanh^{2}{\\left(R \\sigma \\right)}} & - \\frac{v_{s} \\left(- v_{s} \\tanh{\\left(R \\sigma - \\sigma \\sqrt{v_{s}^{2} t^{2}{\\left(\\lambda \\right)} - 2 v_{s} t{\\left(\\lambda \\right)} x{\\left(\\lambda \\right)} + x^{2}{\\left(\\lambda \\right)} + y^{2}{\\left(\\lambda \\right)} + z^{2}{\\left(\\lambda \\right)}} \\right)} - v_{s} \\tanh{\\left(R \\sigma + \\sigma \\sqrt{v_{s}^{2} t^{2}{\\left(\\lambda \\right)} - 2 v_{s} t{\\left(\\lambda \\right)} x{\\left(\\lambda \\right)} + x^{2}{\\left(\\lambda \\right)} + y^{2}{\\left(\\lambda \\right)} + z^{2}{\\left(\\lambda \\right)}} \\right)}\\right) \\left(- \\frac{\\sigma \\left(1 - \\tanh^{2}{\\left(\\sigma \\left(- R + \\sqrt{\\left(- v_{s} t{\\left(\\lambda \\right)} + x{\\left(\\lambda \\right)}\\right)^{2} + y^{2}{\\left(\\lambda \\right)} + z^{2}{\\left(\\lambda \\right)}}\\right) \\right)}\\right) z{\\left(\\lambda \\right)}}{\\sqrt{\\left(- v_{s} t{\\left(\\lambda \\right)} + x{\\left(\\lambda \\right)}\\right)^{2} + y^{2}{\\left(\\lambda \\right)} + z^{2}{\\left(\\lambda \\right)}}} + \\frac{\\sigma \\left(1 - \\tanh^{2}{\\left(\\sigma \\left(R + \\sqrt{\\left(- v_{s} t{\\left(\\lambda \\right)} + x{\\left(\\lambda \\right)}\\right)^{2} + y^{2}{\\left(\\lambda \\right)} + z^{2}{\\left(\\lambda \\right)}}\\right) \\right)}\\right) z{\\left(\\lambda \\right)}}{\\sqrt{\\left(- v_{s} t{\\left(\\lambda \\right)} + x{\\left(\\lambda \\right)}\\right)^{2} + y^{2}{\\left(\\lambda \\right)} + z^{2}{\\left(\\lambda \\right)}}}\\right)}{8 c^{2} \\tanh^{2}{\\left(R \\sigma \\right)}}\\\\\\frac{v_{s}^{2} \\left(- v_{s} \\tanh{\\left(R \\sigma - \\sigma \\sqrt{v_{s}^{2} t^{2}{\\left(\\lambda \\right)} - 2 v_{s} t{\\left(\\lambda \\right)} x{\\left(\\lambda \\right)} + x^{2}{\\left(\\lambda \\right)} + y^{2}{\\left(\\lambda \\right)} + z^{2}{\\left(\\lambda \\right)}} \\right)} - v_{s} \\tanh{\\left(R \\sigma + \\sigma \\sqrt{v_{s}^{2} t^{2}{\\left(\\lambda \\right)} - 2 v_{s} t{\\left(\\lambda \\right)} x{\\left(\\lambda \\right)} + x^{2}{\\left(\\lambda \\right)} + y^{2}{\\left(\\lambda \\right)} + z^{2}{\\left(\\lambda \\right)}} \\right)}\\right) \\left(- \\frac{2 \\sigma \\left(1 - \\tanh^{2}{\\left(\\sigma \\left(- R + \\sqrt{\\left(- v_{s} t{\\left(\\lambda \\right)} + x{\\left(\\lambda \\right)}\\right)^{2} + y^{2}{\\left(\\lambda \\right)} + z^{2}{\\left(\\lambda \\right)}}\\right) \\right)}\\right) y{\\left(\\lambda \\right)}}{\\sqrt{\\left(- v_{s} t{\\left(\\lambda \\right)} + x{\\left(\\lambda \\right)}\\right)^{2} + y^{2}{\\left(\\lambda \\right)} + z^{2}{\\left(\\lambda \\right)}}} + \\frac{2 \\sigma \\left(1 - \\tanh^{2}{\\left(\\sigma \\left(R + \\sqrt{\\left(- v_{s} t{\\left(\\lambda \\right)} + x{\\left(\\lambda \\right)}\\right)^{2} + y^{2}{\\left(\\lambda \\right)} + z^{2}{\\left(\\lambda \\right)}}\\right) \\right)}\\right) y{\\left(\\lambda \\right)}}{\\sqrt{\\left(- v_{s} t{\\left(\\lambda \\right)} + x{\\left(\\lambda \\right)}\\right)^{2} + y^{2}{\\left(\\lambda \\right)} + z^{2}{\\left(\\lambda \\right)}}}\\right) \\left(- \\tanh{\\left(\\sigma \\left(- R + \\sqrt{\\left(- v_{s} t{\\left(\\lambda \\right)} + x{\\left(\\lambda \\right)}\\right)^{2} + y^{2}{\\left(\\lambda \\right)} + z^{2}{\\left(\\lambda \\right)}}\\right) \\right)} + \\tanh{\\left(\\sigma \\left(R + \\sqrt{\\left(- v_{s} t{\\left(\\lambda \\right)} + x{\\left(\\lambda \\right)}\\right)^{2} + y^{2}{\\left(\\lambda \\right)} + z^{2}{\\left(\\lambda \\right)}}\\right) \\right)}\\right)}{16 c^{2} \\tanh^{3}{\\left(R \\sigma \\right)}} - \\frac{v_{s} \\left(- \\frac{\\sigma \\left(1 - \\tanh^{2}{\\left(\\sigma \\left(- R + \\sqrt{\\left(- v_{s} t{\\left(\\lambda \\right)} + x{\\left(\\lambda \\right)}\\right)^{2} + y^{2}{\\left(\\lambda \\right)} + z^{2}{\\left(\\lambda \\right)}}\\right) \\right)}\\right) y{\\left(\\lambda \\right)}}{\\sqrt{\\left(- v_{s} t{\\left(\\lambda \\right)} + x{\\left(\\lambda \\right)}\\right)^{2} + y^{2}{\\left(\\lambda \\right)} + z^{2}{\\left(\\lambda \\right)}}} + \\frac{\\sigma \\left(1 - \\tanh^{2}{\\left(\\sigma \\left(R + \\sqrt{\\left(- v_{s} t{\\left(\\lambda \\right)} + x{\\left(\\lambda \\right)}\\right)^{2} + y^{2}{\\left(\\lambda \\right)} + z^{2}{\\left(\\lambda \\right)}}\\right) \\right)}\\right) y{\\left(\\lambda \\right)}}{\\sqrt{\\left(- v_{s} t{\\left(\\lambda \\right)} + x{\\left(\\lambda \\right)}\\right)^{2} + y^{2}{\\left(\\lambda \\right)} + z^{2}{\\left(\\lambda \\right)}}}\\right) \\left(4 c^{2} \\tanh^{2}{\\left(R \\sigma \\right)} - v_{s}^{2} \\tanh^{2}{\\left(R \\sigma - \\sigma \\sqrt{v_{s}^{2} t^{2}{\\left(\\lambda \\right)} - 2 v_{s} t{\\left(\\lambda \\right)} x{\\left(\\lambda \\right)} + x^{2}{\\left(\\lambda \\right)} + y^{2}{\\left(\\lambda \\right)} + z^{2}{\\left(\\lambda \\right)}} \\right)} - 2 v_{s}^{2} \\tanh{\\left(R \\sigma - \\sigma \\sqrt{v_{s}^{2} t^{2}{\\left(\\lambda \\right)} - 2 v_{s} t{\\left(\\lambda \\right)} x{\\left(\\lambda \\right)} + x^{2}{\\left(\\lambda \\right)} + y^{2}{\\left(\\lambda \\right)} + z^{2}{\\left(\\lambda \\right)}} \\right)} \\tanh{\\left(R \\sigma + \\sigma \\sqrt{v_{s}^{2} t^{2}{\\left(\\lambda \\right)} - 2 v_{s} t{\\left(\\lambda \\right)} x{\\left(\\lambda \\right)} + x^{2}{\\left(\\lambda \\right)} + y^{2}{\\left(\\lambda \\right)} + z^{2}{\\left(\\lambda \\right)}} \\right)} - v_{s}^{2} \\tanh^{2}{\\left(R \\sigma + \\sigma \\sqrt{v_{s}^{2} t^{2}{\\left(\\lambda \\right)} - 2 v_{s} t{\\left(\\lambda \\right)} x{\\left(\\lambda \\right)} + x^{2}{\\left(\\lambda \\right)} + y^{2}{\\left(\\lambda \\right)} + z^{2}{\\left(\\lambda \\right)}} \\right)}\\right)}{16 c^{2} \\tanh^{3}{\\left(R \\sigma \\right)}} & - \\frac{v_{s} \\left(- v_{s} \\tanh{\\left(R \\sigma - \\sigma \\sqrt{v_{s}^{2} t^{2}{\\left(\\lambda \\right)} - 2 v_{s} t{\\left(\\lambda \\right)} x{\\left(\\lambda \\right)} + x^{2}{\\left(\\lambda \\right)} + y^{2}{\\left(\\lambda \\right)} + z^{2}{\\left(\\lambda \\right)}} \\right)} - v_{s} \\tanh{\\left(R \\sigma + \\sigma \\sqrt{v_{s}^{2} t^{2}{\\left(\\lambda \\right)} - 2 v_{s} t{\\left(\\lambda \\right)} x{\\left(\\lambda \\right)} + x^{2}{\\left(\\lambda \\right)} + y^{2}{\\left(\\lambda \\right)} + z^{2}{\\left(\\lambda \\right)}} \\right)}\\right) \\left(- \\frac{\\sigma \\left(1 - \\tanh^{2}{\\left(\\sigma \\left(- R + \\sqrt{\\left(- v_{s} t{\\left(\\lambda \\right)} + x{\\left(\\lambda \\right)}\\right)^{2} + y^{2}{\\left(\\lambda \\right)} + z^{2}{\\left(\\lambda \\right)}}\\right) \\right)}\\right) y{\\left(\\lambda \\right)}}{\\sqrt{\\left(- v_{s} t{\\left(\\lambda \\right)} + x{\\left(\\lambda \\right)}\\right)^{2} + y^{2}{\\left(\\lambda \\right)} + z^{2}{\\left(\\lambda \\right)}}} + \\frac{\\sigma \\left(1 - \\tanh^{2}{\\left(\\sigma \\left(R + \\sqrt{\\left(- v_{s} t{\\left(\\lambda \\right)} + x{\\left(\\lambda \\right)}\\right)^{2} + y^{2}{\\left(\\lambda \\right)} + z^{2}{\\left(\\lambda \\right)}}\\right) \\right)}\\right) y{\\left(\\lambda \\right)}}{\\sqrt{\\left(- v_{s} t{\\left(\\lambda \\right)} + x{\\left(\\lambda \\right)}\\right)^{2} + y^{2}{\\left(\\lambda \\right)} + z^{2}{\\left(\\lambda \\right)}}}\\right)}{8 c^{2} \\tanh^{2}{\\left(R \\sigma \\right)}} & 0 & 0\\\\\\frac{v_{s}^{2} \\left(- v_{s} \\tanh{\\left(R \\sigma - \\sigma \\sqrt{v_{s}^{2} t^{2}{\\left(\\lambda \\right)} - 2 v_{s} t{\\left(\\lambda \\right)} x{\\left(\\lambda \\right)} + x^{2}{\\left(\\lambda \\right)} + y^{2}{\\left(\\lambda \\right)} + z^{2}{\\left(\\lambda \\right)}} \\right)} - v_{s} \\tanh{\\left(R \\sigma + \\sigma \\sqrt{v_{s}^{2} t^{2}{\\left(\\lambda \\right)} - 2 v_{s} t{\\left(\\lambda \\right)} x{\\left(\\lambda \\right)} + x^{2}{\\left(\\lambda \\right)} + y^{2}{\\left(\\lambda \\right)} + z^{2}{\\left(\\lambda \\right)}} \\right)}\\right) \\left(- \\frac{2 \\sigma \\left(1 - \\tanh^{2}{\\left(\\sigma \\left(- R + \\sqrt{\\left(- v_{s} t{\\left(\\lambda \\right)} + x{\\left(\\lambda \\right)}\\right)^{2} + y^{2}{\\left(\\lambda \\right)} + z^{2}{\\left(\\lambda \\right)}}\\right) \\right)}\\right) z{\\left(\\lambda \\right)}}{\\sqrt{\\left(- v_{s} t{\\left(\\lambda \\right)} + x{\\left(\\lambda \\right)}\\right)^{2} + y^{2}{\\left(\\lambda \\right)} + z^{2}{\\left(\\lambda \\right)}}} + \\frac{2 \\sigma \\left(1 - \\tanh^{2}{\\left(\\sigma \\left(R + \\sqrt{\\left(- v_{s} t{\\left(\\lambda \\right)} + x{\\left(\\lambda \\right)}\\right)^{2} + y^{2}{\\left(\\lambda \\right)} + z^{2}{\\left(\\lambda \\right)}}\\right) \\right)}\\right) z{\\left(\\lambda \\right)}}{\\sqrt{\\left(- v_{s} t{\\left(\\lambda \\right)} + x{\\left(\\lambda \\right)}\\right)^{2} + y^{2}{\\left(\\lambda \\right)} + z^{2}{\\left(\\lambda \\right)}}}\\right) \\left(- \\tanh{\\left(\\sigma \\left(- R + \\sqrt{\\left(- v_{s} t{\\left(\\lambda \\right)} + x{\\left(\\lambda \\right)}\\right)^{2} + y^{2}{\\left(\\lambda \\right)} + z^{2}{\\left(\\lambda \\right)}}\\right) \\right)} + \\tanh{\\left(\\sigma \\left(R + \\sqrt{\\left(- v_{s} t{\\left(\\lambda \\right)} + x{\\left(\\lambda \\right)}\\right)^{2} + y^{2}{\\left(\\lambda \\right)} + z^{2}{\\left(\\lambda \\right)}}\\right) \\right)}\\right)}{16 c^{2} \\tanh^{3}{\\left(R \\sigma \\right)}} - \\frac{v_{s} \\left(- \\frac{\\sigma \\left(1 - \\tanh^{2}{\\left(\\sigma \\left(- R + \\sqrt{\\left(- v_{s} t{\\left(\\lambda \\right)} + x{\\left(\\lambda \\right)}\\right)^{2} + y^{2}{\\left(\\lambda \\right)} + z^{2}{\\left(\\lambda \\right)}}\\right) \\right)}\\right) z{\\left(\\lambda \\right)}}{\\sqrt{\\left(- v_{s} t{\\left(\\lambda \\right)} + x{\\left(\\lambda \\right)}\\right)^{2} + y^{2}{\\left(\\lambda \\right)} + z^{2}{\\left(\\lambda \\right)}}} + \\frac{\\sigma \\left(1 - \\tanh^{2}{\\left(\\sigma \\left(R + \\sqrt{\\left(- v_{s} t{\\left(\\lambda \\right)} + x{\\left(\\lambda \\right)}\\right)^{2} + y^{2}{\\left(\\lambda \\right)} + z^{2}{\\left(\\lambda \\right)}}\\right) \\right)}\\right) z{\\left(\\lambda \\right)}}{\\sqrt{\\left(- v_{s} t{\\left(\\lambda \\right)} + x{\\left(\\lambda \\right)}\\right)^{2} + y^{2}{\\left(\\lambda \\right)} + z^{2}{\\left(\\lambda \\right)}}}\\right) \\left(4 c^{2} \\tanh^{2}{\\left(R \\sigma \\right)} - v_{s}^{2} \\tanh^{2}{\\left(R \\sigma - \\sigma \\sqrt{v_{s}^{2} t^{2}{\\left(\\lambda \\right)} - 2 v_{s} t{\\left(\\lambda \\right)} x{\\left(\\lambda \\right)} + x^{2}{\\left(\\lambda \\right)} + y^{2}{\\left(\\lambda \\right)} + z^{2}{\\left(\\lambda \\right)}} \\right)} - 2 v_{s}^{2} \\tanh{\\left(R \\sigma - \\sigma \\sqrt{v_{s}^{2} t^{2}{\\left(\\lambda \\right)} - 2 v_{s} t{\\left(\\lambda \\right)} x{\\left(\\lambda \\right)} + x^{2}{\\left(\\lambda \\right)} + y^{2}{\\left(\\lambda \\right)} + z^{2}{\\left(\\lambda \\right)}} \\right)} \\tanh{\\left(R \\sigma + \\sigma \\sqrt{v_{s}^{2} t^{2}{\\left(\\lambda \\right)} - 2 v_{s} t{\\left(\\lambda \\right)} x{\\left(\\lambda \\right)} + x^{2}{\\left(\\lambda \\right)} + y^{2}{\\left(\\lambda \\right)} + z^{2}{\\left(\\lambda \\right)}} \\right)} - v_{s}^{2} \\tanh^{2}{\\left(R \\sigma + \\sigma \\sqrt{v_{s}^{2} t^{2}{\\left(\\lambda \\right)} - 2 v_{s} t{\\left(\\lambda \\right)} x{\\left(\\lambda \\right)} + x^{2}{\\left(\\lambda \\right)} + y^{2}{\\left(\\lambda \\right)} + z^{2}{\\left(\\lambda \\right)}} \\right)}\\right)}{16 c^{2} \\tanh^{3}{\\left(R \\sigma \\right)}} & - \\frac{v_{s} \\left(- v_{s} \\tanh{\\left(R \\sigma - \\sigma \\sqrt{v_{s}^{2} t^{2}{\\left(\\lambda \\right)} - 2 v_{s} t{\\left(\\lambda \\right)} x{\\left(\\lambda \\right)} + x^{2}{\\left(\\lambda \\right)} + y^{2}{\\left(\\lambda \\right)} + z^{2}{\\left(\\lambda \\right)}} \\right)} - v_{s} \\tanh{\\left(R \\sigma + \\sigma \\sqrt{v_{s}^{2} t^{2}{\\left(\\lambda \\right)} - 2 v_{s} t{\\left(\\lambda \\right)} x{\\left(\\lambda \\right)} + x^{2}{\\left(\\lambda \\right)} + y^{2}{\\left(\\lambda \\right)} + z^{2}{\\left(\\lambda \\right)}} \\right)}\\right) \\left(- \\frac{\\sigma \\left(1 - \\tanh^{2}{\\left(\\sigma \\left(- R + \\sqrt{\\left(- v_{s} t{\\left(\\lambda \\right)} + x{\\left(\\lambda \\right)}\\right)^{2} + y^{2}{\\left(\\lambda \\right)} + z^{2}{\\left(\\lambda \\right)}}\\right) \\right)}\\right) z{\\left(\\lambda \\right)}}{\\sqrt{\\left(- v_{s} t{\\left(\\lambda \\right)} + x{\\left(\\lambda \\right)}\\right)^{2} + y^{2}{\\left(\\lambda \\right)} + z^{2}{\\left(\\lambda \\right)}}} + \\frac{\\sigma \\left(1 - \\tanh^{2}{\\left(\\sigma \\left(R + \\sqrt{\\left(- v_{s} t{\\left(\\lambda \\right)} + x{\\left(\\lambda \\right)}\\right)^{2} + y^{2}{\\left(\\lambda \\right)} + z^{2}{\\left(\\lambda \\right)}}\\right) \\right)}\\right) z{\\left(\\lambda \\right)}}{\\sqrt{\\left(- v_{s} t{\\left(\\lambda \\right)} + x{\\left(\\lambda \\right)}\\right)^{2} + y^{2}{\\left(\\lambda \\right)} + z^{2}{\\left(\\lambda \\right)}}}\\right)}{8 c^{2} \\tanh^{2}{\\left(R \\sigma \\right)}} & 0 & 0\\end{matrix}\\right]$"
      ],
      "text/plain": [
       "Matrix([\n",
       "[v_s**2*(-v_s*tanh(R*sigma - sigma*sqrt(v_s**2*t(lambda)**2 - 2*v_s*t(lambda)*x(lambda) + x(lambda)**2 + y(lambda)**2 + z(lambda)**2)) - v_s*tanh(R*sigma + sigma*sqrt(v_s**2*t(lambda)**2 - 2*v_s*t(lambda)*x(lambda) + x(lambda)**2 + y(lambda)**2 + z(lambda)**2)))*(2*sigma*v_s*(1 - tanh(sigma*(-R + sqrt((-v_s*t(lambda) + x(lambda))**2 + y(lambda)**2 + z(lambda)**2)))**2)*(-v_s*t(lambda) + x(lambda))/sqrt((-v_s*t(lambda) + x(lambda))**2 + y(lambda)**2 + z(lambda)**2) - 2*sigma*v_s*(1 - tanh(sigma*(R + sqrt((-v_s*t(lambda) + x(lambda))**2 + y(lambda)**2 + z(lambda)**2)))**2)*(-v_s*t(lambda) + x(lambda))/sqrt((-v_s*t(lambda) + x(lambda))**2 + y(lambda)**2 + z(lambda)**2))*(-tanh(sigma*(-R + sqrt((-v_s*t(lambda) + x(lambda))**2 + y(lambda)**2 + z(lambda)**2))) + tanh(sigma*(R + sqrt((-v_s*t(lambda) + x(lambda))**2 + y(lambda)**2 + z(lambda)**2))))/(16*c**2*tanh(R*sigma)**3) + (-v_s**2*(-2*sigma*(1 - tanh(sigma*(-R + sqrt((-v_s*t(lambda) + x(lambda))**2 + y(lambda)**2 + z(lambda)**2)))**2)*(-v_s*t(lambda) + x(lambda))/sqrt((-v_s*t(lambda) + x(lambda))**2 + y(lambda)**2 + z(lambda)**2) + 2*sigma*(1 - tanh(sigma*(R + sqrt((-v_s*t(lambda) + x(lambda))**2 + y(lambda)**2 + z(lambda)**2)))**2)*(-v_s*t(lambda) + x(lambda))/sqrt((-v_s*t(lambda) + x(lambda))**2 + y(lambda)**2 + z(lambda)**2))*(-tanh(sigma*(-R + sqrt((-v_s*t(lambda) + x(lambda))**2 + y(lambda)**2 + z(lambda)**2))) + tanh(sigma*(R + sqrt((-v_s*t(lambda) + x(lambda))**2 + y(lambda)**2 + z(lambda)**2))))/(4*tanh(R*sigma)**2) - v_s*(sigma*v_s*(1 - tanh(sigma*(-R + sqrt((-v_s*t(lambda) + x(lambda))**2 + y(lambda)**2 + z(lambda)**2)))**2)*(-v_s*t(lambda) + x(lambda))/sqrt((-v_s*t(lambda) + x(lambda))**2 + y(lambda)**2 + z(lambda)**2) - sigma*v_s*(1 - tanh(sigma*(R + sqrt((-v_s*t(lambda) + x(lambda))**2 + y(lambda)**2 + z(lambda)**2)))**2)*(-v_s*t(lambda) + x(lambda))/sqrt((-v_s*t(lambda) + x(lambda))**2 + y(lambda)**2 + z(lambda)**2))/tanh(R*sigma))*(4*c**2*tanh(R*sigma)**2 - v_s**2*tanh(R*sigma - sigma*sqrt(v_s**2*t(lambda)**2 - 2*v_s*t(lambda)*x(lambda) + x(lambda)**2 + y(lambda)**2 + z(lambda)**2))**2 - 2*v_s**2*tanh(R*sigma - sigma*sqrt(v_s**2*t(lambda)**2 - 2*v_s*t(lambda)*x(lambda) + x(lambda)**2 + y(lambda)**2 + z(lambda)**2))*tanh(R*sigma + sigma*sqrt(v_s**2*t(lambda)**2 - 2*v_s*t(lambda)*x(lambda) + x(lambda)**2 + y(lambda)**2 + z(lambda)**2)) - v_s**2*tanh(R*sigma + sigma*sqrt(v_s**2*t(lambda)**2 - 2*v_s*t(lambda)*x(lambda) + x(lambda)**2 + y(lambda)**2 + z(lambda)**2))**2)/(8*c**2*tanh(R*sigma)**2), v_s**2*(-v_s*tanh(R*sigma - sigma*sqrt(v_s**2*t(lambda)**2 - 2*v_s*t(lambda)*x(lambda) + x(lambda)**2 + y(lambda)**2 + z(lambda)**2)) - v_s*tanh(R*sigma + sigma*sqrt(v_s**2*t(lambda)**2 - 2*v_s*t(lambda)*x(lambda) + x(lambda)**2 + y(lambda)**2 + z(lambda)**2)))*(-2*sigma*(1 - tanh(sigma*(-R + sqrt((-v_s*t(lambda) + x(lambda))**2 + y(lambda)**2 + z(lambda)**2)))**2)*(-v_s*t(lambda) + x(lambda))/sqrt((-v_s*t(lambda) + x(lambda))**2 + y(lambda)**2 + z(lambda)**2) + 2*sigma*(1 - tanh(sigma*(R + sqrt((-v_s*t(lambda) + x(lambda))**2 + y(lambda)**2 + z(lambda)**2)))**2)*(-v_s*t(lambda) + x(lambda))/sqrt((-v_s*t(lambda) + x(lambda))**2 + y(lambda)**2 + z(lambda)**2))*(-tanh(sigma*(-R + sqrt((-v_s*t(lambda) + x(lambda))**2 + y(lambda)**2 + z(lambda)**2))) + tanh(sigma*(R + sqrt((-v_s*t(lambda) + x(lambda))**2 + y(lambda)**2 + z(lambda)**2))))/(16*c**2*tanh(R*sigma)**3), v_s**2*(-v_s*tanh(R*sigma - sigma*sqrt(v_s**2*t(lambda)**2 - 2*v_s*t(lambda)*x(lambda) + x(lambda)**2 + y(lambda)**2 + z(lambda)**2)) - v_s*tanh(R*sigma + sigma*sqrt(v_s**2*t(lambda)**2 - 2*v_s*t(lambda)*x(lambda) + x(lambda)**2 + y(lambda)**2 + z(lambda)**2)))*(-2*sigma*(1 - tanh(sigma*(-R + sqrt((-v_s*t(lambda) + x(lambda))**2 + y(lambda)**2 + z(lambda)**2)))**2)*y(lambda)/sqrt((-v_s*t(lambda) + x(lambda))**2 + y(lambda)**2 + z(lambda)**2) + 2*sigma*(1 - tanh(sigma*(R + sqrt((-v_s*t(lambda) + x(lambda))**2 + y(lambda)**2 + z(lambda)**2)))**2)*y(lambda)/sqrt((-v_s*t(lambda) + x(lambda))**2 + y(lambda)**2 + z(lambda)**2))*(-tanh(sigma*(-R + sqrt((-v_s*t(lambda) + x(lambda))**2 + y(lambda)**2 + z(lambda)**2))) + tanh(sigma*(R + sqrt((-v_s*t(lambda) + x(lambda))**2 + y(lambda)**2 + z(lambda)**2))))/(16*c**2*tanh(R*sigma)**3) - v_s*(-sigma*(1 - tanh(sigma*(-R + sqrt((-v_s*t(lambda) + x(lambda))**2 + y(lambda)**2 + z(lambda)**2)))**2)*y(lambda)/sqrt((-v_s*t(lambda) + x(lambda))**2 + y(lambda)**2 + z(lambda)**2) + sigma*(1 - tanh(sigma*(R + sqrt((-v_s*t(lambda) + x(lambda))**2 + y(lambda)**2 + z(lambda)**2)))**2)*y(lambda)/sqrt((-v_s*t(lambda) + x(lambda))**2 + y(lambda)**2 + z(lambda)**2))*(4*c**2*tanh(R*sigma)**2 - v_s**2*tanh(R*sigma - sigma*sqrt(v_s**2*t(lambda)**2 - 2*v_s*t(lambda)*x(lambda) + x(lambda)**2 + y(lambda)**2 + z(lambda)**2))**2 - 2*v_s**2*tanh(R*sigma - sigma*sqrt(v_s**2*t(lambda)**2 - 2*v_s*t(lambda)*x(lambda) + x(lambda)**2 + y(lambda)**2 + z(lambda)**2))*tanh(R*sigma + sigma*sqrt(v_s**2*t(lambda)**2 - 2*v_s*t(lambda)*x(lambda) + x(lambda)**2 + y(lambda)**2 + z(lambda)**2)) - v_s**2*tanh(R*sigma + sigma*sqrt(v_s**2*t(lambda)**2 - 2*v_s*t(lambda)*x(lambda) + x(lambda)**2 + y(lambda)**2 + z(lambda)**2))**2)/(16*c**2*tanh(R*sigma)**3), v_s**2*(-v_s*tanh(R*sigma - sigma*sqrt(v_s**2*t(lambda)**2 - 2*v_s*t(lambda)*x(lambda) + x(lambda)**2 + y(lambda)**2 + z(lambda)**2)) - v_s*tanh(R*sigma + sigma*sqrt(v_s**2*t(lambda)**2 - 2*v_s*t(lambda)*x(lambda) + x(lambda)**2 + y(lambda)**2 + z(lambda)**2)))*(-2*sigma*(1 - tanh(sigma*(-R + sqrt((-v_s*t(lambda) + x(lambda))**2 + y(lambda)**2 + z(lambda)**2)))**2)*z(lambda)/sqrt((-v_s*t(lambda) + x(lambda))**2 + y(lambda)**2 + z(lambda)**2) + 2*sigma*(1 - tanh(sigma*(R + sqrt((-v_s*t(lambda) + x(lambda))**2 + y(lambda)**2 + z(lambda)**2)))**2)*z(lambda)/sqrt((-v_s*t(lambda) + x(lambda))**2 + y(lambda)**2 + z(lambda)**2))*(-tanh(sigma*(-R + sqrt((-v_s*t(lambda) + x(lambda))**2 + y(lambda)**2 + z(lambda)**2))) + tanh(sigma*(R + sqrt((-v_s*t(lambda) + x(lambda))**2 + y(lambda)**2 + z(lambda)**2))))/(16*c**2*tanh(R*sigma)**3) - v_s*(-sigma*(1 - tanh(sigma*(-R + sqrt((-v_s*t(lambda) + x(lambda))**2 + y(lambda)**2 + z(lambda)**2)))**2)*z(lambda)/sqrt((-v_s*t(lambda) + x(lambda))**2 + y(lambda)**2 + z(lambda)**2) + sigma*(1 - tanh(sigma*(R + sqrt((-v_s*t(lambda) + x(lambda))**2 + y(lambda)**2 + z(lambda)**2)))**2)*z(lambda)/sqrt((-v_s*t(lambda) + x(lambda))**2 + y(lambda)**2 + z(lambda)**2))*(4*c**2*tanh(R*sigma)**2 - v_s**2*tanh(R*sigma - sigma*sqrt(v_s**2*t(lambda)**2 - 2*v_s*t(lambda)*x(lambda) + x(lambda)**2 + y(lambda)**2 + z(lambda)**2))**2 - 2*v_s**2*tanh(R*sigma - sigma*sqrt(v_s**2*t(lambda)**2 - 2*v_s*t(lambda)*x(lambda) + x(lambda)**2 + y(lambda)**2 + z(lambda)**2))*tanh(R*sigma + sigma*sqrt(v_s**2*t(lambda)**2 - 2*v_s*t(lambda)*x(lambda) + x(lambda)**2 + y(lambda)**2 + z(lambda)**2)) - v_s**2*tanh(R*sigma + sigma*sqrt(v_s**2*t(lambda)**2 - 2*v_s*t(lambda)*x(lambda) + x(lambda)**2 + y(lambda)**2 + z(lambda)**2))**2)/(16*c**2*tanh(R*sigma)**3)],\n",
       "[                                                                                                                                                                                                                                                                                                                                                                                                                                                                                                                                                                                                                                                                                                                                                                                                                                                                                                                                                                                                                                                                                                                                                                                                                                                                                                                                                                                                                                                                                                                                                                                                                                                                                        v_s**2*(-v_s*tanh(R*sigma - sigma*sqrt(v_s**2*t(lambda)**2 - 2*v_s*t(lambda)*x(lambda) + x(lambda)**2 + y(lambda)**2 + z(lambda)**2)) - v_s*tanh(R*sigma + sigma*sqrt(v_s**2*t(lambda)**2 - 2*v_s*t(lambda)*x(lambda) + x(lambda)**2 + y(lambda)**2 + z(lambda)**2)))*(-2*sigma*(1 - tanh(sigma*(-R + sqrt((-v_s*t(lambda) + x(lambda))**2 + y(lambda)**2 + z(lambda)**2)))**2)*(-v_s*t(lambda) + x(lambda))/sqrt((-v_s*t(lambda) + x(lambda))**2 + y(lambda)**2 + z(lambda)**2) + 2*sigma*(1 - tanh(sigma*(R + sqrt((-v_s*t(lambda) + x(lambda))**2 + y(lambda)**2 + z(lambda)**2)))**2)*(-v_s*t(lambda) + x(lambda))/sqrt((-v_s*t(lambda) + x(lambda))**2 + y(lambda)**2 + z(lambda)**2))*(-tanh(sigma*(-R + sqrt((-v_s*t(lambda) + x(lambda))**2 + y(lambda)**2 + z(lambda)**2))) + tanh(sigma*(R + sqrt((-v_s*t(lambda) + x(lambda))**2 + y(lambda)**2 + z(lambda)**2))))/(16*c**2*tanh(R*sigma)**3),                                                                                                                                                                                          -v_s*(-v_s*tanh(R*sigma - sigma*sqrt(v_s**2*t(lambda)**2 - 2*v_s*t(lambda)*x(lambda) + x(lambda)**2 + y(lambda)**2 + z(lambda)**2)) - v_s*tanh(R*sigma + sigma*sqrt(v_s**2*t(lambda)**2 - 2*v_s*t(lambda)*x(lambda) + x(lambda)**2 + y(lambda)**2 + z(lambda)**2)))*(-sigma*(1 - tanh(sigma*(-R + sqrt((-v_s*t(lambda) + x(lambda))**2 + y(lambda)**2 + z(lambda)**2)))**2)*(-v_s*t(lambda) + x(lambda))/sqrt((-v_s*t(lambda) + x(lambda))**2 + y(lambda)**2 + z(lambda)**2) + sigma*(1 - tanh(sigma*(R + sqrt((-v_s*t(lambda) + x(lambda))**2 + y(lambda)**2 + z(lambda)**2)))**2)*(-v_s*t(lambda) + x(lambda))/sqrt((-v_s*t(lambda) + x(lambda))**2 + y(lambda)**2 + z(lambda)**2))/(4*c**2*tanh(R*sigma)**2),                                                                                                                                                                                                                                                                                                                                                                                                                                                                                                                                                                                                                                                                                                                                                                                                                                                                                                                                                                                                                                                                                                                                                                        -v_s*(-v_s*tanh(R*sigma - sigma*sqrt(v_s**2*t(lambda)**2 - 2*v_s*t(lambda)*x(lambda) + x(lambda)**2 + y(lambda)**2 + z(lambda)**2)) - v_s*tanh(R*sigma + sigma*sqrt(v_s**2*t(lambda)**2 - 2*v_s*t(lambda)*x(lambda) + x(lambda)**2 + y(lambda)**2 + z(lambda)**2)))*(-sigma*(1 - tanh(sigma*(-R + sqrt((-v_s*t(lambda) + x(lambda))**2 + y(lambda)**2 + z(lambda)**2)))**2)*y(lambda)/sqrt((-v_s*t(lambda) + x(lambda))**2 + y(lambda)**2 + z(lambda)**2) + sigma*(1 - tanh(sigma*(R + sqrt((-v_s*t(lambda) + x(lambda))**2 + y(lambda)**2 + z(lambda)**2)))**2)*y(lambda)/sqrt((-v_s*t(lambda) + x(lambda))**2 + y(lambda)**2 + z(lambda)**2))/(8*c**2*tanh(R*sigma)**2),                                                                                                                                                                                                                                                                                                                                                                                                                                                                                                                                                                                                                                                                                                                                                                                                                                                                                                                                                                                                                                                                                                                                                                        -v_s*(-v_s*tanh(R*sigma - sigma*sqrt(v_s**2*t(lambda)**2 - 2*v_s*t(lambda)*x(lambda) + x(lambda)**2 + y(lambda)**2 + z(lambda)**2)) - v_s*tanh(R*sigma + sigma*sqrt(v_s**2*t(lambda)**2 - 2*v_s*t(lambda)*x(lambda) + x(lambda)**2 + y(lambda)**2 + z(lambda)**2)))*(-sigma*(1 - tanh(sigma*(-R + sqrt((-v_s*t(lambda) + x(lambda))**2 + y(lambda)**2 + z(lambda)**2)))**2)*z(lambda)/sqrt((-v_s*t(lambda) + x(lambda))**2 + y(lambda)**2 + z(lambda)**2) + sigma*(1 - tanh(sigma*(R + sqrt((-v_s*t(lambda) + x(lambda))**2 + y(lambda)**2 + z(lambda)**2)))**2)*z(lambda)/sqrt((-v_s*t(lambda) + x(lambda))**2 + y(lambda)**2 + z(lambda)**2))/(8*c**2*tanh(R*sigma)**2)],\n",
       "[                                                                                                                                                                                                                                                                                                                                                                                                                                                                                                                                                                                                                                                                                                                                                v_s**2*(-v_s*tanh(R*sigma - sigma*sqrt(v_s**2*t(lambda)**2 - 2*v_s*t(lambda)*x(lambda) + x(lambda)**2 + y(lambda)**2 + z(lambda)**2)) - v_s*tanh(R*sigma + sigma*sqrt(v_s**2*t(lambda)**2 - 2*v_s*t(lambda)*x(lambda) + x(lambda)**2 + y(lambda)**2 + z(lambda)**2)))*(-2*sigma*(1 - tanh(sigma*(-R + sqrt((-v_s*t(lambda) + x(lambda))**2 + y(lambda)**2 + z(lambda)**2)))**2)*y(lambda)/sqrt((-v_s*t(lambda) + x(lambda))**2 + y(lambda)**2 + z(lambda)**2) + 2*sigma*(1 - tanh(sigma*(R + sqrt((-v_s*t(lambda) + x(lambda))**2 + y(lambda)**2 + z(lambda)**2)))**2)*y(lambda)/sqrt((-v_s*t(lambda) + x(lambda))**2 + y(lambda)**2 + z(lambda)**2))*(-tanh(sigma*(-R + sqrt((-v_s*t(lambda) + x(lambda))**2 + y(lambda)**2 + z(lambda)**2))) + tanh(sigma*(R + sqrt((-v_s*t(lambda) + x(lambda))**2 + y(lambda)**2 + z(lambda)**2))))/(16*c**2*tanh(R*sigma)**3) - v_s*(-sigma*(1 - tanh(sigma*(-R + sqrt((-v_s*t(lambda) + x(lambda))**2 + y(lambda)**2 + z(lambda)**2)))**2)*y(lambda)/sqrt((-v_s*t(lambda) + x(lambda))**2 + y(lambda)**2 + z(lambda)**2) + sigma*(1 - tanh(sigma*(R + sqrt((-v_s*t(lambda) + x(lambda))**2 + y(lambda)**2 + z(lambda)**2)))**2)*y(lambda)/sqrt((-v_s*t(lambda) + x(lambda))**2 + y(lambda)**2 + z(lambda)**2))*(4*c**2*tanh(R*sigma)**2 - v_s**2*tanh(R*sigma - sigma*sqrt(v_s**2*t(lambda)**2 - 2*v_s*t(lambda)*x(lambda) + x(lambda)**2 + y(lambda)**2 + z(lambda)**2))**2 - 2*v_s**2*tanh(R*sigma - sigma*sqrt(v_s**2*t(lambda)**2 - 2*v_s*t(lambda)*x(lambda) + x(lambda)**2 + y(lambda)**2 + z(lambda)**2))*tanh(R*sigma + sigma*sqrt(v_s**2*t(lambda)**2 - 2*v_s*t(lambda)*x(lambda) + x(lambda)**2 + y(lambda)**2 + z(lambda)**2)) - v_s**2*tanh(R*sigma + sigma*sqrt(v_s**2*t(lambda)**2 - 2*v_s*t(lambda)*x(lambda) + x(lambda)**2 + y(lambda)**2 + z(lambda)**2))**2)/(16*c**2*tanh(R*sigma)**3),                                                                                                                                                                                                                                -v_s*(-v_s*tanh(R*sigma - sigma*sqrt(v_s**2*t(lambda)**2 - 2*v_s*t(lambda)*x(lambda) + x(lambda)**2 + y(lambda)**2 + z(lambda)**2)) - v_s*tanh(R*sigma + sigma*sqrt(v_s**2*t(lambda)**2 - 2*v_s*t(lambda)*x(lambda) + x(lambda)**2 + y(lambda)**2 + z(lambda)**2)))*(-sigma*(1 - tanh(sigma*(-R + sqrt((-v_s*t(lambda) + x(lambda))**2 + y(lambda)**2 + z(lambda)**2)))**2)*y(lambda)/sqrt((-v_s*t(lambda) + x(lambda))**2 + y(lambda)**2 + z(lambda)**2) + sigma*(1 - tanh(sigma*(R + sqrt((-v_s*t(lambda) + x(lambda))**2 + y(lambda)**2 + z(lambda)**2)))**2)*y(lambda)/sqrt((-v_s*t(lambda) + x(lambda))**2 + y(lambda)**2 + z(lambda)**2))/(8*c**2*tanh(R*sigma)**2),                                                                                                                                                                                                                                                                                                                                                                                                                                                                                                                                                                                                                                                                                                                                                                                                                                                                                                                                                                                                                                                                                                                                                                                                                                                                                                                                                                                                                                                                                                                                                                                                                                                                                                                                                                                                                                                0,                                                                                                                                                                                                                                                                                                                                                                                                                                                                                                                                                                                                                                                                                                                                                                                                                                                                                                                                                                                                                                                                                                                                                                                                                                                                                                                                                                                                                                                                                                                                                                                                                                                                                                                                                                                                                                                0],\n",
       "[                                                                                                                                                                                                                                                                                                                                                                                                                                                                                                                                                                                                                                                                                                                                                v_s**2*(-v_s*tanh(R*sigma - sigma*sqrt(v_s**2*t(lambda)**2 - 2*v_s*t(lambda)*x(lambda) + x(lambda)**2 + y(lambda)**2 + z(lambda)**2)) - v_s*tanh(R*sigma + sigma*sqrt(v_s**2*t(lambda)**2 - 2*v_s*t(lambda)*x(lambda) + x(lambda)**2 + y(lambda)**2 + z(lambda)**2)))*(-2*sigma*(1 - tanh(sigma*(-R + sqrt((-v_s*t(lambda) + x(lambda))**2 + y(lambda)**2 + z(lambda)**2)))**2)*z(lambda)/sqrt((-v_s*t(lambda) + x(lambda))**2 + y(lambda)**2 + z(lambda)**2) + 2*sigma*(1 - tanh(sigma*(R + sqrt((-v_s*t(lambda) + x(lambda))**2 + y(lambda)**2 + z(lambda)**2)))**2)*z(lambda)/sqrt((-v_s*t(lambda) + x(lambda))**2 + y(lambda)**2 + z(lambda)**2))*(-tanh(sigma*(-R + sqrt((-v_s*t(lambda) + x(lambda))**2 + y(lambda)**2 + z(lambda)**2))) + tanh(sigma*(R + sqrt((-v_s*t(lambda) + x(lambda))**2 + y(lambda)**2 + z(lambda)**2))))/(16*c**2*tanh(R*sigma)**3) - v_s*(-sigma*(1 - tanh(sigma*(-R + sqrt((-v_s*t(lambda) + x(lambda))**2 + y(lambda)**2 + z(lambda)**2)))**2)*z(lambda)/sqrt((-v_s*t(lambda) + x(lambda))**2 + y(lambda)**2 + z(lambda)**2) + sigma*(1 - tanh(sigma*(R + sqrt((-v_s*t(lambda) + x(lambda))**2 + y(lambda)**2 + z(lambda)**2)))**2)*z(lambda)/sqrt((-v_s*t(lambda) + x(lambda))**2 + y(lambda)**2 + z(lambda)**2))*(4*c**2*tanh(R*sigma)**2 - v_s**2*tanh(R*sigma - sigma*sqrt(v_s**2*t(lambda)**2 - 2*v_s*t(lambda)*x(lambda) + x(lambda)**2 + y(lambda)**2 + z(lambda)**2))**2 - 2*v_s**2*tanh(R*sigma - sigma*sqrt(v_s**2*t(lambda)**2 - 2*v_s*t(lambda)*x(lambda) + x(lambda)**2 + y(lambda)**2 + z(lambda)**2))*tanh(R*sigma + sigma*sqrt(v_s**2*t(lambda)**2 - 2*v_s*t(lambda)*x(lambda) + x(lambda)**2 + y(lambda)**2 + z(lambda)**2)) - v_s**2*tanh(R*sigma + sigma*sqrt(v_s**2*t(lambda)**2 - 2*v_s*t(lambda)*x(lambda) + x(lambda)**2 + y(lambda)**2 + z(lambda)**2))**2)/(16*c**2*tanh(R*sigma)**3),                                                                                                                                                                                                                                -v_s*(-v_s*tanh(R*sigma - sigma*sqrt(v_s**2*t(lambda)**2 - 2*v_s*t(lambda)*x(lambda) + x(lambda)**2 + y(lambda)**2 + z(lambda)**2)) - v_s*tanh(R*sigma + sigma*sqrt(v_s**2*t(lambda)**2 - 2*v_s*t(lambda)*x(lambda) + x(lambda)**2 + y(lambda)**2 + z(lambda)**2)))*(-sigma*(1 - tanh(sigma*(-R + sqrt((-v_s*t(lambda) + x(lambda))**2 + y(lambda)**2 + z(lambda)**2)))**2)*z(lambda)/sqrt((-v_s*t(lambda) + x(lambda))**2 + y(lambda)**2 + z(lambda)**2) + sigma*(1 - tanh(sigma*(R + sqrt((-v_s*t(lambda) + x(lambda))**2 + y(lambda)**2 + z(lambda)**2)))**2)*z(lambda)/sqrt((-v_s*t(lambda) + x(lambda))**2 + y(lambda)**2 + z(lambda)**2))/(8*c**2*tanh(R*sigma)**2),                                                                                                                                                                                                                                                                                                                                                                                                                                                                                                                                                                                                                                                                                                                                                                                                                                                                                                                                                                                                                                                                                                                                                                                                                                                                                                                                                                                                                                                                                                                                                                                                                                                                                                                                                                                                                                                0,                                                                                                                                                                                                                                                                                                                                                                                                                                                                                                                                                                                                                                                                                                                                                                                                                                                                                                                                                                                                                                                                                                                                                                                                                                                                                                                                                                                                                                                                                                                                                                                                                                                                                                                                                                                                                                                0]])"
      ]
     },
     "metadata": {},
     "output_type": "display_data"
    },
    {
     "data": {
      "text/latex": [
       "$\\displaystyle \\left[\\begin{matrix}- \\frac{v_{s}^{2} \\left(- \\frac{2 \\sigma \\left(1 - \\tanh^{2}{\\left(\\sigma \\left(- R + \\sqrt{\\left(- v_{s} t{\\left(\\lambda \\right)} + x{\\left(\\lambda \\right)}\\right)^{2} + y^{2}{\\left(\\lambda \\right)} + z^{2}{\\left(\\lambda \\right)}}\\right) \\right)}\\right) y{\\left(\\lambda \\right)}}{\\sqrt{\\left(- v_{s} t{\\left(\\lambda \\right)} + x{\\left(\\lambda \\right)}\\right)^{2} + y^{2}{\\left(\\lambda \\right)} + z^{2}{\\left(\\lambda \\right)}}} + \\frac{2 \\sigma \\left(1 - \\tanh^{2}{\\left(\\sigma \\left(R + \\sqrt{\\left(- v_{s} t{\\left(\\lambda \\right)} + x{\\left(\\lambda \\right)}\\right)^{2} + y^{2}{\\left(\\lambda \\right)} + z^{2}{\\left(\\lambda \\right)}}\\right) \\right)}\\right) y{\\left(\\lambda \\right)}}{\\sqrt{\\left(- v_{s} t{\\left(\\lambda \\right)} + x{\\left(\\lambda \\right)}\\right)^{2} + y^{2}{\\left(\\lambda \\right)} + z^{2}{\\left(\\lambda \\right)}}}\\right) \\left(- \\tanh{\\left(\\sigma \\left(- R + \\sqrt{\\left(- v_{s} t{\\left(\\lambda \\right)} + x{\\left(\\lambda \\right)}\\right)^{2} + y^{2}{\\left(\\lambda \\right)} + z^{2}{\\left(\\lambda \\right)}}\\right) \\right)} + \\tanh{\\left(\\sigma \\left(R + \\sqrt{\\left(- v_{s} t{\\left(\\lambda \\right)} + x{\\left(\\lambda \\right)}\\right)^{2} + y^{2}{\\left(\\lambda \\right)} + z^{2}{\\left(\\lambda \\right)}}\\right) \\right)}\\right)}{8 \\tanh^{2}{\\left(R \\sigma \\right)}} & \\frac{v_{s} \\left(- \\frac{\\sigma \\left(1 - \\tanh^{2}{\\left(\\sigma \\left(- R + \\sqrt{\\left(- v_{s} t{\\left(\\lambda \\right)} + x{\\left(\\lambda \\right)}\\right)^{2} + y^{2}{\\left(\\lambda \\right)} + z^{2}{\\left(\\lambda \\right)}}\\right) \\right)}\\right) y{\\left(\\lambda \\right)}}{\\sqrt{\\left(- v_{s} t{\\left(\\lambda \\right)} + x{\\left(\\lambda \\right)}\\right)^{2} + y^{2}{\\left(\\lambda \\right)} + z^{2}{\\left(\\lambda \\right)}}} + \\frac{\\sigma \\left(1 - \\tanh^{2}{\\left(\\sigma \\left(R + \\sqrt{\\left(- v_{s} t{\\left(\\lambda \\right)} + x{\\left(\\lambda \\right)}\\right)^{2} + y^{2}{\\left(\\lambda \\right)} + z^{2}{\\left(\\lambda \\right)}}\\right) \\right)}\\right) y{\\left(\\lambda \\right)}}{\\sqrt{\\left(- v_{s} t{\\left(\\lambda \\right)} + x{\\left(\\lambda \\right)}\\right)^{2} + y^{2}{\\left(\\lambda \\right)} + z^{2}{\\left(\\lambda \\right)}}}\\right)}{4 \\tanh{\\left(R \\sigma \\right)}} & 0 & 0\\\\\\frac{v_{s} \\left(- \\frac{\\sigma \\left(1 - \\tanh^{2}{\\left(\\sigma \\left(- R + \\sqrt{\\left(- v_{s} t{\\left(\\lambda \\right)} + x{\\left(\\lambda \\right)}\\right)^{2} + y^{2}{\\left(\\lambda \\right)} + z^{2}{\\left(\\lambda \\right)}}\\right) \\right)}\\right) y{\\left(\\lambda \\right)}}{\\sqrt{\\left(- v_{s} t{\\left(\\lambda \\right)} + x{\\left(\\lambda \\right)}\\right)^{2} + y^{2}{\\left(\\lambda \\right)} + z^{2}{\\left(\\lambda \\right)}}} + \\frac{\\sigma \\left(1 - \\tanh^{2}{\\left(\\sigma \\left(R + \\sqrt{\\left(- v_{s} t{\\left(\\lambda \\right)} + x{\\left(\\lambda \\right)}\\right)^{2} + y^{2}{\\left(\\lambda \\right)} + z^{2}{\\left(\\lambda \\right)}}\\right) \\right)}\\right) y{\\left(\\lambda \\right)}}{\\sqrt{\\left(- v_{s} t{\\left(\\lambda \\right)} + x{\\left(\\lambda \\right)}\\right)^{2} + y^{2}{\\left(\\lambda \\right)} + z^{2}{\\left(\\lambda \\right)}}}\\right)}{4 \\tanh{\\left(R \\sigma \\right)}} & 0 & 0 & 0\\\\0 & 0 & 0 & 0\\\\0 & 0 & 0 & 0\\end{matrix}\\right]$"
      ],
      "text/plain": [
       "Matrix([\n",
       "[-v_s**2*(-2*sigma*(1 - tanh(sigma*(-R + sqrt((-v_s*t(lambda) + x(lambda))**2 + y(lambda)**2 + z(lambda)**2)))**2)*y(lambda)/sqrt((-v_s*t(lambda) + x(lambda))**2 + y(lambda)**2 + z(lambda)**2) + 2*sigma*(1 - tanh(sigma*(R + sqrt((-v_s*t(lambda) + x(lambda))**2 + y(lambda)**2 + z(lambda)**2)))**2)*y(lambda)/sqrt((-v_s*t(lambda) + x(lambda))**2 + y(lambda)**2 + z(lambda)**2))*(-tanh(sigma*(-R + sqrt((-v_s*t(lambda) + x(lambda))**2 + y(lambda)**2 + z(lambda)**2))) + tanh(sigma*(R + sqrt((-v_s*t(lambda) + x(lambda))**2 + y(lambda)**2 + z(lambda)**2))))/(8*tanh(R*sigma)**2), v_s*(-sigma*(1 - tanh(sigma*(-R + sqrt((-v_s*t(lambda) + x(lambda))**2 + y(lambda)**2 + z(lambda)**2)))**2)*y(lambda)/sqrt((-v_s*t(lambda) + x(lambda))**2 + y(lambda)**2 + z(lambda)**2) + sigma*(1 - tanh(sigma*(R + sqrt((-v_s*t(lambda) + x(lambda))**2 + y(lambda)**2 + z(lambda)**2)))**2)*y(lambda)/sqrt((-v_s*t(lambda) + x(lambda))**2 + y(lambda)**2 + z(lambda)**2))/(4*tanh(R*sigma)), 0, 0],\n",
       "[                                                                                                                                                                                             v_s*(-sigma*(1 - tanh(sigma*(-R + sqrt((-v_s*t(lambda) + x(lambda))**2 + y(lambda)**2 + z(lambda)**2)))**2)*y(lambda)/sqrt((-v_s*t(lambda) + x(lambda))**2 + y(lambda)**2 + z(lambda)**2) + sigma*(1 - tanh(sigma*(R + sqrt((-v_s*t(lambda) + x(lambda))**2 + y(lambda)**2 + z(lambda)**2)))**2)*y(lambda)/sqrt((-v_s*t(lambda) + x(lambda))**2 + y(lambda)**2 + z(lambda)**2))/(4*tanh(R*sigma)),                                                                                                                                                                                                                                                                                                                                                                                                 0, 0, 0],\n",
       "[                                                                                                                                                                                                                                                                                                                                                                                                                                                                                                                                                                                             0,                                                                                                                                                                                                                                                                                                                                                                                                 0, 0, 0],\n",
       "[                                                                                                                                                                                                                                                                                                                                                                                                                                                                                                                                                                                             0,                                                                                                                                                                                                                                                                                                                                                                                                 0, 0, 0]])"
      ]
     },
     "metadata": {},
     "output_type": "display_data"
    },
    {
     "data": {
      "text/latex": [
       "$\\displaystyle \\left[\\begin{matrix}- \\frac{v_{s}^{2} \\left(- \\frac{2 \\sigma \\left(1 - \\tanh^{2}{\\left(\\sigma \\left(- R + \\sqrt{\\left(- v_{s} t{\\left(\\lambda \\right)} + x{\\left(\\lambda \\right)}\\right)^{2} + y^{2}{\\left(\\lambda \\right)} + z^{2}{\\left(\\lambda \\right)}}\\right) \\right)}\\right) z{\\left(\\lambda \\right)}}{\\sqrt{\\left(- v_{s} t{\\left(\\lambda \\right)} + x{\\left(\\lambda \\right)}\\right)^{2} + y^{2}{\\left(\\lambda \\right)} + z^{2}{\\left(\\lambda \\right)}}} + \\frac{2 \\sigma \\left(1 - \\tanh^{2}{\\left(\\sigma \\left(R + \\sqrt{\\left(- v_{s} t{\\left(\\lambda \\right)} + x{\\left(\\lambda \\right)}\\right)^{2} + y^{2}{\\left(\\lambda \\right)} + z^{2}{\\left(\\lambda \\right)}}\\right) \\right)}\\right) z{\\left(\\lambda \\right)}}{\\sqrt{\\left(- v_{s} t{\\left(\\lambda \\right)} + x{\\left(\\lambda \\right)}\\right)^{2} + y^{2}{\\left(\\lambda \\right)} + z^{2}{\\left(\\lambda \\right)}}}\\right) \\left(- \\tanh{\\left(\\sigma \\left(- R + \\sqrt{\\left(- v_{s} t{\\left(\\lambda \\right)} + x{\\left(\\lambda \\right)}\\right)^{2} + y^{2}{\\left(\\lambda \\right)} + z^{2}{\\left(\\lambda \\right)}}\\right) \\right)} + \\tanh{\\left(\\sigma \\left(R + \\sqrt{\\left(- v_{s} t{\\left(\\lambda \\right)} + x{\\left(\\lambda \\right)}\\right)^{2} + y^{2}{\\left(\\lambda \\right)} + z^{2}{\\left(\\lambda \\right)}}\\right) \\right)}\\right)}{8 \\tanh^{2}{\\left(R \\sigma \\right)}} & \\frac{v_{s} \\left(- \\frac{\\sigma \\left(1 - \\tanh^{2}{\\left(\\sigma \\left(- R + \\sqrt{\\left(- v_{s} t{\\left(\\lambda \\right)} + x{\\left(\\lambda \\right)}\\right)^{2} + y^{2}{\\left(\\lambda \\right)} + z^{2}{\\left(\\lambda \\right)}}\\right) \\right)}\\right) z{\\left(\\lambda \\right)}}{\\sqrt{\\left(- v_{s} t{\\left(\\lambda \\right)} + x{\\left(\\lambda \\right)}\\right)^{2} + y^{2}{\\left(\\lambda \\right)} + z^{2}{\\left(\\lambda \\right)}}} + \\frac{\\sigma \\left(1 - \\tanh^{2}{\\left(\\sigma \\left(R + \\sqrt{\\left(- v_{s} t{\\left(\\lambda \\right)} + x{\\left(\\lambda \\right)}\\right)^{2} + y^{2}{\\left(\\lambda \\right)} + z^{2}{\\left(\\lambda \\right)}}\\right) \\right)}\\right) z{\\left(\\lambda \\right)}}{\\sqrt{\\left(- v_{s} t{\\left(\\lambda \\right)} + x{\\left(\\lambda \\right)}\\right)^{2} + y^{2}{\\left(\\lambda \\right)} + z^{2}{\\left(\\lambda \\right)}}}\\right)}{4 \\tanh{\\left(R \\sigma \\right)}} & 0 & 0\\\\\\frac{v_{s} \\left(- \\frac{\\sigma \\left(1 - \\tanh^{2}{\\left(\\sigma \\left(- R + \\sqrt{\\left(- v_{s} t{\\left(\\lambda \\right)} + x{\\left(\\lambda \\right)}\\right)^{2} + y^{2}{\\left(\\lambda \\right)} + z^{2}{\\left(\\lambda \\right)}}\\right) \\right)}\\right) z{\\left(\\lambda \\right)}}{\\sqrt{\\left(- v_{s} t{\\left(\\lambda \\right)} + x{\\left(\\lambda \\right)}\\right)^{2} + y^{2}{\\left(\\lambda \\right)} + z^{2}{\\left(\\lambda \\right)}}} + \\frac{\\sigma \\left(1 - \\tanh^{2}{\\left(\\sigma \\left(R + \\sqrt{\\left(- v_{s} t{\\left(\\lambda \\right)} + x{\\left(\\lambda \\right)}\\right)^{2} + y^{2}{\\left(\\lambda \\right)} + z^{2}{\\left(\\lambda \\right)}}\\right) \\right)}\\right) z{\\left(\\lambda \\right)}}{\\sqrt{\\left(- v_{s} t{\\left(\\lambda \\right)} + x{\\left(\\lambda \\right)}\\right)^{2} + y^{2}{\\left(\\lambda \\right)} + z^{2}{\\left(\\lambda \\right)}}}\\right)}{4 \\tanh{\\left(R \\sigma \\right)}} & 0 & 0 & 0\\\\0 & 0 & 0 & 0\\\\0 & 0 & 0 & 0\\end{matrix}\\right]$"
      ],
      "text/plain": [
       "Matrix([\n",
       "[-v_s**2*(-2*sigma*(1 - tanh(sigma*(-R + sqrt((-v_s*t(lambda) + x(lambda))**2 + y(lambda)**2 + z(lambda)**2)))**2)*z(lambda)/sqrt((-v_s*t(lambda) + x(lambda))**2 + y(lambda)**2 + z(lambda)**2) + 2*sigma*(1 - tanh(sigma*(R + sqrt((-v_s*t(lambda) + x(lambda))**2 + y(lambda)**2 + z(lambda)**2)))**2)*z(lambda)/sqrt((-v_s*t(lambda) + x(lambda))**2 + y(lambda)**2 + z(lambda)**2))*(-tanh(sigma*(-R + sqrt((-v_s*t(lambda) + x(lambda))**2 + y(lambda)**2 + z(lambda)**2))) + tanh(sigma*(R + sqrt((-v_s*t(lambda) + x(lambda))**2 + y(lambda)**2 + z(lambda)**2))))/(8*tanh(R*sigma)**2), v_s*(-sigma*(1 - tanh(sigma*(-R + sqrt((-v_s*t(lambda) + x(lambda))**2 + y(lambda)**2 + z(lambda)**2)))**2)*z(lambda)/sqrt((-v_s*t(lambda) + x(lambda))**2 + y(lambda)**2 + z(lambda)**2) + sigma*(1 - tanh(sigma*(R + sqrt((-v_s*t(lambda) + x(lambda))**2 + y(lambda)**2 + z(lambda)**2)))**2)*z(lambda)/sqrt((-v_s*t(lambda) + x(lambda))**2 + y(lambda)**2 + z(lambda)**2))/(4*tanh(R*sigma)), 0, 0],\n",
       "[                                                                                                                                                                                             v_s*(-sigma*(1 - tanh(sigma*(-R + sqrt((-v_s*t(lambda) + x(lambda))**2 + y(lambda)**2 + z(lambda)**2)))**2)*z(lambda)/sqrt((-v_s*t(lambda) + x(lambda))**2 + y(lambda)**2 + z(lambda)**2) + sigma*(1 - tanh(sigma*(R + sqrt((-v_s*t(lambda) + x(lambda))**2 + y(lambda)**2 + z(lambda)**2)))**2)*z(lambda)/sqrt((-v_s*t(lambda) + x(lambda))**2 + y(lambda)**2 + z(lambda)**2))/(4*tanh(R*sigma)),                                                                                                                                                                                                                                                                                                                                                                                                 0, 0, 0],\n",
       "[                                                                                                                                                                                                                                                                                                                                                                                                                                                                                                                                                                                             0,                                                                                                                                                                                                                                                                                                                                                                                                 0, 0, 0],\n",
       "[                                                                                                                                                                                                                                                                                                                                                                                                                                                                                                                                                                                             0,                                                                                                                                                                                                                                                                                                                                                                                                 0, 0, 0]])"
      ]
     },
     "metadata": {},
     "output_type": "display_data"
    }
   ],
   "source": [
    "for i in range(n):\n",
    "    display(christoffel_symbols[i])"
   ]
  },
  {
   "cell_type": "code",
   "execution_count": 62,
   "id": "01d4e4f0",
   "metadata": {},
   "outputs": [],
   "source": [
    "C = christoffel_symbols"
   ]
  },
  {
   "cell_type": "markdown",
   "id": "3062dc18",
   "metadata": {},
   "source": [
    "Definitions of momenta using trajectory of photon:\n",
    "\n",
    "$$\n",
    "\\frac{dt}{d\\lambda}-p^t=0\n",
    "$$\n",
    "$$\n",
    "\\frac{dx}{d\\lambda}-p^x=0\n",
    "$$\n",
    "$$\n",
    "\\frac{dy}{d\\lambda}-p^y=0\n",
    "$$"
   ]
  },
  {
   "cell_type": "code",
   "execution_count": 63,
   "id": "9f7392b3",
   "metadata": {},
   "outputs": [],
   "source": [
    "pt = sp.diff(t, lam)\n",
    "px = sp.diff(x, lam)\n",
    "py = sp.diff(y, lam)\n",
    "pz = sp.diff(y, lam)"
   ]
  },
  {
   "cell_type": "markdown",
   "id": "339a74e2",
   "metadata": {},
   "source": [
    "## THE FOLLOWING STILL NEEDS TO BE EDITED FOR MODULARITY\n",
    "$$\n",
    "\\frac{dp^t}{d\\lambda}+\\Gamma^t_{tt}(p^t)^2+\\Gamma^t_{xx}(p^x)^2+2\\Gamma^t_{tx}p^tp^x+2\\Gamma^t_{ty}p^tp^y+2\\Gamma^t_{xy}p^xp^y=0\n",
    "$$\n",
    "$$\n",
    "\\frac{dp^x}{d\\lambda}+\\Gamma^x_{tt}(p^t)^2+\\Gamma^x_{xx}(p^x)^2+2\\Gamma^x_{tx}p^tp^x+2\\Gamma^x_{ty}p^tp^y+2\\Gamma^x_{xy}p^xp^y=0\n",
    "$$\n",
    "$$\n",
    "\\frac{dp^y}{d\\lambda}+\\Gamma^y_{tt}(p^t)^2+2\\Gamma^y_{tx}p^tp^x=0\n",
    "$$"
   ]
  },
  {
   "cell_type": "markdown",
   "id": "2b36d4ba",
   "metadata": {},
   "source": [
    "### Model assumes symmetry\n",
    "[0, 1, 2, 3]=[t,x,y,z]"
   ]
  },
  {
   "cell_type": "code",
   "execution_count": 64,
   "id": "1c596f09",
   "metadata": {},
   "outputs": [],
   "source": [
    "Ct, Cx, Cy, Cz = C[0], C[1], C[2], C[3]\n",
    "dptdl = -1 * (Ct[0,0] * pt**2 + Ct[1,1] * px**2 + Ct[2,2] * py**2 + Ct[3,3] * pz**2 + 2 * (Ct[0,1] * pt * px + Ct[0,2] * pt * py + Ct[0,3] * pt * pz + Ct[1,2] * px * py + Ct[1,3] * px * pz + Ct[2,3] * py * pz))\n",
    "dpxdl = -1 * (Cx[0,0] * pt**2 + Cx[1,1] * px**2 + Cx[2,2] * py**2 + Cx[3,3] * pz**2 + 2 * (Cx[0,1] * pt * px + Cx[0,2] * pt * py + Cx[0,3] * pt * pz + Cx[1,2] * px * py + Cx[1,3] * px * pz + Cx[2,3] * py * pz))\n",
    "dpydl = -1 * (Cy[0,0] * pt**2 + Cy[1,1] * px**2 + Cy[2,2] * py**2 + Cy[3,3] * pz**2 + 2 * (Cy[0,1] * pt * px + Cy[0,2] * pt * py + Cy[0,3] * pt * pz + Cy[1,2] * px * py + Cy[1,3] * px * pz + Cy[2,3] * py * pz))\n",
    "dpzdl = -1 * (Cz[0,0] * pt**2 + Cz[1,1] * px**2 + Cz[2,2] * py**2 + Cz[3,3] * pz**2 + 2 * (Cz[0,1] * pt * px + Cz[0,2] * pt * py + Cz[0,3] * pt * pz + Cz[1,2] * px * py + Cz[1,3] * px * pz + Cz[2,3] * py * pz))\n",
    "\n",
    "# dptdl = dptdl.simplify()\n",
    "# dpxdl = dpxdl.simplify()\n",
    "# dpydl = dpydl.simplify()\n",
    "# dpzdl = dpzdl.simplify()"
   ]
  },
  {
   "cell_type": "markdown",
   "id": "fd7c802f",
   "metadata": {},
   "source": [
    "## Recursive system"
   ]
  },
  {
   "cell_type": "code",
   "execution_count": 65,
   "id": "28cbd376",
   "metadata": {},
   "outputs": [],
   "source": [
    "import numpy as np\n",
    "import time\n",
    "\n",
    "# dLambda\n",
    "dL=0.001\n",
    "meters = 25\n",
    "count = 0\n",
    "angles_len = 10\n",
    "angles = np.linspace(0, 2*np.pi, 1)\n",
    "\n",
    "values = np.zeros((1, 8))\n",
    "values[:,0] = 0   \n",
    "values[:, 1] = 0.4\n",
    "values[:, 2] = 0.1\n",
    "values[:, 3] = 0.2\n",
    "values[:, 5] = 0.5 # x'\n",
    "values[:, 6] = 0.3 #y'\n",
    "values[:, 7] = 0 # z'"
   ]
  },
  {
   "cell_type": "markdown",
   "id": "b0012372",
   "metadata": {},
   "source": [
    "## Initial conditions must be fixed to satisfy:\n",
    "\\begin{align*}\n",
    "B &= 2g_{tx}p^x + 2g_{ty}p^y + 2g_{tz}p^z, \\\\\n",
    "C &= g_{xx}(p^x)^2 + 2g_{xy}p^x p^y + 2g_{xz}p^x p^z + g_{yy}(p^y)^2 + 2g_{yz}p^y p^z + g_{zz}(p^z)^2, \\\\\n",
    "p^t &= \\frac{-B \\pm \\sqrt{B^2 - 4g_{tt}C}}{2g_{tt}}.\n",
    "\\end{align*}"
   ]
  },
  {
   "cell_type": "code",
   "execution_count": 67,
   "id": "0552f775",
   "metadata": {
    "scrolled": false
   },
   "outputs": [],
   "source": [
    "Bquad=2*(metric[0, 1]*px+metric[0, 2]*py+metric[0, 3]*pz)\n",
    "Cquad=metric[1, 1]*px**2+metric[2, 2]*py**2+metric[3, 3]*pz**2+2*(\n",
    "      metric[1, 2]*px*py+metric[1, 3]*px*pz+metric[2, 3]*py*pz\n",
    ")\n",
    "\n",
    "\n",
    "pt1 = (-Bquad+sp.sqrt(Bquad**2-4*metric[0,0]*Cquad))/(2*metric[0,0])\n",
    "pt2 = ((-Bquad - sp.sqrt(Bquad**2 - 4 * metric[0, 0] * Cquad)) / (2 * metric[0, 0]))\n",
    "\n",
    "\n",
    "pt1_lambda = sp.lambdify((t,x,y,z,vs,R,sigma,c,px,py,pz), pt1, \"numpy\")\n",
    "pt2_lambda = sp.lambdify((t,x,y,z,vs,R,sigma,c,px,py,pz), pt2, \"numpy\")"
   ]
  },
  {
   "cell_type": "code",
   "execution_count": 41,
   "id": "339ba527",
   "metadata": {},
   "outputs": [
    {
     "data": {
      "text/latex": [
       "$\\displaystyle - \\frac{v_{s} \\left(- \\tanh{\\left(\\sigma \\left(- R + \\sqrt{\\left(- v_{s} t{\\left(\\lambda \\right)} + x{\\left(\\lambda \\right)}\\right)^{2} + y^{2}{\\left(\\lambda \\right)} + z^{2}{\\left(\\lambda \\right)}}\\right) \\right)} + \\tanh{\\left(\\sigma \\left(R + \\sqrt{\\left(- v_{s} t{\\left(\\lambda \\right)} + x{\\left(\\lambda \\right)}\\right)^{2} + y^{2}{\\left(\\lambda \\right)} + z^{2}{\\left(\\lambda \\right)}}\\right) \\right)}\\right) \\frac{d}{d \\lambda} x{\\left(\\lambda \\right)}}{\\tanh{\\left(R \\sigma \\right)}}$"
      ],
      "text/plain": [
       "-v_s*(-tanh(sigma*(-R + sqrt((-v_s*t(lambda) + x(lambda))**2 + y(lambda)**2 + z(lambda)**2))) + tanh(sigma*(R + sqrt((-v_s*t(lambda) + x(lambda))**2 + y(lambda)**2 + z(lambda)**2))))*Derivative(x(lambda), lambda)/tanh(R*sigma)"
      ]
     },
     "execution_count": 41,
     "metadata": {},
     "output_type": "execute_result"
    }
   ],
   "source": [
    "Bquad"
   ]
  },
  {
   "cell_type": "markdown",
   "id": "3f0586f5",
   "metadata": {},
   "source": [
    "## Following code assumes continuity with pt1 solution (plus)"
   ]
  },
  {
   "cell_type": "code",
   "execution_count": 68,
   "id": "d4f7e9c5",
   "metadata": {},
   "outputs": [
    {
     "name": "stdout",
     "output_type": "stream",
     "text": [
      "[-1.66666667e-09]\n",
      "[1.66666666e-09]\n"
     ]
    }
   ],
   "source": [
    "args = (values[:, 0], values[:, 1], values[:, 2], values[:, 3], 1 , 2, 1, 3*10**8, values[:, 5], values[:, 6], values[:, 7])\n",
    "print(pt1_lambda(*args))\n",
    "print(pt2_lambda(*args))\n",
    "values[:,4]=pt1_lambda(*args)"
   ]
  },
  {
   "cell_type": "code",
   "execution_count": 43,
   "id": "cced2a46",
   "metadata": {},
   "outputs": [
    {
     "data": {
      "text/plain": [
       "array([[  0.        ,   4.        ,   4.        ,   4.        ,\n",
       "        -10.00054348,  10.        ,  30.        ,   0.        ]])"
      ]
     },
     "execution_count": 43,
     "metadata": {},
     "output_type": "execute_result"
    }
   ],
   "source": [
    "values"
   ]
  },
  {
   "cell_type": "code",
   "execution_count": 71,
   "id": "6657acfa",
   "metadata": {},
   "outputs": [
    {
     "name": "stdout",
     "output_type": "stream",
     "text": [
      "starting iterations\n",
      "Elapsed time: 84.84 seconds%\n"
     ]
    }
   ],
   "source": [
    "# define initial conditions\n",
    "dt=sp.diff(t)\n",
    "dx=sp.diff(x)\n",
    "dy=sp.diff(y)\n",
    "dz=sp.diff(z)\n",
    "geods=[]\n",
    "iterations = int(meters//dL)\n",
    "L = 0\n",
    "# append a numpy copy of the array to geod\n",
    "geods.append(np.copy(values))\n",
    "\n",
    "dptdl_lambda = sp.lambdify((t, x, y, z, dt, dx, dy, dz, vs,R,sigma,c), dptdl, \"numpy\")\n",
    "dpxdl_lambda = sp.lambdify((t, x, y, z, dt, dx, dy, dz, vs,R,sigma,c), dpxdl, \"numpy\")\n",
    "dpydl_lambda = sp.lambdify((t, x, y, z, dt, dx, dy, dz, vs,R,sigma,c), dpydl, \"numpy\")\n",
    "dpzdl_lambda = sp.lambdify((t, x, y, z, dt, dx, dy, dz, vs,R,sigma,c), dpzdl, \"numpy\")\n",
    "\n",
    "print(\"starting iterations\")\n",
    "start = time.time()\n",
    "\n",
    "for i in range(iterations):\n",
    "    L_=L\n",
    "    L+=dL\n",
    "\n",
    "    args = (values[:, 0], values[:, 1], values[:, 2], values[:, 3], values[:, 4], values[:, 5], values[:, 6],\n",
    "            values[:, 7], 1, 1, 1, 3*10**8)\n",
    "\n",
    "    dp=[\n",
    "        dptdl_lambda(*args),\n",
    "        dpxdl_lambda(*args),\n",
    "        dpydl_lambda(*args),\n",
    "        dpzdl_lambda(*args)\n",
    "    ]\n",
    "\n",
    "    values[:,4:] += dL * np.array(dp).T # update the velocities\n",
    "    values[:, 0:4] += dL * values[:, 4:] # update positions\n",
    "    geods.append(np.copy(values))\n",
    "    count += 1\n",
    "    print(\"Percentage done: {:3.5f} %\".format((count/iterations)*100), end=\"\\r\")\n",
    "\n",
    "\n",
    "\n",
    "\n",
    "print(\"Elapsed time: {:3.2f} seconds\".format(time.time()-start))\n",
    "geods = np.array(geods)\n"
   ]
  },
  {
   "cell_type": "code",
   "execution_count": null,
   "id": "e14e59d5",
   "metadata": {},
   "outputs": [],
   "source": [
    "geods.shape"
   ]
  },
  {
   "cell_type": "markdown",
   "id": "f7b861dc",
   "metadata": {},
   "source": [
    "## Plotting"
   ]
  },
  {
   "cell_type": "code",
   "execution_count": 72,
   "id": "0049d020",
   "metadata": {
    "scrolled": false
   },
   "outputs": [
    {
     "data": {
      "application/vnd.plotly.v1+json": {
       "config": {
        "plotlyServerURL": "https://plot.ly"
       },
       "data": [
        {
         "line": {
          "color": "green"
         },
         "mode": "lines",
         "name": "Position",
         "type": "scatter3d",
         "x": [
          -1.6666666721339514e-12,
          0.40050000000000013,
          0.10029999999999994,
          0.19999999999999987,
          -1.6666666721339513e-09,
          0.5000000000001206,
          0.29999999999993304,
          -1.3391200614433727e-13
         ],
         "y": [
          -3.3333333442666066e-12,
          0.40100000000000036,
          0.10059999999999981,
          0.1999999999999996,
          -1.6666666721326555e-09,
          0.5000000000002413,
          0.2999999999998659,
          -2.6780876090321077e-13
         ],
         "z": [
          -5.000000016397965e-12,
          0.40150000000000075,
          0.10089999999999961,
          0.1999999999999992,
          -1.6666666721313583e-09,
          0.5000000000003619,
          0.29999999999979854,
          -4.016902343442162e-13
         ]
        },
        {
         "line": {
          "color": "orange",
          "width": 6
         },
         "marker": {
          "color": "orange",
          "size": 4
         },
         "mode": "lines+markers",
         "name": "Velocity",
         "type": "scatter3d",
         "x": [
          0.40050000000000013,
          0.9005000000001206
         ],
         "y": [
          0.40100000000000036,
          0.7009999999999335
         ],
         "z": [
          0.40150000000000075,
          0.40149999999986685
         ]
        },
        {
         "marker": {
          "color": "red",
          "size": 5
         },
         "mode": "markers",
         "name": "Origin",
         "type": "scatter3d",
         "x": [
          0
         ],
         "y": [
          0
         ],
         "z": [
          0
         ]
        },
        {
         "marker": {
          "color": "green",
          "size": 5
         },
         "mode": "markers",
         "name": "Start",
         "type": "scatter3d",
         "x": [
          0.40050000000000013
         ],
         "y": [
          0.40100000000000036
         ],
         "z": [
          0.40150000000000075
         ]
        }
       ],
       "layout": {
        "height": 800,
        "scene": {
         "aspectmode": "cube",
         "xaxis": {
          "range": [
           -2.500000000000121,
           2.500000000000121
          ],
          "title": {
           "text": "X (x)"
          }
         },
         "yaxis": {
          "range": [
           -2.500000000000121,
           2.500000000000121
          ],
          "title": {
           "text": "Y (y)"
          }
         },
         "zaxis": {
          "range": [
           -2.500000000000121,
           2.500000000000121
          ],
          "title": {
           "text": "Z (z)"
          }
         }
        },
        "template": {
         "data": {
          "bar": [
           {
            "error_x": {
             "color": "#2a3f5f"
            },
            "error_y": {
             "color": "#2a3f5f"
            },
            "marker": {
             "line": {
              "color": "#E5ECF6",
              "width": 0.5
             },
             "pattern": {
              "fillmode": "overlay",
              "size": 10,
              "solidity": 0.2
             }
            },
            "type": "bar"
           }
          ],
          "barpolar": [
           {
            "marker": {
             "line": {
              "color": "#E5ECF6",
              "width": 0.5
             },
             "pattern": {
              "fillmode": "overlay",
              "size": 10,
              "solidity": 0.2
             }
            },
            "type": "barpolar"
           }
          ],
          "carpet": [
           {
            "aaxis": {
             "endlinecolor": "#2a3f5f",
             "gridcolor": "white",
             "linecolor": "white",
             "minorgridcolor": "white",
             "startlinecolor": "#2a3f5f"
            },
            "baxis": {
             "endlinecolor": "#2a3f5f",
             "gridcolor": "white",
             "linecolor": "white",
             "minorgridcolor": "white",
             "startlinecolor": "#2a3f5f"
            },
            "type": "carpet"
           }
          ],
          "choropleth": [
           {
            "colorbar": {
             "outlinewidth": 0,
             "ticks": ""
            },
            "type": "choropleth"
           }
          ],
          "contour": [
           {
            "colorbar": {
             "outlinewidth": 0,
             "ticks": ""
            },
            "colorscale": [
             [
              0,
              "#0d0887"
             ],
             [
              0.1111111111111111,
              "#46039f"
             ],
             [
              0.2222222222222222,
              "#7201a8"
             ],
             [
              0.3333333333333333,
              "#9c179e"
             ],
             [
              0.4444444444444444,
              "#bd3786"
             ],
             [
              0.5555555555555556,
              "#d8576b"
             ],
             [
              0.6666666666666666,
              "#ed7953"
             ],
             [
              0.7777777777777778,
              "#fb9f3a"
             ],
             [
              0.8888888888888888,
              "#fdca26"
             ],
             [
              1,
              "#f0f921"
             ]
            ],
            "type": "contour"
           }
          ],
          "contourcarpet": [
           {
            "colorbar": {
             "outlinewidth": 0,
             "ticks": ""
            },
            "type": "contourcarpet"
           }
          ],
          "heatmap": [
           {
            "colorbar": {
             "outlinewidth": 0,
             "ticks": ""
            },
            "colorscale": [
             [
              0,
              "#0d0887"
             ],
             [
              0.1111111111111111,
              "#46039f"
             ],
             [
              0.2222222222222222,
              "#7201a8"
             ],
             [
              0.3333333333333333,
              "#9c179e"
             ],
             [
              0.4444444444444444,
              "#bd3786"
             ],
             [
              0.5555555555555556,
              "#d8576b"
             ],
             [
              0.6666666666666666,
              "#ed7953"
             ],
             [
              0.7777777777777778,
              "#fb9f3a"
             ],
             [
              0.8888888888888888,
              "#fdca26"
             ],
             [
              1,
              "#f0f921"
             ]
            ],
            "type": "heatmap"
           }
          ],
          "heatmapgl": [
           {
            "colorbar": {
             "outlinewidth": 0,
             "ticks": ""
            },
            "colorscale": [
             [
              0,
              "#0d0887"
             ],
             [
              0.1111111111111111,
              "#46039f"
             ],
             [
              0.2222222222222222,
              "#7201a8"
             ],
             [
              0.3333333333333333,
              "#9c179e"
             ],
             [
              0.4444444444444444,
              "#bd3786"
             ],
             [
              0.5555555555555556,
              "#d8576b"
             ],
             [
              0.6666666666666666,
              "#ed7953"
             ],
             [
              0.7777777777777778,
              "#fb9f3a"
             ],
             [
              0.8888888888888888,
              "#fdca26"
             ],
             [
              1,
              "#f0f921"
             ]
            ],
            "type": "heatmapgl"
           }
          ],
          "histogram": [
           {
            "marker": {
             "pattern": {
              "fillmode": "overlay",
              "size": 10,
              "solidity": 0.2
             }
            },
            "type": "histogram"
           }
          ],
          "histogram2d": [
           {
            "colorbar": {
             "outlinewidth": 0,
             "ticks": ""
            },
            "colorscale": [
             [
              0,
              "#0d0887"
             ],
             [
              0.1111111111111111,
              "#46039f"
             ],
             [
              0.2222222222222222,
              "#7201a8"
             ],
             [
              0.3333333333333333,
              "#9c179e"
             ],
             [
              0.4444444444444444,
              "#bd3786"
             ],
             [
              0.5555555555555556,
              "#d8576b"
             ],
             [
              0.6666666666666666,
              "#ed7953"
             ],
             [
              0.7777777777777778,
              "#fb9f3a"
             ],
             [
              0.8888888888888888,
              "#fdca26"
             ],
             [
              1,
              "#f0f921"
             ]
            ],
            "type": "histogram2d"
           }
          ],
          "histogram2dcontour": [
           {
            "colorbar": {
             "outlinewidth": 0,
             "ticks": ""
            },
            "colorscale": [
             [
              0,
              "#0d0887"
             ],
             [
              0.1111111111111111,
              "#46039f"
             ],
             [
              0.2222222222222222,
              "#7201a8"
             ],
             [
              0.3333333333333333,
              "#9c179e"
             ],
             [
              0.4444444444444444,
              "#bd3786"
             ],
             [
              0.5555555555555556,
              "#d8576b"
             ],
             [
              0.6666666666666666,
              "#ed7953"
             ],
             [
              0.7777777777777778,
              "#fb9f3a"
             ],
             [
              0.8888888888888888,
              "#fdca26"
             ],
             [
              1,
              "#f0f921"
             ]
            ],
            "type": "histogram2dcontour"
           }
          ],
          "mesh3d": [
           {
            "colorbar": {
             "outlinewidth": 0,
             "ticks": ""
            },
            "type": "mesh3d"
           }
          ],
          "parcoords": [
           {
            "line": {
             "colorbar": {
              "outlinewidth": 0,
              "ticks": ""
             }
            },
            "type": "parcoords"
           }
          ],
          "pie": [
           {
            "automargin": true,
            "type": "pie"
           }
          ],
          "scatter": [
           {
            "fillpattern": {
             "fillmode": "overlay",
             "size": 10,
             "solidity": 0.2
            },
            "type": "scatter"
           }
          ],
          "scatter3d": [
           {
            "line": {
             "colorbar": {
              "outlinewidth": 0,
              "ticks": ""
             }
            },
            "marker": {
             "colorbar": {
              "outlinewidth": 0,
              "ticks": ""
             }
            },
            "type": "scatter3d"
           }
          ],
          "scattercarpet": [
           {
            "marker": {
             "colorbar": {
              "outlinewidth": 0,
              "ticks": ""
             }
            },
            "type": "scattercarpet"
           }
          ],
          "scattergeo": [
           {
            "marker": {
             "colorbar": {
              "outlinewidth": 0,
              "ticks": ""
             }
            },
            "type": "scattergeo"
           }
          ],
          "scattergl": [
           {
            "marker": {
             "colorbar": {
              "outlinewidth": 0,
              "ticks": ""
             }
            },
            "type": "scattergl"
           }
          ],
          "scattermapbox": [
           {
            "marker": {
             "colorbar": {
              "outlinewidth": 0,
              "ticks": ""
             }
            },
            "type": "scattermapbox"
           }
          ],
          "scatterpolar": [
           {
            "marker": {
             "colorbar": {
              "outlinewidth": 0,
              "ticks": ""
             }
            },
            "type": "scatterpolar"
           }
          ],
          "scatterpolargl": [
           {
            "marker": {
             "colorbar": {
              "outlinewidth": 0,
              "ticks": ""
             }
            },
            "type": "scatterpolargl"
           }
          ],
          "scatterternary": [
           {
            "marker": {
             "colorbar": {
              "outlinewidth": 0,
              "ticks": ""
             }
            },
            "type": "scatterternary"
           }
          ],
          "surface": [
           {
            "colorbar": {
             "outlinewidth": 0,
             "ticks": ""
            },
            "colorscale": [
             [
              0,
              "#0d0887"
             ],
             [
              0.1111111111111111,
              "#46039f"
             ],
             [
              0.2222222222222222,
              "#7201a8"
             ],
             [
              0.3333333333333333,
              "#9c179e"
             ],
             [
              0.4444444444444444,
              "#bd3786"
             ],
             [
              0.5555555555555556,
              "#d8576b"
             ],
             [
              0.6666666666666666,
              "#ed7953"
             ],
             [
              0.7777777777777778,
              "#fb9f3a"
             ],
             [
              0.8888888888888888,
              "#fdca26"
             ],
             [
              1,
              "#f0f921"
             ]
            ],
            "type": "surface"
           }
          ],
          "table": [
           {
            "cells": {
             "fill": {
              "color": "#EBF0F8"
             },
             "line": {
              "color": "white"
             }
            },
            "header": {
             "fill": {
              "color": "#C8D4E3"
             },
             "line": {
              "color": "white"
             }
            },
            "type": "table"
           }
          ]
         },
         "layout": {
          "annotationdefaults": {
           "arrowcolor": "#2a3f5f",
           "arrowhead": 0,
           "arrowwidth": 1
          },
          "autotypenumbers": "strict",
          "coloraxis": {
           "colorbar": {
            "outlinewidth": 0,
            "ticks": ""
           }
          },
          "colorscale": {
           "diverging": [
            [
             0,
             "#8e0152"
            ],
            [
             0.1,
             "#c51b7d"
            ],
            [
             0.2,
             "#de77ae"
            ],
            [
             0.3,
             "#f1b6da"
            ],
            [
             0.4,
             "#fde0ef"
            ],
            [
             0.5,
             "#f7f7f7"
            ],
            [
             0.6,
             "#e6f5d0"
            ],
            [
             0.7,
             "#b8e186"
            ],
            [
             0.8,
             "#7fbc41"
            ],
            [
             0.9,
             "#4d9221"
            ],
            [
             1,
             "#276419"
            ]
           ],
           "sequential": [
            [
             0,
             "#0d0887"
            ],
            [
             0.1111111111111111,
             "#46039f"
            ],
            [
             0.2222222222222222,
             "#7201a8"
            ],
            [
             0.3333333333333333,
             "#9c179e"
            ],
            [
             0.4444444444444444,
             "#bd3786"
            ],
            [
             0.5555555555555556,
             "#d8576b"
            ],
            [
             0.6666666666666666,
             "#ed7953"
            ],
            [
             0.7777777777777778,
             "#fb9f3a"
            ],
            [
             0.8888888888888888,
             "#fdca26"
            ],
            [
             1,
             "#f0f921"
            ]
           ],
           "sequentialminus": [
            [
             0,
             "#0d0887"
            ],
            [
             0.1111111111111111,
             "#46039f"
            ],
            [
             0.2222222222222222,
             "#7201a8"
            ],
            [
             0.3333333333333333,
             "#9c179e"
            ],
            [
             0.4444444444444444,
             "#bd3786"
            ],
            [
             0.5555555555555556,
             "#d8576b"
            ],
            [
             0.6666666666666666,
             "#ed7953"
            ],
            [
             0.7777777777777778,
             "#fb9f3a"
            ],
            [
             0.8888888888888888,
             "#fdca26"
            ],
            [
             1,
             "#f0f921"
            ]
           ]
          },
          "colorway": [
           "#636efa",
           "#EF553B",
           "#00cc96",
           "#ab63fa",
           "#FFA15A",
           "#19d3f3",
           "#FF6692",
           "#B6E880",
           "#FF97FF",
           "#FECB52"
          ],
          "font": {
           "color": "#2a3f5f"
          },
          "geo": {
           "bgcolor": "white",
           "lakecolor": "white",
           "landcolor": "#E5ECF6",
           "showlakes": true,
           "showland": true,
           "subunitcolor": "white"
          },
          "hoverlabel": {
           "align": "left"
          },
          "hovermode": "closest",
          "mapbox": {
           "style": "light"
          },
          "paper_bgcolor": "white",
          "plot_bgcolor": "#E5ECF6",
          "polar": {
           "angularaxis": {
            "gridcolor": "white",
            "linecolor": "white",
            "ticks": ""
           },
           "bgcolor": "#E5ECF6",
           "radialaxis": {
            "gridcolor": "white",
            "linecolor": "white",
            "ticks": ""
           }
          },
          "scene": {
           "xaxis": {
            "backgroundcolor": "#E5ECF6",
            "gridcolor": "white",
            "gridwidth": 2,
            "linecolor": "white",
            "showbackground": true,
            "ticks": "",
            "zerolinecolor": "white"
           },
           "yaxis": {
            "backgroundcolor": "#E5ECF6",
            "gridcolor": "white",
            "gridwidth": 2,
            "linecolor": "white",
            "showbackground": true,
            "ticks": "",
            "zerolinecolor": "white"
           },
           "zaxis": {
            "backgroundcolor": "#E5ECF6",
            "gridcolor": "white",
            "gridwidth": 2,
            "linecolor": "white",
            "showbackground": true,
            "ticks": "",
            "zerolinecolor": "white"
           }
          },
          "shapedefaults": {
           "line": {
            "color": "#2a3f5f"
           }
          },
          "ternary": {
           "aaxis": {
            "gridcolor": "white",
            "linecolor": "white",
            "ticks": ""
           },
           "baxis": {
            "gridcolor": "white",
            "linecolor": "white",
            "ticks": ""
           },
           "bgcolor": "#E5ECF6",
           "caxis": {
            "gridcolor": "white",
            "linecolor": "white",
            "ticks": ""
           }
          },
          "title": {
           "x": 0.05
          },
          "xaxis": {
           "automargin": true,
           "gridcolor": "white",
           "linecolor": "white",
           "ticks": "",
           "title": {
            "standoff": 15
           },
           "zerolinecolor": "white",
           "zerolinewidth": 2
          },
          "yaxis": {
           "automargin": true,
           "gridcolor": "white",
           "linecolor": "white",
           "ticks": "",
           "title": {
            "standoff": 15
           },
           "zerolinecolor": "white",
           "zerolinewidth": 2
          }
         }
        },
        "title": {
         "text": "Geodesic Trajectories and Spherical Object"
        },
        "width": 800
       }
      },
      "text/html": [
       "<div>                            <div id=\"8d553ba7-f782-4117-b4bf-3bdd2ea7fdd2\" class=\"plotly-graph-div\" style=\"height:800px; width:800px;\"></div>            <script type=\"text/javascript\">                require([\"plotly\"], function(Plotly) {                    window.PLOTLYENV=window.PLOTLYENV || {};                                    if (document.getElementById(\"8d553ba7-f782-4117-b4bf-3bdd2ea7fdd2\")) {                    Plotly.newPlot(                        \"8d553ba7-f782-4117-b4bf-3bdd2ea7fdd2\",                        [{\"line\":{\"color\":\"green\"},\"mode\":\"lines\",\"name\":\"Position\",\"x\":[-1.6666666721339514e-12,0.40050000000000013,0.10029999999999994,0.19999999999999987,-1.6666666721339513e-09,0.5000000000001206,0.29999999999993304,-1.3391200614433727e-13],\"y\":[-3.3333333442666066e-12,0.40100000000000036,0.10059999999999981,0.1999999999999996,-1.6666666721326555e-09,0.5000000000002413,0.2999999999998659,-2.6780876090321077e-13],\"z\":[-5.000000016397965e-12,0.40150000000000075,0.10089999999999961,0.1999999999999992,-1.6666666721313583e-09,0.5000000000003619,0.29999999999979854,-4.016902343442162e-13],\"type\":\"scatter3d\"},{\"line\":{\"color\":\"orange\",\"width\":6},\"marker\":{\"color\":\"orange\",\"size\":4},\"mode\":\"lines+markers\",\"name\":\"Velocity\",\"x\":[0.40050000000000013,0.9005000000001206],\"y\":[0.40100000000000036,0.7009999999999335],\"z\":[0.40150000000000075,0.40149999999986685],\"type\":\"scatter3d\"},{\"marker\":{\"color\":\"red\",\"size\":5},\"mode\":\"markers\",\"name\":\"Origin\",\"x\":[0],\"y\":[0],\"z\":[0],\"type\":\"scatter3d\"},{\"marker\":{\"color\":\"green\",\"size\":5},\"mode\":\"markers\",\"name\":\"Start\",\"x\":[0.40050000000000013],\"y\":[0.40100000000000036],\"z\":[0.40150000000000075],\"type\":\"scatter3d\"}],                        {\"template\":{\"data\":{\"histogram2dcontour\":[{\"type\":\"histogram2dcontour\",\"colorbar\":{\"outlinewidth\":0,\"ticks\":\"\"},\"colorscale\":[[0.0,\"#0d0887\"],[0.1111111111111111,\"#46039f\"],[0.2222222222222222,\"#7201a8\"],[0.3333333333333333,\"#9c179e\"],[0.4444444444444444,\"#bd3786\"],[0.5555555555555556,\"#d8576b\"],[0.6666666666666666,\"#ed7953\"],[0.7777777777777778,\"#fb9f3a\"],[0.8888888888888888,\"#fdca26\"],[1.0,\"#f0f921\"]]}],\"choropleth\":[{\"type\":\"choropleth\",\"colorbar\":{\"outlinewidth\":0,\"ticks\":\"\"}}],\"histogram2d\":[{\"type\":\"histogram2d\",\"colorbar\":{\"outlinewidth\":0,\"ticks\":\"\"},\"colorscale\":[[0.0,\"#0d0887\"],[0.1111111111111111,\"#46039f\"],[0.2222222222222222,\"#7201a8\"],[0.3333333333333333,\"#9c179e\"],[0.4444444444444444,\"#bd3786\"],[0.5555555555555556,\"#d8576b\"],[0.6666666666666666,\"#ed7953\"],[0.7777777777777778,\"#fb9f3a\"],[0.8888888888888888,\"#fdca26\"],[1.0,\"#f0f921\"]]}],\"heatmap\":[{\"type\":\"heatmap\",\"colorbar\":{\"outlinewidth\":0,\"ticks\":\"\"},\"colorscale\":[[0.0,\"#0d0887\"],[0.1111111111111111,\"#46039f\"],[0.2222222222222222,\"#7201a8\"],[0.3333333333333333,\"#9c179e\"],[0.4444444444444444,\"#bd3786\"],[0.5555555555555556,\"#d8576b\"],[0.6666666666666666,\"#ed7953\"],[0.7777777777777778,\"#fb9f3a\"],[0.8888888888888888,\"#fdca26\"],[1.0,\"#f0f921\"]]}],\"heatmapgl\":[{\"type\":\"heatmapgl\",\"colorbar\":{\"outlinewidth\":0,\"ticks\":\"\"},\"colorscale\":[[0.0,\"#0d0887\"],[0.1111111111111111,\"#46039f\"],[0.2222222222222222,\"#7201a8\"],[0.3333333333333333,\"#9c179e\"],[0.4444444444444444,\"#bd3786\"],[0.5555555555555556,\"#d8576b\"],[0.6666666666666666,\"#ed7953\"],[0.7777777777777778,\"#fb9f3a\"],[0.8888888888888888,\"#fdca26\"],[1.0,\"#f0f921\"]]}],\"contourcarpet\":[{\"type\":\"contourcarpet\",\"colorbar\":{\"outlinewidth\":0,\"ticks\":\"\"}}],\"contour\":[{\"type\":\"contour\",\"colorbar\":{\"outlinewidth\":0,\"ticks\":\"\"},\"colorscale\":[[0.0,\"#0d0887\"],[0.1111111111111111,\"#46039f\"],[0.2222222222222222,\"#7201a8\"],[0.3333333333333333,\"#9c179e\"],[0.4444444444444444,\"#bd3786\"],[0.5555555555555556,\"#d8576b\"],[0.6666666666666666,\"#ed7953\"],[0.7777777777777778,\"#fb9f3a\"],[0.8888888888888888,\"#fdca26\"],[1.0,\"#f0f921\"]]}],\"surface\":[{\"type\":\"surface\",\"colorbar\":{\"outlinewidth\":0,\"ticks\":\"\"},\"colorscale\":[[0.0,\"#0d0887\"],[0.1111111111111111,\"#46039f\"],[0.2222222222222222,\"#7201a8\"],[0.3333333333333333,\"#9c179e\"],[0.4444444444444444,\"#bd3786\"],[0.5555555555555556,\"#d8576b\"],[0.6666666666666666,\"#ed7953\"],[0.7777777777777778,\"#fb9f3a\"],[0.8888888888888888,\"#fdca26\"],[1.0,\"#f0f921\"]]}],\"mesh3d\":[{\"type\":\"mesh3d\",\"colorbar\":{\"outlinewidth\":0,\"ticks\":\"\"}}],\"scatter\":[{\"fillpattern\":{\"fillmode\":\"overlay\",\"size\":10,\"solidity\":0.2},\"type\":\"scatter\"}],\"parcoords\":[{\"type\":\"parcoords\",\"line\":{\"colorbar\":{\"outlinewidth\":0,\"ticks\":\"\"}}}],\"scatterpolargl\":[{\"type\":\"scatterpolargl\",\"marker\":{\"colorbar\":{\"outlinewidth\":0,\"ticks\":\"\"}}}],\"bar\":[{\"error_x\":{\"color\":\"#2a3f5f\"},\"error_y\":{\"color\":\"#2a3f5f\"},\"marker\":{\"line\":{\"color\":\"#E5ECF6\",\"width\":0.5},\"pattern\":{\"fillmode\":\"overlay\",\"size\":10,\"solidity\":0.2}},\"type\":\"bar\"}],\"scattergeo\":[{\"type\":\"scattergeo\",\"marker\":{\"colorbar\":{\"outlinewidth\":0,\"ticks\":\"\"}}}],\"scatterpolar\":[{\"type\":\"scatterpolar\",\"marker\":{\"colorbar\":{\"outlinewidth\":0,\"ticks\":\"\"}}}],\"histogram\":[{\"marker\":{\"pattern\":{\"fillmode\":\"overlay\",\"size\":10,\"solidity\":0.2}},\"type\":\"histogram\"}],\"scattergl\":[{\"type\":\"scattergl\",\"marker\":{\"colorbar\":{\"outlinewidth\":0,\"ticks\":\"\"}}}],\"scatter3d\":[{\"type\":\"scatter3d\",\"line\":{\"colorbar\":{\"outlinewidth\":0,\"ticks\":\"\"}},\"marker\":{\"colorbar\":{\"outlinewidth\":0,\"ticks\":\"\"}}}],\"scattermapbox\":[{\"type\":\"scattermapbox\",\"marker\":{\"colorbar\":{\"outlinewidth\":0,\"ticks\":\"\"}}}],\"scatterternary\":[{\"type\":\"scatterternary\",\"marker\":{\"colorbar\":{\"outlinewidth\":0,\"ticks\":\"\"}}}],\"scattercarpet\":[{\"type\":\"scattercarpet\",\"marker\":{\"colorbar\":{\"outlinewidth\":0,\"ticks\":\"\"}}}],\"carpet\":[{\"aaxis\":{\"endlinecolor\":\"#2a3f5f\",\"gridcolor\":\"white\",\"linecolor\":\"white\",\"minorgridcolor\":\"white\",\"startlinecolor\":\"#2a3f5f\"},\"baxis\":{\"endlinecolor\":\"#2a3f5f\",\"gridcolor\":\"white\",\"linecolor\":\"white\",\"minorgridcolor\":\"white\",\"startlinecolor\":\"#2a3f5f\"},\"type\":\"carpet\"}],\"table\":[{\"cells\":{\"fill\":{\"color\":\"#EBF0F8\"},\"line\":{\"color\":\"white\"}},\"header\":{\"fill\":{\"color\":\"#C8D4E3\"},\"line\":{\"color\":\"white\"}},\"type\":\"table\"}],\"barpolar\":[{\"marker\":{\"line\":{\"color\":\"#E5ECF6\",\"width\":0.5},\"pattern\":{\"fillmode\":\"overlay\",\"size\":10,\"solidity\":0.2}},\"type\":\"barpolar\"}],\"pie\":[{\"automargin\":true,\"type\":\"pie\"}]},\"layout\":{\"autotypenumbers\":\"strict\",\"colorway\":[\"#636efa\",\"#EF553B\",\"#00cc96\",\"#ab63fa\",\"#FFA15A\",\"#19d3f3\",\"#FF6692\",\"#B6E880\",\"#FF97FF\",\"#FECB52\"],\"font\":{\"color\":\"#2a3f5f\"},\"hovermode\":\"closest\",\"hoverlabel\":{\"align\":\"left\"},\"paper_bgcolor\":\"white\",\"plot_bgcolor\":\"#E5ECF6\",\"polar\":{\"bgcolor\":\"#E5ECF6\",\"angularaxis\":{\"gridcolor\":\"white\",\"linecolor\":\"white\",\"ticks\":\"\"},\"radialaxis\":{\"gridcolor\":\"white\",\"linecolor\":\"white\",\"ticks\":\"\"}},\"ternary\":{\"bgcolor\":\"#E5ECF6\",\"aaxis\":{\"gridcolor\":\"white\",\"linecolor\":\"white\",\"ticks\":\"\"},\"baxis\":{\"gridcolor\":\"white\",\"linecolor\":\"white\",\"ticks\":\"\"},\"caxis\":{\"gridcolor\":\"white\",\"linecolor\":\"white\",\"ticks\":\"\"}},\"coloraxis\":{\"colorbar\":{\"outlinewidth\":0,\"ticks\":\"\"}},\"colorscale\":{\"sequential\":[[0.0,\"#0d0887\"],[0.1111111111111111,\"#46039f\"],[0.2222222222222222,\"#7201a8\"],[0.3333333333333333,\"#9c179e\"],[0.4444444444444444,\"#bd3786\"],[0.5555555555555556,\"#d8576b\"],[0.6666666666666666,\"#ed7953\"],[0.7777777777777778,\"#fb9f3a\"],[0.8888888888888888,\"#fdca26\"],[1.0,\"#f0f921\"]],\"sequentialminus\":[[0.0,\"#0d0887\"],[0.1111111111111111,\"#46039f\"],[0.2222222222222222,\"#7201a8\"],[0.3333333333333333,\"#9c179e\"],[0.4444444444444444,\"#bd3786\"],[0.5555555555555556,\"#d8576b\"],[0.6666666666666666,\"#ed7953\"],[0.7777777777777778,\"#fb9f3a\"],[0.8888888888888888,\"#fdca26\"],[1.0,\"#f0f921\"]],\"diverging\":[[0,\"#8e0152\"],[0.1,\"#c51b7d\"],[0.2,\"#de77ae\"],[0.3,\"#f1b6da\"],[0.4,\"#fde0ef\"],[0.5,\"#f7f7f7\"],[0.6,\"#e6f5d0\"],[0.7,\"#b8e186\"],[0.8,\"#7fbc41\"],[0.9,\"#4d9221\"],[1,\"#276419\"]]},\"xaxis\":{\"gridcolor\":\"white\",\"linecolor\":\"white\",\"ticks\":\"\",\"title\":{\"standoff\":15},\"zerolinecolor\":\"white\",\"automargin\":true,\"zerolinewidth\":2},\"yaxis\":{\"gridcolor\":\"white\",\"linecolor\":\"white\",\"ticks\":\"\",\"title\":{\"standoff\":15},\"zerolinecolor\":\"white\",\"automargin\":true,\"zerolinewidth\":2},\"scene\":{\"xaxis\":{\"backgroundcolor\":\"#E5ECF6\",\"gridcolor\":\"white\",\"linecolor\":\"white\",\"showbackground\":true,\"ticks\":\"\",\"zerolinecolor\":\"white\",\"gridwidth\":2},\"yaxis\":{\"backgroundcolor\":\"#E5ECF6\",\"gridcolor\":\"white\",\"linecolor\":\"white\",\"showbackground\":true,\"ticks\":\"\",\"zerolinecolor\":\"white\",\"gridwidth\":2},\"zaxis\":{\"backgroundcolor\":\"#E5ECF6\",\"gridcolor\":\"white\",\"linecolor\":\"white\",\"showbackground\":true,\"ticks\":\"\",\"zerolinecolor\":\"white\",\"gridwidth\":2}},\"shapedefaults\":{\"line\":{\"color\":\"#2a3f5f\"}},\"annotationdefaults\":{\"arrowcolor\":\"#2a3f5f\",\"arrowhead\":0,\"arrowwidth\":1},\"geo\":{\"bgcolor\":\"white\",\"landcolor\":\"#E5ECF6\",\"subunitcolor\":\"white\",\"showland\":true,\"showlakes\":true,\"lakecolor\":\"white\"},\"title\":{\"x\":0.05},\"mapbox\":{\"style\":\"light\"}}},\"scene\":{\"xaxis\":{\"title\":{\"text\":\"X (x)\"},\"range\":[-2.500000000000121,2.500000000000121]},\"yaxis\":{\"title\":{\"text\":\"Y (y)\"},\"range\":[-2.500000000000121,2.500000000000121]},\"zaxis\":{\"title\":{\"text\":\"Z (z)\"},\"range\":[-2.500000000000121,2.500000000000121]},\"aspectmode\":\"cube\"},\"width\":800,\"height\":800,\"title\":{\"text\":\"Geodesic Trajectories and Spherical Object\"}},                        {\"responsive\": true}                    ).then(function(){\n",
       "                            \n",
       "var gd = document.getElementById('8d553ba7-f782-4117-b4bf-3bdd2ea7fdd2');\n",
       "var x = new MutationObserver(function (mutations, observer) {{\n",
       "        var display = window.getComputedStyle(gd).display;\n",
       "        if (!display || display === 'none') {{\n",
       "            console.log([gd, 'removed!']);\n",
       "            Plotly.purge(gd);\n",
       "            observer.disconnect();\n",
       "        }}\n",
       "}});\n",
       "\n",
       "// Listen for the removal of the full notebook cells\n",
       "var notebookContainer = gd.closest('#notebook-container');\n",
       "if (notebookContainer) {{\n",
       "    x.observe(notebookContainer, {childList: true});\n",
       "}}\n",
       "\n",
       "// Listen for the clearing of the current output cell\n",
       "var outputEl = gd.closest('.output');\n",
       "if (outputEl) {{\n",
       "    x.observe(outputEl, {childList: true});\n",
       "}}\n",
       "\n",
       "                        })                };                });            </script>        </div>"
      ]
     },
     "metadata": {},
     "output_type": "display_data"
    }
   ],
   "source": [
    "import plotly.graph_objects as go\n",
    "import numpy as np\n",
    "from matplotlib import cm\n",
    "from matplotlib.colors import Normalize\n",
    "\n",
    "# Define the figure\n",
    "fig = go.Figure()\n",
    "\n",
    "# Normalize and prepare colors for geodesics\n",
    "norm = Normalize(vmin=np.min(angles), vmax=np.max(angles))\n",
    "colors = cm.viridis(norm(angles))\n",
    "hex_colors = [f'rgb({int(c[0]*255)}, {int(c[1]*255)}, {int(c[2]*255)})' for c in colors]\n",
    "\n",
    "# Plotting each geodesic with its corresponding color\n",
    "angs = 1\n",
    "for i in range(angs):\n",
    "    geod = [g[i, :] for g in geods]\n",
    "    ts, xs, ys, zs = geod[:4]\n",
    "    xs = [x for x in xs]\n",
    "    ys = [float(y) for y in ys]\n",
    "    zs = [float(z) for z in zs]\n",
    "\n",
    "    # Position plot\n",
    "    fig.add_trace(go.Scatter3d(x=xs, y=ys, z=zs, mode='lines', line=dict(color=\"green\"), name='Position'))\n",
    "    dx, dy, dz = geod[1][5:]\n",
    "\n",
    "    # Adding a vector trace from the start marker\n",
    "    fig.add_trace(go.Scatter3d(\n",
    "        x=[xs[1], xs[1] + dx],\n",
    "        y=[ys[1], ys[1] + dy],\n",
    "        z=[zs[1], zs[1] + dz],\n",
    "        mode='lines+markers',\n",
    "        marker=dict(size=4, color='orange'),  # Style the endpoint marker\n",
    "        line=dict(color='orange', width=6),   # Style the line\n",
    "        name='Velocity'\n",
    "    ))\n",
    "\n",
    "\n",
    "fig.add_trace(go.Scatter3d(\n",
    "    x=[0], y=[0], z=[0],\n",
    "    mode='markers',\n",
    "    marker=dict(size=5, color='red'),  # Adjust size and color as needed\n",
    "    name='Origin'\n",
    "))\n",
    "fig.add_trace(go.Scatter3d(\n",
    "    x=[xs[1]], y=[ys[1]], z=[zs[1]],\n",
    "    mode='markers',\n",
    "    marker=dict(size=5, color='green'),  # Adjust size and color as needed\n",
    "    name='Start'\n",
    "))\n",
    "axisLim=max(abs((min(min(xs, ys, zs)))), max(max(xs, ys, zs)))\n",
    "axisLim+=2\n",
    "fig.update_layout(\n",
    "    width=800,\n",
    "    height=800,\n",
    "    scene=dict(\n",
    "        xaxis_title='X (x)',\n",
    "        yaxis_title='Y (y)',\n",
    "        zaxis_title='Z (z)',\n",
    "        aspectmode='cube',  # Ensure equal scaling\n",
    "        \n",
    "        xaxis=dict(range=[-axisLim, axisLim]), # Set axis limits to match sphere radius\n",
    "        yaxis=dict(range=[-axisLim, axisLim]),\n",
    "        zaxis=dict(range=[-axisLim, axisLim])\n",
    "    ),\n",
    "    title='Geodesic Trajectories and Spherical Object'\n",
    ")\n",
    "\n",
    "fig.show()\n"
   ]
  },
  {
   "cell_type": "code",
   "execution_count": 74,
   "id": "95ca10a9",
   "metadata": {},
   "outputs": [
    {
     "data": {
      "image/png": "[encoded data removed]",
      "text/plain": [
       "<Figure size 3000x3000 with 1 Axes>"
      ]
     },
     "metadata": {},
     "output_type": "display_data"
    }
   ],
   "source": [
    "import matplotlib.pyplot as plt\n",
    "from mpl_toolkits.mplot3d import Axes3D\n",
    "from matplotlib import cm\n",
    "from matplotlib.colors import ListedColormap, Normalize\n",
    "from matplotlib.colorbar import ColorbarBase\n",
    "import numpy as np\n",
    "\n",
    "fig = plt.figure(figsize=(30, 30))\n",
    "ax2 = fig.add_subplot(121, projection='3d')\n",
    "\n",
    "geods_transposed = geods.transpose(1, 0, 2)\n",
    "\n",
    "for geod_angle in geods_transposed:\n",
    "    positions = geod_angle[:, 0:4]\n",
    "    velocities = geod_angle[:, 4:]\n",
    "\n",
    "    ts, xs, ys, zs = zip(*positions)\n",
    "    tps, xps, yps, zps =  zip(*velocities)\n",
    "\n",
    "    # Plot for velocity\n",
    "    ax2.plot(ts, xs, ys)\n",
    "    ax2.set_xlabel('Time (t)')\n",
    "    ax2.set_ylabel(\"X Position (x')\")\n",
    "    ax2.set_zlabel(\"Y Position (y')\")\n",
    "    ax2.set_title(\"Posit Along the Geodesics\")\n",
    "\n",
    "plt.show()\n",
    "\n",
    "\n",
    "\n",
    "\n",
    "# for geod, color, theta in zip(geods, colors, angles):\n",
    "#     print(geod.shape)\n",
    "#     positions = geod[:, 0:4]\n",
    "#     velocities = geod[:, 4:]\n",
    "\n",
    "#     ts, xs, ys, zs = zip(*positions)\n",
    "#     tps, xps, yps, zps =  zip(*velocities)\n",
    "\n",
    "\n",
    "#     # Plot for velocity\n",
    "#     ax2.plot(ts, xps, yps, color=color)\n",
    "#     ax2.set_xlabel('Time (t)')\n",
    "#     ax2.set_ylabel(\"X Velocity (x')\")\n",
    "#     ax2.set_zlabel(\"Y Velocity (y')\")\n",
    "#     ax2.set_title(\"Velocity Along the Geodesics\")\n",
    "\n",
    "# Adding legends outside the plots\n",
    "# ax.legend(loc='center left', bbox_to_anchor=(1.05, 0.5), title=\"Initial angles\")\n",
    "# ax2.legend(['Velocity Profiles'], loc='center left', bbox_to_anchor=(1.05, 0.5))\n",
    "\n",
    "# plt.tight_layout()\n",
    "#"
   ]
  },
  {
   "cell_type": "code",
   "execution_count": 76,
   "id": "d9b07dd3",
   "metadata": {},
   "outputs": [
    {
     "ename": "NameError",
     "evalue": "name 'angles_length' is not defined",
     "output_type": "error",
     "traceback": [
      "\u001b[1;31m---------------------------------------------------------------------------\u001b[0m",
      "\u001b[1;31mNameError\u001b[0m                                 Traceback (most recent call last)",
      "Cell \u001b[1;32mIn[76], line 26\u001b[0m\n\u001b[0;32m     20\u001b[0m   fig\u001b[38;5;241m.\u001b[39madd_trace(go\u001b[38;5;241m.\u001b[39mCone(x\u001b[38;5;241m=\u001b[39m[ts[\u001b[38;5;241m0\u001b[39m]], y\u001b[38;5;241m=\u001b[39m[xs[\u001b[38;5;241m0\u001b[39m]], z\u001b[38;5;241m=\u001b[39m[ys[\u001b[38;5;241m0\u001b[39m]],\n\u001b[0;32m     21\u001b[0m               u\u001b[38;5;241m=\u001b[39m[tps[\u001b[38;5;241m0\u001b[39m]], v\u001b[38;5;241m=\u001b[39m[xps[\u001b[38;5;241m0\u001b[39m]], w\u001b[38;5;241m=\u001b[39m[yps[\u001b[38;5;241m0\u001b[39m]],\n\u001b[0;32m     22\u001b[0m               sizemode\u001b[38;5;241m=\u001b[39m\u001b[38;5;124m\"\u001b[39m\u001b[38;5;124mscaled\u001b[39m\u001b[38;5;124m\"\u001b[39m,\n\u001b[0;32m     23\u001b[0m               sizeref\u001b[38;5;241m=\u001b[39m\u001b[38;5;241m0.2\u001b[39m,\n\u001b[0;32m     24\u001b[0m               anchor\u001b[38;5;241m=\u001b[39m\u001b[38;5;124m\"\u001b[39m\u001b[38;5;124mtail\u001b[39m\u001b[38;5;124m\"\u001b[39m))\n\u001b[0;32m     25\u001b[0m   count \u001b[38;5;241m+\u001b[39m\u001b[38;5;241m=\u001b[39m \u001b[38;5;241m1\u001b[39m\n\u001b[1;32m---> 26\u001b[0m   \u001b[38;5;28mprint\u001b[39m(\u001b[38;5;124m\"\u001b[39m\u001b[38;5;124mplotting, currently: \u001b[39m\u001b[38;5;132;01m{}\u001b[39;00m\u001b[38;5;124m%\u001b[39m\u001b[38;5;124m\"\u001b[39m\u001b[38;5;241m.\u001b[39mformat(\u001b[38;5;28mstr\u001b[39m((count\u001b[38;5;241m/\u001b[39mangles_length)\u001b[38;5;241m*\u001b[39m\u001b[38;5;241m100\u001b[39m)), end\u001b[38;5;241m=\u001b[39m\u001b[38;5;124m\"\u001b[39m\u001b[38;5;130;01m\\r\u001b[39;00m\u001b[38;5;124m\"\u001b[39m)\n\u001b[0;32m     28\u001b[0m fig\u001b[38;5;241m.\u001b[39mupdate_layout(scene \u001b[38;5;241m=\u001b[39m \u001b[38;5;28mdict\u001b[39m(\n\u001b[0;32m     29\u001b[0m           xaxis_title\u001b[38;5;241m=\u001b[39m\u001b[38;5;124m'\u001b[39m\u001b[38;5;124mTime (t)\u001b[39m\u001b[38;5;124m'\u001b[39m,\n\u001b[0;32m     30\u001b[0m           yaxis_title\u001b[38;5;241m=\u001b[39m\u001b[38;5;124m\"\u001b[39m\u001b[38;5;124mX Position (x\u001b[39m\u001b[38;5;124m'\u001b[39m\u001b[38;5;124m)\u001b[39m\u001b[38;5;124m\"\u001b[39m,\n\u001b[0;32m     31\u001b[0m           zaxis_title\u001b[38;5;241m=\u001b[39m\u001b[38;5;124m\"\u001b[39m\u001b[38;5;124mY Position (y\u001b[39m\u001b[38;5;124m'\u001b[39m\u001b[38;5;124m)\u001b[39m\u001b[38;5;124m\"\u001b[39m),\n\u001b[0;32m     32\u001b[0m           width\u001b[38;5;241m=\u001b[39m\u001b[38;5;241m700\u001b[39m,\n\u001b[0;32m     33\u001b[0m           margin\u001b[38;5;241m=\u001b[39m\u001b[38;5;28mdict\u001b[39m(r\u001b[38;5;241m=\u001b[39m\u001b[38;5;241m20\u001b[39m, b\u001b[38;5;241m=\u001b[39m\u001b[38;5;241m10\u001b[39m, l\u001b[38;5;241m=\u001b[39m\u001b[38;5;241m10\u001b[39m, t\u001b[38;5;241m=\u001b[39m\u001b[38;5;241m10\u001b[39m))\n\u001b[0;32m     35\u001b[0m fig\u001b[38;5;241m.\u001b[39mshow()\n",
      "\u001b[1;31mNameError\u001b[0m: name 'angles_length' is not defined"
     ]
    }
   ],
   "source": [
    "import plotly.graph_objects as go\n",
    "import numpy as np\n",
    "\n",
    "geods_transposed = geods.transpose(1, 0, 2)\n",
    "\n",
    "fig = go.Figure()\n",
    "count = 0\n",
    "\n",
    "for geod_angle in geods_transposed:\n",
    "  positions = geod_angle[:, 0:4]\n",
    "  velocities = geod_angle[:, 4:]\n",
    "\n",
    "  ts, xs, ys, zs = zip(*positions)\n",
    "  tps, xps, yps, zps =  zip(*velocities)\n",
    "\n",
    "  # Plot for velocity\n",
    "  fig.add_trace(go.Scatter3d(x=ts, y=xs, z=ys, mode='lines'))\n",
    "\n",
    "  # Add initial velocity vector\n",
    "  fig.add_trace(go.Cone(x=[ts[0]], y=[xs[0]], z=[ys[0]],\n",
    "              u=[tps[0]], v=[xps[0]], w=[yps[0]],\n",
    "              sizemode=\"scaled\",\n",
    "              sizeref=0.2,\n",
    "              anchor=\"tail\"))\n",
    "  count += 1\n",
    "  print(\"plotting, currently: {}%\".format(str((count/angles_length)*100)), end=\"\\r\")\n",
    "\n",
    "fig.update_layout(scene = dict(\n",
    "          xaxis_title='Time (t)',\n",
    "          yaxis_title=\"X Position (x')\",\n",
    "          zaxis_title=\"Y Position (y')\"),\n",
    "          width=700,\n",
    "          margin=dict(r=20, b=10, l=10, t=10))\n",
    "\n",
    "fig.show()"
   ]
  },
  {
   "cell_type": "code",
   "execution_count": 51,
   "id": "a86ff7a5",
   "metadata": {},
   "outputs": [
    {
     "data": {
      "text/plain": [
       "(25000, 8)"
      ]
     },
     "execution_count": 51,
     "metadata": {},
     "output_type": "execute_result"
    }
   ],
   "source": [
    "np.array([g[0, :] for g in geods]).shape"
   ]
  },
  {
   "cell_type": "code",
   "execution_count": null,
   "id": "6aca294e",
   "metadata": {},
   "outputs": [],
   "source": [
    "!pip freeze > req.txt"
   ]
  },
  {
   "cell_type": "code",
   "execution_count": null,
   "id": "238fa03c",
   "metadata": {},
   "outputs": [],
   "source": [
    "xs"
   ]
  },
  {
   "cell_type": "code",
   "execution_count": null,
   "id": "e60426b1",
   "metadata": {},
   "outputs": [],
   "source": [
    "np.array([geod[9,:] for geod in geods]).shape"
   ]
  },
  {
   "cell_type": "code",
   "execution_count": null,
   "id": "6820079a",
   "metadata": {},
   "outputs": [],
   "source": [
    "geods[0].shape"
   ]
  },
  {
   "cell_type": "code",
   "execution_count": null,
   "id": "1576e9af",
   "metadata": {},
   "outputs": [],
   "source": [
    "geods[0][0][1][1:4]"
   ]
  },
  {
   "cell_type": "code",
   "execution_count": null,
   "id": "cca710ba",
   "metadata": {},
   "outputs": [],
   "source": [
    "import matplotlib.pyplot as plt\n",
    "from mpl_toolkits.mplot3d import Axes3D\n",
    "from matplotlib import cm\n",
    "from matplotlib.colors import ListedColormap, Normalize\n",
    "from matplotlib.colorbar import ColorbarBase\n",
    "\n",
    "fig = plt.figure(figsize=(14, 7))\n",
    "\n",
    "# Create a new subplot for position\n",
    "ax = fig.add_subplot(121, projection='3d')\n",
    "ax.set_xlabel('X Position (x)')\n",
    "ax.set_ylabel('Y Position (y)')\n",
    "ax.set_zlabel('Z Position (z)')\n",
    "ax.set_title('Geodesic Trajectories in Space-Time')\n",
    "\n",
    "# Create a new subplot for velocity\n",
    "ax2 = fig.add_subplot(122, projection='3d')\n",
    "ax2.set_xlabel('Time (t)')\n",
    "ax2.set_ylabel(\"Z Velocity (z')\")\n",
    "ax2.set_zlabel(\"Y Velocity (y')\")\n",
    "ax2.set_title(\"Velocity Along the Geodesics\")\n",
    "\n",
    "# Normalize for the color map to correspond to the range of theta_0\n",
    "norm = Normalize(vmin=np.min(angles), vmax=np.max(angles))\n",
    "\n",
    "# Generate a color map ranging from 0 to 1 over the number of geodesics\n",
    "colors = cm.viridis(norm(angles))\n",
    "\n",
    "# Plotting each geodesic with its corresponding color\n",
    "for geod, color in zip(geods, colors):\n",
    "    lambdas = list(geod.keys())\n",
    "    positions = [geod[key][0] for key in lambdas]\n",
    "    velocities = [geod[key][1] for key in lambdas]\n",
    "    ts, xs, ys, zs = zip(*positions)\n",
    "    tps, xps, yps, zps = zip(*velocities)\n",
    "\n",
    "    # Position plot\n",
    "    ax.plot(xs, ys, zs, color=color)\n",
    "\n",
    "    # Velocity plot\n",
    "    ax2.plot(ts, zps, yps, color=color)\n",
    "\n",
    "# Create a sphere at the origin\n",
    "r_s = 2*G_val*M_val/c_val**2  # Set the radius of the sphere\n",
    "u, v = np.mgrid[0:2*np.pi:20j, 0:np.pi:10j]\n",
    "x = r_s*np.cos(u)*np.sin(v)\n",
    "y = r_s*np.sin(u)*np.sin(v)\n",
    "z = r_s*np.cos(v)\n",
    "\n",
    "# Plot sphere in both subplots\n",
    "ax.plot_surface(x, y, z, color='b', alpha=0.5)\n",
    "\n",
    "# Create a colorbar as a legend\n",
    "sm = cm.ScalarMappable(cmap=cm.viridis, norm=norm)\n",
    "sm.set_array([])  # Dummy array for the colorbar\n",
    "\n",
    "# Add colorbar to the figure\n",
    "cbar = fig.colorbar(sm, ax=[ax, ax2], orientation='vertical', fraction=0.015, pad=0.1)\n",
    "cbar.set_label('Initial angle $\\\\theta_0$ (radians)')\n",
    "\n",
    "plt.show()"
   ]
  },
  {
   "cell_type": "code",
   "execution_count": null,
   "id": "3a205e3a",
   "metadata": {
    "scrolled": false
   },
   "outputs": [],
   "source": [
    "# Creating 2D plots for t-x, t-y, and x-y\n",
    "fig, (ax1, ax2, ax3) = plt.subplots(1, 3, figsize=(18, 5))  # 1 row, 3 columns\n",
    "\n",
    "# t-x plot\n",
    "ax1.plot(ts, xs, 'b.-')  # 'b.-' is the style: blue line with dots\n",
    "ax1.set_xlabel('Time (t)')\n",
    "ax1.set_ylabel('X Position (x)')\n",
    "ax1.set_title('Time vs X Position')\n",
    "ax1.grid(True)\n",
    "\n",
    "# t-y plot\n",
    "ax2.plot(ts, zs, 'r.-')  # 'r.-' is the style: red line with dots\n",
    "ax2.set_xlabel('Time (t)')\n",
    "ax2.set_ylabel('z Position (z)')\n",
    "ax2.set_title('Time vs z Position')\n",
    "ax2.grid(True)\n",
    "\n",
    "# x-y plot\n",
    "ax3.plot(zs, ys, 'g.-')  # 'g.-' is the style: green line with dots\n",
    "ax3.set_xlabel('z Position (z)')\n",
    "ax3.set_ylabel('Y Position (y)')\n",
    "ax3.set_title('z Position vs Y Position')\n",
    "ax3.grid(True)\n",
    "\n",
    "# Display the plots next to each other\n",
    "plt.tight_layout()\n",
    "plt.show()"
   ]
  },
  {
   "cell_type": "code",
   "execution_count": null,
   "id": "4124b638",
   "metadata": {
    "scrolled": true
   },
   "outputs": [],
   "source": [
    "{k: v[1] for k, v in geods[0].items()}"
   ]
  },
  {
   "cell_type": "code",
   "execution_count": null,
   "id": "59ea1947",
   "metadata": {},
   "outputs": [],
   "source": [
    "geods"
   ]
  }
 ],
 "metadata": {
  "kernelspec": {
   "display_name": "Python 3 (ipykernel)",
   "language": "python",
   "name": "python3"
  },
  "language_info": {
   "codemirror_mode": {
    "name": "ipython",
    "version": 3
   },
   "file_extension": ".py",
   "mimetype": "text/x-python",
   "name": "python",
   "nbconvert_exporter": "python",
   "pygments_lexer": "ipython3",
   "version": "3.11.5"
  }
 },
 "nbformat": 4,
 "nbformat_minor": 5
}
