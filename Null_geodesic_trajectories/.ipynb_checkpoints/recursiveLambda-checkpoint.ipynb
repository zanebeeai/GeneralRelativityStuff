{
 "cells": [
  {
   "cell_type": "code",
   "execution_count": 10,
   "id": "9550b991",
   "metadata": {},
   "outputs": [
    {
     "name": "stdout",
     "output_type": "stream",
     "text": [
      "start computation\n",
      "l: 0 mu: 0 nu0\n",
      "0.125*sigma*v_s**2*(v_s*t(lambda) - x(lambda))*(v_s*(2*v_s + 1)*(tanh(sigma*(R - sqrt(v_s**2*t(lambda)**2 - 2*v_s*t(lambda)*x(lambda) + x(lambda)**2 + y(lambda)**2 + z(lambda)**2))) + tanh(sigma*(R + sqrt(v_s**2*t(lambda)**2 - 2*v_s*t(lambda)*x(lambda) + x(lambda)**2 + y(lambda)**2 + z(lambda)**2))))**2 + 2*(v_s + 2)*(tanh(sigma*(R - sqrt((v_s*t(lambda) - x(lambda))**2 + y(lambda)**2 + z(lambda)**2))) + tanh(sigma*(R + sqrt((v_s*t(lambda) - x(lambda))**2 + y(lambda)**2 + z(lambda)**2))))*tanh(R*sigma))*(tanh(sigma*(R - sqrt((v_s*t(lambda) - x(lambda))**2 + y(lambda)**2 + z(lambda)**2)))**2 - tanh(sigma*(R + sqrt((v_s*t(lambda) - x(lambda))**2 + y(lambda)**2 + z(lambda)**2)))**2)/(sqrt((v_s*t(lambda) - x(lambda))**2 + y(lambda)**2 + z(lambda)**2)*tanh(R*sigma)**3)\n",
      "l: 0 mu: 0 nu1\n",
      "0.125*sigma*v_s*(v_s*t(lambda) - x(lambda))*(v_s*(2*v_s + 1)*(tanh(sigma*(R - sqrt(v_s**2*t(lambda)**2 - 2*v_s*t(lambda)*x(lambda) + x(lambda)**2 + y(lambda)**2 + z(lambda)**2))) + tanh(sigma*(R + sqrt(v_s**2*t(lambda)**2 - 2*v_s*t(lambda)*x(lambda) + x(lambda)**2 + y(lambda)**2 + z(lambda)**2)))) + 2*(v_s + 2)*tanh(R*sigma))*(tanh(sigma*(R - sqrt((v_s*t(lambda) - x(lambda))**2 + y(lambda)**2 + z(lambda)**2)))**2 - tanh(sigma*(R + sqrt((v_s*t(lambda) - x(lambda))**2 + y(lambda)**2 + z(lambda)**2)))**2)/(sqrt((v_s*t(lambda) - x(lambda))**2 + y(lambda)**2 + z(lambda)**2)*tanh(R*sigma)**2)\n",
      "l: 0 mu: 0 nu2\n",
      "0\n",
      "l: 0 mu: 0 nu3\n",
      "0\n",
      "l: 0 mu: 1 nu0\n",
      "0.125*sigma*v_s*(v_s*t(lambda) - x(lambda))*(v_s*(2*v_s + 1)*(tanh(sigma*(R - sqrt(v_s**2*t(lambda)**2 - 2*v_s*t(lambda)*x(lambda) + x(lambda)**2 + y(lambda)**2 + z(lambda)**2))) + tanh(sigma*(R + sqrt(v_s**2*t(lambda)**2 - 2*v_s*t(lambda)*x(lambda) + x(lambda)**2 + y(lambda)**2 + z(lambda)**2)))) + 2*(v_s + 2)*tanh(R*sigma))*(tanh(sigma*(R - sqrt((v_s*t(lambda) - x(lambda))**2 + y(lambda)**2 + z(lambda)**2)))**2 - tanh(sigma*(R + sqrt((v_s*t(lambda) - x(lambda))**2 + y(lambda)**2 + z(lambda)**2)))**2)/(sqrt((v_s*t(lambda) - x(lambda))**2 + y(lambda)**2 + z(lambda)**2)*tanh(R*sigma)**2)\n",
      "l: 0 mu: 1 nu1\n",
      "0\n",
      "l: 0 mu: 1 nu2\n",
      "0\n",
      "l: 0 mu: 1 nu3\n",
      "0\n",
      "l: 0 mu: 2 nu0\n",
      "0\n",
      "l: 0 mu: 2 nu1\n",
      "0\n",
      "l: 0 mu: 2 nu2\n",
      "0\n",
      "l: 0 mu: 2 nu3\n",
      "0\n",
      "l: 0 mu: 3 nu0\n",
      "0\n",
      "l: 0 mu: 3 nu1\n",
      "0\n",
      "l: 0 mu: 3 nu2\n",
      "0\n",
      "l: 0 mu: 3 nu3\n",
      "0\n",
      "l: 1 mu: 0 nu0\n",
      "-0.0625*sigma*v_s**2*(v_s*t(lambda) - x(lambda))*(2*v_s*(v_s + 2)*(tanh(sigma*(R - sqrt(v_s**2*t(lambda)**2 - 2*v_s*t(lambda)*x(lambda) + x(lambda)**2 + y(lambda)**2 + z(lambda)**2))) + tanh(sigma*(R + sqrt(v_s**2*t(lambda)**2 - 2*v_s*t(lambda)*x(lambda) + x(lambda)**2 + y(lambda)**2 + z(lambda)**2))))*tanh(R*sigma) + (2*v_s + 1)*(v_s**2*tanh(sigma*(R - sqrt(v_s**2*t(lambda)**2 - 2*v_s*t(lambda)*x(lambda) + x(lambda)**2 + y(lambda)**2 + z(lambda)**2)))**2 + 2*v_s**2*tanh(sigma*(R - sqrt(v_s**2*t(lambda)**2 - 2*v_s*t(lambda)*x(lambda) + x(lambda)**2 + y(lambda)**2 + z(lambda)**2)))*tanh(sigma*(R + sqrt(v_s**2*t(lambda)**2 - 2*v_s*t(lambda)*x(lambda) + x(lambda)**2 + y(lambda)**2 + z(lambda)**2))) + v_s**2*tanh(sigma*(R + sqrt(v_s**2*t(lambda)**2 - 2*v_s*t(lambda)*x(lambda) + x(lambda)**2 + y(lambda)**2 + z(lambda)**2)))**2 - 4*tanh(R*sigma)**2))*(tanh(sigma*(R - sqrt((v_s*t(lambda) - x(lambda))**2 + y(lambda)**2 + z(lambda)**2))) + tanh(sigma*(R + sqrt((v_s*t(lambda) - x(lambda))**2 + y(lambda)**2 + z(lambda)**2))))*(tanh(sigma*(R - sqrt((v_s*t(lambda) - x(lambda))**2 + y(lambda)**2 + z(lambda)**2)))**2 - tanh(sigma*(R + sqrt((v_s*t(lambda) - x(lambda))**2 + y(lambda)**2 + z(lambda)**2)))**2)/(sqrt((v_s*t(lambda) - x(lambda))**2 + y(lambda)**2 + z(lambda)**2)*tanh(R*sigma)**4)\n",
      "l: 1 mu: 0 nu1\n",
      "-0.0625*sigma*v_s*(v_s*t(lambda) - x(lambda))*(2*v_s*(v_s + 2)*(tanh(sigma*(R - sqrt(v_s**2*t(lambda)**2 - 2*v_s*t(lambda)*x(lambda) + x(lambda)**2 + y(lambda)**2 + z(lambda)**2))) + tanh(sigma*(R + sqrt(v_s**2*t(lambda)**2 - 2*v_s*t(lambda)*x(lambda) + x(lambda)**2 + y(lambda)**2 + z(lambda)**2))))*tanh(R*sigma) + (2*v_s + 1)*(v_s**2*tanh(sigma*(R - sqrt(v_s**2*t(lambda)**2 - 2*v_s*t(lambda)*x(lambda) + x(lambda)**2 + y(lambda)**2 + z(lambda)**2)))**2 + 2*v_s**2*tanh(sigma*(R - sqrt(v_s**2*t(lambda)**2 - 2*v_s*t(lambda)*x(lambda) + x(lambda)**2 + y(lambda)**2 + z(lambda)**2)))*tanh(sigma*(R + sqrt(v_s**2*t(lambda)**2 - 2*v_s*t(lambda)*x(lambda) + x(lambda)**2 + y(lambda)**2 + z(lambda)**2))) + v_s**2*tanh(sigma*(R + sqrt(v_s**2*t(lambda)**2 - 2*v_s*t(lambda)*x(lambda) + x(lambda)**2 + y(lambda)**2 + z(lambda)**2)))**2 - 4*tanh(R*sigma)**2))*(tanh(sigma*(R - sqrt((v_s*t(lambda) - x(lambda))**2 + y(lambda)**2 + z(lambda)**2)))**2 - tanh(sigma*(R + sqrt((v_s*t(lambda) - x(lambda))**2 + y(lambda)**2 + z(lambda)**2)))**2)/(sqrt((v_s*t(lambda) - x(lambda))**2 + y(lambda)**2 + z(lambda)**2)*tanh(R*sigma)**3)\n",
      "l: 1 mu: 0 nu2\n",
      "0\n",
      "l: 1 mu: 0 nu3\n",
      "0\n",
      "l: 1 mu: 1 nu0\n",
      "-0.0625*sigma*v_s*(v_s*t(lambda) - x(lambda))*(2*v_s*(v_s + 2)*(tanh(sigma*(R - sqrt(v_s**2*t(lambda)**2 - 2*v_s*t(lambda)*x(lambda) + x(lambda)**2 + y(lambda)**2 + z(lambda)**2))) + tanh(sigma*(R + sqrt(v_s**2*t(lambda)**2 - 2*v_s*t(lambda)*x(lambda) + x(lambda)**2 + y(lambda)**2 + z(lambda)**2))))*tanh(R*sigma) + (2*v_s + 1)*(v_s**2*tanh(sigma*(R - sqrt(v_s**2*t(lambda)**2 - 2*v_s*t(lambda)*x(lambda) + x(lambda)**2 + y(lambda)**2 + z(lambda)**2)))**2 + 2*v_s**2*tanh(sigma*(R - sqrt(v_s**2*t(lambda)**2 - 2*v_s*t(lambda)*x(lambda) + x(lambda)**2 + y(lambda)**2 + z(lambda)**2)))*tanh(sigma*(R + sqrt(v_s**2*t(lambda)**2 - 2*v_s*t(lambda)*x(lambda) + x(lambda)**2 + y(lambda)**2 + z(lambda)**2))) + v_s**2*tanh(sigma*(R + sqrt(v_s**2*t(lambda)**2 - 2*v_s*t(lambda)*x(lambda) + x(lambda)**2 + y(lambda)**2 + z(lambda)**2)))**2 - 4*tanh(R*sigma)**2))*(tanh(sigma*(R - sqrt((v_s*t(lambda) - x(lambda))**2 + y(lambda)**2 + z(lambda)**2)))**2 - tanh(sigma*(R + sqrt((v_s*t(lambda) - x(lambda))**2 + y(lambda)**2 + z(lambda)**2)))**2)/(sqrt((v_s*t(lambda) - x(lambda))**2 + y(lambda)**2 + z(lambda)**2)*tanh(R*sigma)**3)\n",
      "l: 1 mu: 1 nu1\n",
      "0\n",
      "l: 1 mu: 1 nu2\n",
      "0\n",
      "l: 1 mu: 1 nu3\n",
      "0\n",
      "l: 1 mu: 2 nu0\n",
      "0\n",
      "l: 1 mu: 2 nu1\n",
      "0\n",
      "l: 1 mu: 2 nu2\n",
      "0\n",
      "l: 1 mu: 2 nu3\n",
      "0\n",
      "l: 1 mu: 3 nu0\n",
      "0\n",
      "l: 1 mu: 3 nu1\n",
      "0\n",
      "l: 1 mu: 3 nu2\n",
      "0\n",
      "l: 1 mu: 3 nu3\n",
      "0\n",
      "l: 2 mu: 0 nu0\n",
      "0.25*sigma*v_s**2*(tanh(sigma*(R - sqrt((v_s*t(lambda) - x(lambda))**2 + y(lambda)**2 + z(lambda)**2))) + tanh(sigma*(R + sqrt((v_s*t(lambda) - x(lambda))**2 + y(lambda)**2 + z(lambda)**2))))*(tanh(sigma*(R - sqrt((v_s*t(lambda) - x(lambda))**2 + y(lambda)**2 + z(lambda)**2)))**2 - tanh(sigma*(R + sqrt((v_s*t(lambda) - x(lambda))**2 + y(lambda)**2 + z(lambda)**2)))**2)*y(lambda)/(sqrt((v_s*t(lambda) - x(lambda))**2 + y(lambda)**2 + z(lambda)**2)*tanh(R*sigma)**2)\n",
      "l: 2 mu: 0 nu1\n",
      "0.25*sigma*v_s*(tanh(sigma*(R - sqrt((v_s*t(lambda) - x(lambda))**2 + y(lambda)**2 + z(lambda)**2)))**2 - tanh(sigma*(R + sqrt((v_s*t(lambda) - x(lambda))**2 + y(lambda)**2 + z(lambda)**2)))**2)*y(lambda)/(sqrt((v_s*t(lambda) - x(lambda))**2 + y(lambda)**2 + z(lambda)**2)*tanh(R*sigma))\n",
      "l: 2 mu: 0 nu2\n",
      "0\n",
      "l: 2 mu: 0 nu3\n",
      "0\n",
      "l: 2 mu: 1 nu0\n",
      "0.25*sigma*v_s*(tanh(sigma*(R - sqrt((v_s*t(lambda) - x(lambda))**2 + y(lambda)**2 + z(lambda)**2)))**2 - tanh(sigma*(R + sqrt((v_s*t(lambda) - x(lambda))**2 + y(lambda)**2 + z(lambda)**2)))**2)*y(lambda)/(sqrt((v_s*t(lambda) - x(lambda))**2 + y(lambda)**2 + z(lambda)**2)*tanh(R*sigma))\n",
      "l: 2 mu: 1 nu1\n",
      "0\n",
      "l: 2 mu: 1 nu2\n",
      "0\n",
      "l: 2 mu: 1 nu3\n",
      "0\n",
      "l: 2 mu: 2 nu0\n",
      "0\n",
      "l: 2 mu: 2 nu1\n",
      "0\n",
      "l: 2 mu: 2 nu2\n",
      "0\n",
      "l: 2 mu: 2 nu3\n",
      "0\n",
      "l: 2 mu: 3 nu0\n",
      "0\n",
      "l: 2 mu: 3 nu1\n",
      "0\n",
      "l: 2 mu: 3 nu2\n",
      "0\n",
      "l: 2 mu: 3 nu3\n",
      "0\n",
      "l: 3 mu: 0 nu0\n",
      "0.25*sigma*v_s**2*(tanh(sigma*(R - sqrt((v_s*t(lambda) - x(lambda))**2 + y(lambda)**2 + z(lambda)**2))) + tanh(sigma*(R + sqrt((v_s*t(lambda) - x(lambda))**2 + y(lambda)**2 + z(lambda)**2))))*(tanh(sigma*(R - sqrt((v_s*t(lambda) - x(lambda))**2 + y(lambda)**2 + z(lambda)**2)))**2 - tanh(sigma*(R + sqrt((v_s*t(lambda) - x(lambda))**2 + y(lambda)**2 + z(lambda)**2)))**2)*z(lambda)/(sqrt((v_s*t(lambda) - x(lambda))**2 + y(lambda)**2 + z(lambda)**2)*tanh(R*sigma)**2)\n",
      "l: 3 mu: 0 nu1\n",
      "0.25*sigma*v_s*(tanh(sigma*(R - sqrt((v_s*t(lambda) - x(lambda))**2 + y(lambda)**2 + z(lambda)**2)))**2 - tanh(sigma*(R + sqrt((v_s*t(lambda) - x(lambda))**2 + y(lambda)**2 + z(lambda)**2)))**2)*z(lambda)/(sqrt((v_s*t(lambda) - x(lambda))**2 + y(lambda)**2 + z(lambda)**2)*tanh(R*sigma))\n",
      "l: 3 mu: 0 nu2\n",
      "0\n",
      "l: 3 mu: 0 nu3\n",
      "0\n",
      "l: 3 mu: 1 nu0\n",
      "0.25*sigma*v_s*(tanh(sigma*(R - sqrt((v_s*t(lambda) - x(lambda))**2 + y(lambda)**2 + z(lambda)**2)))**2 - tanh(sigma*(R + sqrt((v_s*t(lambda) - x(lambda))**2 + y(lambda)**2 + z(lambda)**2)))**2)*z(lambda)/(sqrt((v_s*t(lambda) - x(lambda))**2 + y(lambda)**2 + z(lambda)**2)*tanh(R*sigma))\n",
      "l: 3 mu: 1 nu1\n",
      "0\n",
      "l: 3 mu: 1 nu2\n",
      "0\n",
      "l: 3 mu: 1 nu3\n",
      "0\n",
      "l: 3 mu: 2 nu0\n",
      "0\n",
      "l: 3 mu: 2 nu1\n",
      "0\n",
      "l: 3 mu: 2 nu2\n",
      "0\n",
      "l: 3 mu: 2 nu3\n",
      "0\n",
      "l: 3 mu: 3 nu0\n",
      "0\n",
      "l: 3 mu: 3 nu1\n",
      "0\n",
      "l: 3 mu: 3 nu2\n",
      "0\n",
      "l: 3 mu: 3 nu3\n",
      "0\n"
     ]
    },
    {
     "data": {
      "text/latex": [
       "$\\displaystyle \\frac{0.125 \\sigma v_{s} \\left(v_{s} t{\\left(\\lambda \\right)} - x{\\left(\\lambda \\right)}\\right) \\left(v_{s} \\left(2 v_{s} + 1\\right) \\left(\\tanh{\\left(\\sigma \\left(R - \\sqrt{v_{s}^{2} t^{2}{\\left(\\lambda \\right)} - 2 v_{s} t{\\left(\\lambda \\right)} x{\\left(\\lambda \\right)} + x^{2}{\\left(\\lambda \\right)} + y^{2}{\\left(\\lambda \\right)} + z^{2}{\\left(\\lambda \\right)}}\\right) \\right)} + \\tanh{\\left(\\sigma \\left(R + \\sqrt{v_{s}^{2} t^{2}{\\left(\\lambda \\right)} - 2 v_{s} t{\\left(\\lambda \\right)} x{\\left(\\lambda \\right)} + x^{2}{\\left(\\lambda \\right)} + y^{2}{\\left(\\lambda \\right)} + z^{2}{\\left(\\lambda \\right)}}\\right) \\right)}\\right) + 2 \\left(v_{s} + 2\\right) \\tanh{\\left(R \\sigma \\right)}\\right) \\left(\\tanh^{2}{\\left(\\sigma \\left(R - \\sqrt{\\left(v_{s} t{\\left(\\lambda \\right)} - x{\\left(\\lambda \\right)}\\right)^{2} + y^{2}{\\left(\\lambda \\right)} + z^{2}{\\left(\\lambda \\right)}}\\right) \\right)} - \\tanh^{2}{\\left(\\sigma \\left(R + \\sqrt{\\left(v_{s} t{\\left(\\lambda \\right)} - x{\\left(\\lambda \\right)}\\right)^{2} + y^{2}{\\left(\\lambda \\right)} + z^{2}{\\left(\\lambda \\right)}}\\right) \\right)}\\right)}{\\sqrt{\\left(v_{s} t{\\left(\\lambda \\right)} - x{\\left(\\lambda \\right)}\\right)^{2} + y^{2}{\\left(\\lambda \\right)} + z^{2}{\\left(\\lambda \\right)}} \\tanh^{2}{\\left(R \\sigma \\right)}}$"
      ],
      "text/plain": [
       "0.125*sigma*v_s*(v_s*t(lambda) - x(lambda))*(v_s*(2*v_s + 1)*(tanh(sigma*(R - sqrt(v_s**2*t(lambda)**2 - 2*v_s*t(lambda)*x(lambda) + x(lambda)**2 + y(lambda)**2 + z(lambda)**2))) + tanh(sigma*(R + sqrt(v_s**2*t(lambda)**2 - 2*v_s*t(lambda)*x(lambda) + x(lambda)**2 + y(lambda)**2 + z(lambda)**2)))) + 2*(v_s + 2)*tanh(R*sigma))*(tanh(sigma*(R - sqrt((v_s*t(lambda) - x(lambda))**2 + y(lambda)**2 + z(lambda)**2)))**2 - tanh(sigma*(R + sqrt((v_s*t(lambda) - x(lambda))**2 + y(lambda)**2 + z(lambda)**2)))**2)/(sqrt((v_s*t(lambda) - x(lambda))**2 + y(lambda)**2 + z(lambda)**2)*tanh(R*sigma)**2)"
      ]
     },
     "execution_count": 10,
     "metadata": {},
     "output_type": "execute_result"
    }
   ],
   "source": [
    "import sympy as sp\n",
    "\n",
    "# t, x, y, z, vs, sigma, R = sp.symbols('t x y z v_s sigma R')\n",
    "vs, sigma, R = sp.symbols('v_s sigma R')\n",
    "\n",
    "lam = sp.symbols('lambda')\n",
    "\n",
    "t = sp.Function('t')(lam)\n",
    "x = sp.Function('x')(lam)\n",
    "y = sp.Function('y')(lam)\n",
    "z = sp.Function('z')(lam)\n",
    "\n",
    "\n",
    "xs = vs * t  # since it's steady state\n",
    "r = sp.sqrt((x - xs)**2 + y**2 + z**2)\n",
    "f_r = (sp.tanh(sigma * (r + R)) - sp.tanh(sigma * (r - R))) / (2 * sp.tanh(sigma * R))\n",
    "\n",
    "#metric components based on the line element \n",
    "g_tt = -(1 - vs**2 * f_r**2)\n",
    "g_tx = g_xt = vs * f_r\n",
    "g_xx = g_yy = g_zz = 1\n",
    "\n",
    "#g_uv\n",
    "metric = sp.Matrix([[g_tt, g_tx, 0, 0],\n",
    "                    [g_xt, g_xx, 0, 0],\n",
    "                    [0, 0, g_yy, 0],\n",
    "                    [0, 0, 0, g_zz]])\n",
    "\n",
    "# The inverse metric tensor g^uv (needed for Christoffel symbols)\n",
    "metric_inv = metric.inv()\n",
    "\n",
    "# defining a partial\n",
    "def partial_derivative(matrix, var):\n",
    "    \"\"\" This function returns the matrix of partial derivatives \"\"\"\n",
    "    return sp.Matrix(matrix.shape[0], matrix.shape[1], lambda i,j: sp.diff(matrix[i, j], var))\n",
    "\n",
    "# derivatives of metric tensor\n",
    "partial_t = partial_derivative(metric, t)\n",
    "partial_x = partial_derivative(metric, x)\n",
    "partial_y = partial_derivative(metric, y)\n",
    "partial_z = partial_derivative(metric, z)\n",
    "\n",
    "print(\"start computation\")\n",
    "# computing the symbols using the metric equation\n",
    "christoffel_symbols = [[[0 for i in range(4)] for j in range(4)] for k in range(4)]\n",
    "for lambda_ in range(4):\n",
    "    for mu in range(4):\n",
    "        for nu in range(4):\n",
    "            christoffel_symbols[lambda_][mu][nu] = 1/2 * (\n",
    "                metric_inv[lambda_, 0] * (partial_x[mu, nu] + partial_x[nu, mu] - partial_t[mu, nu]) +\n",
    "                metric_inv[lambda_, 1] * (partial_t[mu, nu] + partial_t[nu, mu] - partial_x[mu, nu]) +\n",
    "                metric_inv[lambda_, 2] * (partial_y[mu, nu] + partial_y[nu, mu] - partial_y[mu, nu]) +\n",
    "                metric_inv[lambda_, 3] * (partial_z[mu, nu] + partial_z[nu, mu] - partial_z[mu, nu])\n",
    "            ).simplify()\n",
    "            print(f\"l: {lambda_} mu: {mu} nu{nu}\")\n",
    "            print(christoffel_symbols[lambda_][mu][nu])\n",
    "\n",
    "christoffel_symbols[0][1][0]  # Displaying Γ^t_{tx} as an example"
   ]
  },
  {
   "cell_type": "code",
   "execution_count": 11,
   "id": "01d4e4f0",
   "metadata": {},
   "outputs": [],
   "source": [
    "C = christoffel_symbols"
   ]
  },
  {
   "cell_type": "code",
   "execution_count": 12,
   "id": "3615ac6e",
   "metadata": {},
   "outputs": [
    {
     "data": {
      "text/latex": [
       "$\\displaystyle \\frac{0.125 \\sigma v_{s} \\left(v_{s} t{\\left(\\lambda \\right)} - x{\\left(\\lambda \\right)}\\right) \\left(v_{s} \\left(2 v_{s} + 1\\right) \\left(\\tanh{\\left(\\sigma \\left(R - \\sqrt{v_{s}^{2} t^{2}{\\left(\\lambda \\right)} - 2 v_{s} t{\\left(\\lambda \\right)} x{\\left(\\lambda \\right)} + x^{2}{\\left(\\lambda \\right)} + y^{2}{\\left(\\lambda \\right)} + z^{2}{\\left(\\lambda \\right)}}\\right) \\right)} + \\tanh{\\left(\\sigma \\left(R + \\sqrt{v_{s}^{2} t^{2}{\\left(\\lambda \\right)} - 2 v_{s} t{\\left(\\lambda \\right)} x{\\left(\\lambda \\right)} + x^{2}{\\left(\\lambda \\right)} + y^{2}{\\left(\\lambda \\right)} + z^{2}{\\left(\\lambda \\right)}}\\right) \\right)}\\right) + 2 \\left(v_{s} + 2\\right) \\tanh{\\left(R \\sigma \\right)}\\right) \\left(\\tanh^{2}{\\left(\\sigma \\left(R - \\sqrt{\\left(v_{s} t{\\left(\\lambda \\right)} - x{\\left(\\lambda \\right)}\\right)^{2} + y^{2}{\\left(\\lambda \\right)} + z^{2}{\\left(\\lambda \\right)}}\\right) \\right)} - \\tanh^{2}{\\left(\\sigma \\left(R + \\sqrt{\\left(v_{s} t{\\left(\\lambda \\right)} - x{\\left(\\lambda \\right)}\\right)^{2} + y^{2}{\\left(\\lambda \\right)} + z^{2}{\\left(\\lambda \\right)}}\\right) \\right)}\\right)}{\\sqrt{\\left(v_{s} t{\\left(\\lambda \\right)} - x{\\left(\\lambda \\right)}\\right)^{2} + y^{2}{\\left(\\lambda \\right)} + z^{2}{\\left(\\lambda \\right)}} \\tanh^{2}{\\left(R \\sigma \\right)}}$"
      ],
      "text/plain": [
       "0.125*sigma*v_s*(v_s*t(lambda) - x(lambda))*(v_s*(2*v_s + 1)*(tanh(sigma*(R - sqrt(v_s**2*t(lambda)**2 - 2*v_s*t(lambda)*x(lambda) + x(lambda)**2 + y(lambda)**2 + z(lambda)**2))) + tanh(sigma*(R + sqrt(v_s**2*t(lambda)**2 - 2*v_s*t(lambda)*x(lambda) + x(lambda)**2 + y(lambda)**2 + z(lambda)**2)))) + 2*(v_s + 2)*tanh(R*sigma))*(tanh(sigma*(R - sqrt((v_s*t(lambda) - x(lambda))**2 + y(lambda)**2 + z(lambda)**2)))**2 - tanh(sigma*(R + sqrt((v_s*t(lambda) - x(lambda))**2 + y(lambda)**2 + z(lambda)**2)))**2)/(sqrt((v_s*t(lambda) - x(lambda))**2 + y(lambda)**2 + z(lambda)**2)*tanh(R*sigma)**2)"
      ]
     },
     "execution_count": 12,
     "metadata": {},
     "output_type": "execute_result"
    }
   ],
   "source": [
    "C[0][0][1]"
   ]
  },
  {
   "cell_type": "code",
   "execution_count": 13,
   "id": "5ee6a0c2",
   "metadata": {},
   "outputs": [
    {
     "data": {
      "text/latex": [
       "$\\displaystyle \\frac{0.125 \\sigma v_{s} \\left(v_{s} t{\\left(\\lambda \\right)} - x{\\left(\\lambda \\right)}\\right) \\left(v_{s} \\left(2 v_{s} + 1\\right) \\left(\\tanh{\\left(\\sigma \\left(R - \\sqrt{v_{s}^{2} t^{2}{\\left(\\lambda \\right)} - 2 v_{s} t{\\left(\\lambda \\right)} x{\\left(\\lambda \\right)} + x^{2}{\\left(\\lambda \\right)} + y^{2}{\\left(\\lambda \\right)} + z^{2}{\\left(\\lambda \\right)}}\\right) \\right)} + \\tanh{\\left(\\sigma \\left(R + \\sqrt{v_{s}^{2} t^{2}{\\left(\\lambda \\right)} - 2 v_{s} t{\\left(\\lambda \\right)} x{\\left(\\lambda \\right)} + x^{2}{\\left(\\lambda \\right)} + y^{2}{\\left(\\lambda \\right)} + z^{2}{\\left(\\lambda \\right)}}\\right) \\right)}\\right) + 2 \\left(v_{s} + 2\\right) \\tanh{\\left(R \\sigma \\right)}\\right) \\left(\\tanh^{2}{\\left(\\sigma \\left(R - \\sqrt{\\left(v_{s} t{\\left(\\lambda \\right)} - x{\\left(\\lambda \\right)}\\right)^{2} + y^{2}{\\left(\\lambda \\right)} + z^{2}{\\left(\\lambda \\right)}}\\right) \\right)} - \\tanh^{2}{\\left(\\sigma \\left(R + \\sqrt{\\left(v_{s} t{\\left(\\lambda \\right)} - x{\\left(\\lambda \\right)}\\right)^{2} + y^{2}{\\left(\\lambda \\right)} + z^{2}{\\left(\\lambda \\right)}}\\right) \\right)}\\right)}{\\sqrt{\\left(v_{s} t{\\left(\\lambda \\right)} - x{\\left(\\lambda \\right)}\\right)^{2} + y^{2}{\\left(\\lambda \\right)} + z^{2}{\\left(\\lambda \\right)}} \\tanh^{2}{\\left(R \\sigma \\right)}}$"
      ],
      "text/plain": [
       "0.125*sigma*v_s*(v_s*t(lambda) - x(lambda))*(v_s*(2*v_s + 1)*(tanh(sigma*(R - sqrt(v_s**2*t(lambda)**2 - 2*v_s*t(lambda)*x(lambda) + x(lambda)**2 + y(lambda)**2 + z(lambda)**2))) + tanh(sigma*(R + sqrt(v_s**2*t(lambda)**2 - 2*v_s*t(lambda)*x(lambda) + x(lambda)**2 + y(lambda)**2 + z(lambda)**2)))) + 2*(v_s + 2)*tanh(R*sigma))*(tanh(sigma*(R - sqrt((v_s*t(lambda) - x(lambda))**2 + y(lambda)**2 + z(lambda)**2)))**2 - tanh(sigma*(R + sqrt((v_s*t(lambda) - x(lambda))**2 + y(lambda)**2 + z(lambda)**2)))**2)/(sqrt((v_s*t(lambda) - x(lambda))**2 + y(lambda)**2 + z(lambda)**2)*tanh(R*sigma)**2)"
      ]
     },
     "execution_count": 13,
     "metadata": {},
     "output_type": "execute_result"
    }
   ],
   "source": [
    "C[0][1][0]"
   ]
  },
  {
   "cell_type": "markdown",
   "id": "3062dc18",
   "metadata": {},
   "source": [
    "Definitions of momenta using trajectory of photon:\n",
    "\n",
    "$$\n",
    "\\frac{dt}{d\\lambda}-p^t=0\n",
    "$$\n",
    "$$\n",
    "\\frac{dx}{d\\lambda}-p^x=0\n",
    "$$\n",
    "$$\n",
    "\\frac{dy}{d\\lambda}-p^y=0\n",
    "$$"
   ]
  },
  {
   "cell_type": "code",
   "execution_count": 14,
   "id": "9f7392b3",
   "metadata": {},
   "outputs": [
    {
     "data": {
      "text/latex": [
       "$\\displaystyle \\frac{d}{d \\lambda} t{\\left(\\lambda \\right)}$"
      ],
      "text/plain": [
       "Derivative(t(lambda), lambda)"
      ]
     },
     "execution_count": 14,
     "metadata": {},
     "output_type": "execute_result"
    }
   ],
   "source": [
    "pt = sp.diff(t, lam)\n",
    "px = sp.diff(x, lam)\n",
    "py = sp.diff(y, lam)\n",
    "\n",
    "\n",
    "pt"
   ]
  },
  {
   "cell_type": "markdown",
   "id": "339a74e2",
   "metadata": {},
   "source": [
    "$$\n",
    "\\frac{dp^t}{d\\lambda}+\\Gamma^t_{tt}(p^t)^2+\\Gamma^t_{xx}(p^x)^2+2\\Gamma^t_{tx}p^tp^x+2\\Gamma^t_{ty}p^tp^y+2\\Gamma^t_{xy}p^xp^y=0\n",
    "$$\n",
    "$$\n",
    "\\frac{dp^x}{d\\lambda}+\\Gamma^x_{tt}(p^t)^2+\\Gamma^x_{xx}(p^x)^2+2\\Gamma^x_{tx}p^tp^x+2\\Gamma^x_{ty}p^tp^y+2\\Gamma^x_{xy}p^xp^y=0\n",
    "$$\n",
    "$$\n",
    "\\frac{dp^y}{d\\lambda}+\\Gamma^y_{tt}(p^t)^2+2\\Gamma^y_{tx}p^tp^x=0\n",
    "$$"
   ]
  },
  {
   "cell_type": "markdown",
   "id": "2b36d4ba",
   "metadata": {},
   "source": [
    "[0, 1, 2, 3]=[t,x,y,z]"
   ]
  },
  {
   "cell_type": "code",
   "execution_count": 15,
   "id": "1c596f09",
   "metadata": {},
   "outputs": [],
   "source": [
    "Ct, Cx, Cy =C[0], C[1], C[2]\n",
    "dptdl=-1*(Ct[0][0]*pt**2+Ct[1][1]*px**2+2*Ct[0][1]*pt*px+2*Ct[0][2]*pt*py+2*Ct[1][2]*px*py)\n",
    "dpxdl=-1*(Cx[0][0]*pt**2+Cx[1][1]*px**2+2*Cx[0][1]*pt*px+2*Cx[0][2]*pt*py+2*Cx[1][2]*px*py)\n",
    "dpydl=-1*(Cy[0][0]*pt**2+2*Cy[0][1]*pt*px)"
   ]
  },
  {
   "cell_type": "code",
   "execution_count": 16,
   "id": "05978cf2",
   "metadata": {},
   "outputs": [
    {
     "data": {
      "text/plain": [
       "(-0.125*sigma*v_s**2*(v_s*t(lambda) - x(lambda))*(v_s*(2*v_s + 1)*(tanh(sigma*(R - sqrt(v_s**2*t(lambda)**2 - 2*v_s*t(lambda)*x(lambda) + x(lambda)**2 + y(lambda)**2 + z(lambda)**2))) + tanh(sigma*(R + sqrt(v_s**2*t(lambda)**2 - 2*v_s*t(lambda)*x(lambda) + x(lambda)**2 + y(lambda)**2 + z(lambda)**2))))**2 + 2*(v_s + 2)*(tanh(sigma*(R - sqrt((v_s*t(lambda) - x(lambda))**2 + y(lambda)**2 + z(lambda)**2))) + tanh(sigma*(R + sqrt((v_s*t(lambda) - x(lambda))**2 + y(lambda)**2 + z(lambda)**2))))*tanh(R*sigma))*(tanh(sigma*(R - sqrt((v_s*t(lambda) - x(lambda))**2 + y(lambda)**2 + z(lambda)**2)))**2 - tanh(sigma*(R + sqrt((v_s*t(lambda) - x(lambda))**2 + y(lambda)**2 + z(lambda)**2)))**2)*Derivative(t(lambda), lambda)**2/(sqrt((v_s*t(lambda) - x(lambda))**2 + y(lambda)**2 + z(lambda)**2)*tanh(R*sigma)**3) - 0.25*sigma*v_s*(v_s*t(lambda) - x(lambda))*(v_s*(2*v_s + 1)*(tanh(sigma*(R - sqrt(v_s**2*t(lambda)**2 - 2*v_s*t(lambda)*x(lambda) + x(lambda)**2 + y(lambda)**2 + z(lambda)**2))) + tanh(sigma*(R + sqrt(v_s**2*t(lambda)**2 - 2*v_s*t(lambda)*x(lambda) + x(lambda)**2 + y(lambda)**2 + z(lambda)**2)))) + 2*(v_s + 2)*tanh(R*sigma))*(tanh(sigma*(R - sqrt((v_s*t(lambda) - x(lambda))**2 + y(lambda)**2 + z(lambda)**2)))**2 - tanh(sigma*(R + sqrt((v_s*t(lambda) - x(lambda))**2 + y(lambda)**2 + z(lambda)**2)))**2)*Derivative(t(lambda), lambda)*Derivative(x(lambda), lambda)/(sqrt((v_s*t(lambda) - x(lambda))**2 + y(lambda)**2 + z(lambda)**2)*tanh(R*sigma)**2),\n",
       " 0.0625*sigma*v_s**2*(v_s*t(lambda) - x(lambda))*(2*v_s*(v_s + 2)*(tanh(sigma*(R - sqrt(v_s**2*t(lambda)**2 - 2*v_s*t(lambda)*x(lambda) + x(lambda)**2 + y(lambda)**2 + z(lambda)**2))) + tanh(sigma*(R + sqrt(v_s**2*t(lambda)**2 - 2*v_s*t(lambda)*x(lambda) + x(lambda)**2 + y(lambda)**2 + z(lambda)**2))))*tanh(R*sigma) + (2*v_s + 1)*(v_s**2*tanh(sigma*(R - sqrt(v_s**2*t(lambda)**2 - 2*v_s*t(lambda)*x(lambda) + x(lambda)**2 + y(lambda)**2 + z(lambda)**2)))**2 + 2*v_s**2*tanh(sigma*(R - sqrt(v_s**2*t(lambda)**2 - 2*v_s*t(lambda)*x(lambda) + x(lambda)**2 + y(lambda)**2 + z(lambda)**2)))*tanh(sigma*(R + sqrt(v_s**2*t(lambda)**2 - 2*v_s*t(lambda)*x(lambda) + x(lambda)**2 + y(lambda)**2 + z(lambda)**2))) + v_s**2*tanh(sigma*(R + sqrt(v_s**2*t(lambda)**2 - 2*v_s*t(lambda)*x(lambda) + x(lambda)**2 + y(lambda)**2 + z(lambda)**2)))**2 - 4*tanh(R*sigma)**2))*(tanh(sigma*(R - sqrt((v_s*t(lambda) - x(lambda))**2 + y(lambda)**2 + z(lambda)**2))) + tanh(sigma*(R + sqrt((v_s*t(lambda) - x(lambda))**2 + y(lambda)**2 + z(lambda)**2))))*(tanh(sigma*(R - sqrt((v_s*t(lambda) - x(lambda))**2 + y(lambda)**2 + z(lambda)**2)))**2 - tanh(sigma*(R + sqrt((v_s*t(lambda) - x(lambda))**2 + y(lambda)**2 + z(lambda)**2)))**2)*Derivative(t(lambda), lambda)**2/(sqrt((v_s*t(lambda) - x(lambda))**2 + y(lambda)**2 + z(lambda)**2)*tanh(R*sigma)**4) + 0.125*sigma*v_s*(v_s*t(lambda) - x(lambda))*(2*v_s*(v_s + 2)*(tanh(sigma*(R - sqrt(v_s**2*t(lambda)**2 - 2*v_s*t(lambda)*x(lambda) + x(lambda)**2 + y(lambda)**2 + z(lambda)**2))) + tanh(sigma*(R + sqrt(v_s**2*t(lambda)**2 - 2*v_s*t(lambda)*x(lambda) + x(lambda)**2 + y(lambda)**2 + z(lambda)**2))))*tanh(R*sigma) + (2*v_s + 1)*(v_s**2*tanh(sigma*(R - sqrt(v_s**2*t(lambda)**2 - 2*v_s*t(lambda)*x(lambda) + x(lambda)**2 + y(lambda)**2 + z(lambda)**2)))**2 + 2*v_s**2*tanh(sigma*(R - sqrt(v_s**2*t(lambda)**2 - 2*v_s*t(lambda)*x(lambda) + x(lambda)**2 + y(lambda)**2 + z(lambda)**2)))*tanh(sigma*(R + sqrt(v_s**2*t(lambda)**2 - 2*v_s*t(lambda)*x(lambda) + x(lambda)**2 + y(lambda)**2 + z(lambda)**2))) + v_s**2*tanh(sigma*(R + sqrt(v_s**2*t(lambda)**2 - 2*v_s*t(lambda)*x(lambda) + x(lambda)**2 + y(lambda)**2 + z(lambda)**2)))**2 - 4*tanh(R*sigma)**2))*(tanh(sigma*(R - sqrt((v_s*t(lambda) - x(lambda))**2 + y(lambda)**2 + z(lambda)**2)))**2 - tanh(sigma*(R + sqrt((v_s*t(lambda) - x(lambda))**2 + y(lambda)**2 + z(lambda)**2)))**2)*Derivative(t(lambda), lambda)*Derivative(x(lambda), lambda)/(sqrt((v_s*t(lambda) - x(lambda))**2 + y(lambda)**2 + z(lambda)**2)*tanh(R*sigma)**3),\n",
       " -0.25*sigma*v_s**2*(tanh(sigma*(R - sqrt((v_s*t(lambda) - x(lambda))**2 + y(lambda)**2 + z(lambda)**2))) + tanh(sigma*(R + sqrt((v_s*t(lambda) - x(lambda))**2 + y(lambda)**2 + z(lambda)**2))))*(tanh(sigma*(R - sqrt((v_s*t(lambda) - x(lambda))**2 + y(lambda)**2 + z(lambda)**2)))**2 - tanh(sigma*(R + sqrt((v_s*t(lambda) - x(lambda))**2 + y(lambda)**2 + z(lambda)**2)))**2)*y(lambda)*Derivative(t(lambda), lambda)**2/(sqrt((v_s*t(lambda) - x(lambda))**2 + y(lambda)**2 + z(lambda)**2)*tanh(R*sigma)**2) - 0.5*sigma*v_s*(tanh(sigma*(R - sqrt((v_s*t(lambda) - x(lambda))**2 + y(lambda)**2 + z(lambda)**2)))**2 - tanh(sigma*(R + sqrt((v_s*t(lambda) - x(lambda))**2 + y(lambda)**2 + z(lambda)**2)))**2)*y(lambda)*Derivative(t(lambda), lambda)*Derivative(x(lambda), lambda)/(sqrt((v_s*t(lambda) - x(lambda))**2 + y(lambda)**2 + z(lambda)**2)*tanh(R*sigma)))"
      ]
     },
     "execution_count": 16,
     "metadata": {},
     "output_type": "execute_result"
    }
   ],
   "source": [
    "dptdl,dpxdl,dpydl"
   ]
  },
  {
   "cell_type": "code",
   "execution_count": 17,
   "id": "fb9bba81",
   "metadata": {},
   "outputs": [
    {
     "name": "stdout",
     "output_type": "stream",
     "text": [
      "0.0625*sigma*v_s**2*(v_s*t(lambda) - x(lambda))*(2*v_s*(v_s + 2)*(tanh(sigma*(R - sqrt(v_s**2*t(lambda)**2 - 2*v_s*t(lambda)*x(lambda) + x(lambda)**2 + y(lambda)**2 + z(lambda)**2))) + tanh(sigma*(R + sqrt(v_s**2*t(lambda)**2 - 2*v_s*t(lambda)*x(lambda) + x(lambda)**2 + y(lambda)**2 + z(lambda)**2))))*tanh(R*sigma) + (2*v_s + 1)*(v_s**2*tanh(sigma*(R - sqrt(v_s**2*t(lambda)**2 - 2*v_s*t(lambda)*x(lambda) + x(lambda)**2 + y(lambda)**2 + z(lambda)**2)))**2 + 2*v_s**2*tanh(sigma*(R - sqrt(v_s**2*t(lambda)**2 - 2*v_s*t(lambda)*x(lambda) + x(lambda)**2 + y(lambda)**2 + z(lambda)**2)))*tanh(sigma*(R + sqrt(v_s**2*t(lambda)**2 - 2*v_s*t(lambda)*x(lambda) + x(lambda)**2 + y(lambda)**2 + z(lambda)**2))) + v_s**2*tanh(sigma*(R + sqrt(v_s**2*t(lambda)**2 - 2*v_s*t(lambda)*x(lambda) + x(lambda)**2 + y(lambda)**2 + z(lambda)**2)))**2 - 4*tanh(R*sigma)**2))*(tanh(sigma*(R - sqrt((v_s*t(lambda) - x(lambda))**2 + y(lambda)**2 + z(lambda)**2))) + tanh(sigma*(R + sqrt((v_s*t(lambda) - x(lambda))**2 + y(lambda)**2 + z(lambda)**2))))*(tanh(sigma*(R - sqrt((v_s*t(lambda) - x(lambda))**2 + y(lambda)**2 + z(lambda)**2)))**2 - tanh(sigma*(R + sqrt((v_s*t(lambda) - x(lambda))**2 + y(lambda)**2 + z(lambda)**2)))**2)*Derivative(t(lambda), lambda)**2/(sqrt((v_s*t(lambda) - x(lambda))**2 + y(lambda)**2 + z(lambda)**2)*tanh(R*sigma)**4) + 0.125*sigma*v_s*(v_s*t(lambda) - x(lambda))*(2*v_s*(v_s + 2)*(tanh(sigma*(R - sqrt(v_s**2*t(lambda)**2 - 2*v_s*t(lambda)*x(lambda) + x(lambda)**2 + y(lambda)**2 + z(lambda)**2))) + tanh(sigma*(R + sqrt(v_s**2*t(lambda)**2 - 2*v_s*t(lambda)*x(lambda) + x(lambda)**2 + y(lambda)**2 + z(lambda)**2))))*tanh(R*sigma) + (2*v_s + 1)*(v_s**2*tanh(sigma*(R - sqrt(v_s**2*t(lambda)**2 - 2*v_s*t(lambda)*x(lambda) + x(lambda)**2 + y(lambda)**2 + z(lambda)**2)))**2 + 2*v_s**2*tanh(sigma*(R - sqrt(v_s**2*t(lambda)**2 - 2*v_s*t(lambda)*x(lambda) + x(lambda)**2 + y(lambda)**2 + z(lambda)**2)))*tanh(sigma*(R + sqrt(v_s**2*t(lambda)**2 - 2*v_s*t(lambda)*x(lambda) + x(lambda)**2 + y(lambda)**2 + z(lambda)**2))) + v_s**2*tanh(sigma*(R + sqrt(v_s**2*t(lambda)**2 - 2*v_s*t(lambda)*x(lambda) + x(lambda)**2 + y(lambda)**2 + z(lambda)**2)))**2 - 4*tanh(R*sigma)**2))*(tanh(sigma*(R - sqrt((v_s*t(lambda) - x(lambda))**2 + y(lambda)**2 + z(lambda)**2)))**2 - tanh(sigma*(R + sqrt((v_s*t(lambda) - x(lambda))**2 + y(lambda)**2 + z(lambda)**2)))**2)*Derivative(t(lambda), lambda)*Derivative(x(lambda), lambda)/(sqrt((v_s*t(lambda) - x(lambda))**2 + y(lambda)**2 + z(lambda)**2)*tanh(R*sigma)**3)\n"
     ]
    }
   ],
   "source": [
    "print(dpxdl)"
   ]
  },
  {
   "cell_type": "markdown",
   "id": "c088dbfd",
   "metadata": {},
   "source": [
    "## Recursive system"
   ]
  },
  {
   "cell_type": "code",
   "execution_count": 50,
   "id": "5eab62e4",
   "metadata": {},
   "outputs": [],
   "source": [
    "dt = sp.diff(t, lam)\n",
    "dx = sp.diff(x, lam)\n",
    "dy = sp.diff(y, lam)\n",
    "dz = sp.diff(z, lam)\n",
    "\n",
    "v_s, sigma, R = sp.symbols('v_s sigma R')\n",
    "\n",
    "# define constants\n",
    "theta_0=np.pi/3\n",
    "sigma_val = 1\n",
    "vs_val=3\n",
    "R_val=2\n",
    "\n",
    "def evaluate(eq, POS, VEL):\n",
    "    [t_val, x_val, y_val]=POS\n",
    "    [dt_val, dx_val, dy_val]=VEL\n",
    "    substitutions = {\n",
    "        t: t_val,\n",
    "        x: x_val,\n",
    "        y: y_val,\n",
    "        z: 0,\n",
    "        dt: dt_val,\n",
    "        dx: dx_val,\n",
    "        dy: dy_val,\n",
    "        dz: 0, \n",
    "        sigma: sigma_val,\n",
    "        v_s: vs_val,\n",
    "        R: R_val\n",
    "    }\n",
    "    \n",
    "    # Perform substitutions\n",
    "    result = eq.subs(substitutions)\n",
    "    result = result.evalf()\n",
    "    return result"
   ]
  },
  {
   "cell_type": "code",
   "execution_count": 41,
   "id": "5bbc1d87",
   "metadata": {},
   "outputs": [],
   "source": [
    "import numpy as np\n",
    "# dLambda\n",
    "dL=0.1\n",
    "\n",
    "# define initial conditions\n",
    "\n",
    "L=0\n",
    "pos=[1, 0, 0] #[t, x, y]\n",
    "vel=[1, np.cos(theta_0)+v_s, np.sin(theta_0)] #[t',x',y']\n",
    "acc=[0, 0, 0] #[t'',x'',y'']\n",
    "\n",
    "geod = {\n",
    "    L: [pos, vel, acc]\n",
    "}\n",
    "\n",
    "# set up recursion\n",
    "\n",
    "for i in range(10):\n",
    "    L+=dL\n",
    "    dp=[\n",
    "        evaluate(dptdl, pos, vel),\n",
    "        evaluate(dpxdl, pos, vel),\n",
    "        evaluate(dpydl, pos, vel)\n",
    "    ]\n",
    "    p=[\n",
    "        geod[L-dL][1][0]+dp[0]*dL,\n",
    "        geod[L-dL][1][1]+dp[1]*dL,\n",
    "        geod[L-dL][1][2]+dp[2]*dL,\n",
    "    ]"
   ]
  }
 ],
 "metadata": {
  "kernelspec": {
   "display_name": "Python 3 (ipykernel)",
   "language": "python",
   "name": "python3"
  },
  "language_info": {
   "codemirror_mode": {
    "name": "ipython",
    "version": 3
   },
   "file_extension": ".py",
   "mimetype": "text/x-python",
   "name": "python",
   "nbconvert_exporter": "python",
   "pygments_lexer": "ipython3",
   "version": "3.11.5"
  }
 },
 "nbformat": 4,
 "nbformat_minor": 5
}
