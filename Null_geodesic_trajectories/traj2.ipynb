{
 "cells": [
  {
   "cell_type": "code",
   "execution_count": 7,
   "id": "9550b991",
   "metadata": {},
   "outputs": [],
   "source": [
    "import sympy as sp\n",
    "\n",
    "# t, x, y, z, vs, sigma, R = sp.symbols('t x y z v_s sigma R')\n",
    "vs, sigma, R = sp.symbols('v_s sigma R')\n",
    "\n",
    "lam = sp.symbols('lambda')\n",
    "\n",
    "t = sp.Function('t')(lam)\n",
    "x = sp.Function('x')(lam)\n",
    "y = sp.Function('y')(lam)\n",
    "z = sp.Function('z')(lam)\n",
    "\n",
    "\n",
    "xs = vs * t  # since it's steady state\n",
    "r = sp.sqrt((x - xs)**2 + y**2 + z**2)\n",
    "f_r = (sp.tanh(sigma * (r + R)) - sp.tanh(sigma * (r - R))) / (2 * sp.tanh(sigma * R))\n",
    "\n",
    "#metric components based on the line element \n",
    "g_tt = -(1 - vs**2 * f_r**2)\n",
    "g_tx = g_xt = vs * f_r\n",
    "g_xx = g_yy = g_zz = 1\n",
    "\n",
    "#g_uv\n",
    "metric = sp.Matrix([[g_tt, g_tx, 0, 0],\n",
    "                    [g_xt, g_xx, 0, 0],\n",
    "                    [0, 0, g_yy, 0],\n",
    "                    [0, 0, 0, g_zz]])\n",
    "\n",
    "# The inverse metric tensor g^uv (needed for Christoffel symbols)\n",
    "metric_inv = metric.inv()\n",
    "\n",
    "# defining a partial\n",
    "def partial_derivative(matrix, var):\n",
    "    \"\"\" This function returns the matrix of partial derivatives \"\"\"\n",
    "    return sp.Matrix(matrix.shape[0], matrix.shape[1], lambda i,j: sp.diff(matrix[i, j], var))\n",
    "\n",
    "# derivatives of metric tensor\n",
    "partial_t = partial_derivative(metric, t)\n",
    "partial_x = partial_derivative(metric, x)\n",
    "partial_y = partial_derivative(metric, y)\n",
    "partial_z = partial_derivative(metric, z)\n"
   ]
  },
  {
   "cell_type": "code",
   "execution_count": 8,
   "id": "5db32d78",
   "metadata": {},
   "outputs": [
    {
     "name": "stdout",
     "output_type": "stream",
     "text": [
      "start computation\n",
      "l: 0 mu: 0 nu0\n",
      "0.125*sigma*v_s**2*(v_s*t(lambda) - x(lambda))*(v_s*(2*v_s + 1)*(tanh(sigma*(R - sqrt(v_s**2*t(lambda)**2 - 2*v_s*t(lambda)*x(lambda) + x(lambda)**2 + y(lambda)**2 + z(lambda)**2))) + tanh(sigma*(R + sqrt(v_s**2*t(lambda)**2 - 2*v_s*t(lambda)*x(lambda) + x(lambda)**2 + y(lambda)**2 + z(lambda)**2))))**2 + 2*(v_s + 2)*(tanh(sigma*(R - sqrt((v_s*t(lambda) - x(lambda))**2 + y(lambda)**2 + z(lambda)**2))) + tanh(sigma*(R + sqrt((v_s*t(lambda) - x(lambda))**2 + y(lambda)**2 + z(lambda)**2))))*tanh(R*sigma))*(tanh(sigma*(R - sqrt((v_s*t(lambda) - x(lambda))**2 + y(lambda)**2 + z(lambda)**2)))**2 - tanh(sigma*(R + sqrt((v_s*t(lambda) - x(lambda))**2 + y(lambda)**2 + z(lambda)**2)))**2)/(sqrt((v_s*t(lambda) - x(lambda))**2 + y(lambda)**2 + z(lambda)**2)*tanh(R*sigma)**3)\n",
      "l: 0 mu: 0 nu1\n",
      "0.125*sigma*v_s*(v_s*t(lambda) - x(lambda))*(v_s*(2*v_s + 1)*(tanh(sigma*(R - sqrt(v_s**2*t(lambda)**2 - 2*v_s*t(lambda)*x(lambda) + x(lambda)**2 + y(lambda)**2 + z(lambda)**2))) + tanh(sigma*(R + sqrt(v_s**2*t(lambda)**2 - 2*v_s*t(lambda)*x(lambda) + x(lambda)**2 + y(lambda)**2 + z(lambda)**2)))) + 2*(v_s + 2)*tanh(R*sigma))*(tanh(sigma*(R - sqrt((v_s*t(lambda) - x(lambda))**2 + y(lambda)**2 + z(lambda)**2)))**2 - tanh(sigma*(R + sqrt((v_s*t(lambda) - x(lambda))**2 + y(lambda)**2 + z(lambda)**2)))**2)/(sqrt((v_s*t(lambda) - x(lambda))**2 + y(lambda)**2 + z(lambda)**2)*tanh(R*sigma)**2)\n",
      "l: 0 mu: 0 nu2\n",
      "0\n",
      "l: 0 mu: 0 nu3\n",
      "0\n",
      "l: 0 mu: 1 nu0\n",
      "0.125*sigma*v_s*(v_s*t(lambda) - x(lambda))*(v_s*(2*v_s + 1)*(tanh(sigma*(R - sqrt(v_s**2*t(lambda)**2 - 2*v_s*t(lambda)*x(lambda) + x(lambda)**2 + y(lambda)**2 + z(lambda)**2))) + tanh(sigma*(R + sqrt(v_s**2*t(lambda)**2 - 2*v_s*t(lambda)*x(lambda) + x(lambda)**2 + y(lambda)**2 + z(lambda)**2)))) + 2*(v_s + 2)*tanh(R*sigma))*(tanh(sigma*(R - sqrt((v_s*t(lambda) - x(lambda))**2 + y(lambda)**2 + z(lambda)**2)))**2 - tanh(sigma*(R + sqrt((v_s*t(lambda) - x(lambda))**2 + y(lambda)**2 + z(lambda)**2)))**2)/(sqrt((v_s*t(lambda) - x(lambda))**2 + y(lambda)**2 + z(lambda)**2)*tanh(R*sigma)**2)\n",
      "l: 0 mu: 1 nu1\n",
      "0\n",
      "l: 0 mu: 1 nu2\n",
      "0\n",
      "l: 0 mu: 1 nu3\n",
      "0\n",
      "l: 0 mu: 2 nu0\n",
      "0\n",
      "l: 0 mu: 2 nu1\n",
      "0\n",
      "l: 0 mu: 2 nu2\n",
      "0\n",
      "l: 0 mu: 2 nu3\n",
      "0\n",
      "l: 0 mu: 3 nu0\n",
      "0\n",
      "l: 0 mu: 3 nu1\n",
      "0\n",
      "l: 0 mu: 3 nu2\n",
      "0\n",
      "l: 0 mu: 3 nu3\n",
      "0\n",
      "l: 1 mu: 0 nu0\n",
      "-0.0625*sigma*v_s**2*(v_s*t(lambda) - x(lambda))*(2*v_s*(v_s + 2)*(tanh(sigma*(R - sqrt(v_s**2*t(lambda)**2 - 2*v_s*t(lambda)*x(lambda) + x(lambda)**2 + y(lambda)**2 + z(lambda)**2))) + tanh(sigma*(R + sqrt(v_s**2*t(lambda)**2 - 2*v_s*t(lambda)*x(lambda) + x(lambda)**2 + y(lambda)**2 + z(lambda)**2))))*tanh(R*sigma) + (2*v_s + 1)*(v_s**2*tanh(sigma*(R - sqrt(v_s**2*t(lambda)**2 - 2*v_s*t(lambda)*x(lambda) + x(lambda)**2 + y(lambda)**2 + z(lambda)**2)))**2 + 2*v_s**2*tanh(sigma*(R - sqrt(v_s**2*t(lambda)**2 - 2*v_s*t(lambda)*x(lambda) + x(lambda)**2 + y(lambda)**2 + z(lambda)**2)))*tanh(sigma*(R + sqrt(v_s**2*t(lambda)**2 - 2*v_s*t(lambda)*x(lambda) + x(lambda)**2 + y(lambda)**2 + z(lambda)**2))) + v_s**2*tanh(sigma*(R + sqrt(v_s**2*t(lambda)**2 - 2*v_s*t(lambda)*x(lambda) + x(lambda)**2 + y(lambda)**2 + z(lambda)**2)))**2 - 4*tanh(R*sigma)**2))*(tanh(sigma*(R - sqrt((v_s*t(lambda) - x(lambda))**2 + y(lambda)**2 + z(lambda)**2))) + tanh(sigma*(R + sqrt((v_s*t(lambda) - x(lambda))**2 + y(lambda)**2 + z(lambda)**2))))*(tanh(sigma*(R - sqrt((v_s*t(lambda) - x(lambda))**2 + y(lambda)**2 + z(lambda)**2)))**2 - tanh(sigma*(R + sqrt((v_s*t(lambda) - x(lambda))**2 + y(lambda)**2 + z(lambda)**2)))**2)/(sqrt((v_s*t(lambda) - x(lambda))**2 + y(lambda)**2 + z(lambda)**2)*tanh(R*sigma)**4)\n",
      "l: 1 mu: 0 nu1\n",
      "-0.0625*sigma*v_s*(v_s*t(lambda) - x(lambda))*(2*v_s*(v_s + 2)*(tanh(sigma*(R - sqrt(v_s**2*t(lambda)**2 - 2*v_s*t(lambda)*x(lambda) + x(lambda)**2 + y(lambda)**2 + z(lambda)**2))) + tanh(sigma*(R + sqrt(v_s**2*t(lambda)**2 - 2*v_s*t(lambda)*x(lambda) + x(lambda)**2 + y(lambda)**2 + z(lambda)**2))))*tanh(R*sigma) + (2*v_s + 1)*(v_s**2*tanh(sigma*(R - sqrt(v_s**2*t(lambda)**2 - 2*v_s*t(lambda)*x(lambda) + x(lambda)**2 + y(lambda)**2 + z(lambda)**2)))**2 + 2*v_s**2*tanh(sigma*(R - sqrt(v_s**2*t(lambda)**2 - 2*v_s*t(lambda)*x(lambda) + x(lambda)**2 + y(lambda)**2 + z(lambda)**2)))*tanh(sigma*(R + sqrt(v_s**2*t(lambda)**2 - 2*v_s*t(lambda)*x(lambda) + x(lambda)**2 + y(lambda)**2 + z(lambda)**2))) + v_s**2*tanh(sigma*(R + sqrt(v_s**2*t(lambda)**2 - 2*v_s*t(lambda)*x(lambda) + x(lambda)**2 + y(lambda)**2 + z(lambda)**2)))**2 - 4*tanh(R*sigma)**2))*(tanh(sigma*(R - sqrt((v_s*t(lambda) - x(lambda))**2 + y(lambda)**2 + z(lambda)**2)))**2 - tanh(sigma*(R + sqrt((v_s*t(lambda) - x(lambda))**2 + y(lambda)**2 + z(lambda)**2)))**2)/(sqrt((v_s*t(lambda) - x(lambda))**2 + y(lambda)**2 + z(lambda)**2)*tanh(R*sigma)**3)\n",
      "l: 1 mu: 0 nu2\n",
      "0\n",
      "l: 1 mu: 0 nu3\n",
      "0\n",
      "l: 1 mu: 1 nu0\n",
      "-0.0625*sigma*v_s*(v_s*t(lambda) - x(lambda))*(2*v_s*(v_s + 2)*(tanh(sigma*(R - sqrt(v_s**2*t(lambda)**2 - 2*v_s*t(lambda)*x(lambda) + x(lambda)**2 + y(lambda)**2 + z(lambda)**2))) + tanh(sigma*(R + sqrt(v_s**2*t(lambda)**2 - 2*v_s*t(lambda)*x(lambda) + x(lambda)**2 + y(lambda)**2 + z(lambda)**2))))*tanh(R*sigma) + (2*v_s + 1)*(v_s**2*tanh(sigma*(R - sqrt(v_s**2*t(lambda)**2 - 2*v_s*t(lambda)*x(lambda) + x(lambda)**2 + y(lambda)**2 + z(lambda)**2)))**2 + 2*v_s**2*tanh(sigma*(R - sqrt(v_s**2*t(lambda)**2 - 2*v_s*t(lambda)*x(lambda) + x(lambda)**2 + y(lambda)**2 + z(lambda)**2)))*tanh(sigma*(R + sqrt(v_s**2*t(lambda)**2 - 2*v_s*t(lambda)*x(lambda) + x(lambda)**2 + y(lambda)**2 + z(lambda)**2))) + v_s**2*tanh(sigma*(R + sqrt(v_s**2*t(lambda)**2 - 2*v_s*t(lambda)*x(lambda) + x(lambda)**2 + y(lambda)**2 + z(lambda)**2)))**2 - 4*tanh(R*sigma)**2))*(tanh(sigma*(R - sqrt((v_s*t(lambda) - x(lambda))**2 + y(lambda)**2 + z(lambda)**2)))**2 - tanh(sigma*(R + sqrt((v_s*t(lambda) - x(lambda))**2 + y(lambda)**2 + z(lambda)**2)))**2)/(sqrt((v_s*t(lambda) - x(lambda))**2 + y(lambda)**2 + z(lambda)**2)*tanh(R*sigma)**3)\n",
      "l: 1 mu: 1 nu1\n",
      "0\n",
      "l: 1 mu: 1 nu2\n",
      "0\n",
      "l: 1 mu: 1 nu3\n",
      "0\n",
      "l: 1 mu: 2 nu0\n",
      "0\n",
      "l: 1 mu: 2 nu1\n",
      "0\n",
      "l: 1 mu: 2 nu2\n",
      "0\n",
      "l: 1 mu: 2 nu3\n",
      "0\n",
      "l: 1 mu: 3 nu0\n",
      "0\n",
      "l: 1 mu: 3 nu1\n",
      "0\n",
      "l: 1 mu: 3 nu2\n",
      "0\n",
      "l: 1 mu: 3 nu3\n",
      "0\n",
      "l: 2 mu: 0 nu0\n",
      "0.25*sigma*v_s**2*(tanh(sigma*(R - sqrt((v_s*t(lambda) - x(lambda))**2 + y(lambda)**2 + z(lambda)**2))) + tanh(sigma*(R + sqrt((v_s*t(lambda) - x(lambda))**2 + y(lambda)**2 + z(lambda)**2))))*(tanh(sigma*(R - sqrt((v_s*t(lambda) - x(lambda))**2 + y(lambda)**2 + z(lambda)**2)))**2 - tanh(sigma*(R + sqrt((v_s*t(lambda) - x(lambda))**2 + y(lambda)**2 + z(lambda)**2)))**2)*y(lambda)/(sqrt((v_s*t(lambda) - x(lambda))**2 + y(lambda)**2 + z(lambda)**2)*tanh(R*sigma)**2)\n",
      "l: 2 mu: 0 nu1\n",
      "0.25*sigma*v_s*(tanh(sigma*(R - sqrt((v_s*t(lambda) - x(lambda))**2 + y(lambda)**2 + z(lambda)**2)))**2 - tanh(sigma*(R + sqrt((v_s*t(lambda) - x(lambda))**2 + y(lambda)**2 + z(lambda)**2)))**2)*y(lambda)/(sqrt((v_s*t(lambda) - x(lambda))**2 + y(lambda)**2 + z(lambda)**2)*tanh(R*sigma))\n",
      "l: 2 mu: 0 nu2\n",
      "0\n",
      "l: 2 mu: 0 nu3\n",
      "0\n",
      "l: 2 mu: 1 nu0\n",
      "0.25*sigma*v_s*(tanh(sigma*(R - sqrt((v_s*t(lambda) - x(lambda))**2 + y(lambda)**2 + z(lambda)**2)))**2 - tanh(sigma*(R + sqrt((v_s*t(lambda) - x(lambda))**2 + y(lambda)**2 + z(lambda)**2)))**2)*y(lambda)/(sqrt((v_s*t(lambda) - x(lambda))**2 + y(lambda)**2 + z(lambda)**2)*tanh(R*sigma))\n",
      "l: 2 mu: 1 nu1\n",
      "0\n",
      "l: 2 mu: 1 nu2\n",
      "0\n",
      "l: 2 mu: 1 nu3\n",
      "0\n",
      "l: 2 mu: 2 nu0\n",
      "0\n",
      "l: 2 mu: 2 nu1\n",
      "0\n",
      "l: 2 mu: 2 nu2\n",
      "0\n",
      "l: 2 mu: 2 nu3\n",
      "0\n",
      "l: 2 mu: 3 nu0\n",
      "0\n",
      "l: 2 mu: 3 nu1\n",
      "0\n",
      "l: 2 mu: 3 nu2\n",
      "0\n",
      "l: 2 mu: 3 nu3\n",
      "0\n",
      "l: 3 mu: 0 nu0\n",
      "0.25*sigma*v_s**2*(tanh(sigma*(R - sqrt((v_s*t(lambda) - x(lambda))**2 + y(lambda)**2 + z(lambda)**2))) + tanh(sigma*(R + sqrt((v_s*t(lambda) - x(lambda))**2 + y(lambda)**2 + z(lambda)**2))))*(tanh(sigma*(R - sqrt((v_s*t(lambda) - x(lambda))**2 + y(lambda)**2 + z(lambda)**2)))**2 - tanh(sigma*(R + sqrt((v_s*t(lambda) - x(lambda))**2 + y(lambda)**2 + z(lambda)**2)))**2)*z(lambda)/(sqrt((v_s*t(lambda) - x(lambda))**2 + y(lambda)**2 + z(lambda)**2)*tanh(R*sigma)**2)\n",
      "l: 3 mu: 0 nu1\n",
      "0.25*sigma*v_s*(tanh(sigma*(R - sqrt((v_s*t(lambda) - x(lambda))**2 + y(lambda)**2 + z(lambda)**2)))**2 - tanh(sigma*(R + sqrt((v_s*t(lambda) - x(lambda))**2 + y(lambda)**2 + z(lambda)**2)))**2)*z(lambda)/(sqrt((v_s*t(lambda) - x(lambda))**2 + y(lambda)**2 + z(lambda)**2)*tanh(R*sigma))\n",
      "l: 3 mu: 0 nu2\n",
      "0\n",
      "l: 3 mu: 0 nu3\n",
      "0\n",
      "l: 3 mu: 1 nu0\n",
      "0.25*sigma*v_s*(tanh(sigma*(R - sqrt((v_s*t(lambda) - x(lambda))**2 + y(lambda)**2 + z(lambda)**2)))**2 - tanh(sigma*(R + sqrt((v_s*t(lambda) - x(lambda))**2 + y(lambda)**2 + z(lambda)**2)))**2)*z(lambda)/(sqrt((v_s*t(lambda) - x(lambda))**2 + y(lambda)**2 + z(lambda)**2)*tanh(R*sigma))\n",
      "l: 3 mu: 1 nu1\n",
      "0\n",
      "l: 3 mu: 1 nu2\n",
      "0\n",
      "l: 3 mu: 1 nu3\n",
      "0\n",
      "l: 3 mu: 2 nu0\n",
      "0\n",
      "l: 3 mu: 2 nu1\n",
      "0\n",
      "l: 3 mu: 2 nu2\n",
      "0\n",
      "l: 3 mu: 2 nu3\n",
      "0\n",
      "l: 3 mu: 3 nu0\n",
      "0\n",
      "l: 3 mu: 3 nu1\n",
      "0\n",
      "l: 3 mu: 3 nu2\n",
      "0\n",
      "l: 3 mu: 3 nu3\n",
      "0\n"
     ]
    },
    {
     "data": {
      "text/latex": [
       "$\\displaystyle \\frac{0.125 \\sigma v_{s} \\left(v_{s} t{\\left(\\lambda \\right)} - x{\\left(\\lambda \\right)}\\right) \\left(v_{s} \\left(2 v_{s} + 1\\right) \\left(\\tanh{\\left(\\sigma \\left(R - \\sqrt{v_{s}^{2} t^{2}{\\left(\\lambda \\right)} - 2 v_{s} t{\\left(\\lambda \\right)} x{\\left(\\lambda \\right)} + x^{2}{\\left(\\lambda \\right)} + y^{2}{\\left(\\lambda \\right)} + z^{2}{\\left(\\lambda \\right)}}\\right) \\right)} + \\tanh{\\left(\\sigma \\left(R + \\sqrt{v_{s}^{2} t^{2}{\\left(\\lambda \\right)} - 2 v_{s} t{\\left(\\lambda \\right)} x{\\left(\\lambda \\right)} + x^{2}{\\left(\\lambda \\right)} + y^{2}{\\left(\\lambda \\right)} + z^{2}{\\left(\\lambda \\right)}}\\right) \\right)}\\right) + 2 \\left(v_{s} + 2\\right) \\tanh{\\left(R \\sigma \\right)}\\right) \\left(\\tanh^{2}{\\left(\\sigma \\left(R - \\sqrt{\\left(v_{s} t{\\left(\\lambda \\right)} - x{\\left(\\lambda \\right)}\\right)^{2} + y^{2}{\\left(\\lambda \\right)} + z^{2}{\\left(\\lambda \\right)}}\\right) \\right)} - \\tanh^{2}{\\left(\\sigma \\left(R + \\sqrt{\\left(v_{s} t{\\left(\\lambda \\right)} - x{\\left(\\lambda \\right)}\\right)^{2} + y^{2}{\\left(\\lambda \\right)} + z^{2}{\\left(\\lambda \\right)}}\\right) \\right)}\\right)}{\\sqrt{\\left(v_{s} t{\\left(\\lambda \\right)} - x{\\left(\\lambda \\right)}\\right)^{2} + y^{2}{\\left(\\lambda \\right)} + z^{2}{\\left(\\lambda \\right)}} \\tanh^{2}{\\left(R \\sigma \\right)}}$"
      ],
      "text/plain": [
       "0.125*sigma*v_s*(v_s*t(lambda) - x(lambda))*(v_s*(2*v_s + 1)*(tanh(sigma*(R - sqrt(v_s**2*t(lambda)**2 - 2*v_s*t(lambda)*x(lambda) + x(lambda)**2 + y(lambda)**2 + z(lambda)**2))) + tanh(sigma*(R + sqrt(v_s**2*t(lambda)**2 - 2*v_s*t(lambda)*x(lambda) + x(lambda)**2 + y(lambda)**2 + z(lambda)**2)))) + 2*(v_s + 2)*tanh(R*sigma))*(tanh(sigma*(R - sqrt((v_s*t(lambda) - x(lambda))**2 + y(lambda)**2 + z(lambda)**2)))**2 - tanh(sigma*(R + sqrt((v_s*t(lambda) - x(lambda))**2 + y(lambda)**2 + z(lambda)**2)))**2)/(sqrt((v_s*t(lambda) - x(lambda))**2 + y(lambda)**2 + z(lambda)**2)*tanh(R*sigma)**2)"
      ]
     },
     "execution_count": 8,
     "metadata": {},
     "output_type": "execute_result"
    }
   ],
   "source": [
    "print(\"start computation\")\n",
    "# computing the symbols using the metric equation\n",
    "christoffel_symbols = [[[0 for i in range(4)] for j in range(4)] for k in range(4)]\n",
    "for lambda_ in range(4):\n",
    "    for mu in range(4):\n",
    "        for nu in range(4):\n",
    "            christoffel_symbols[lambda_][mu][nu] = 1/2 * (\n",
    "                metric_inv[lambda_, 0] * (partial_x[mu, nu] + partial_x[nu, mu] - partial_t[mu, nu]) +\n",
    "                metric_inv[lambda_, 1] * (partial_t[mu, nu] + partial_t[nu, mu] - partial_x[mu, nu]) +\n",
    "                metric_inv[lambda_, 2] * (partial_y[mu, nu] + partial_y[nu, mu] - partial_y[mu, nu]) +\n",
    "                metric_inv[lambda_, 3] * (partial_z[mu, nu] + partial_z[nu, mu] - partial_z[mu, nu])\n",
    "            ).simplify()\n",
    "            print(f\"l: {lambda_} mu: {mu} nu{nu}\")\n",
    "            print(christoffel_symbols[lambda_][mu][nu])\n",
    "\n",
    "christoffel_symbols[0][1][0]  # Displaying Γ^t_{tx} as an example"
   ]
  },
  {
   "cell_type": "code",
   "execution_count": 9,
   "id": "01d4e4f0",
   "metadata": {},
   "outputs": [],
   "source": [
    "C = christoffel_symbols"
   ]
  },
  {
   "cell_type": "code",
   "execution_count": 32,
   "id": "3615ac6e",
   "metadata": {},
   "outputs": [
    {
     "data": {
      "text/latex": [
       "$\\displaystyle \\frac{0.125 \\sigma v_{s} \\left(v_{s} t{\\left(\\lambda \\right)} - x{\\left(\\lambda \\right)}\\right) \\left(v_{s} \\left(2 v_{s} + 1\\right) \\left(\\tanh{\\left(\\sigma \\left(R - \\sqrt{v_{s}^{2} t^{2}{\\left(\\lambda \\right)} - 2 v_{s} t{\\left(\\lambda \\right)} x{\\left(\\lambda \\right)} + x^{2}{\\left(\\lambda \\right)} + y^{2}{\\left(\\lambda \\right)} + z^{2}{\\left(\\lambda \\right)}}\\right) \\right)} + \\tanh{\\left(\\sigma \\left(R + \\sqrt{v_{s}^{2} t^{2}{\\left(\\lambda \\right)} - 2 v_{s} t{\\left(\\lambda \\right)} x{\\left(\\lambda \\right)} + x^{2}{\\left(\\lambda \\right)} + y^{2}{\\left(\\lambda \\right)} + z^{2}{\\left(\\lambda \\right)}}\\right) \\right)}\\right) + 2 \\left(v_{s} + 2\\right) \\tanh{\\left(R \\sigma \\right)}\\right) \\left(\\tanh^{2}{\\left(\\sigma \\left(R - \\sqrt{\\left(v_{s} t{\\left(\\lambda \\right)} - x{\\left(\\lambda \\right)}\\right)^{2} + y^{2}{\\left(\\lambda \\right)} + z^{2}{\\left(\\lambda \\right)}}\\right) \\right)} - \\tanh^{2}{\\left(\\sigma \\left(R + \\sqrt{\\left(v_{s} t{\\left(\\lambda \\right)} - x{\\left(\\lambda \\right)}\\right)^{2} + y^{2}{\\left(\\lambda \\right)} + z^{2}{\\left(\\lambda \\right)}}\\right) \\right)}\\right)}{\\sqrt{\\left(v_{s} t{\\left(\\lambda \\right)} - x{\\left(\\lambda \\right)}\\right)^{2} + y^{2}{\\left(\\lambda \\right)} + z^{2}{\\left(\\lambda \\right)}} \\tanh^{2}{\\left(R \\sigma \\right)}}$"
      ],
      "text/plain": [
       "0.125*sigma*v_s*(v_s*t(lambda) - x(lambda))*(v_s*(2*v_s + 1)*(tanh(sigma*(R - sqrt(v_s**2*t(lambda)**2 - 2*v_s*t(lambda)*x(lambda) + x(lambda)**2 + y(lambda)**2 + z(lambda)**2))) + tanh(sigma*(R + sqrt(v_s**2*t(lambda)**2 - 2*v_s*t(lambda)*x(lambda) + x(lambda)**2 + y(lambda)**2 + z(lambda)**2)))) + 2*(v_s + 2)*tanh(R*sigma))*(tanh(sigma*(R - sqrt((v_s*t(lambda) - x(lambda))**2 + y(lambda)**2 + z(lambda)**2)))**2 - tanh(sigma*(R + sqrt((v_s*t(lambda) - x(lambda))**2 + y(lambda)**2 + z(lambda)**2)))**2)/(sqrt((v_s*t(lambda) - x(lambda))**2 + y(lambda)**2 + z(lambda)**2)*tanh(R*sigma)**2)"
      ]
     },
     "execution_count": 32,
     "metadata": {},
     "output_type": "execute_result"
    }
   ],
   "source": [
    "C[0][0][1]"
   ]
  },
  {
   "cell_type": "code",
   "execution_count": 5,
   "id": "5ee6a0c2",
   "metadata": {},
   "outputs": [
    {
     "ename": "NameError",
     "evalue": "name 'C' is not defined",
     "output_type": "error",
     "traceback": [
      "\u001b[1;31m---------------------------------------------------------------------------\u001b[0m",
      "\u001b[1;31mNameError\u001b[0m                                 Traceback (most recent call last)",
      "Cell \u001b[1;32mIn[5], line 1\u001b[0m\n\u001b[1;32m----> 1\u001b[0m C[\u001b[38;5;241m0\u001b[39m][\u001b[38;5;241m1\u001b[39m][\u001b[38;5;241m0\u001b[39m]\n",
      "\u001b[1;31mNameError\u001b[0m: name 'C' is not defined"
     ]
    }
   ],
   "source": [
    "C[0][1][0]"
   ]
  },
  {
   "cell_type": "markdown",
   "id": "3062dc18",
   "metadata": {},
   "source": [
    "Definitions of momenta using trajectory of photon:\n",
    "\n",
    "$$\n",
    "\\frac{dt}{d\\lambda}-p^t=0\n",
    "$$\n",
    "$$\n",
    "\\frac{dx}{d\\lambda}-p^x=0\n",
    "$$\n",
    "$$\n",
    "\\frac{dy}{d\\lambda}-p^y=0\n",
    "$$"
   ]
  },
  {
   "cell_type": "code",
   "execution_count": 10,
   "id": "9f7392b3",
   "metadata": {},
   "outputs": [
    {
     "data": {
      "text/latex": [
       "$\\displaystyle \\frac{d}{d \\lambda} t{\\left(\\lambda \\right)}$"
      ],
      "text/plain": [
       "Derivative(t(lambda), lambda)"
      ]
     },
     "execution_count": 10,
     "metadata": {},
     "output_type": "execute_result"
    }
   ],
   "source": [
    "pt = sp.diff(t, lam)\n",
    "px = sp.diff(x, lam)\n",
    "py = sp.diff(y, lam)\n",
    "\n",
    "\n",
    "pt"
   ]
  },
  {
   "cell_type": "markdown",
   "id": "339a74e2",
   "metadata": {},
   "source": [
    "$$\n",
    "\\frac{dp^t}{d\\lambda}+\\Gamma^t_{tt}(p^t)^2+\\Gamma^t_{xx}(p^x)^2+2\\Gamma^t_{tx}p^tp^x+2\\Gamma^t_{ty}p^tp^y+2\\Gamma^t_{xy}p^xp^y=0\n",
    "$$\n",
    "$$\n",
    "\\frac{dp^x}{d\\lambda}+\\Gamma^x_{tt}(p^t)^2+\\Gamma^x_{xx}(p^x)^2+2\\Gamma^x_{tx}p^tp^x+2\\Gamma^x_{ty}p^tp^y+2\\Gamma^x_{xy}p^xp^y=0\n",
    "$$\n",
    "$$\n",
    "\\frac{dp^y}{d\\lambda}+\\Gamma^y_{tt}(p^t)^2+2\\Gamma^y_{tx}p^tp^x=0\n",
    "$$"
   ]
  },
  {
   "cell_type": "markdown",
   "id": "2b36d4ba",
   "metadata": {},
   "source": [
    "[0, 1, 2, 3]=[t,x,y,z]"
   ]
  },
  {
   "cell_type": "code",
   "execution_count": 26,
   "id": "1c596f09",
   "metadata": {},
   "outputs": [],
   "source": [
    "Ct, Cx, Cy =C[0], C[1], C[2]\n",
    "dptdl=-1*(Ct[0][0]*pt**2+Ct[1][1]*px**2+2*Ct[0][1]*pt*px+2*Ct[0][2]*pt*py+2*Ct[1][2]*px*py)\n",
    "dpxdl=-1*(Cx[0][0]*pt**2+Cx[1][1]*px**2+2*Cx[0][1]*pt*px+2*Cx[0][2]*pt*py+2*Cx[1][2]*px*py)\n",
    "dpydl=-1*(Cy[0][0]*pt**2+2*Cy[0][1]*pt*px)"
   ]
  },
  {
   "cell_type": "code",
   "execution_count": 12,
   "id": "05978cf2",
   "metadata": {
    "scrolled": true
   },
   "outputs": [
    {
     "data": {
      "text/plain": [
       "(-0.125*sigma*v_s**2*(v_s*t(lambda) - x(lambda))*(v_s*(2*v_s + 1)*(tanh(sigma*(R - sqrt(v_s**2*t(lambda)**2 - 2*v_s*t(lambda)*x(lambda) + x(lambda)**2 + y(lambda)**2 + z(lambda)**2))) + tanh(sigma*(R + sqrt(v_s**2*t(lambda)**2 - 2*v_s*t(lambda)*x(lambda) + x(lambda)**2 + y(lambda)**2 + z(lambda)**2))))**2 + 2*(v_s + 2)*(tanh(sigma*(R - sqrt((v_s*t(lambda) - x(lambda))**2 + y(lambda)**2 + z(lambda)**2))) + tanh(sigma*(R + sqrt((v_s*t(lambda) - x(lambda))**2 + y(lambda)**2 + z(lambda)**2))))*tanh(R*sigma))*(tanh(sigma*(R - sqrt((v_s*t(lambda) - x(lambda))**2 + y(lambda)**2 + z(lambda)**2)))**2 - tanh(sigma*(R + sqrt((v_s*t(lambda) - x(lambda))**2 + y(lambda)**2 + z(lambda)**2)))**2)*Derivative(t(lambda), lambda)**2/(sqrt((v_s*t(lambda) - x(lambda))**2 + y(lambda)**2 + z(lambda)**2)*tanh(R*sigma)**3) - 0.25*sigma*v_s*(v_s*t(lambda) - x(lambda))*(v_s*(2*v_s + 1)*(tanh(sigma*(R - sqrt(v_s**2*t(lambda)**2 - 2*v_s*t(lambda)*x(lambda) + x(lambda)**2 + y(lambda)**2 + z(lambda)**2))) + tanh(sigma*(R + sqrt(v_s**2*t(lambda)**2 - 2*v_s*t(lambda)*x(lambda) + x(lambda)**2 + y(lambda)**2 + z(lambda)**2)))) + 2*(v_s + 2)*tanh(R*sigma))*(tanh(sigma*(R - sqrt((v_s*t(lambda) - x(lambda))**2 + y(lambda)**2 + z(lambda)**2)))**2 - tanh(sigma*(R + sqrt((v_s*t(lambda) - x(lambda))**2 + y(lambda)**2 + z(lambda)**2)))**2)*Derivative(t(lambda), lambda)*Derivative(x(lambda), lambda)/(sqrt((v_s*t(lambda) - x(lambda))**2 + y(lambda)**2 + z(lambda)**2)*tanh(R*sigma)**2),\n",
       " 0.0625*sigma*v_s**2*(v_s*t(lambda) - x(lambda))*(2*v_s*(v_s + 2)*(tanh(sigma*(R - sqrt(v_s**2*t(lambda)**2 - 2*v_s*t(lambda)*x(lambda) + x(lambda)**2 + y(lambda)**2 + z(lambda)**2))) + tanh(sigma*(R + sqrt(v_s**2*t(lambda)**2 - 2*v_s*t(lambda)*x(lambda) + x(lambda)**2 + y(lambda)**2 + z(lambda)**2))))*tanh(R*sigma) + (2*v_s + 1)*(v_s**2*tanh(sigma*(R - sqrt(v_s**2*t(lambda)**2 - 2*v_s*t(lambda)*x(lambda) + x(lambda)**2 + y(lambda)**2 + z(lambda)**2)))**2 + 2*v_s**2*tanh(sigma*(R - sqrt(v_s**2*t(lambda)**2 - 2*v_s*t(lambda)*x(lambda) + x(lambda)**2 + y(lambda)**2 + z(lambda)**2)))*tanh(sigma*(R + sqrt(v_s**2*t(lambda)**2 - 2*v_s*t(lambda)*x(lambda) + x(lambda)**2 + y(lambda)**2 + z(lambda)**2))) + v_s**2*tanh(sigma*(R + sqrt(v_s**2*t(lambda)**2 - 2*v_s*t(lambda)*x(lambda) + x(lambda)**2 + y(lambda)**2 + z(lambda)**2)))**2 - 4*tanh(R*sigma)**2))*(tanh(sigma*(R - sqrt((v_s*t(lambda) - x(lambda))**2 + y(lambda)**2 + z(lambda)**2))) + tanh(sigma*(R + sqrt((v_s*t(lambda) - x(lambda))**2 + y(lambda)**2 + z(lambda)**2))))*(tanh(sigma*(R - sqrt((v_s*t(lambda) - x(lambda))**2 + y(lambda)**2 + z(lambda)**2)))**2 - tanh(sigma*(R + sqrt((v_s*t(lambda) - x(lambda))**2 + y(lambda)**2 + z(lambda)**2)))**2)*Derivative(t(lambda), lambda)**2/(sqrt((v_s*t(lambda) - x(lambda))**2 + y(lambda)**2 + z(lambda)**2)*tanh(R*sigma)**4) + 0.125*sigma*v_s*(v_s*t(lambda) - x(lambda))*(2*v_s*(v_s + 2)*(tanh(sigma*(R - sqrt(v_s**2*t(lambda)**2 - 2*v_s*t(lambda)*x(lambda) + x(lambda)**2 + y(lambda)**2 + z(lambda)**2))) + tanh(sigma*(R + sqrt(v_s**2*t(lambda)**2 - 2*v_s*t(lambda)*x(lambda) + x(lambda)**2 + y(lambda)**2 + z(lambda)**2))))*tanh(R*sigma) + (2*v_s + 1)*(v_s**2*tanh(sigma*(R - sqrt(v_s**2*t(lambda)**2 - 2*v_s*t(lambda)*x(lambda) + x(lambda)**2 + y(lambda)**2 + z(lambda)**2)))**2 + 2*v_s**2*tanh(sigma*(R - sqrt(v_s**2*t(lambda)**2 - 2*v_s*t(lambda)*x(lambda) + x(lambda)**2 + y(lambda)**2 + z(lambda)**2)))*tanh(sigma*(R + sqrt(v_s**2*t(lambda)**2 - 2*v_s*t(lambda)*x(lambda) + x(lambda)**2 + y(lambda)**2 + z(lambda)**2))) + v_s**2*tanh(sigma*(R + sqrt(v_s**2*t(lambda)**2 - 2*v_s*t(lambda)*x(lambda) + x(lambda)**2 + y(lambda)**2 + z(lambda)**2)))**2 - 4*tanh(R*sigma)**2))*(tanh(sigma*(R - sqrt((v_s*t(lambda) - x(lambda))**2 + y(lambda)**2 + z(lambda)**2)))**2 - tanh(sigma*(R + sqrt((v_s*t(lambda) - x(lambda))**2 + y(lambda)**2 + z(lambda)**2)))**2)*Derivative(t(lambda), lambda)*Derivative(x(lambda), lambda)/(sqrt((v_s*t(lambda) - x(lambda))**2 + y(lambda)**2 + z(lambda)**2)*tanh(R*sigma)**3),\n",
       " -0.25*sigma*v_s**2*(tanh(sigma*(R - sqrt((v_s*t(lambda) - x(lambda))**2 + y(lambda)**2 + z(lambda)**2))) + tanh(sigma*(R + sqrt((v_s*t(lambda) - x(lambda))**2 + y(lambda)**2 + z(lambda)**2))))*(tanh(sigma*(R - sqrt((v_s*t(lambda) - x(lambda))**2 + y(lambda)**2 + z(lambda)**2)))**2 - tanh(sigma*(R + sqrt((v_s*t(lambda) - x(lambda))**2 + y(lambda)**2 + z(lambda)**2)))**2)*y(lambda)*Derivative(t(lambda), lambda)**2/(sqrt((v_s*t(lambda) - x(lambda))**2 + y(lambda)**2 + z(lambda)**2)*tanh(R*sigma)**2) - 0.5*sigma*v_s*(tanh(sigma*(R - sqrt((v_s*t(lambda) - x(lambda))**2 + y(lambda)**2 + z(lambda)**2)))**2 - tanh(sigma*(R + sqrt((v_s*t(lambda) - x(lambda))**2 + y(lambda)**2 + z(lambda)**2)))**2)*y(lambda)*Derivative(t(lambda), lambda)*Derivative(x(lambda), lambda)/(sqrt((v_s*t(lambda) - x(lambda))**2 + y(lambda)**2 + z(lambda)**2)*tanh(R*sigma)))"
      ]
     },
     "execution_count": 12,
     "metadata": {},
     "output_type": "execute_result"
    }
   ],
   "source": [
    "dptdl,dpxdl,dpydl"
   ]
  },
  {
   "cell_type": "code",
   "execution_count": 14,
   "id": "31297fdd",
   "metadata": {},
   "outputs": [
    {
     "data": {
      "text/latex": [
       "$\\displaystyle \\frac{d^{2}}{d \\lambda^{2}} t{\\left(\\lambda \\right)} = - \\frac{0.125 \\sigma v_{s}^{2} \\left(v_{s} t{\\left(\\lambda \\right)} - x{\\left(\\lambda \\right)}\\right) \\left(v_{s} \\left(2 v_{s} + 1\\right) \\left(\\tanh{\\left(\\sigma \\left(R - \\sqrt{v_{s}^{2} t^{2}{\\left(\\lambda \\right)} - 2 v_{s} t{\\left(\\lambda \\right)} x{\\left(\\lambda \\right)} + x^{2}{\\left(\\lambda \\right)} + y^{2}{\\left(\\lambda \\right)} + z^{2}{\\left(\\lambda \\right)}}\\right) \\right)} + \\tanh{\\left(\\sigma \\left(R + \\sqrt{v_{s}^{2} t^{2}{\\left(\\lambda \\right)} - 2 v_{s} t{\\left(\\lambda \\right)} x{\\left(\\lambda \\right)} + x^{2}{\\left(\\lambda \\right)} + y^{2}{\\left(\\lambda \\right)} + z^{2}{\\left(\\lambda \\right)}}\\right) \\right)}\\right)^{2} + 2 \\left(v_{s} + 2\\right) \\left(\\tanh{\\left(\\sigma \\left(R - \\sqrt{\\left(v_{s} t{\\left(\\lambda \\right)} - x{\\left(\\lambda \\right)}\\right)^{2} + y^{2}{\\left(\\lambda \\right)} + z^{2}{\\left(\\lambda \\right)}}\\right) \\right)} + \\tanh{\\left(\\sigma \\left(R + \\sqrt{\\left(v_{s} t{\\left(\\lambda \\right)} - x{\\left(\\lambda \\right)}\\right)^{2} + y^{2}{\\left(\\lambda \\right)} + z^{2}{\\left(\\lambda \\right)}}\\right) \\right)}\\right) \\tanh{\\left(R \\sigma \\right)}\\right) \\left(\\tanh^{2}{\\left(\\sigma \\left(R - \\sqrt{\\left(v_{s} t{\\left(\\lambda \\right)} - x{\\left(\\lambda \\right)}\\right)^{2} + y^{2}{\\left(\\lambda \\right)} + z^{2}{\\left(\\lambda \\right)}}\\right) \\right)} - \\tanh^{2}{\\left(\\sigma \\left(R + \\sqrt{\\left(v_{s} t{\\left(\\lambda \\right)} - x{\\left(\\lambda \\right)}\\right)^{2} + y^{2}{\\left(\\lambda \\right)} + z^{2}{\\left(\\lambda \\right)}}\\right) \\right)}\\right) \\left(\\frac{d}{d \\lambda} t{\\left(\\lambda \\right)}\\right)^{2}}{\\sqrt{\\left(v_{s} t{\\left(\\lambda \\right)} - x{\\left(\\lambda \\right)}\\right)^{2} + y^{2}{\\left(\\lambda \\right)} + z^{2}{\\left(\\lambda \\right)}} \\tanh^{3}{\\left(R \\sigma \\right)}} - \\frac{0.25 \\sigma v_{s} \\left(v_{s} t{\\left(\\lambda \\right)} - x{\\left(\\lambda \\right)}\\right) \\left(v_{s} \\left(2 v_{s} + 1\\right) \\left(\\tanh{\\left(\\sigma \\left(R - \\sqrt{v_{s}^{2} t^{2}{\\left(\\lambda \\right)} - 2 v_{s} t{\\left(\\lambda \\right)} x{\\left(\\lambda \\right)} + x^{2}{\\left(\\lambda \\right)} + y^{2}{\\left(\\lambda \\right)} + z^{2}{\\left(\\lambda \\right)}}\\right) \\right)} + \\tanh{\\left(\\sigma \\left(R + \\sqrt{v_{s}^{2} t^{2}{\\left(\\lambda \\right)} - 2 v_{s} t{\\left(\\lambda \\right)} x{\\left(\\lambda \\right)} + x^{2}{\\left(\\lambda \\right)} + y^{2}{\\left(\\lambda \\right)} + z^{2}{\\left(\\lambda \\right)}}\\right) \\right)}\\right) + 2 \\left(v_{s} + 2\\right) \\tanh{\\left(R \\sigma \\right)}\\right) \\left(\\tanh^{2}{\\left(\\sigma \\left(R - \\sqrt{\\left(v_{s} t{\\left(\\lambda \\right)} - x{\\left(\\lambda \\right)}\\right)^{2} + y^{2}{\\left(\\lambda \\right)} + z^{2}{\\left(\\lambda \\right)}}\\right) \\right)} - \\tanh^{2}{\\left(\\sigma \\left(R + \\sqrt{\\left(v_{s} t{\\left(\\lambda \\right)} - x{\\left(\\lambda \\right)}\\right)^{2} + y^{2}{\\left(\\lambda \\right)} + z^{2}{\\left(\\lambda \\right)}}\\right) \\right)}\\right) \\frac{d}{d \\lambda} t{\\left(\\lambda \\right)} \\frac{d}{d \\lambda} x{\\left(\\lambda \\right)}}{\\sqrt{\\left(v_{s} t{\\left(\\lambda \\right)} - x{\\left(\\lambda \\right)}\\right)^{2} + y^{2}{\\left(\\lambda \\right)} + z^{2}{\\left(\\lambda \\right)}} \\tanh^{2}{\\left(R \\sigma \\right)}}$"
      ],
      "text/plain": [
       "Eq(Derivative(t(lambda), (lambda, 2)), -0.125*sigma*v_s**2*(v_s*t(lambda) - x(lambda))*(v_s*(2*v_s + 1)*(tanh(sigma*(R - sqrt(v_s**2*t(lambda)**2 - 2*v_s*t(lambda)*x(lambda) + x(lambda)**2 + y(lambda)**2 + z(lambda)**2))) + tanh(sigma*(R + sqrt(v_s**2*t(lambda)**2 - 2*v_s*t(lambda)*x(lambda) + x(lambda)**2 + y(lambda)**2 + z(lambda)**2))))**2 + 2*(v_s + 2)*(tanh(sigma*(R - sqrt((v_s*t(lambda) - x(lambda))**2 + y(lambda)**2 + z(lambda)**2))) + tanh(sigma*(R + sqrt((v_s*t(lambda) - x(lambda))**2 + y(lambda)**2 + z(lambda)**2))))*tanh(R*sigma))*(tanh(sigma*(R - sqrt((v_s*t(lambda) - x(lambda))**2 + y(lambda)**2 + z(lambda)**2)))**2 - tanh(sigma*(R + sqrt((v_s*t(lambda) - x(lambda))**2 + y(lambda)**2 + z(lambda)**2)))**2)*Derivative(t(lambda), lambda)**2/(sqrt((v_s*t(lambda) - x(lambda))**2 + y(lambda)**2 + z(lambda)**2)*tanh(R*sigma)**3) - 0.25*sigma*v_s*(v_s*t(lambda) - x(lambda))*(v_s*(2*v_s + 1)*(tanh(sigma*(R - sqrt(v_s**2*t(lambda)**2 - 2*v_s*t(lambda)*x(lambda) + x(lambda)**2 + y(lambda)**2 + z(lambda)**2))) + tanh(sigma*(R + sqrt(v_s**2*t(lambda)**2 - 2*v_s*t(lambda)*x(lambda) + x(lambda)**2 + y(lambda)**2 + z(lambda)**2)))) + 2*(v_s + 2)*tanh(R*sigma))*(tanh(sigma*(R - sqrt((v_s*t(lambda) - x(lambda))**2 + y(lambda)**2 + z(lambda)**2)))**2 - tanh(sigma*(R + sqrt((v_s*t(lambda) - x(lambda))**2 + y(lambda)**2 + z(lambda)**2)))**2)*Derivative(t(lambda), lambda)*Derivative(x(lambda), lambda)/(sqrt((v_s*t(lambda) - x(lambda))**2 + y(lambda)**2 + z(lambda)**2)*tanh(R*sigma)**2))"
      ]
     },
     "execution_count": 14,
     "metadata": {},
     "output_type": "execute_result"
    }
   ],
   "source": [
    "geodesic_system = [\n",
    "    sp.Eq(sp.Derivative(pt, lam), dptdl),\n",
    "    sp.Eq(sp.Derivative(px, lam), dpxdl),\n",
    "    sp.Eq(sp.Derivative(py, lam), dpydl)\n",
    "]\n",
    "\n",
    "geodesic_system[0]"
   ]
  },
  {
   "cell_type": "code",
   "execution_count": 16,
   "id": "5447d434",
   "metadata": {},
   "outputs": [],
   "source": [
    "import numpy as np\n",
    "\n",
    "def rk4_step(y, t, dt, derivs):\n",
    "    \"\"\"\n",
    "    Perform a single RK4 step.\n",
    "\n",
    "    Parameters:\n",
    "    - y: current value of the dependent variable\n",
    "    - t: current time step\n",
    "    - dt: step size\n",
    "    - derivs: function that calculates the derivatives of the system\n",
    "\n",
    "    Returns:\n",
    "    - y_next: value of y at the next time step\n",
    "    \"\"\"\n",
    "    k1 = dt * derivs(y, t)\n",
    "    k2 = dt * derivs(y + 0.5 * k1, t + 0.5 * dt)\n",
    "    k3 = dt * derivs(y + 0.5 * k2, t + 0.5 * dt)\n",
    "    k4 = dt * derivs(y + k3, t + dt)\n",
    "\n",
    "    y_next = y + (k1 + 2*k2 + 2*k3 + k4) / 6\n",
    "    return y_next\n",
    "\n",
    "def system_derivs(y, t):\n",
    "    \"\"\"\n",
    "    Calculate the derivatives of the system.\n",
    "\n",
    "    Parameters:\n",
    "    - y: array of dependent variables [pt, px, py, ...]\n",
    "    - t: independent variable (lambda in this context)\n",
    "\n",
    "    Returns:\n",
    "    - derivatives: array of derivatives of y\n",
    "    \"\"\"\n",
    "    # This is where you'll calculate the derivatives using the connection coefficients\n",
    "    # Example: dydt = np.array([dpt_dl, dpx_dl, dpy_dl, ...])\n",
    "    derivatives = np.array([dptdl, dpxdl, dpydl])  # Replace with your actual calculations\n",
    "    return derivatives\n",
    "\n",
    "# Initial conditions\n",
    "y0 = np.array([1, 1, 0])  # Initial values for pt, px, py, ...\n",
    "t0 = 0  # Initial value of lambda\n",
    "dt = 0.01  # Step size\n",
    "steps = 1000  # Number of steps\n",
    "\n",
    "# Integration loop\n",
    "y = y0\n",
    "for i in range(steps):\n",
    "    y = rk4_step(y, t0 + i*dt, dt, system_derivs)\n",
    "\n",
    "# y now contains the solution after 'steps' iterations\n"
   ]
  },
  {
   "cell_type": "code",
   "execution_count": 22,
   "id": "40e8f24f",
   "metadata": {},
   "outputs": [
    {
     "data": {
      "text/plain": [
       "array([-1.24999999999998*sigma*v_s**2*(v_s*t(lambda) - x(lambda))*(v_s*(2*v_s + 1)*(tanh(sigma*(R - sqrt(v_s**2*t(lambda)**2 - 2*v_s*t(lambda)*x(lambda) + x(lambda)**2 + y(lambda)**2 + z(lambda)**2))) + tanh(sigma*(R + sqrt(v_s**2*t(lambda)**2 - 2*v_s*t(lambda)*x(lambda) + x(lambda)**2 + y(lambda)**2 + z(lambda)**2))))**2 + 2*(v_s + 2)*(tanh(sigma*(R - sqrt((v_s*t(lambda) - x(lambda))**2 + y(lambda)**2 + z(lambda)**2))) + tanh(sigma*(R + sqrt((v_s*t(lambda) - x(lambda))**2 + y(lambda)**2 + z(lambda)**2))))*tanh(R*sigma))*(tanh(sigma*(R - sqrt((v_s*t(lambda) - x(lambda))**2 + y(lambda)**2 + z(lambda)**2)))**2 - tanh(sigma*(R + sqrt((v_s*t(lambda) - x(lambda))**2 + y(lambda)**2 + z(lambda)**2)))**2)*Derivative(t(lambda), lambda)**2/(sqrt((v_s*t(lambda) - x(lambda))**2 + y(lambda)**2 + z(lambda)**2)*tanh(R*sigma)**3) - 2.49999999999996*sigma*v_s*(v_s*t(lambda) - x(lambda))*(v_s*(2*v_s + 1)*(tanh(sigma*(R - sqrt(v_s**2*t(lambda)**2 - 2*v_s*t(lambda)*x(lambda) + x(lambda)**2 + y(lambda)**2 + z(lambda)**2))) + tanh(sigma*(R + sqrt(v_s**2*t(lambda)**2 - 2*v_s*t(lambda)*x(lambda) + x(lambda)**2 + y(lambda)**2 + z(lambda)**2)))) + 2*(v_s + 2)*tanh(R*sigma))*(tanh(sigma*(R - sqrt((v_s*t(lambda) - x(lambda))**2 + y(lambda)**2 + z(lambda)**2)))**2 - tanh(sigma*(R + sqrt((v_s*t(lambda) - x(lambda))**2 + y(lambda)**2 + z(lambda)**2)))**2)*Derivative(t(lambda), lambda)*Derivative(x(lambda), lambda)/(sqrt((v_s*t(lambda) - x(lambda))**2 + y(lambda)**2 + z(lambda)**2)*tanh(R*sigma)**2) + 1,\n",
       "       0.624999999999989*sigma*v_s**2*(v_s*t(lambda) - x(lambda))*(2*v_s*(v_s + 2)*(tanh(sigma*(R - sqrt(v_s**2*t(lambda)**2 - 2*v_s*t(lambda)*x(lambda) + x(lambda)**2 + y(lambda)**2 + z(lambda)**2))) + tanh(sigma*(R + sqrt(v_s**2*t(lambda)**2 - 2*v_s*t(lambda)*x(lambda) + x(lambda)**2 + y(lambda)**2 + z(lambda)**2))))*tanh(R*sigma) + (2*v_s + 1)*(v_s**2*tanh(sigma*(R - sqrt(v_s**2*t(lambda)**2 - 2*v_s*t(lambda)*x(lambda) + x(lambda)**2 + y(lambda)**2 + z(lambda)**2)))**2 + 2*v_s**2*tanh(sigma*(R - sqrt(v_s**2*t(lambda)**2 - 2*v_s*t(lambda)*x(lambda) + x(lambda)**2 + y(lambda)**2 + z(lambda)**2)))*tanh(sigma*(R + sqrt(v_s**2*t(lambda)**2 - 2*v_s*t(lambda)*x(lambda) + x(lambda)**2 + y(lambda)**2 + z(lambda)**2))) + v_s**2*tanh(sigma*(R + sqrt(v_s**2*t(lambda)**2 - 2*v_s*t(lambda)*x(lambda) + x(lambda)**2 + y(lambda)**2 + z(lambda)**2)))**2 - 4*tanh(R*sigma)**2))*(tanh(sigma*(R - sqrt((v_s*t(lambda) - x(lambda))**2 + y(lambda)**2 + z(lambda)**2))) + tanh(sigma*(R + sqrt((v_s*t(lambda) - x(lambda))**2 + y(lambda)**2 + z(lambda)**2))))*(tanh(sigma*(R - sqrt((v_s*t(lambda) - x(lambda))**2 + y(lambda)**2 + z(lambda)**2)))**2 - tanh(sigma*(R + sqrt((v_s*t(lambda) - x(lambda))**2 + y(lambda)**2 + z(lambda)**2)))**2)*Derivative(t(lambda), lambda)**2/(sqrt((v_s*t(lambda) - x(lambda))**2 + y(lambda)**2 + z(lambda)**2)*tanh(R*sigma)**4) + 1.24999999999998*sigma*v_s*(v_s*t(lambda) - x(lambda))*(2*v_s*(v_s + 2)*(tanh(sigma*(R - sqrt(v_s**2*t(lambda)**2 - 2*v_s*t(lambda)*x(lambda) + x(lambda)**2 + y(lambda)**2 + z(lambda)**2))) + tanh(sigma*(R + sqrt(v_s**2*t(lambda)**2 - 2*v_s*t(lambda)*x(lambda) + x(lambda)**2 + y(lambda)**2 + z(lambda)**2))))*tanh(R*sigma) + (2*v_s + 1)*(v_s**2*tanh(sigma*(R - sqrt(v_s**2*t(lambda)**2 - 2*v_s*t(lambda)*x(lambda) + x(lambda)**2 + y(lambda)**2 + z(lambda)**2)))**2 + 2*v_s**2*tanh(sigma*(R - sqrt(v_s**2*t(lambda)**2 - 2*v_s*t(lambda)*x(lambda) + x(lambda)**2 + y(lambda)**2 + z(lambda)**2)))*tanh(sigma*(R + sqrt(v_s**2*t(lambda)**2 - 2*v_s*t(lambda)*x(lambda) + x(lambda)**2 + y(lambda)**2 + z(lambda)**2))) + v_s**2*tanh(sigma*(R + sqrt(v_s**2*t(lambda)**2 - 2*v_s*t(lambda)*x(lambda) + x(lambda)**2 + y(lambda)**2 + z(lambda)**2)))**2 - 4*tanh(R*sigma)**2))*(tanh(sigma*(R - sqrt((v_s*t(lambda) - x(lambda))**2 + y(lambda)**2 + z(lambda)**2)))**2 - tanh(sigma*(R + sqrt((v_s*t(lambda) - x(lambda))**2 + y(lambda)**2 + z(lambda)**2)))**2)*Derivative(t(lambda), lambda)*Derivative(x(lambda), lambda)/(sqrt((v_s*t(lambda) - x(lambda))**2 + y(lambda)**2 + z(lambda)**2)*tanh(R*sigma)**3) + 1,\n",
       "       -2.49999999999996*sigma*v_s**2*(tanh(sigma*(R - sqrt((v_s*t(lambda) - x(lambda))**2 + y(lambda)**2 + z(lambda)**2))) + tanh(sigma*(R + sqrt((v_s*t(lambda) - x(lambda))**2 + y(lambda)**2 + z(lambda)**2))))*(tanh(sigma*(R - sqrt((v_s*t(lambda) - x(lambda))**2 + y(lambda)**2 + z(lambda)**2)))**2 - tanh(sigma*(R + sqrt((v_s*t(lambda) - x(lambda))**2 + y(lambda)**2 + z(lambda)**2)))**2)*y(lambda)*Derivative(t(lambda), lambda)**2/(sqrt((v_s*t(lambda) - x(lambda))**2 + y(lambda)**2 + z(lambda)**2)*tanh(R*sigma)**2) - 4.99999999999992*sigma*v_s*(tanh(sigma*(R - sqrt((v_s*t(lambda) - x(lambda))**2 + y(lambda)**2 + z(lambda)**2)))**2 - tanh(sigma*(R + sqrt((v_s*t(lambda) - x(lambda))**2 + y(lambda)**2 + z(lambda)**2)))**2)*y(lambda)*Derivative(t(lambda), lambda)*Derivative(x(lambda), lambda)/(sqrt((v_s*t(lambda) - x(lambda))**2 + y(lambda)**2 + z(lambda)**2)*tanh(R*sigma))],\n",
       "      dtype=object)"
      ]
     },
     "execution_count": 22,
     "metadata": {},
     "output_type": "execute_result"
    }
   ],
   "source": [
    "y"
   ]
  },
  {
   "cell_type": "code",
   "execution_count": 27,
   "id": "51a12540",
   "metadata": {},
   "outputs": [
    {
     "ename": "SyntaxError",
     "evalue": "invalid syntax (<lambdifygenerated-4>, line 5)",
     "output_type": "error",
     "traceback": [
      "Traceback \u001b[1;36m(most recent call last)\u001b[0m:\n",
      "\u001b[0m  File \u001b[0;32m~\\anaconda3\\Lib\\site-packages\\IPython\\core\\interactiveshell.py:3526\u001b[0m in \u001b[0;35mrun_code\u001b[0m\n    exec(code_obj, self.user_global_ns, self.user_ns)\u001b[0m\n",
      "\u001b[0m  Cell \u001b[0;32mIn[27], line 9\u001b[0m\n    dptdl_num = sp.lambdify([t, x, y, z, vs, sigma, R, lambda_], dptdl, 'numpy')\u001b[0m\n",
      "\u001b[1;36m  File \u001b[1;32m~\\anaconda3\\Lib\\site-packages\\sympy\\utilities\\lambdify.py:888\u001b[1;36m in \u001b[1;35mlambdify\u001b[1;36m\n\u001b[1;33m    c = compile(funcstr, filename, 'exec')\u001b[1;36m\n",
      "\u001b[1;36m  File \u001b[1;32m<lambdifygenerated-4>:5\u001b[1;36m\u001b[0m\n\u001b[1;33m    -0.125*sigma*v_s**2*(v_s*t(lambda_) - x(lambda_))*(v_s*(2*v_s + 1)*(tanh(sigma*(R - sqrt(v_s**2*t(lambda_)**2 - 2*v_s*t(lambda_)*x(lambda_) + x(lambda_)**2 + y(lambda_)**2 + z(lambda_)**2))) + tanh(sigma*(R + sqrt(v_s**2*t(lambda_)**2 - 2*v_s*t(lambda_)*x(lambda_) + x(lambda_)**2 + y(lambda_)**2 + z(lambda_)**2))))**2 + 2*(v_s + 2)*(tanh(sigma*(R - sqrt((v_s*t(lambda_) - x(lambda_))**2 + y(lambda_)**2 + z(lambda_)**2))) + tanh(sigma*(R + sqrt((v_s*t(lambda_) - x(lambda_))**2 + y(lambda_)**2 + z(lambda_)**2))))*tanh(R*sigma))*(tanh(sigma*(R - sqrt((v_s*t(lambda_) - x(lambda_))**2 + y(lambda_)**2 + z(lambda_)**2)))**2 - tanh(sigma*(R + sqrt((v_s*t(lambda_) - x(lambda_))**2 + y(lambda_)**2 + z(lambda_)**2)))**2)*Derivative(t(lambda), lambda)**2/(sqrt((v_s*t(lambda_) - x(lambda_))**2 + y(lambda_)**2 + z(lambda_)**2)*tanh(R*sigma)**3) - 0.25*sigma*v_s*(v_s*t(lambda_) - x(lambda_))*(v_s*(2*v_s + 1)*(tanh(sigma*(R - sqrt(v_s**2*t(lambda_)**2 - 2*v_s*t(lambda_)*x(lambda_) + x(lambda_)**2 + y(lambda_)**2 + z(lambda_)**2))) + tanh(sigma*(R + sqrt(v_s**2*t(lambda_)**2 - 2*v_s*t(lambda_)*x(lambda_) + x(lambda_)**2 + y(lambda_)**2 + z(lambda_)**2)))) + 2*(v_s + 2)*tanh(R*sigma))*(tanh(sigma*(R - sqrt((v_s*t(lambda_) - x(lambda_))**2 + y(lambda_)**2 + z(lambda_)**2)))**2 - tanh(sigma*(R + sqrt((v_s*t(lambda_) - x(lambda_))**2 + y(lambda_)**2 + z(lambda_)**2)))**2)*Derivative(t(lambda), lambda)*Derivative(x(lambda), lambda)/(sqrt((v_s*t(lambda_) - x(lambda_))**2 + y(lambda_)**2 + z(lambda_)**2)*tanh(R*sigma)**2))\u001b[0m\n\u001b[1;37m                                                                                                                                                                                                                                                                                                                                                                                                                                                                                                                                                                                                                                                                                                                                                                      ^\u001b[0m\n\u001b[1;31mSyntaxError\u001b[0m\u001b[1;31m:\u001b[0m invalid syntax\n"
     ]
    }
   ],
   "source": [
    "lambda_ = sp.symbols('lambda')\n",
    "vs, sigma, R = sp.symbols('v_s sigma R')\n",
    "t, x, y, z = sp.symbols('t x y z', cls=sp.Function)\n",
    "\n",
    "# Example of defining dptdl symbolically (this is just a placeholder)\n",
    "# dptdl = -vs**2 * sigma * t(lambda_)  # Replace with your actual dptdl definition\n",
    "\n",
    "# Correctly use lambdify (ensure dptdl is defined correctly before this step)\n",
    "dptdl_num = sp.lambdify([t, x, y, z, vs, sigma, R, lambda_], dptdl, 'numpy')"
   ]
  },
  {
   "cell_type": "code",
   "execution_count": 35,
   "id": "f1e25284",
   "metadata": {},
   "outputs": [
    {
     "data": {
      "text/latex": [
       "$\\displaystyle \\Gamma^{t}_{tt} = \\frac{0.125 \\sigma v_{s}^{2} \\left(v_{s} t{\\left(\\lambda \\right)} - x{\\left(\\lambda \\right)}\\right) \\left(v_{s} \\left(2 v_{s} + 1\\right) \\left(\\tanh{\\left(\\sigma \\left(R - \\sqrt{v_{s}^{2} t^{2}{\\left(\\lambda \\right)} - 2 v_{s} t{\\left(\\lambda \\right)} x{\\left(\\lambda \\right)} + x^{2}{\\left(\\lambda \\right)} + y^{2}{\\left(\\lambda \\right)} + z^{2}{\\left(\\lambda \\right)}}\\right) \\right)} + \\tanh{\\left(\\sigma \\left(R + \\sqrt{v_{s}^{2} t^{2}{\\left(\\lambda \\right)} - 2 v_{s} t{\\left(\\lambda \\right)} x{\\left(\\lambda \\right)} + x^{2}{\\left(\\lambda \\right)} + y^{2}{\\left(\\lambda \\right)} + z^{2}{\\left(\\lambda \\right)}}\\right) \\right)}\\right)^{2} + 2 \\left(v_{s} + 2\\right) \\left(\\tanh{\\left(\\sigma \\left(R - \\sqrt{\\left(v_{s} t{\\left(\\lambda \\right)} - x{\\left(\\lambda \\right)}\\right)^{2} + y^{2}{\\left(\\lambda \\right)} + z^{2}{\\left(\\lambda \\right)}}\\right) \\right)} + \\tanh{\\left(\\sigma \\left(R + \\sqrt{\\left(v_{s} t{\\left(\\lambda \\right)} - x{\\left(\\lambda \\right)}\\right)^{2} + y^{2}{\\left(\\lambda \\right)} + z^{2}{\\left(\\lambda \\right)}}\\right) \\right)}\\right) \\tanh{\\left(R \\sigma \\right)}\\right) \\left(\\tanh^{2}{\\left(\\sigma \\left(R - \\sqrt{\\left(v_{s} t{\\left(\\lambda \\right)} - x{\\left(\\lambda \\right)}\\right)^{2} + y^{2}{\\left(\\lambda \\right)} + z^{2}{\\left(\\lambda \\right)}}\\right) \\right)} - \\tanh^{2}{\\left(\\sigma \\left(R + \\sqrt{\\left(v_{s} t{\\left(\\lambda \\right)} - x{\\left(\\lambda \\right)}\\right)^{2} + y^{2}{\\left(\\lambda \\right)} + z^{2}{\\left(\\lambda \\right)}}\\right) \\right)}\\right)}{\\sqrt{\\left(v_{s} t{\\left(\\lambda \\right)} - x{\\left(\\lambda \\right)}\\right)^{2} + y^{2}{\\left(\\lambda \\right)} + z^{2}{\\left(\\lambda \\right)}} \\tanh^{3}{\\left(R \\sigma \\right)}}$"
      ],
      "text/plain": [
       "<IPython.core.display.Math object>"
      ]
     },
     "metadata": {},
     "output_type": "display_data"
    },
    {
     "data": {
      "text/latex": [
       "$\\displaystyle \\Gamma^{t}_{tx} = \\frac{0.125 \\sigma v_{s} \\left(v_{s} t{\\left(\\lambda \\right)} - x{\\left(\\lambda \\right)}\\right) \\left(v_{s} \\left(2 v_{s} + 1\\right) \\left(\\tanh{\\left(\\sigma \\left(R - \\sqrt{v_{s}^{2} t^{2}{\\left(\\lambda \\right)} - 2 v_{s} t{\\left(\\lambda \\right)} x{\\left(\\lambda \\right)} + x^{2}{\\left(\\lambda \\right)} + y^{2}{\\left(\\lambda \\right)} + z^{2}{\\left(\\lambda \\right)}}\\right) \\right)} + \\tanh{\\left(\\sigma \\left(R + \\sqrt{v_{s}^{2} t^{2}{\\left(\\lambda \\right)} - 2 v_{s} t{\\left(\\lambda \\right)} x{\\left(\\lambda \\right)} + x^{2}{\\left(\\lambda \\right)} + y^{2}{\\left(\\lambda \\right)} + z^{2}{\\left(\\lambda \\right)}}\\right) \\right)}\\right) + 2 \\left(v_{s} + 2\\right) \\tanh{\\left(R \\sigma \\right)}\\right) \\left(\\tanh^{2}{\\left(\\sigma \\left(R - \\sqrt{\\left(v_{s} t{\\left(\\lambda \\right)} - x{\\left(\\lambda \\right)}\\right)^{2} + y^{2}{\\left(\\lambda \\right)} + z^{2}{\\left(\\lambda \\right)}}\\right) \\right)} - \\tanh^{2}{\\left(\\sigma \\left(R + \\sqrt{\\left(v_{s} t{\\left(\\lambda \\right)} - x{\\left(\\lambda \\right)}\\right)^{2} + y^{2}{\\left(\\lambda \\right)} + z^{2}{\\left(\\lambda \\right)}}\\right) \\right)}\\right)}{\\sqrt{\\left(v_{s} t{\\left(\\lambda \\right)} - x{\\left(\\lambda \\right)}\\right)^{2} + y^{2}{\\left(\\lambda \\right)} + z^{2}{\\left(\\lambda \\right)}} \\tanh^{2}{\\left(R \\sigma \\right)}}$"
      ],
      "text/plain": [
       "<IPython.core.display.Math object>"
      ]
     },
     "metadata": {},
     "output_type": "display_data"
    },
    {
     "data": {
      "text/latex": [
       "$\\displaystyle \\Gamma^{t}_{xt} = \\frac{0.125 \\sigma v_{s} \\left(v_{s} t{\\left(\\lambda \\right)} - x{\\left(\\lambda \\right)}\\right) \\left(v_{s} \\left(2 v_{s} + 1\\right) \\left(\\tanh{\\left(\\sigma \\left(R - \\sqrt{v_{s}^{2} t^{2}{\\left(\\lambda \\right)} - 2 v_{s} t{\\left(\\lambda \\right)} x{\\left(\\lambda \\right)} + x^{2}{\\left(\\lambda \\right)} + y^{2}{\\left(\\lambda \\right)} + z^{2}{\\left(\\lambda \\right)}}\\right) \\right)} + \\tanh{\\left(\\sigma \\left(R + \\sqrt{v_{s}^{2} t^{2}{\\left(\\lambda \\right)} - 2 v_{s} t{\\left(\\lambda \\right)} x{\\left(\\lambda \\right)} + x^{2}{\\left(\\lambda \\right)} + y^{2}{\\left(\\lambda \\right)} + z^{2}{\\left(\\lambda \\right)}}\\right) \\right)}\\right) + 2 \\left(v_{s} + 2\\right) \\tanh{\\left(R \\sigma \\right)}\\right) \\left(\\tanh^{2}{\\left(\\sigma \\left(R - \\sqrt{\\left(v_{s} t{\\left(\\lambda \\right)} - x{\\left(\\lambda \\right)}\\right)^{2} + y^{2}{\\left(\\lambda \\right)} + z^{2}{\\left(\\lambda \\right)}}\\right) \\right)} - \\tanh^{2}{\\left(\\sigma \\left(R + \\sqrt{\\left(v_{s} t{\\left(\\lambda \\right)} - x{\\left(\\lambda \\right)}\\right)^{2} + y^{2}{\\left(\\lambda \\right)} + z^{2}{\\left(\\lambda \\right)}}\\right) \\right)}\\right)}{\\sqrt{\\left(v_{s} t{\\left(\\lambda \\right)} - x{\\left(\\lambda \\right)}\\right)^{2} + y^{2}{\\left(\\lambda \\right)} + z^{2}{\\left(\\lambda \\right)}} \\tanh^{2}{\\left(R \\sigma \\right)}}$"
      ],
      "text/plain": [
       "<IPython.core.display.Math object>"
      ]
     },
     "metadata": {},
     "output_type": "display_data"
    },
    {
     "data": {
      "text/latex": [
       "$\\displaystyle \\Gamma^{x}_{tt} = - \\frac{0.0625 \\sigma v_{s}^{2} \\left(v_{s} t{\\left(\\lambda \\right)} - x{\\left(\\lambda \\right)}\\right) \\left(2 v_{s} \\left(v_{s} + 2\\right) \\left(\\tanh{\\left(\\sigma \\left(R - \\sqrt{v_{s}^{2} t^{2}{\\left(\\lambda \\right)} - 2 v_{s} t{\\left(\\lambda \\right)} x{\\left(\\lambda \\right)} + x^{2}{\\left(\\lambda \\right)} + y^{2}{\\left(\\lambda \\right)} + z^{2}{\\left(\\lambda \\right)}}\\right) \\right)} + \\tanh{\\left(\\sigma \\left(R + \\sqrt{v_{s}^{2} t^{2}{\\left(\\lambda \\right)} - 2 v_{s} t{\\left(\\lambda \\right)} x{\\left(\\lambda \\right)} + x^{2}{\\left(\\lambda \\right)} + y^{2}{\\left(\\lambda \\right)} + z^{2}{\\left(\\lambda \\right)}}\\right) \\right)}\\right) \\tanh{\\left(R \\sigma \\right)} + \\left(2 v_{s} + 1\\right) \\left(v_{s}^{2} \\tanh^{2}{\\left(\\sigma \\left(R - \\sqrt{v_{s}^{2} t^{2}{\\left(\\lambda \\right)} - 2 v_{s} t{\\left(\\lambda \\right)} x{\\left(\\lambda \\right)} + x^{2}{\\left(\\lambda \\right)} + y^{2}{\\left(\\lambda \\right)} + z^{2}{\\left(\\lambda \\right)}}\\right) \\right)} + 2 v_{s}^{2} \\tanh{\\left(\\sigma \\left(R - \\sqrt{v_{s}^{2} t^{2}{\\left(\\lambda \\right)} - 2 v_{s} t{\\left(\\lambda \\right)} x{\\left(\\lambda \\right)} + x^{2}{\\left(\\lambda \\right)} + y^{2}{\\left(\\lambda \\right)} + z^{2}{\\left(\\lambda \\right)}}\\right) \\right)} \\tanh{\\left(\\sigma \\left(R + \\sqrt{v_{s}^{2} t^{2}{\\left(\\lambda \\right)} - 2 v_{s} t{\\left(\\lambda \\right)} x{\\left(\\lambda \\right)} + x^{2}{\\left(\\lambda \\right)} + y^{2}{\\left(\\lambda \\right)} + z^{2}{\\left(\\lambda \\right)}}\\right) \\right)} + v_{s}^{2} \\tanh^{2}{\\left(\\sigma \\left(R + \\sqrt{v_{s}^{2} t^{2}{\\left(\\lambda \\right)} - 2 v_{s} t{\\left(\\lambda \\right)} x{\\left(\\lambda \\right)} + x^{2}{\\left(\\lambda \\right)} + y^{2}{\\left(\\lambda \\right)} + z^{2}{\\left(\\lambda \\right)}}\\right) \\right)} - 4 \\tanh^{2}{\\left(R \\sigma \\right)}\\right)\\right) \\left(\\tanh{\\left(\\sigma \\left(R - \\sqrt{\\left(v_{s} t{\\left(\\lambda \\right)} - x{\\left(\\lambda \\right)}\\right)^{2} + y^{2}{\\left(\\lambda \\right)} + z^{2}{\\left(\\lambda \\right)}}\\right) \\right)} + \\tanh{\\left(\\sigma \\left(R + \\sqrt{\\left(v_{s} t{\\left(\\lambda \\right)} - x{\\left(\\lambda \\right)}\\right)^{2} + y^{2}{\\left(\\lambda \\right)} + z^{2}{\\left(\\lambda \\right)}}\\right) \\right)}\\right) \\left(\\tanh^{2}{\\left(\\sigma \\left(R - \\sqrt{\\left(v_{s} t{\\left(\\lambda \\right)} - x{\\left(\\lambda \\right)}\\right)^{2} + y^{2}{\\left(\\lambda \\right)} + z^{2}{\\left(\\lambda \\right)}}\\right) \\right)} - \\tanh^{2}{\\left(\\sigma \\left(R + \\sqrt{\\left(v_{s} t{\\left(\\lambda \\right)} - x{\\left(\\lambda \\right)}\\right)^{2} + y^{2}{\\left(\\lambda \\right)} + z^{2}{\\left(\\lambda \\right)}}\\right) \\right)}\\right)}{\\sqrt{\\left(v_{s} t{\\left(\\lambda \\right)} - x{\\left(\\lambda \\right)}\\right)^{2} + y^{2}{\\left(\\lambda \\right)} + z^{2}{\\left(\\lambda \\right)}} \\tanh^{4}{\\left(R \\sigma \\right)}}$"
      ],
      "text/plain": [
       "<IPython.core.display.Math object>"
      ]
     },
     "metadata": {},
     "output_type": "display_data"
    },
    {
     "data": {
      "text/latex": [
       "$\\displaystyle \\Gamma^{x}_{tx} = - \\frac{0.0625 \\sigma v_{s} \\left(v_{s} t{\\left(\\lambda \\right)} - x{\\left(\\lambda \\right)}\\right) \\left(2 v_{s} \\left(v_{s} + 2\\right) \\left(\\tanh{\\left(\\sigma \\left(R - \\sqrt{v_{s}^{2} t^{2}{\\left(\\lambda \\right)} - 2 v_{s} t{\\left(\\lambda \\right)} x{\\left(\\lambda \\right)} + x^{2}{\\left(\\lambda \\right)} + y^{2}{\\left(\\lambda \\right)} + z^{2}{\\left(\\lambda \\right)}}\\right) \\right)} + \\tanh{\\left(\\sigma \\left(R + \\sqrt{v_{s}^{2} t^{2}{\\left(\\lambda \\right)} - 2 v_{s} t{\\left(\\lambda \\right)} x{\\left(\\lambda \\right)} + x^{2}{\\left(\\lambda \\right)} + y^{2}{\\left(\\lambda \\right)} + z^{2}{\\left(\\lambda \\right)}}\\right) \\right)}\\right) \\tanh{\\left(R \\sigma \\right)} + \\left(2 v_{s} + 1\\right) \\left(v_{s}^{2} \\tanh^{2}{\\left(\\sigma \\left(R - \\sqrt{v_{s}^{2} t^{2}{\\left(\\lambda \\right)} - 2 v_{s} t{\\left(\\lambda \\right)} x{\\left(\\lambda \\right)} + x^{2}{\\left(\\lambda \\right)} + y^{2}{\\left(\\lambda \\right)} + z^{2}{\\left(\\lambda \\right)}}\\right) \\right)} + 2 v_{s}^{2} \\tanh{\\left(\\sigma \\left(R - \\sqrt{v_{s}^{2} t^{2}{\\left(\\lambda \\right)} - 2 v_{s} t{\\left(\\lambda \\right)} x{\\left(\\lambda \\right)} + x^{2}{\\left(\\lambda \\right)} + y^{2}{\\left(\\lambda \\right)} + z^{2}{\\left(\\lambda \\right)}}\\right) \\right)} \\tanh{\\left(\\sigma \\left(R + \\sqrt{v_{s}^{2} t^{2}{\\left(\\lambda \\right)} - 2 v_{s} t{\\left(\\lambda \\right)} x{\\left(\\lambda \\right)} + x^{2}{\\left(\\lambda \\right)} + y^{2}{\\left(\\lambda \\right)} + z^{2}{\\left(\\lambda \\right)}}\\right) \\right)} + v_{s}^{2} \\tanh^{2}{\\left(\\sigma \\left(R + \\sqrt{v_{s}^{2} t^{2}{\\left(\\lambda \\right)} - 2 v_{s} t{\\left(\\lambda \\right)} x{\\left(\\lambda \\right)} + x^{2}{\\left(\\lambda \\right)} + y^{2}{\\left(\\lambda \\right)} + z^{2}{\\left(\\lambda \\right)}}\\right) \\right)} - 4 \\tanh^{2}{\\left(R \\sigma \\right)}\\right)\\right) \\left(\\tanh^{2}{\\left(\\sigma \\left(R - \\sqrt{\\left(v_{s} t{\\left(\\lambda \\right)} - x{\\left(\\lambda \\right)}\\right)^{2} + y^{2}{\\left(\\lambda \\right)} + z^{2}{\\left(\\lambda \\right)}}\\right) \\right)} - \\tanh^{2}{\\left(\\sigma \\left(R + \\sqrt{\\left(v_{s} t{\\left(\\lambda \\right)} - x{\\left(\\lambda \\right)}\\right)^{2} + y^{2}{\\left(\\lambda \\right)} + z^{2}{\\left(\\lambda \\right)}}\\right) \\right)}\\right)}{\\sqrt{\\left(v_{s} t{\\left(\\lambda \\right)} - x{\\left(\\lambda \\right)}\\right)^{2} + y^{2}{\\left(\\lambda \\right)} + z^{2}{\\left(\\lambda \\right)}} \\tanh^{3}{\\left(R \\sigma \\right)}}$"
      ],
      "text/plain": [
       "<IPython.core.display.Math object>"
      ]
     },
     "metadata": {},
     "output_type": "display_data"
    },
    {
     "data": {
      "text/latex": [
       "$\\displaystyle \\Gamma^{x}_{xt} = - \\frac{0.0625 \\sigma v_{s} \\left(v_{s} t{\\left(\\lambda \\right)} - x{\\left(\\lambda \\right)}\\right) \\left(2 v_{s} \\left(v_{s} + 2\\right) \\left(\\tanh{\\left(\\sigma \\left(R - \\sqrt{v_{s}^{2} t^{2}{\\left(\\lambda \\right)} - 2 v_{s} t{\\left(\\lambda \\right)} x{\\left(\\lambda \\right)} + x^{2}{\\left(\\lambda \\right)} + y^{2}{\\left(\\lambda \\right)} + z^{2}{\\left(\\lambda \\right)}}\\right) \\right)} + \\tanh{\\left(\\sigma \\left(R + \\sqrt{v_{s}^{2} t^{2}{\\left(\\lambda \\right)} - 2 v_{s} t{\\left(\\lambda \\right)} x{\\left(\\lambda \\right)} + x^{2}{\\left(\\lambda \\right)} + y^{2}{\\left(\\lambda \\right)} + z^{2}{\\left(\\lambda \\right)}}\\right) \\right)}\\right) \\tanh{\\left(R \\sigma \\right)} + \\left(2 v_{s} + 1\\right) \\left(v_{s}^{2} \\tanh^{2}{\\left(\\sigma \\left(R - \\sqrt{v_{s}^{2} t^{2}{\\left(\\lambda \\right)} - 2 v_{s} t{\\left(\\lambda \\right)} x{\\left(\\lambda \\right)} + x^{2}{\\left(\\lambda \\right)} + y^{2}{\\left(\\lambda \\right)} + z^{2}{\\left(\\lambda \\right)}}\\right) \\right)} + 2 v_{s}^{2} \\tanh{\\left(\\sigma \\left(R - \\sqrt{v_{s}^{2} t^{2}{\\left(\\lambda \\right)} - 2 v_{s} t{\\left(\\lambda \\right)} x{\\left(\\lambda \\right)} + x^{2}{\\left(\\lambda \\right)} + y^{2}{\\left(\\lambda \\right)} + z^{2}{\\left(\\lambda \\right)}}\\right) \\right)} \\tanh{\\left(\\sigma \\left(R + \\sqrt{v_{s}^{2} t^{2}{\\left(\\lambda \\right)} - 2 v_{s} t{\\left(\\lambda \\right)} x{\\left(\\lambda \\right)} + x^{2}{\\left(\\lambda \\right)} + y^{2}{\\left(\\lambda \\right)} + z^{2}{\\left(\\lambda \\right)}}\\right) \\right)} + v_{s}^{2} \\tanh^{2}{\\left(\\sigma \\left(R + \\sqrt{v_{s}^{2} t^{2}{\\left(\\lambda \\right)} - 2 v_{s} t{\\left(\\lambda \\right)} x{\\left(\\lambda \\right)} + x^{2}{\\left(\\lambda \\right)} + y^{2}{\\left(\\lambda \\right)} + z^{2}{\\left(\\lambda \\right)}}\\right) \\right)} - 4 \\tanh^{2}{\\left(R \\sigma \\right)}\\right)\\right) \\left(\\tanh^{2}{\\left(\\sigma \\left(R - \\sqrt{\\left(v_{s} t{\\left(\\lambda \\right)} - x{\\left(\\lambda \\right)}\\right)^{2} + y^{2}{\\left(\\lambda \\right)} + z^{2}{\\left(\\lambda \\right)}}\\right) \\right)} - \\tanh^{2}{\\left(\\sigma \\left(R + \\sqrt{\\left(v_{s} t{\\left(\\lambda \\right)} - x{\\left(\\lambda \\right)}\\right)^{2} + y^{2}{\\left(\\lambda \\right)} + z^{2}{\\left(\\lambda \\right)}}\\right) \\right)}\\right)}{\\sqrt{\\left(v_{s} t{\\left(\\lambda \\right)} - x{\\left(\\lambda \\right)}\\right)^{2} + y^{2}{\\left(\\lambda \\right)} + z^{2}{\\left(\\lambda \\right)}} \\tanh^{3}{\\left(R \\sigma \\right)}}$"
      ],
      "text/plain": [
       "<IPython.core.display.Math object>"
      ]
     },
     "metadata": {},
     "output_type": "display_data"
    },
    {
     "data": {
      "text/latex": [
       "$\\displaystyle \\Gamma^{y}_{tt} = \\frac{0.25 \\sigma v_{s}^{2} \\left(\\tanh{\\left(\\sigma \\left(R - \\sqrt{\\left(v_{s} t{\\left(\\lambda \\right)} - x{\\left(\\lambda \\right)}\\right)^{2} + y^{2}{\\left(\\lambda \\right)} + z^{2}{\\left(\\lambda \\right)}}\\right) \\right)} + \\tanh{\\left(\\sigma \\left(R + \\sqrt{\\left(v_{s} t{\\left(\\lambda \\right)} - x{\\left(\\lambda \\right)}\\right)^{2} + y^{2}{\\left(\\lambda \\right)} + z^{2}{\\left(\\lambda \\right)}}\\right) \\right)}\\right) \\left(\\tanh^{2}{\\left(\\sigma \\left(R - \\sqrt{\\left(v_{s} t{\\left(\\lambda \\right)} - x{\\left(\\lambda \\right)}\\right)^{2} + y^{2}{\\left(\\lambda \\right)} + z^{2}{\\left(\\lambda \\right)}}\\right) \\right)} - \\tanh^{2}{\\left(\\sigma \\left(R + \\sqrt{\\left(v_{s} t{\\left(\\lambda \\right)} - x{\\left(\\lambda \\right)}\\right)^{2} + y^{2}{\\left(\\lambda \\right)} + z^{2}{\\left(\\lambda \\right)}}\\right) \\right)}\\right) y{\\left(\\lambda \\right)}}{\\sqrt{\\left(v_{s} t{\\left(\\lambda \\right)} - x{\\left(\\lambda \\right)}\\right)^{2} + y^{2}{\\left(\\lambda \\right)} + z^{2}{\\left(\\lambda \\right)}} \\tanh^{2}{\\left(R \\sigma \\right)}}$"
      ],
      "text/plain": [
       "<IPython.core.display.Math object>"
      ]
     },
     "metadata": {},
     "output_type": "display_data"
    },
    {
     "data": {
      "text/latex": [
       "$\\displaystyle \\Gamma^{y}_{tx} = \\frac{0.25 \\sigma v_{s} \\left(\\tanh^{2}{\\left(\\sigma \\left(R - \\sqrt{\\left(v_{s} t{\\left(\\lambda \\right)} - x{\\left(\\lambda \\right)}\\right)^{2} + y^{2}{\\left(\\lambda \\right)} + z^{2}{\\left(\\lambda \\right)}}\\right) \\right)} - \\tanh^{2}{\\left(\\sigma \\left(R + \\sqrt{\\left(v_{s} t{\\left(\\lambda \\right)} - x{\\left(\\lambda \\right)}\\right)^{2} + y^{2}{\\left(\\lambda \\right)} + z^{2}{\\left(\\lambda \\right)}}\\right) \\right)}\\right) y{\\left(\\lambda \\right)}}{\\sqrt{\\left(v_{s} t{\\left(\\lambda \\right)} - x{\\left(\\lambda \\right)}\\right)^{2} + y^{2}{\\left(\\lambda \\right)} + z^{2}{\\left(\\lambda \\right)}} \\tanh{\\left(R \\sigma \\right)}}$"
      ],
      "text/plain": [
       "<IPython.core.display.Math object>"
      ]
     },
     "metadata": {},
     "output_type": "display_data"
    },
    {
     "data": {
      "text/latex": [
       "$\\displaystyle \\Gamma^{y}_{xt} = \\frac{0.25 \\sigma v_{s} \\left(\\tanh^{2}{\\left(\\sigma \\left(R - \\sqrt{\\left(v_{s} t{\\left(\\lambda \\right)} - x{\\left(\\lambda \\right)}\\right)^{2} + y^{2}{\\left(\\lambda \\right)} + z^{2}{\\left(\\lambda \\right)}}\\right) \\right)} - \\tanh^{2}{\\left(\\sigma \\left(R + \\sqrt{\\left(v_{s} t{\\left(\\lambda \\right)} - x{\\left(\\lambda \\right)}\\right)^{2} + y^{2}{\\left(\\lambda \\right)} + z^{2}{\\left(\\lambda \\right)}}\\right) \\right)}\\right) y{\\left(\\lambda \\right)}}{\\sqrt{\\left(v_{s} t{\\left(\\lambda \\right)} - x{\\left(\\lambda \\right)}\\right)^{2} + y^{2}{\\left(\\lambda \\right)} + z^{2}{\\left(\\lambda \\right)}} \\tanh{\\left(R \\sigma \\right)}}$"
      ],
      "text/plain": [
       "<IPython.core.display.Math object>"
      ]
     },
     "metadata": {},
     "output_type": "display_data"
    }
   ],
   "source": [
    "from IPython.display import display, Math\n",
    "from sympy import latex\n",
    "\n",
    "indices = ['t', 'x', 'y']\n",
    "nonzero=[]\n",
    "\n",
    "for alpha in range(len(indices)):\n",
    "    for mu in range(len(indices)):\n",
    "        for nu in range(len(indices)):\n",
    "            a=C[alpha][mu][nu]\n",
    "            if not a == 0:\n",
    "                latex_string = r'\\Gamma^{{{}}}_{{{}{}}} = {}'.format(indices[alpha], indices[mu], indices[nu], latex(a))\n",
    "                display(Math(latex_string))\n",
    "                nonzero.append([a, alpha, mu, nu])\n",
    "\n",
    "for x in range(len(nonzero)):\n",
    "    for y in range(len(nonzero)):\n",
    "    "
   ]
  }
 ],
 "metadata": {
  "kernelspec": {
   "display_name": "Python 3 (ipykernel)",
   "language": "python",
   "name": "python3"
  },
  "language_info": {
   "codemirror_mode": {
    "name": "ipython",
    "version": 3
   },
   "file_extension": ".py",
   "mimetype": "text/x-python",
   "name": "python",
   "nbconvert_exporter": "python",
   "pygments_lexer": "ipython3",
   "version": "3.11.5"
  }
 },
 "nbformat": 4,
 "nbformat_minor": 5
}
