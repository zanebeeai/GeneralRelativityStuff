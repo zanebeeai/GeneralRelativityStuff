{
 "cells": [
  {
   "cell_type": "code",
   "execution_count": 3,
   "id": "62626d80",
   "metadata": {},
   "outputs": [],
   "source": [
    "import astropy.units as u\n",
    "\n",
    "from einsteinpy.rays import Shadow\n",
    "from einsteinpy.plotting import ShadowPlotter"
   ]
  },
  {
   "cell_type": "code",
   "execution_count": 14,
   "id": "3d4deda1",
   "metadata": {},
   "outputs": [
    {
     "ename": "RuntimeError",
     "evalue": "Failed to converge after 50 iterations, value is nan.",
     "output_type": "error",
     "traceback": [
      "\u001b[1;31m---------------------------------------------------------------------------\u001b[0m",
      "\u001b[1;31mRuntimeError\u001b[0m                              Traceback (most recent call last)",
      "Cell \u001b[1;32mIn[14], line 3\u001b[0m\n\u001b[0;32m      1\u001b[0m mass \u001b[38;5;241m=\u001b[39m \u001b[38;5;241m1\u001b[39m \u001b[38;5;241m*\u001b[39m u\u001b[38;5;241m.\u001b[39mkg\n\u001b[0;32m      2\u001b[0m fov \u001b[38;5;241m=\u001b[39m \u001b[38;5;241m30\u001b[39m \u001b[38;5;241m*\u001b[39m u\u001b[38;5;241m.\u001b[39mkm\n\u001b[1;32m----> 3\u001b[0m shadow \u001b[38;5;241m=\u001b[39m Shadow(mass\u001b[38;5;241m=\u001b[39mmass, fov\u001b[38;5;241m=\u001b[39mfov, n_rays\u001b[38;5;241m=\u001b[39m\u001b[38;5;241m1000\u001b[39m)\n",
      "File \u001b[1;32m~\\anaconda3\\Lib\\site-packages\\astropy\\units\\decorators.py:302\u001b[0m, in \u001b[0;36mQuantityInput.__call__.<locals>.wrapper\u001b[1;34m(*func_args, **func_kwargs)\u001b[0m\n\u001b[0;32m    300\u001b[0m \u001b[38;5;66;03m# Call the original function with any equivalencies in force.\u001b[39;00m\n\u001b[0;32m    301\u001b[0m \u001b[38;5;28;01mwith\u001b[39;00m add_enabled_equivalencies(\u001b[38;5;28mself\u001b[39m\u001b[38;5;241m.\u001b[39mequivalencies):\n\u001b[1;32m--> 302\u001b[0m     return_ \u001b[38;5;241m=\u001b[39m wrapped_function(\u001b[38;5;241m*\u001b[39mfunc_args, \u001b[38;5;241m*\u001b[39m\u001b[38;5;241m*\u001b[39mfunc_kwargs)\n\u001b[0;32m    304\u001b[0m \u001b[38;5;66;03m# Return\u001b[39;00m\n\u001b[0;32m    305\u001b[0m ra \u001b[38;5;241m=\u001b[39m wrapped_signature\u001b[38;5;241m.\u001b[39mreturn_annotation\n",
      "File \u001b[1;32m~\\anaconda3\\Lib\\site-packages\\einsteinpy\\rays\\shadow.py:29\u001b[0m, in \u001b[0;36mShadow.__init__\u001b[1;34m(self, mass, n_rays, fov, limit)\u001b[0m\n\u001b[0;32m     27\u001b[0m warnings\u001b[38;5;241m.\u001b[39mfilterwarnings(\u001b[38;5;124m\"\u001b[39m\u001b[38;5;124mignore\u001b[39m\u001b[38;5;124m\"\u001b[39m)\n\u001b[0;32m     28\u001b[0m \u001b[38;5;28;01mfor\u001b[39;00m i \u001b[38;5;129;01min\u001b[39;00m \u001b[38;5;28mself\u001b[39m\u001b[38;5;241m.\u001b[39mb:\n\u001b[1;32m---> 29\u001b[0m     root \u001b[38;5;241m=\u001b[39m newton(\u001b[38;5;28mself\u001b[39m\u001b[38;5;241m.\u001b[39m_root_equation, \u001b[38;5;241m0.1\u001b[39m, args\u001b[38;5;241m=\u001b[39m(i,))\n\u001b[0;32m     30\u001b[0m     \u001b[38;5;28;01mif\u001b[39;00m np\u001b[38;5;241m.\u001b[39misreal(root):\n\u001b[0;32m     31\u001b[0m         \u001b[38;5;28mself\u001b[39m\u001b[38;5;241m.\u001b[39mbfin\u001b[38;5;241m.\u001b[39mappend(i)\n",
      "File \u001b[1;32m~\\anaconda3\\Lib\\site-packages\\scipy\\optimize\\_zeros_py.py:381\u001b[0m, in \u001b[0;36mnewton\u001b[1;34m(func, x0, fprime, args, tol, maxiter, fprime2, x1, rtol, full_output, disp)\u001b[0m\n\u001b[0;32m    378\u001b[0m \u001b[38;5;28;01mif\u001b[39;00m disp:\n\u001b[0;32m    379\u001b[0m     msg \u001b[38;5;241m=\u001b[39m (\u001b[38;5;124m\"\u001b[39m\u001b[38;5;124mFailed to converge after \u001b[39m\u001b[38;5;132;01m%d\u001b[39;00m\u001b[38;5;124m iterations, value is \u001b[39m\u001b[38;5;132;01m%s\u001b[39;00m\u001b[38;5;124m.\u001b[39m\u001b[38;5;124m\"\u001b[39m\n\u001b[0;32m    380\u001b[0m            \u001b[38;5;241m%\u001b[39m (itr \u001b[38;5;241m+\u001b[39m \u001b[38;5;241m1\u001b[39m, p))\n\u001b[1;32m--> 381\u001b[0m     \u001b[38;5;28;01mraise\u001b[39;00m \u001b[38;5;167;01mRuntimeError\u001b[39;00m(msg)\n\u001b[0;32m    383\u001b[0m \u001b[38;5;28;01mreturn\u001b[39;00m _results_select(full_output, (p, funcalls, itr \u001b[38;5;241m+\u001b[39m \u001b[38;5;241m1\u001b[39m, _ECONVERR))\n",
      "\u001b[1;31mRuntimeError\u001b[0m: Failed to converge after 50 iterations, value is nan."
     ]
    }
   ],
   "source": [
    "mass = 1 * u.kg\n",
    "fov = 30 * u.km\n",
    "shadow = Shadow(mass=mass, fov=fov, n_rays=1000)"
   ]
  },
  {
   "cell_type": "code",
   "execution_count": 11,
   "id": "04098ddd",
   "metadata": {},
   "outputs": [
    {
     "ename": "NameError",
     "evalue": "name 'shadow' is not defined",
     "output_type": "error",
     "traceback": [
      "\u001b[1;31m---------------------------------------------------------------------------\u001b[0m",
      "\u001b[1;31mNameError\u001b[0m                                 Traceback (most recent call last)",
      "Cell \u001b[1;32mIn[11], line 1\u001b[0m\n\u001b[1;32m----> 1\u001b[0m obj \u001b[38;5;241m=\u001b[39m ShadowPlotter(shadow\u001b[38;5;241m=\u001b[39mshadow, is_line_plot\u001b[38;5;241m=\u001b[39m\u001b[38;5;28;01mTrue\u001b[39;00m)\n\u001b[0;32m      2\u001b[0m obj\u001b[38;5;241m.\u001b[39mplot()\n\u001b[0;32m      3\u001b[0m obj\u001b[38;5;241m.\u001b[39mshow()\n",
      "\u001b[1;31mNameError\u001b[0m: name 'shadow' is not defined"
     ]
    }
   ],
   "source": [
    "obj = ShadowPlotter(shadow=shadow, is_line_plot=True)\n",
    "obj.plot()\n",
    "obj.show()"
   ]
  },
  {
   "cell_type": "code",
   "execution_count": 12,
   "id": "8e361903",
   "metadata": {},
   "outputs": [
    {
     "ename": "NameError",
     "evalue": "name 'shadow' is not defined",
     "output_type": "error",
     "traceback": [
      "\u001b[1;31m---------------------------------------------------------------------------\u001b[0m",
      "\u001b[1;31mNameError\u001b[0m                                 Traceback (most recent call last)",
      "Cell \u001b[1;32mIn[12], line 1\u001b[0m\n\u001b[1;32m----> 1\u001b[0m obj \u001b[38;5;241m=\u001b[39m ShadowPlotter(shadow\u001b[38;5;241m=\u001b[39mshadow, is_line_plot\u001b[38;5;241m=\u001b[39m\u001b[38;5;28;01mFalse\u001b[39;00m)\n\u001b[0;32m      2\u001b[0m obj\u001b[38;5;241m.\u001b[39mplot()\n\u001b[0;32m      3\u001b[0m obj\u001b[38;5;241m.\u001b[39mshow()\n",
      "\u001b[1;31mNameError\u001b[0m: name 'shadow' is not defined"
     ]
    }
   ],
   "source": [
    "obj = ShadowPlotter(shadow=shadow, is_line_plot=False)\n",
    "obj.plot()\n",
    "obj.show()"
   ]
  }
 ],
 "metadata": {
  "kernelspec": {
   "display_name": "Python 3 (ipykernel)",
   "language": "python",
   "name": "python3"
  },
  "language_info": {
   "codemirror_mode": {
    "name": "ipython",
    "version": 3
   },
   "file_extension": ".py",
   "mimetype": "text/x-python",
   "name": "python",
   "nbconvert_exporter": "python",
   "pygments_lexer": "ipython3",
   "version": "3.11.5"
  }
 },
 "nbformat": 4,
 "nbformat_minor": 5
}
