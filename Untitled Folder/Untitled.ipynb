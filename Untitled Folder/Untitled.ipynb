{
 "cells": [
  {
   "cell_type": "code",
   "execution_count": 12,
   "id": "db4a3bd0",
   "metadata": {},
   "outputs": [],
   "source": [
    "import sympy as sp\n",
    "import numpy as np\n",
    "import matplotlib.pyplot as plt\n",
    "import matplotlib.cm as cm\n",
    "\n",
    "def safe_sqrt(x):\n",
    "    if isinstance(x, (int, float, complex, np.ndarray)):\n",
    "        return np.sqrt(x)\n",
    "    else:\n",
    "        return sp.sqrt(x)\n",
    "\n",
    "def get_g00(lineElement, subs=None):\n",
    "    t, x, y, z = sp.symbols('t x y z')\n",
    "    dt = sp.symbols('dt')\n",
    "    \n",
    "    lineElement = sp.expand(lineElement)\n",
    "    print(\"Original Line Element:\", lineElement)\n",
    "    \n",
    "    if subs:\n",
    "        for sub in subs:\n",
    "            lineElement = lineElement.subs(sub)\n",
    "            print(f\"Line Element after substituting {sub}:\", lineElement)\n",
    "    \n",
    "    g00_coeff = lineElement.coeff(dt**2).simplify()\n",
    "    print(\"Final g00 expression:\", g00_coeff)\n",
    "    \n",
    "    return g00_coeff\n",
    "\n",
    "def plotGrav(g00, addArgs):\n",
    "    xGspan, yGspan = np.linspace(-15, 15, 200), np.linspace(-15, 15, 200)\n",
    "    X, Y = np.meshgrid(xGspan, yGspan)\n",
    "    \n",
    "    symbols = [sp.symbols('x'), sp.symbols('y'), sp.symbols('z')]\n",
    "    values = [X, Y, 0]\n",
    "    \n",
    "    for symbol, value in addArgs:\n",
    "        symbols.append(symbol)\n",
    "        values.append(value)\n",
    "\n",
    "    # Introduce artificial dependency\n",
    "    test_expression = -0.5 * (g00 + 1 + x*y*0)  # x*y*0 is zero but forces dependency on x and y\n",
    "    \n",
    "    gravPot = sp.lambdify(symbols, test_expression, modules=[\"numpy\"])\n",
    "    pots = gravPot(*values)\n",
    "\n",
    "    if isinstance(pots, np.ndarray):\n",
    "        fig = plt.figure(figsize=(10, 8))\n",
    "        ax = fig.add_subplot(111, projection='3d')\n",
    "        surface = ax.plot_surface(X, Y, -pots, cmap='viridis', edgecolor='none')\n",
    "        fig.colorbar(surface)\n",
    "        ax.set_title('3D Mesh of Gravitational Potential')\n",
    "        ax.set_xlabel('x')\n",
    "        ax.set_ylabel('y')\n",
    "        ax.set_zlabel('Potential')\n",
    "        plt.show()\n",
    "    else:\n",
    "        print(\"Error: Expected pots to be a numpy ndarray, but got\", type(pots))\n",
    "\n",
    "# Make sure you call plotGrav with correct inputs\n",
    "# Example:\n",
    "# plotGrav(g00, addArgs)\n"
   ]
  },
  {
   "cell_type": "code",
   "execution_count": 13,
   "id": "f725ad78",
   "metadata": {
    "scrolled": false
   },
   "outputs": [
    {
     "name": "stdout",
     "output_type": "stream",
     "text": [
      "Original Line Element: dt**2*f_r**2*vs**2 - dt**2 - 2*dt*dx*f_r*vs + dx**2 + dy**2 + dz**2\n"
     ]
    },
    {
     "ename": "TypeError",
     "evalue": "'Symbol' object is not subscriptable",
     "output_type": "error",
     "traceback": [
      "\u001b[1;31m---------------------------------------------------------------------------\u001b[0m",
      "\u001b[1;31mTypeError\u001b[0m                                 Traceback (most recent call last)",
      "Cell \u001b[1;32mIn[13], line 23\u001b[0m\n\u001b[0;32m     16\u001b[0m addArgs \u001b[38;5;241m=\u001b[39m [\n\u001b[0;32m     17\u001b[0m     (vs, \u001b[38;5;241m0.9\u001b[39m),\n\u001b[0;32m     18\u001b[0m     (sigma, \u001b[38;5;241m5\u001b[39m),\n\u001b[0;32m     19\u001b[0m     (R, \u001b[38;5;241m1\u001b[39m)\n\u001b[0;32m     20\u001b[0m ]\n\u001b[0;32m     22\u001b[0m \u001b[38;5;66;03m# Calculate g00 and plot\u001b[39;00m\n\u001b[1;32m---> 23\u001b[0m g00 \u001b[38;5;241m=\u001b[39m get_g00(lineElement, subs)\n\u001b[0;32m     24\u001b[0m plotGrav(g00, addArgs)\n",
      "Cell \u001b[1;32mIn[12], line 21\u001b[0m, in \u001b[0;36mget_g00\u001b[1;34m(lineElement, subs)\u001b[0m\n\u001b[0;32m     19\u001b[0m \u001b[38;5;28;01mif\u001b[39;00m subs:\n\u001b[0;32m     20\u001b[0m     \u001b[38;5;28;01mfor\u001b[39;00m sub \u001b[38;5;129;01min\u001b[39;00m subs:\n\u001b[1;32m---> 21\u001b[0m         lineElement \u001b[38;5;241m=\u001b[39m lineElement\u001b[38;5;241m.\u001b[39msubs(sub)\n\u001b[0;32m     22\u001b[0m         \u001b[38;5;28mprint\u001b[39m(\u001b[38;5;124mf\u001b[39m\u001b[38;5;124m\"\u001b[39m\u001b[38;5;124mLine Element after substituting \u001b[39m\u001b[38;5;132;01m{\u001b[39;00msub\u001b[38;5;132;01m}\u001b[39;00m\u001b[38;5;124m:\u001b[39m\u001b[38;5;124m\"\u001b[39m, lineElement)\n\u001b[0;32m     24\u001b[0m g00_coeff \u001b[38;5;241m=\u001b[39m lineElement\u001b[38;5;241m.\u001b[39mcoeff(dt\u001b[38;5;241m*\u001b[39m\u001b[38;5;241m*\u001b[39m\u001b[38;5;241m2\u001b[39m)\u001b[38;5;241m.\u001b[39msimplify()\n",
      "File \u001b[1;32m~\\anaconda3\\Lib\\site-packages\\sympy\\core\\basic.py:940\u001b[0m, in \u001b[0;36mBasic.subs\u001b[1;34m(self, *args, **kwargs)\u001b[0m\n\u001b[0;32m    938\u001b[0m sequence \u001b[38;5;241m=\u001b[39m \u001b[38;5;28mlist\u001b[39m(sequence)\n\u001b[0;32m    939\u001b[0m \u001b[38;5;28;01mfor\u001b[39;00m i, s \u001b[38;5;129;01min\u001b[39;00m \u001b[38;5;28menumerate\u001b[39m(sequence):\n\u001b[1;32m--> 940\u001b[0m     \u001b[38;5;28;01mif\u001b[39;00m \u001b[38;5;28misinstance\u001b[39m(s[\u001b[38;5;241m0\u001b[39m], \u001b[38;5;28mstr\u001b[39m):\n\u001b[0;32m    941\u001b[0m         \u001b[38;5;66;03m# when old is a string we prefer Symbol\u001b[39;00m\n\u001b[0;32m    942\u001b[0m         s \u001b[38;5;241m=\u001b[39m Symbol(s[\u001b[38;5;241m0\u001b[39m]), s[\u001b[38;5;241m1\u001b[39m]\n\u001b[0;32m    943\u001b[0m     \u001b[38;5;28;01mtry\u001b[39;00m:\n",
      "\u001b[1;31mTypeError\u001b[0m: 'Symbol' object is not subscriptable"
     ]
    }
   ],
   "source": [
    "f_r, vs, r, sigma, xs, R = sp.symbols(\"f_r vs r sigma xs R\")\n",
    "t, x, y, z = sp.symbols('t x y z')\n",
    "dt, dx, dy, dz = sp.symbols('dt dx dy dz')\n",
    "\n",
    "# Define the line element\n",
    "lineElement = -dt**2 + (dx-vs*f_r*dt)**2 + dy**2 + dz**2\n",
    "\n",
    "# Define substitutions\n",
    "subs= [\n",
    "    (f_r, (sp.tanh(sigma * (r + R)) - sp.tanh(sigma * (r - R))) / (2 * sp.tanh(sigma * R))),\n",
    "    (r, sp.sqrt((x - xs)**2 + y**2 + z**2)),\n",
    "    (xs, vs*t)  # since its steady state\n",
    "]\n",
    "\n",
    "# Additional arguments\n",
    "addArgs = [\n",
    "    (vs, 0.9),\n",
    "    (sigma, 5),\n",
    "    (R, 1)\n",
    "]\n",
    "\n",
    "# Calculate g00 and plot\n",
    "g00 = get_g00(lineElement, subs)\n",
    "plotGrav(g00, addArgs)"
   ]
  }
 ],
 "metadata": {
  "kernelspec": {
   "display_name": "Python 3 (ipykernel)",
   "language": "python",
   "name": "python3"
  },
  "language_info": {
   "codemirror_mode": {
    "name": "ipython",
    "version": 3
   },
   "file_extension": ".py",
   "mimetype": "text/x-python",
   "name": "python",
   "nbconvert_exporter": "python",
   "pygments_lexer": "ipython3",
   "version": "3.11.5"
  }
 },
 "nbformat": 4,
 "nbformat_minor": 5
}
