{
 "cells": [
  {
   "cell_type": "code",
   "execution_count": 9,
   "id": "17e13852",
   "metadata": {},
   "outputs": [],
   "source": [
    "import sympy as sp\n",
    "def getMetric(lineElement, coordSystem=\"Cartesian\", subs=None, overrideConst = False): #the override lets the code run faster if you know for sure your line element will work out\n",
    "    if coordSystem not in [\"Cartesian\", \"PlanePolar\", \"SphericalPolar\", \"CylindricalPolar\"]:\n",
    "        raise ValueError(\"Unknown coordinate system\")\n",
    "\n",
    "    lineElement=sp.expand(lineElement)\n",
    "    coords = (t, x, y, z)\n",
    "\n",
    "    dim = len(coords)\n",
    "    g = sp.zeros(dim)\n",
    "\n",
    "    for mu in range(dim):\n",
    "        for nu in range(dim):\n",
    "            coeff = lineElement.coeff(sp.diff(coords[mu]) * sp.diff(coords[nu]))\n",
    "            if mu != nu and coeff != 0:\n",
    "                g[mu, nu] = coeff.subs(subs) / 2\n",
    "            else:\n",
    "                g[mu, nu] = coeff.subs(subs)\n",
    "                \n",
    "    # Check for unexpected terms in the line element\n",
    "    if not overrideConst:\n",
    "        reconstructed_line_element = sum(g[i, j] * sp.diff(coords[i]) * sp.diff(coords[j]) for i in range(dim) for j in range(dim))\n",
    "        if sp.simplify(lineElement.subs(subs) - reconstructed_line_element) != 0:\n",
    "            raise ValueError(\"Line element contains terms that are not pure differentials of the coordinates used\")\n",
    "    return g"
   ]
  },
  {
   "cell_type": "code",
   "execution_count": null,
   "id": "11b93a4a",
   "metadata": {},
   "outputs": [
    {
     "data": {
      "text/latex": [
       "$\\displaystyle \\frac{c^{2} \\left(v_{s}^{2} \\left(f_{r} - 1\\right)^{2} - 1\\right) \\left(\\frac{d}{d \\lambda} t{\\left(\\lambda \\right)}\\right)^{2}}{1 - v_{s}^{2}} + \\frac{2 c f_{r} v_{s} \\left(v_{s}^{2} \\left(f_{r} - 1\\right) - 1\\right) \\frac{d}{d \\lambda} t{\\left(\\lambda \\right)} \\frac{d}{d \\lambda} x{\\left(\\lambda \\right)}}{1 - v_{s}^{2}} + \\left(\\frac{d}{d \\lambda} y{\\left(\\lambda \\right)}\\right)^{2} + \\left(\\frac{d}{d \\lambda} z{\\left(\\lambda \\right)}\\right)^{2} + \\frac{\\left(v_{s}^{2} \\left(f_{r} \\left(f_{r} v_{s}^{2} - 2\\right) - 1\\right) + 1\\right) \\left(\\frac{d}{d \\lambda} x{\\left(\\lambda \\right)}\\right)^{2}}{1 - v_{s}^{2}}$"
      ],
      "text/plain": [
       "c**2*(v_s**2*(f_r - 1)**2 - 1)*Derivative(t(lambda), lambda)**2/(1 - v_s**2) + 2*c*f_r*v_s*(v_s**2*(f_r - 1) - 1)*Derivative(t(lambda), lambda)*Derivative(x(lambda), lambda)/(1 - v_s**2) + Derivative(y(lambda), lambda)**2 + Derivative(z(lambda), lambda)**2 + (v_s**2*(f_r*(f_r*v_s**2 - 2) - 1) + 1)*Derivative(x(lambda), lambda)**2/(1 - v_s**2)"
      ]
     },
     "metadata": {},
     "output_type": "display_data"
    }
   ],
   "source": [
    "vs, sigma, R, lam, nu = sp.symbols('v_s sigma R lambda nu')\n",
    "t = sp.Function('t')(lam)\n",
    "x = sp.Function('x')(lam)\n",
    "y = sp.Function('y')(lam)\n",
    "z = sp.Function('z')(lam)\n",
    "\n",
    "dt=sp.diff(t)\n",
    "dx=sp.diff(x)\n",
    "dy=sp.diff(y)\n",
    "dz=sp.diff(z)\n",
    "\n",
    "# for now, define constants as symbols\n",
    "xs, r, f_r, c = sp.symbols(\"x_s r f_r c\")\n",
    "\n",
    "lineElement = (\n",
    "    (((f_r-1)**2*vs**2-1)/(1-vs**2))*c**2*dt**2\n",
    "    +((2*f_r*vs*((f_r-1)*vs**2-1))/(1-vs**2))*c*dt*dx\n",
    "    +((1+vs**2*(f_r*(f_r*vs**2-2)-1))/(1-vs**2))*dx**2\n",
    "    +dy**2\n",
    "    +dz**2\n",
    ")\n",
    "display(lineElement)\n",
    "\n",
    "# order of substitutions matter!!!\n",
    "subs= [\n",
    "    (f_r, (sp.tanh(sigma * (r + R)) - sp.tanh(sigma * (r - R))) / (2 * sp.tanh(sigma * R))),\n",
    "    (r, sp.sqrt((x - xs)**2 + y**2 + z**2)),\n",
    "    (xs, nu*(x-vs*c*t)), #THIS LINE IS A POSSIBLE SOURCE OF ERROR\n",
    "    (nu, 1/sp.sqrt(1-vs**2))\n",
    "]\n",
    "display(lineElement.subs(subs))\n",
    "\n",
    "metric=getMetric(lineElement, \"Cartesian\", subs, True)\n",
    "metric"
   ]
  },
  {
   "cell_type": "code",
   "execution_count": null,
   "id": "81de7411",
   "metadata": {},
   "outputs": [],
   "source": [
    "def compute_gamma(g, l, m):\n",
    "    # Calculate the determinant and the inverse of the metric tensor\n",
    "    det_g = g.det()\n",
    "    print(\"Done det\")\n",
    "    # using a faster method of matrix inverse, assuming input is invertable\n",
    "    g_inv = g.adjugate()/det_g\n",
    "    print(\"Done det and inv\")\n",
    "    \n",
    "    # Extract the required components from the metric tensor and its inverse\n",
    "    g00 = g[0, 0]\n",
    "    glm = g_inv[l, m]\n",
    "    \n",
    "    # Calculate gamma_lm using the updated formula\n",
    "    gamma_lm = sp.sqrt(-det_g) * (glm / g00)\n",
    "    \n",
    "    return gamma_lm"
   ]
  },
  {
   "cell_type": "code",
   "execution_count": null,
   "id": "0360e387",
   "metadata": {},
   "outputs": [],
   "source": [
    "compute_gamma(metric, 2, 2)"
   ]
  },
  {
   "cell_type": "code",
   "execution_count": 5,
   "id": "3a99df9a",
   "metadata": {},
   "outputs": [],
   "source": [
    "# alternate\n",
    "def compute_gamma(g, l, m, x_val, y_val):\n",
    "    # Convert to numerical evaluation\n",
    "    g_num = sp.lambdify([x, y, z, sigma, R, vs], g, \"numpy\")\n",
    "    g_inv = np.linalg.inv(g_num(x_val, y_val, 0, 5, 1, 0.9))  # Substitute z, sigma, R, vs\n",
    "    det_g = np.linalg.det(g_num(x_val, y_val, 0, 5, 1, 0.9))\n",
    "    \n",
    "    g00 = g_num(x_val, y_val, 0, 5, 1, 0.9)[0, 0]\n",
    "    glm = g_inv[l, m]\n",
    "    \n",
    "    gamma_lm = np.sqrt(-det_g) * (glm / g00)\n",
    "    return gamma_lm"
   ]
  },
  {
   "cell_type": "code",
   "execution_count": 6,
   "id": "6d3cdf0e",
   "metadata": {},
   "outputs": [
    {
     "ename": "NameError",
     "evalue": "name 't' is not defined",
     "output_type": "error",
     "traceback": [
      "\u001b[1;31m---------------------------------------------------------------------------\u001b[0m",
      "\u001b[1;31mNameError\u001b[0m                                 Traceback (most recent call last)",
      "Cell \u001b[1;32mIn[6], line 9\u001b[0m\n\u001b[0;32m      7\u001b[0m y_values \u001b[38;5;241m=\u001b[39m np\u001b[38;5;241m.\u001b[39mlinspace(\u001b[38;5;241m-\u001b[39m\u001b[38;5;241m10\u001b[39m, \u001b[38;5;241m10\u001b[39m, \u001b[38;5;241m100\u001b[39m)\n\u001b[0;32m      8\u001b[0m X, Y \u001b[38;5;241m=\u001b[39m np\u001b[38;5;241m.\u001b[39mmeshgrid(x_values, y_values)\n\u001b[1;32m----> 9\u001b[0m Gamma_22 \u001b[38;5;241m=\u001b[39m np\u001b[38;5;241m.\u001b[39mvectorize(compute_gamma)(metric, \u001b[38;5;241m2\u001b[39m, \u001b[38;5;241m2\u001b[39m, X, Y)\n\u001b[0;32m     11\u001b[0m \u001b[38;5;66;03m# Plotting\u001b[39;00m\n\u001b[0;32m     12\u001b[0m fig \u001b[38;5;241m=\u001b[39m plt\u001b[38;5;241m.\u001b[39mfigure()\n",
      "File \u001b[1;32m~\\anaconda3\\Lib\\site-packages\\numpy\\lib\\function_base.py:2329\u001b[0m, in \u001b[0;36mvectorize.__call__\u001b[1;34m(self, *args, **kwargs)\u001b[0m\n\u001b[0;32m   2326\u001b[0m     vargs \u001b[38;5;241m=\u001b[39m [args[_i] \u001b[38;5;28;01mfor\u001b[39;00m _i \u001b[38;5;129;01min\u001b[39;00m inds]\n\u001b[0;32m   2327\u001b[0m     vargs\u001b[38;5;241m.\u001b[39mextend([kwargs[_n] \u001b[38;5;28;01mfor\u001b[39;00m _n \u001b[38;5;129;01min\u001b[39;00m names])\n\u001b[1;32m-> 2329\u001b[0m \u001b[38;5;28;01mreturn\u001b[39;00m \u001b[38;5;28mself\u001b[39m\u001b[38;5;241m.\u001b[39m_vectorize_call(func\u001b[38;5;241m=\u001b[39mfunc, args\u001b[38;5;241m=\u001b[39mvargs)\n",
      "File \u001b[1;32m~\\anaconda3\\Lib\\site-packages\\numpy\\lib\\function_base.py:2407\u001b[0m, in \u001b[0;36mvectorize._vectorize_call\u001b[1;34m(self, func, args)\u001b[0m\n\u001b[0;32m   2405\u001b[0m     res \u001b[38;5;241m=\u001b[39m func()\n\u001b[0;32m   2406\u001b[0m \u001b[38;5;28;01melse\u001b[39;00m:\n\u001b[1;32m-> 2407\u001b[0m     ufunc, otypes \u001b[38;5;241m=\u001b[39m \u001b[38;5;28mself\u001b[39m\u001b[38;5;241m.\u001b[39m_get_ufunc_and_otypes(func\u001b[38;5;241m=\u001b[39mfunc, args\u001b[38;5;241m=\u001b[39margs)\n\u001b[0;32m   2409\u001b[0m     \u001b[38;5;66;03m# Convert args to object arrays first\u001b[39;00m\n\u001b[0;32m   2410\u001b[0m     inputs \u001b[38;5;241m=\u001b[39m [asanyarray(a, dtype\u001b[38;5;241m=\u001b[39m\u001b[38;5;28mobject\u001b[39m) \u001b[38;5;28;01mfor\u001b[39;00m a \u001b[38;5;129;01min\u001b[39;00m args]\n",
      "File \u001b[1;32m~\\anaconda3\\Lib\\site-packages\\numpy\\lib\\function_base.py:2367\u001b[0m, in \u001b[0;36mvectorize._get_ufunc_and_otypes\u001b[1;34m(self, func, args)\u001b[0m\n\u001b[0;32m   2363\u001b[0m     \u001b[38;5;28;01mraise\u001b[39;00m \u001b[38;5;167;01mValueError\u001b[39;00m(\u001b[38;5;124m'\u001b[39m\u001b[38;5;124mcannot call `vectorize` on size 0 inputs \u001b[39m\u001b[38;5;124m'\u001b[39m\n\u001b[0;32m   2364\u001b[0m                      \u001b[38;5;124m'\u001b[39m\u001b[38;5;124munless `otypes` is set\u001b[39m\u001b[38;5;124m'\u001b[39m)\n\u001b[0;32m   2366\u001b[0m inputs \u001b[38;5;241m=\u001b[39m [arg\u001b[38;5;241m.\u001b[39mflat[\u001b[38;5;241m0\u001b[39m] \u001b[38;5;28;01mfor\u001b[39;00m arg \u001b[38;5;129;01min\u001b[39;00m args]\n\u001b[1;32m-> 2367\u001b[0m outputs \u001b[38;5;241m=\u001b[39m func(\u001b[38;5;241m*\u001b[39minputs)\n\u001b[0;32m   2369\u001b[0m \u001b[38;5;66;03m# Performance note: profiling indicates that -- for simple\u001b[39;00m\n\u001b[0;32m   2370\u001b[0m \u001b[38;5;66;03m# functions at least -- this wrapping can almost double the\u001b[39;00m\n\u001b[0;32m   2371\u001b[0m \u001b[38;5;66;03m# execution time.\u001b[39;00m\n\u001b[0;32m   2372\u001b[0m \u001b[38;5;66;03m# Hence we make it optional.\u001b[39;00m\n\u001b[0;32m   2373\u001b[0m \u001b[38;5;28;01mif\u001b[39;00m \u001b[38;5;28mself\u001b[39m\u001b[38;5;241m.\u001b[39mcache:\n",
      "Cell \u001b[1;32mIn[5], line 5\u001b[0m, in \u001b[0;36mcompute_gamma\u001b[1;34m(g, l, m, x_val, y_val)\u001b[0m\n\u001b[0;32m      2\u001b[0m \u001b[38;5;28;01mdef\u001b[39;00m \u001b[38;5;21mcompute_gamma\u001b[39m(g, l, m, x_val, y_val):\n\u001b[0;32m      3\u001b[0m     \u001b[38;5;66;03m# Convert to numerical evaluation\u001b[39;00m\n\u001b[0;32m      4\u001b[0m     g_num \u001b[38;5;241m=\u001b[39m sp\u001b[38;5;241m.\u001b[39mlambdify([x, y, z, sigma, R, vs], g, \u001b[38;5;124m\"\u001b[39m\u001b[38;5;124mnumpy\u001b[39m\u001b[38;5;124m\"\u001b[39m)\n\u001b[1;32m----> 5\u001b[0m     g_inv \u001b[38;5;241m=\u001b[39m np\u001b[38;5;241m.\u001b[39mlinalg\u001b[38;5;241m.\u001b[39minv(g_num(x_val, y_val, \u001b[38;5;241m0\u001b[39m, \u001b[38;5;241m5\u001b[39m, \u001b[38;5;241m1\u001b[39m, \u001b[38;5;241m0.9\u001b[39m))  \u001b[38;5;66;03m# Substitute z, sigma, R, vs\u001b[39;00m\n\u001b[0;32m      6\u001b[0m     det_g \u001b[38;5;241m=\u001b[39m np\u001b[38;5;241m.\u001b[39mlinalg\u001b[38;5;241m.\u001b[39mdet(g_num(x_val, y_val, \u001b[38;5;241m0\u001b[39m, \u001b[38;5;241m5\u001b[39m, \u001b[38;5;241m1\u001b[39m, \u001b[38;5;241m0.9\u001b[39m))\n\u001b[0;32m      8\u001b[0m     g00 \u001b[38;5;241m=\u001b[39m g_num(x_val, y_val, \u001b[38;5;241m0\u001b[39m, \u001b[38;5;241m5\u001b[39m, \u001b[38;5;241m1\u001b[39m, \u001b[38;5;241m0.9\u001b[39m)[\u001b[38;5;241m0\u001b[39m, \u001b[38;5;241m0\u001b[39m]\n",
      "File \u001b[1;32m<lambdifygenerated-1>:2\u001b[0m, in \u001b[0;36m_lambdifygenerated\u001b[1;34m(_Dummy_5660, _Dummy_3931, _Dummy_2410, sigma, R, v_s)\u001b[0m\n\u001b[0;32m      1\u001b[0m \u001b[38;5;28;01mdef\u001b[39;00m \u001b[38;5;21m_lambdifygenerated\u001b[39m(_Dummy_5660, _Dummy_3931, _Dummy_2410, sigma, R, v_s):\n\u001b[1;32m----> 2\u001b[0m     \u001b[38;5;28;01mreturn\u001b[39;00m (\u001b[38;5;241m1\u001b[39m\u001b[38;5;241m/\u001b[39m\u001b[38;5;241m4\u001b[39m)\u001b[38;5;241m*\u001b[39mc\u001b[38;5;241m*\u001b[39m\u001b[38;5;241m*\u001b[39m\u001b[38;5;241m2\u001b[39m\u001b[38;5;241m*\u001b[39mv_s\u001b[38;5;241m*\u001b[39m\u001b[38;5;241m*\u001b[39m\u001b[38;5;241m2\u001b[39m\u001b[38;5;241m*\u001b[39m(\u001b[38;5;241m-\u001b[39mtanh(sigma\u001b[38;5;241m*\u001b[39m(\u001b[38;5;241m-\u001b[39mR \u001b[38;5;241m+\u001b[39m sqrt(_Dummy_2410\u001b[38;5;241m*\u001b[39m\u001b[38;5;241m*\u001b[39m\u001b[38;5;241m2\u001b[39m \u001b[38;5;241m+\u001b[39m _Dummy_3931\u001b[38;5;241m*\u001b[39m\u001b[38;5;241m*\u001b[39m\u001b[38;5;241m2\u001b[39m \u001b[38;5;241m+\u001b[39m (_Dummy_5660 \u001b[38;5;241m-\u001b[39m (_Dummy_5660 \u001b[38;5;241m-\u001b[39m c\u001b[38;5;241m*\u001b[39mv_s\u001b[38;5;241m*\u001b[39mt(lambda_))\u001b[38;5;241m/\u001b[39msqrt(\u001b[38;5;241m1\u001b[39m \u001b[38;5;241m-\u001b[39m v_s\u001b[38;5;241m*\u001b[39m\u001b[38;5;241m*\u001b[39m\u001b[38;5;241m2\u001b[39m))\u001b[38;5;241m*\u001b[39m\u001b[38;5;241m*\u001b[39m\u001b[38;5;241m2\u001b[39m))) \u001b[38;5;241m+\u001b[39m tanh(sigma\u001b[38;5;241m*\u001b[39m(R \u001b[38;5;241m+\u001b[39m sqrt(_Dummy_2410\u001b[38;5;241m*\u001b[39m\u001b[38;5;241m*\u001b[39m\u001b[38;5;241m2\u001b[39m \u001b[38;5;241m+\u001b[39m _Dummy_3931\u001b[38;5;241m*\u001b[39m\u001b[38;5;241m*\u001b[39m\u001b[38;5;241m2\u001b[39m \u001b[38;5;241m+\u001b[39m (_Dummy_5660 \u001b[38;5;241m-\u001b[39m (_Dummy_5660 \u001b[38;5;241m-\u001b[39m c\u001b[38;5;241m*\u001b[39mv_s\u001b[38;5;241m*\u001b[39mt(lambda_))\u001b[38;5;241m/\u001b[39msqrt(\u001b[38;5;241m1\u001b[39m \u001b[38;5;241m-\u001b[39m v_s\u001b[38;5;241m*\u001b[39m\u001b[38;5;241m*\u001b[39m\u001b[38;5;241m2\u001b[39m))\u001b[38;5;241m*\u001b[39m\u001b[38;5;241m*\u001b[39m\u001b[38;5;241m2\u001b[39m))))\u001b[38;5;241m*\u001b[39m\u001b[38;5;241m*\u001b[39m\u001b[38;5;241m2\u001b[39m\u001b[38;5;241m/\u001b[39m((\u001b[38;5;241m1\u001b[39m \u001b[38;5;241m-\u001b[39m v_s\u001b[38;5;241m*\u001b[39m\u001b[38;5;241m*\u001b[39m\u001b[38;5;241m2\u001b[39m)\u001b[38;5;241m*\u001b[39mtanh(R\u001b[38;5;241m*\u001b[39msigma)\u001b[38;5;241m*\u001b[39m\u001b[38;5;241m*\u001b[39m\u001b[38;5;241m2\u001b[39m) \u001b[38;5;241m-\u001b[39m c\u001b[38;5;241m*\u001b[39m\u001b[38;5;241m*\u001b[39m\u001b[38;5;241m2\u001b[39m\u001b[38;5;241m*\u001b[39mv_s\u001b[38;5;241m*\u001b[39m\u001b[38;5;241m*\u001b[39m\u001b[38;5;241m2\u001b[39m\u001b[38;5;241m*\u001b[39m(\u001b[38;5;241m-\u001b[39mtanh(sigma\u001b[38;5;241m*\u001b[39m(\u001b[38;5;241m-\u001b[39mR \u001b[38;5;241m+\u001b[39m sqrt(_Dummy_2410\u001b[38;5;241m*\u001b[39m\u001b[38;5;241m*\u001b[39m\u001b[38;5;241m2\u001b[39m \u001b[38;5;241m+\u001b[39m _Dummy_3931\u001b[38;5;241m*\u001b[39m\u001b[38;5;241m*\u001b[39m\u001b[38;5;241m2\u001b[39m \u001b[38;5;241m+\u001b[39m (_Dummy_5660 \u001b[38;5;241m-\u001b[39m (_Dummy_5660 \u001b[38;5;241m-\u001b[39m c\u001b[38;5;241m*\u001b[39mv_s\u001b[38;5;241m*\u001b[39mt(lambda_))\u001b[38;5;241m/\u001b[39msqrt(\u001b[38;5;241m1\u001b[39m \u001b[38;5;241m-\u001b[39m v_s\u001b[38;5;241m*\u001b[39m\u001b[38;5;241m*\u001b[39m\u001b[38;5;241m2\u001b[39m))\u001b[38;5;241m*\u001b[39m\u001b[38;5;241m*\u001b[39m\u001b[38;5;241m2\u001b[39m))) \u001b[38;5;241m+\u001b[39m tanh(sigma\u001b[38;5;241m*\u001b[39m(R \u001b[38;5;241m+\u001b[39m sqrt(_Dummy_2410\u001b[38;5;241m*\u001b[39m\u001b[38;5;241m*\u001b[39m\u001b[38;5;241m2\u001b[39m \u001b[38;5;241m+\u001b[39m _Dummy_3931\u001b[38;5;241m*\u001b[39m\u001b[38;5;241m*\u001b[39m\u001b[38;5;241m2\u001b[39m \u001b[38;5;241m+\u001b[39m (_Dummy_5660 \u001b[38;5;241m-\u001b[39m (_Dummy_5660 \u001b[38;5;241m-\u001b[39m c\u001b[38;5;241m*\u001b[39mv_s\u001b[38;5;241m*\u001b[39mt(lambda_))\u001b[38;5;241m/\u001b[39msqrt(\u001b[38;5;241m1\u001b[39m \u001b[38;5;241m-\u001b[39m v_s\u001b[38;5;241m*\u001b[39m\u001b[38;5;241m*\u001b[39m\u001b[38;5;241m2\u001b[39m))\u001b[38;5;241m*\u001b[39m\u001b[38;5;241m*\u001b[39m\u001b[38;5;241m2\u001b[39m))))\u001b[38;5;241m/\u001b[39m((\u001b[38;5;241m1\u001b[39m \u001b[38;5;241m-\u001b[39m v_s\u001b[38;5;241m*\u001b[39m\u001b[38;5;241m*\u001b[39m\u001b[38;5;241m2\u001b[39m)\u001b[38;5;241m*\u001b[39mtanh(R\u001b[38;5;241m*\u001b[39msigma)) \u001b[38;5;241m+\u001b[39m c\u001b[38;5;241m*\u001b[39m\u001b[38;5;241m*\u001b[39m\u001b[38;5;241m2\u001b[39m\u001b[38;5;241m*\u001b[39mv_s\u001b[38;5;241m*\u001b[39m\u001b[38;5;241m*\u001b[39m\u001b[38;5;241m2\u001b[39m\u001b[38;5;241m/\u001b[39m(\u001b[38;5;241m1\u001b[39m \u001b[38;5;241m-\u001b[39m v_s\u001b[38;5;241m*\u001b[39m\u001b[38;5;241m*\u001b[39m\u001b[38;5;241m2\u001b[39m) \u001b[38;5;241m-\u001b[39m c\u001b[38;5;241m*\u001b[39m\u001b[38;5;241m*\u001b[39m\u001b[38;5;241m2\u001b[39m\u001b[38;5;241m/\u001b[39m(\u001b[38;5;241m1\u001b[39m \u001b[38;5;241m-\u001b[39m v_s\u001b[38;5;241m*\u001b[39m\u001b[38;5;241m*\u001b[39m\u001b[38;5;241m2\u001b[39m)\n",
      "\u001b[1;31mNameError\u001b[0m: name 't' is not defined"
     ]
    }
   ],
   "source": [
    "import numpy as np\n",
    "import matplotlib.pyplot as plt\n",
    "from mpl_toolkits.mplot3d import Axes3D\n",
    "\n",
    "# Generate values for x and y\n",
    "x_values = np.linspace(-10, 10, 100)\n",
    "y_values = np.linspace(-10, 10, 100)\n",
    "X, Y = np.meshgrid(x_values, y_values)\n",
    "Gamma_22 = np.vectorize(compute_gamma)(metric, 2, 2, X, Y)\n",
    "\n",
    "# Plotting\n",
    "fig = plt.figure()\n",
    "ax = fig.add_subplot(111, projection='3d')\n",
    "ax.plot_surface(X, Y, Gamma_22, cmap='viridis')\n",
    "\n",
    "ax.set_xlabel('X axis')\n",
    "ax.set_ylabel('Y axis')\n",
    "ax.set_zlabel('Gamma_22')\n",
    "\n",
    "plt.show()\n"
   ]
  }
 ],
 "metadata": {
  "kernelspec": {
   "display_name": "Python 3 (ipykernel)",
   "language": "python",
   "name": "python3"
  },
  "language_info": {
   "codemirror_mode": {
    "name": "ipython",
    "version": 3
   },
   "file_extension": ".py",
   "mimetype": "text/x-python",
   "name": "python",
   "nbconvert_exporter": "python",
   "pygments_lexer": "ipython3",
   "version": "3.11.5"
  }
 },
 "nbformat": 4,
 "nbformat_minor": 5
}
